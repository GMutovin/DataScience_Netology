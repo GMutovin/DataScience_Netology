{
 "cells": [
  {
   "cell_type": "markdown",
   "id": "determined-iraqi",
   "metadata": {},
   "source": [
    "# Домашнее задание \"Линейная алгебра. Матрицы\"."
   ]
  },
  {
   "cell_type": "code",
   "execution_count": null,
   "id": "chief-worthy",
   "metadata": {},
   "outputs": [],
   "source": [
    "# Уровень 0:\n",
    "\n",
    "# Создайте матрицу 3 на 3, заполненную числами от 1 до 9\n",
    "# Прибавьте к ней матрицу с единицами на диагонале\n",
    "# Умножьте полученную матрицу на вектор (1, 2, 3)\n",
    "# Посчитайте обратную матрицу к полученной матрице"
   ]
  },
  {
   "cell_type": "code",
   "execution_count": 1,
   "id": "directed-projection",
   "metadata": {},
   "outputs": [],
   "source": [
    "import numpy as np\n",
    "import matplotlib.pyplot as plt"
   ]
  },
  {
   "cell_type": "code",
   "execution_count": 2,
   "id": "rubber-supervisor",
   "metadata": {},
   "outputs": [],
   "source": [
    "a = np.array([[1, 2, 3], [4, 5, 6], [7, 8, 9]])"
   ]
  },
  {
   "cell_type": "code",
   "execution_count": 3,
   "id": "japanese-irish",
   "metadata": {},
   "outputs": [],
   "source": [
    "b = np.eye(3)"
   ]
  },
  {
   "cell_type": "code",
   "execution_count": 4,
   "id": "classified-accounting",
   "metadata": {},
   "outputs": [],
   "source": [
    "c = a + b"
   ]
  },
  {
   "cell_type": "code",
   "execution_count": 5,
   "id": "capital-referral",
   "metadata": {},
   "outputs": [
    {
     "data": {
      "text/plain": [
       "array([[ 2.,  2.,  3.],\n",
       "       [ 4.,  6.,  6.],\n",
       "       [ 7.,  8., 10.]])"
      ]
     },
     "execution_count": 5,
     "metadata": {},
     "output_type": "execute_result"
    }
   ],
   "source": [
    "c"
   ]
  },
  {
   "cell_type": "code",
   "execution_count": 6,
   "id": "electoral-spring",
   "metadata": {},
   "outputs": [],
   "source": [
    "new_v = np.array([1, 2, 3])"
   ]
  },
  {
   "cell_type": "code",
   "execution_count": 7,
   "id": "thousand-pilot",
   "metadata": {},
   "outputs": [
    {
     "data": {
      "text/plain": [
       "array([15., 34., 53.])"
      ]
     },
     "execution_count": 7,
     "metadata": {},
     "output_type": "execute_result"
    }
   ],
   "source": [
    "np.dot(c, new_v)"
   ]
  },
  {
   "cell_type": "code",
   "execution_count": 8,
   "id": "e56ae36a",
   "metadata": {},
   "outputs": [
    {
     "data": {
      "text/plain": [
       "array([31., 38., 45.])"
      ]
     },
     "execution_count": 8,
     "metadata": {},
     "output_type": "execute_result"
    }
   ],
   "source": [
    "np.dot(new_v, c)"
   ]
  },
  {
   "cell_type": "code",
   "execution_count": 9,
   "id": "alien-beaver",
   "metadata": {},
   "outputs": [],
   "source": [
    "c_inv = np.linalg.inv(c)"
   ]
  },
  {
   "cell_type": "markdown",
   "id": "painful-universal",
   "metadata": {},
   "source": [
    "# Вопрос преподавателю: почему при перемножении обратной матрицы и матрицы получается не единичная матрица?"
   ]
  },
  {
   "cell_type": "code",
   "execution_count": 12,
   "id": "toxic-criminal",
   "metadata": {},
   "outputs": [
    {
     "data": {
      "text/plain": [
       "array([[-6. , -2. ,  3. ],\n",
       "       [-1. ,  0.5,  0. ],\n",
       "       [ 5. ,  1. , -2. ]])"
      ]
     },
     "execution_count": 12,
     "metadata": {},
     "output_type": "execute_result"
    }
   ],
   "source": [
    "c_inv"
   ]
  },
  {
   "cell_type": "code",
   "execution_count": 15,
   "id": "1112f91e",
   "metadata": {},
   "outputs": [
    {
     "data": {
      "text/plain": [
       "array([[1.00000000e+00, 0.00000000e+00, 7.10542736e-15],\n",
       "       [0.00000000e+00, 1.00000000e+00, 0.00000000e+00],\n",
       "       [1.77635684e-15, 0.00000000e+00, 1.00000000e+00]])"
      ]
     },
     "execution_count": 15,
     "metadata": {},
     "output_type": "execute_result"
    }
   ],
   "source": [
    "c_inv @ c"
   ]
  },
  {
   "cell_type": "code",
   "execution_count": 18,
   "id": "404462d4",
   "metadata": {},
   "outputs": [
    {
     "data": {
      "text/plain": [
       "array([[ 1.00000000e+00, -4.44089210e-16,  8.88178420e-16],\n",
       "       [ 0.00000000e+00,  1.00000000e+00,  1.77635684e-15],\n",
       "       [ 0.00000000e+00,  0.00000000e+00,  1.00000000e+00]])"
      ]
     },
     "execution_count": 18,
     "metadata": {},
     "output_type": "execute_result"
    }
   ],
   "source": [
    "c @ c_inv"
   ]
  },
  {
   "cell_type": "markdown",
   "id": "71806631",
   "metadata": {},
   "source": [
    "# Уровень 1:\n",
    "Дан объект в 2d пространстве:"
   ]
  },
  {
   "cell_type": "code",
   "execution_count": 48,
   "id": "detected-wagon",
   "metadata": {},
   "outputs": [
    {
     "data": {
      "text/plain": [
       "(-200.0, 200.0)"
      ]
     },
     "execution_count": 48,
     "metadata": {},
     "output_type": "execute_result"
    },
    {
     "data": {
      "image/png": "[encoded data removed]",
      "text/plain": [
       "<Figure size 432x288 with 1 Axes>"
      ]
     },
     "metadata": {
      "needs_background": "light"
     },
     "output_type": "display_data"
    }
   ],
   "source": [
    "A = [\n",
    "[-100, -100, 1],\n",
    "[-100, 100, 1],\n",
    "[100, 100, 1],\n",
    "[0, 0, 1],\n",
    "[100, -100, 1],\n",
    "[-100, -100, 1]\n",
    "]\n",
    "\n",
    "A = np.array(A)\n",
    "x = A[:,0]\n",
    "y = A[:,1]\n",
    "\n",
    "plt.plot(x, y)\n",
    "plt.ylim([-200, 200])\n",
    "plt.xlim([-200, 200])"
   ]
  },
  {
   "cell_type": "markdown",
   "id": "30982e79",
   "metadata": {},
   "source": [
    "# При помощи матричных операций выполните:\n",
    "\n",
    "Уменьшить объект в два раза\n",
    "\n",
    "Повернуть на 130 градусов\n",
    "\n",
    "Отразить объект относительно прямой y=x\n",
    "\n",
    "Выполнить смещение объекта и масштабирование (применить 2 матрицы трансформаций). \n",
    "\n",
    "Смещение на (200, 300) и масштабирование на (0.5, 1.2)"
   ]
  },
  {
   "cell_type": "code",
   "execution_count": 69,
   "id": "6f4090cd",
   "metadata": {},
   "outputs": [],
   "source": [
    "# Уменьшить объект в два раза\n",
    "trans_matrix_1 = np.array([[0.5, 0, 0], [0, 0.5, 0], [0, 0, 1]])\n",
    "A_small = np.dot(A, trans_matrix_1)"
   ]
  },
  {
   "cell_type": "code",
   "execution_count": 70,
   "id": "bcd6b5f5",
   "metadata": {},
   "outputs": [
    {
     "data": {
      "text/plain": [
       "(-200.0, 200.0)"
      ]
     },
     "execution_count": 70,
     "metadata": {},
     "output_type": "execute_result"
    },
    {
     "data": {
      "image/png": "[encoded data removed]",
      "text/plain": [
       "<Figure size 432x288 with 1 Axes>"
      ]
     },
     "metadata": {
      "needs_background": "light"
     },
     "output_type": "display_data"
    }
   ],
   "source": [
    "x_small = A_small[:,0]\n",
    "y_small = A_small[:,1]\n",
    "\n",
    "plt.plot(x_small, y_small)\n",
    "plt.ylim([-200, 200])\n",
    "plt.xlim([-200, 200])"
   ]
  },
  {
   "cell_type": "code",
   "execution_count": 71,
   "id": "b4065579",
   "metadata": {},
   "outputs": [],
   "source": [
    "# Повернуть на 130 градусов\n",
    "\n",
    "# sin 130 = 0.76, cos 130 = -0.64\n",
    "new_matrix = np.array([[-0.64, -0.76, 0], [0.76, -0.64, 0], [0, 0, 1]]) \n",
    "\n",
    "A_turned = np.dot(A, new_matrix)\n"
   ]
  },
  {
   "cell_type": "code",
   "execution_count": 72,
   "id": "00561dbb",
   "metadata": {},
   "outputs": [
    {
     "data": {
      "text/plain": [
       "(-200.0, 200.0)"
      ]
     },
     "execution_count": 72,
     "metadata": {},
     "output_type": "execute_result"
    },
    {
     "data": {
      "image/png": "[encoded data removed]",
      "text/plain": [
       "<Figure size 432x288 with 1 Axes>"
      ]
     },
     "metadata": {
      "needs_background": "light"
     },
     "output_type": "display_data"
    }
   ],
   "source": [
    "plt.plot(A_turned[:, 0], A_turned[:, 1])\n",
    "plt.ylim([-200, 200])\n",
    "plt.xlim([-200, 200])"
   ]
  },
  {
   "cell_type": "code",
   "execution_count": 65,
   "id": "646055cd",
   "metadata": {},
   "outputs": [
    {
     "data": {
      "text/plain": [
       "array([[0, 1, 0],\n",
       "       [1, 0, 0],\n",
       "       [0, 0, 1]])"
      ]
     },
     "execution_count": 65,
     "metadata": {},
     "output_type": "execute_result"
    }
   ],
   "source": [
    "# Отразить объект относительно прямой y=x\n",
    "\n",
    "changing_matrix  = np.array([[0, 1, 0], [1, 0, 0], [0, 0, 1]])\n",
    "changing_matrix"
   ]
  },
  {
   "cell_type": "code",
   "execution_count": 94,
   "id": "11ad2bf3",
   "metadata": {},
   "outputs": [],
   "source": [
    "A2 = np.dot(A, changing_matrix)"
   ]
  },
  {
   "cell_type": "code",
   "execution_count": 91,
   "id": "56e9fa44",
   "metadata": {},
   "outputs": [
    {
     "data": {
      "text/plain": [
       "(-200.0, 200.0)"
      ]
     },
     "execution_count": 91,
     "metadata": {},
     "output_type": "execute_result"
    },
    {
     "data": {
      "image/png": "[encoded data removed]",
      "text/plain": [
       "<Figure size 432x288 with 1 Axes>"
      ]
     },
     "metadata": {
      "needs_background": "light"
     },
     "output_type": "display_data"
    }
   ],
   "source": [
    "plt.plot(A2[:, 0], A2[:, 1])\n",
    "plt.ylim([-200, 200])\n",
    "plt.xlim([-200, 200])\n",
    "\n",
    "# Просьба уточнить, что значит \"отразить относительно прямой\"? В видеолекциях ничего на этот счет"
   ]
  },
  {
   "cell_type": "code",
   "execution_count": 85,
   "id": "4d754a7a",
   "metadata": {},
   "outputs": [],
   "source": [
    "# Выполнить смещение объекта и масштабирование (применить 2 матрицы трансформаций).\n",
    "trans_matrix_2 = np.array([[1, 0, 0], [0, 1, 0], [50, -50, 1]]) \n",
    "\n",
    "A_allocated = np.dot(A, trans_matrix_2)\n",
    "\n",
    "trans_matrix_3 = np.array([[1.5, 0, 0], [0, 0.5, 0], [0, 0, 1]])\n",
    "\n",
    "A_allocated = np.dot(A_allocated, trans_matrix_3)"
   ]
  },
  {
   "cell_type": "code",
   "execution_count": 86,
   "id": "8efba930",
   "metadata": {},
   "outputs": [
    {
     "data": {
      "text/plain": [
       "(-200.0, 200.0)"
      ]
     },
     "execution_count": 86,
     "metadata": {},
     "output_type": "execute_result"
    },
    {
     "data": {
      "image/png": "[encoded data removed]",
      "text/plain": [
       "<Figure size 432x288 with 1 Axes>"
      ]
     },
     "metadata": {
      "needs_background": "light"
     },
     "output_type": "display_data"
    }
   ],
   "source": [
    "plt.plot(A_allocated[:, 0], A_allocated[:, 1])\n",
    "plt.ylim([-200, 200])\n",
    "plt.xlim([-200, 200])"
   ]
  },
  {
   "cell_type": "code",
   "execution_count": 87,
   "id": "09a3af4c",
   "metadata": {},
   "outputs": [],
   "source": [
    "# Смещение на (200, 300) и масштабирование на (0.5, 1.2)\n",
    "\n",
    "trans_matrix_4 = np.array([[1, 0, 0], [0, 1, 0], [200, 300, 1]]) \n",
    "\n",
    "A_transformed = np.dot(A, trans_matrix_4)\n",
    "\n",
    "trans_matrix_5 = np.array([[0.5, 0, 0], [0, 1.2, 0], [0, 0, 1]])\n",
    "\n",
    "A_transformed = np.dot(A_transformed, trans_matrix_5)"
   ]
  },
  {
   "cell_type": "code",
   "execution_count": 90,
   "id": "9cb93ee0",
   "metadata": {},
   "outputs": [
    {
     "data": {
      "text/plain": [
       "(-200.0, 500.0)"
      ]
     },
     "execution_count": 90,
     "metadata": {},
     "output_type": "execute_result"
    },
    {
     "data": {
      "image/png": "[encoded data removed]",
      "text/plain": [
       "<Figure size 432x288 with 1 Axes>"
      ]
     },
     "metadata": {
      "needs_background": "light"
     },
     "output_type": "display_data"
    }
   ],
   "source": [
    "plt.plot(A_transformed[:, 0], A_transformed[:, 1])\n",
    "plt.ylim([-200, 500])\n",
    "plt.xlim([-200, 500])"
   ]
  }
 ],
 "metadata": {
  "kernelspec": {
   "display_name": "Python 3",
   "language": "python",
   "name": "python3"
  },
  "language_info": {
   "codemirror_mode": {
    "name": "ipython",
    "version": 3
   },
   "file_extension": ".py",
   "mimetype": "text/x-python",
   "name": "python",
   "nbconvert_exporter": "python",
   "pygments_lexer": "ipython3",
   "version": "3.8.8"
  }
 },
 "nbformat": 4,
 "nbformat_minor": 5
}
