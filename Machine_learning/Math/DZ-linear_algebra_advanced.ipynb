{
 "cells": [
  {
   "cell_type": "markdown",
   "id": "0d52e810",
   "metadata": {},
   "source": [
    "# Домашнее задание \"Продвинутая линейная алгебра\"."
   ]
  },
  {
   "cell_type": "markdown",
   "id": "7db36904",
   "metadata": {},
   "source": [
    "# Уровень 0:\n",
    "\n",
    "Придумайте матрицы, которые обладают следующими свойствами:\n",
    "\n",
    "a) Диагональная, ортогональная, но не единичная(!)\n",
    "\n",
    "b) Верхнетреугольная, ортогональная\n",
    "\n",
    "c) Нижнетреугольная, ортогональная\n",
    "\n",
    "d) Матрица, у которой определитель = 1, и все элементы не равны 0\n",
    "\n",
    "P.S. Во всех пунктах ответом должна быть ненулевая матрица размерности не менее 2!"
   ]
  },
  {
   "cell_type": "code",
   "execution_count": 1,
   "id": "abe6b349",
   "metadata": {},
   "outputs": [],
   "source": [
    "import numpy as np"
   ]
  },
  {
   "cell_type": "code",
   "execution_count": null,
   "id": "7e827c52",
   "metadata": {},
   "outputs": [],
   "source": [
    "# a) Диагональная, ортогональная, но не единичная(!)\n",
    "\n",
    "dig_ort_m = np.array([[-1, 0, 0],\n",
    "                    [0, -1, 0],\n",
    "                    [0, 0, -1]])\n",
    "dig_ort_m"
   ]
  },
  {
   "cell_type": "code",
   "execution_count": null,
   "id": "c05faa90",
   "metadata": {},
   "outputs": [],
   "source": [
    "# b) Верхнетреугольная, ортогональная\n",
    "\n",
    "uptrian_ort_m = np.array([[1, 0, 0],\n",
    "                    [0, 1, 0],\n",
    "                    [0, 0, 1]])\n",
    "uptrian_ort_m"
   ]
  },
  {
   "cell_type": "code",
   "execution_count": null,
   "id": "ddad7af1",
   "metadata": {},
   "outputs": [],
   "source": [
    "# c) Нижнетреугольная, ортогональная\n",
    "\n",
    "downtrian_ort_m = np.array([[1, 0, 0],\n",
    "                    [0, 1, 0],\n",
    "                    [0, 0, 1]])\n",
    "downtrian_ort_m"
   ]
  },
  {
   "cell_type": "code",
   "execution_count": null,
   "id": "3c1fcb4b",
   "metadata": {},
   "outputs": [],
   "source": [
    "# d) Матрица, у которой определитель = 1, и все элементы не равны 0\n",
    "\n",
    "m_det_1 = np.array([[2, 1, 1],\n",
    "                          [1, 3, 1],\n",
    "                          [1, 2, 1]])\n"
   ]
  },
  {
   "cell_type": "code",
   "execution_count": null,
   "id": "907bfddc",
   "metadata": {},
   "outputs": [],
   "source": [
    "m_1 = np.array([[0.96, -0.5],\n",
    "              [0, 0.96]])\n",
    "print(m_1)"
   ]
  },
  {
   "cell_type": "code",
   "execution_count": null,
   "id": "9254a6b2",
   "metadata": {},
   "outputs": [],
   "source": [
    "m_2 = m_1.T\n",
    "print(m_2)"
   ]
  },
  {
   "cell_type": "code",
   "execution_count": null,
   "id": "6df30b50",
   "metadata": {},
   "outputs": [],
   "source": [
    "np.dot(m_1, m_2)"
   ]
  },
  {
   "cell_type": "code",
   "execution_count": null,
   "id": "33f67c5b",
   "metadata": {},
   "outputs": [],
   "source": [
    "m = np.array([[2, 2],\n",
    "              [1, 3]])\n",
    "print(m)"
   ]
  },
  {
   "cell_type": "code",
   "execution_count": null,
   "id": "3d756109",
   "metadata": {},
   "outputs": [],
   "source": [
    "np.linalg.eig(m)"
   ]
  },
  {
   "cell_type": "markdown",
   "id": "ea6a8e63",
   "metadata": {},
   "source": [
    "# Уровень 1:¶\n",
    "Найдите спектральное разложение матрицы:"
   ]
  },
  {
   "cell_type": "code",
   "execution_count": null,
   "id": "44e026f9",
   "metadata": {},
   "outputs": [],
   "source": [
    "m = np.array([[1, 2],\n",
    "              [2,3]])\n",
    "print(m)"
   ]
  },
  {
   "cell_type": "code",
   "execution_count": null,
   "id": "deabd09c",
   "metadata": {},
   "outputs": [],
   "source": [
    "v, w = np.linalg.eigh(m)\n",
    "d = np.diag(v)\n",
    "s = w.T"
   ]
  },
  {
   "cell_type": "code",
   "execution_count": null,
   "id": "fcb26a86",
   "metadata": {},
   "outputs": [],
   "source": [
    "np.dot(np.dot(s, d), w)"
   ]
  },
  {
   "cell_type": "markdown",
   "id": "a56e8490",
   "metadata": {},
   "source": [
    "# \n",
    "Постройте зависимость качества восстановления рукописных цифр (MNIST) \n",
    "в зависимости от различного количества компонент PCA. В качестве метрики различия предлагаю использовать MSE.*"
   ]
  },
  {
   "cell_type": "code",
   "execution_count": null,
   "id": "e1b9169d",
   "metadata": {},
   "outputs": [],
   "source": [
    "# У PCA есть метод transform и inverse_transofrm. \n",
    "# Первый - снижает размерность, второй - восстанавливает оригинальные данные с потерей информации. \n",
    "# Надо посчитать насколько в среднем точно восстанавливается оригинальная картинка \n",
    "# в зависимости от количества компонент в PCA."
   ]
  },
  {
   "cell_type": "code",
   "execution_count": 2,
   "id": "172d037b",
   "metadata": {},
   "outputs": [],
   "source": [
    "from sklearn.datasets import load_digits"
   ]
  },
  {
   "cell_type": "code",
   "execution_count": 3,
   "id": "186d7518",
   "metadata": {},
   "outputs": [],
   "source": [
    "x, y = load_digits(return_X_y=True)"
   ]
  },
  {
   "cell_type": "code",
   "execution_count": 14,
   "id": "c3999471",
   "metadata": {},
   "outputs": [
    {
     "data": {
      "image/png": "[encoded data removed]",
      "text/plain": [
       "<Figure size 288x288 with 1 Axes>"
      ]
     },
     "metadata": {
      "needs_background": "light"
     },
     "output_type": "display_data"
    },
    {
     "name": "stdout",
     "output_type": "stream",
     "text": [
      "Количество компонент: 1, средняя квадратичная ошибка: 4.8056006209081605\n",
      "Количество компонент: 2, средняя квадратичная ошибка: 2.591818735298764\n",
      "Количество компонент: 3, средняя квадратичная ошибка: 0.6288226464702851\n",
      "Количество компонент: 4, средняя квадратичная ошибка: 0.09795097376040796\n",
      "Количество компонент: 5, средняя квадратичная ошибка: 0.018366170215265796\n",
      "Количество компонент: 6, средняя квадратичная ошибка: 6.72053254093926e-30\n",
      "Количество компонент: 7, средняя квадратичная ошибка: 6.72053254093926e-30\n"
     ]
    }
   ],
   "source": [
    "from sklearn.decomposition import PCA\n",
    "from sklearn.metrics import mean_squared_error\n",
    "import matplotlib.pyplot as plt\n",
    "from sklearn.datasets import load_digits\n",
    "\n",
    "x, y = load_digits(return_X_y=True)\n",
    "\n",
    "image = x[8]\n",
    "image = image.reshape((8, 8))\n",
    "plt.matshow(image, cmap = 'gray')\n",
    "plt.show() \n",
    "\n",
    "components = []\n",
    "mse = []\n",
    "\n",
    "for i in range(1, 8):\n",
    "    pca = PCA(n_components=i)\n",
    "    pca.fit(image)\n",
    "    image_trans = pca.transform(image)\n",
    "    y_true = image\n",
    "    y_pred = pca.inverse_transform(image_trans)\n",
    "    mse_ = mean_squared_error(y_true, y_pred)\n",
    "    print(f'Количество компонент: {i}, средняя квадратичная ошибка: {mse_}')\n",
    "    components.append(i)\n",
    "    mse.append(mse_)\n",
    "    \n",
    "    "
   ]
  },
  {
   "cell_type": "code",
   "execution_count": 16,
   "id": "8a3a1860",
   "metadata": {},
   "outputs": [
    {
     "data": {
      "text/plain": [
       "<matplotlib.collections.PathCollection at 0x7ff3104c6100>"
      ]
     },
     "execution_count": 16,
     "metadata": {},
     "output_type": "execute_result"
    },
    {
     "data": {
      "image/png": "[encoded data removed]",
      "text/plain": [
       "<Figure size 432x288 with 1 Axes>"
      ]
     },
     "metadata": {
      "needs_background": "light"
     },
     "output_type": "display_data"
    }
   ],
   "source": [
    "# График изменения MSE в зависимости от количества главных компонент\n",
    "plt.scatter(mse, components)"
   ]
  }
 ],
 "metadata": {
  "kernelspec": {
   "display_name": "Python 3",
   "language": "python",
   "name": "python3"
  },
  "language_info": {
   "codemirror_mode": {
    "name": "ipython",
    "version": 3
   },
   "file_extension": ".py",
   "mimetype": "text/x-python",
   "name": "python",
   "nbconvert_exporter": "python",
   "pygments_lexer": "ipython3",
   "version": "3.8.8"
  }
 },
 "nbformat": 4,
 "nbformat_minor": 5
}
