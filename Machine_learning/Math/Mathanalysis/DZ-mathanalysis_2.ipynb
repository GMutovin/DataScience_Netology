{
 "cells": [
  {
   "cell_type": "markdown",
   "id": "218ce399",
   "metadata": {},
   "source": [
    "# Домашнее задание \"Производная функции нескольких аргументов\"."
   ]
  },
  {
   "cell_type": "code",
   "execution_count": 74,
   "id": "054de126",
   "metadata": {},
   "outputs": [],
   "source": [
    "import numpy as np\n",
    "from scipy.optimize import approx_fprime"
   ]
  },
  {
   "cell_type": "markdown",
   "id": "ae5bd1c6",
   "metadata": {},
   "source": [
    "# Уровень 0:\n",
    "# Посчитайте частные производные функций:\n",
    "\n",
    "# 1) $f(x,y)=2x^2y^3 + 1/x + y^2x + 7$, а для этой функции также градиент в точке $(1,2)$\n",
    "\n",
    "# 2) $f(x,y)=x^2y - sin(xy) + cos(x^2) + 6y$"
   ]
  },
  {
   "cell_type": "code",
   "execution_count": 75,
   "id": "9ac230b7",
   "metadata": {},
   "outputs": [],
   "source": [
    "from sympy import *\n",
    "import numpy as np\n",
    "import scipy.misc \n",
    "import matplotlib.pyplot as plt"
   ]
  },
  {
   "cell_type": "code",
   "execution_count": 76,
   "id": "3a0c2ae4",
   "metadata": {},
   "outputs": [],
   "source": [
    "x, y = symbols('x y')"
   ]
  },
  {
   "cell_type": "code",
   "execution_count": null,
   "id": "574826c1",
   "metadata": {},
   "outputs": [],
   "source": [
    "# Функция № 1"
   ]
  },
  {
   "cell_type": "code",
   "execution_count": 55,
   "id": "32b9dca9",
   "metadata": {},
   "outputs": [],
   "source": [
    "f_1 = 2 * x**2 * y**3 + 1/x + y**2 * x + 7"
   ]
  },
  {
   "cell_type": "code",
   "execution_count": 56,
   "id": "40e3e247",
   "metadata": {},
   "outputs": [
    {
     "data": {
      "text/latex": [
       "$\\displaystyle 2 x^{2} y^{3} + x y^{2} + 7 + \\frac{1}{x}$"
      ],
      "text/plain": [
       "2*x**2*y**3 + x*y**2 + 7 + 1/x"
      ]
     },
     "execution_count": 56,
     "metadata": {},
     "output_type": "execute_result"
    }
   ],
   "source": [
    "f_1"
   ]
  },
  {
   "cell_type": "code",
   "execution_count": 39,
   "id": "5178f7e6",
   "metadata": {},
   "outputs": [
    {
     "data": {
      "text/latex": [
       "$\\displaystyle 4 x y^{3} + y^{2} - \\frac{1}{x^{2}}$"
      ],
      "text/plain": [
       "4*x*y**3 + y**2 - 1/x**2"
      ]
     },
     "execution_count": 39,
     "metadata": {},
     "output_type": "execute_result"
    }
   ],
   "source": [
    "f_1_diff_x = diff(f_1, x)\n",
    "f_1_diff_x"
   ]
  },
  {
   "cell_type": "code",
   "execution_count": 40,
   "id": "fb2123cb",
   "metadata": {},
   "outputs": [
    {
     "data": {
      "text/latex": [
       "$\\displaystyle 6 x^{2} y^{2} + 2 x y$"
      ],
      "text/plain": [
       "6*x**2*y**2 + 2*x*y"
      ]
     },
     "execution_count": 40,
     "metadata": {},
     "output_type": "execute_result"
    }
   ],
   "source": [
    "f_1_diff_y = diff(f_1, y)\n",
    "f_1_diff_y"
   ]
  },
  {
   "cell_type": "code",
   "execution_count": 41,
   "id": "5b07028d",
   "metadata": {},
   "outputs": [
    {
     "data": {
      "text/plain": [
       "array([2*x*y - 2*x*sin(x**2) - y*cos(x*y), x**2 - x*cos(x*y) + 6],\n",
       "      dtype=object)"
      ]
     },
     "execution_count": 41,
     "metadata": {},
     "output_type": "execute_result"
    }
   ],
   "source": [
    "grad_f_1 = np.array([f_2_diff_x, f_2_diff_y])\n",
    "grad_f_1"
   ]
  },
  {
   "cell_type": "code",
   "execution_count": 29,
   "id": "4046d0b7",
   "metadata": {},
   "outputs": [
    {
     "data": {
      "text/plain": [
       "array([35.00000024, 28.00000024])"
      ]
     },
     "execution_count": 29,
     "metadata": {},
     "output_type": "execute_result"
    }
   ],
   "source": [
    "# Найти градиент в точке (1, 2)\n",
    "def func(x, *args):\n",
    "    return args[0] * x[0]**2 * x[1]**3 + 1/x[0] + x[1]**2 * x[0] + 7\n",
    "eps = np.sqrt(np.finfo(float).eps)\n",
    "p = np.array([1., 2.])\n",
    "approx_fprime(p, func, [eps, eps], 2) "
   ]
  },
  {
   "cell_type": "code",
   "execution_count": 30,
   "id": "e1a26c35",
   "metadata": {},
   "outputs": [],
   "source": [
    "# Функция № 2"
   ]
  },
  {
   "cell_type": "code",
   "execution_count": 32,
   "id": "19495a3c",
   "metadata": {},
   "outputs": [],
   "source": [
    "f_2 = x**2 * y - sin(x * y) + cos(x**2) + 6 * y"
   ]
  },
  {
   "cell_type": "code",
   "execution_count": 35,
   "id": "30f235a2",
   "metadata": {},
   "outputs": [
    {
     "data": {
      "text/latex": [
       "$\\displaystyle 2 x y - 2 x \\sin{\\left(x^{2} \\right)} - y \\cos{\\left(x y \\right)}$"
      ],
      "text/plain": [
       "2*x*y - 2*x*sin(x**2) - y*cos(x*y)"
      ]
     },
     "execution_count": 35,
     "metadata": {},
     "output_type": "execute_result"
    }
   ],
   "source": [
    "f_2_diff_x = diff(f_2, x)\n",
    "f_2_diff_x"
   ]
  },
  {
   "cell_type": "code",
   "execution_count": 37,
   "id": "e3165d4b",
   "metadata": {},
   "outputs": [
    {
     "data": {
      "text/latex": [
       "$\\displaystyle x^{2} - x \\cos{\\left(x y \\right)} + 6$"
      ],
      "text/plain": [
       "x**2 - x*cos(x*y) + 6"
      ]
     },
     "execution_count": 37,
     "metadata": {},
     "output_type": "execute_result"
    }
   ],
   "source": [
    "f_2_diff_y = diff(f_2, y)\n",
    "f_2_diff_y"
   ]
  },
  {
   "cell_type": "code",
   "execution_count": 38,
   "id": "9cff02cf",
   "metadata": {},
   "outputs": [
    {
     "data": {
      "text/plain": [
       "array([2*x*y - 2*x*sin(x**2) - y*cos(x*y), x**2 - x*cos(x*y) + 6],\n",
       "      dtype=object)"
      ]
     },
     "execution_count": 38,
     "metadata": {},
     "output_type": "execute_result"
    }
   ],
   "source": [
    "grad_f_2 = np.array([f_2_diff_x, f_2_diff_y])\n",
    "grad_f_2"
   ]
  },
  {
   "cell_type": "markdown",
   "id": "f3a2f869",
   "metadata": {},
   "source": [
    "# Уровень 1:\n",
    "# Градиентный спуск своими руками:"
   ]
  },
  {
   "cell_type": "code",
   "execution_count": 77,
   "id": "20547204",
   "metadata": {},
   "outputs": [],
   "source": [
    " from scipy.optimize import minimize"
   ]
  },
  {
   "cell_type": "code",
   "execution_count": 84,
   "id": "899ef3e4",
   "metadata": {},
   "outputs": [],
   "source": [
    "def f(x):\n",
    "    return (x[0]**2) + (x[1]**2)\n",
    "\n",
    "# f(x,y) = x**2 + y**2"
   ]
  },
  {
   "cell_type": "code",
   "execution_count": 98,
   "id": "f37cfbf7",
   "metadata": {},
   "outputs": [],
   "source": [
    "x_0 = np.array([100, 200])\n",
    "learning_rate = 0.1"
   ]
  },
  {
   "cell_type": "code",
   "execution_count": 66,
   "id": "b280ee97",
   "metadata": {},
   "outputs": [
    {
     "name": "stdout",
     "output_type": "stream",
     "text": [
      "Optimization terminated successfully.\n",
      "         Current function value: 0.000000\n",
      "         Iterations: 85\n",
      "         Function evaluations: 164\n"
     ]
    },
    {
     "data": {
      "text/plain": [
       " final_simplex: (array([[ 3.31391559e-09, -1.82888492e-09],\n",
       "       [-3.91522747e-09, -3.79451217e-09],\n",
       "       [-4.97134432e-09,  7.91645290e-09]]), array([1.43268566e-17, 2.97273287e-17, 8.73844908e-17]))\n",
       "           fun: 1.4326856592347756e-17\n",
       "       message: 'Optimization terminated successfully.'\n",
       "          nfev: 164\n",
       "           nit: 85\n",
       "        status: 0\n",
       "       success: True\n",
       "             x: array([ 3.31391559e-09, -1.82888492e-09])"
      ]
     },
     "execution_count": 66,
     "metadata": {},
     "output_type": "execute_result"
    }
   ],
   "source": [
    "result = minimize(f, x_0, method='nelder-mead', options={'xtol': 1e-8, 'disp': True})\n",
    "result\n",
    "\n",
    "# Совершенно не понял зачем нужна эта функция - ее результаты не сходятся никак с результатами \n",
    "# градиентного спуска вручную"
   ]
  },
  {
   "cell_type": "code",
   "execution_count": 92,
   "id": "fc6937b9",
   "metadata": {},
   "outputs": [
    {
     "name": "stdout",
     "output_type": "stream",
     "text": [
      "[200. 400.]\n"
     ]
    }
   ],
   "source": [
    "eps = np.sqrt(np.finfo(float).eps)\n",
    "x_epochs = [x_0]\n",
    "grad = approx_fprime(x_0, f, [eps, eps])\n",
    "\n",
    "print(grad)"
   ]
  },
  {
   "cell_type": "code",
   "execution_count": 100,
   "id": "fd7a8a69",
   "metadata": {},
   "outputs": [
    {
     "name": "stdout",
     "output_type": "stream",
     "text": [
      "[1.29197811e-08 3.32901401e-08]\n"
     ]
    }
   ],
   "source": [
    "print(x_0)"
   ]
  },
  {
   "cell_type": "code",
   "execution_count": 99,
   "id": "7b71eb67",
   "metadata": {},
   "outputs": [
    {
     "name": "stdout",
     "output_type": "stream",
     "text": [
      "[100 200]\n",
      "[ 80. 160.]\n",
      "[ 80. 160.]\n",
      "[ 64. 128.]\n",
      "[ 64. 128.]\n",
      "[ 51.2 102.4]\n",
      "[ 51.2 102.4]\n",
      "[40.95999756 81.92000732]\n",
      "[40.95999756 81.92000732]\n",
      "[32.76799316 65.53599854]\n",
      "[32.76799316 65.53599854]\n",
      "[26.21439819 52.42879639]\n",
      "[26.21439819 52.42879639]\n",
      "[20.97151794 41.94303894]\n",
      "[20.97151794 41.94303894]\n",
      "[16.77721558 33.55443115]\n",
      "[16.77721558 33.55443115]\n",
      "[13.42177277 26.84354553]\n",
      "[13.42177277 26.84354553]\n",
      "[10.73741837 21.47483673]\n",
      "[10.73741837 21.47483673]\n",
      "[ 8.5899353  17.17986984]\n",
      "[ 8.5899353  17.17986984]\n",
      "[ 6.87194824 13.74389572]\n",
      "[ 6.87194824 13.74389572]\n",
      "[ 5.49755859 10.99511662]\n",
      "[ 5.49755859 10.99511662]\n",
      "[4.39804688 8.79609337]\n",
      "[4.39804688 8.79609337]\n",
      "[3.51843748 7.03687468]\n",
      "[3.51843748 7.03687468]\n",
      "[2.81475    5.62949977]\n",
      "[2.81475    5.62949977]\n",
      "[2.25180001 4.50359979]\n",
      "[2.25180001 4.50359979]\n",
      "[1.80144    3.60287981]\n",
      "[1.80144    3.60287981]\n",
      "[1.441152   2.88230383]\n",
      "[1.441152   2.88230383]\n",
      "[1.15292161 2.30584307]\n",
      "[1.15292161 2.30584307]\n",
      "[0.92233729 1.84467446]\n",
      "[0.92233729 1.84467446]\n",
      "[0.73786983 1.47573956]\n",
      "[0.73786983 1.47573956]\n",
      "[0.59029586 1.18059165]\n",
      "[0.59029586 1.18059165]\n",
      "[0.47223669 0.94447332]\n",
      "[0.47223669 0.94447332]\n",
      "[0.37778935 0.75557865]\n",
      "[0.37778935 0.75557865]\n",
      "[0.30223148 0.60446292]\n",
      "[0.30223148 0.60446292]\n",
      "[0.24178518 0.48357033]\n",
      "[0.24178518 0.48357033]\n",
      "[0.19342814 0.38685627]\n",
      "[0.19342814 0.38685627]\n",
      "[0.15474251 0.30948501]\n",
      "[0.15474251 0.30948501]\n",
      "[0.12379401 0.24758801]\n",
      "[0.12379401 0.24758801]\n",
      "[0.0990352 0.1980704]\n",
      "[0.0990352 0.1980704]\n",
      "[0.07922816 0.15845632]\n",
      "[0.07922816 0.15845632]\n",
      "[0.06338253 0.12676506]\n",
      "[0.06338253 0.12676506]\n",
      "[0.05070602 0.10141204]\n",
      "[0.05070602 0.10141204]\n",
      "[0.04056482 0.08112963]\n",
      "[0.04056482 0.08112963]\n",
      "[0.03245185 0.06490371]\n",
      "[0.03245185 0.06490371]\n",
      "[0.02596148 0.05192296]\n",
      "[0.02596148 0.05192296]\n",
      "[0.02076918 0.04153837]\n",
      "[0.02076918 0.04153837]\n",
      "[0.01661534 0.03323069]\n",
      "[0.01661534 0.03323069]\n",
      "[0.01329227 0.02658455]\n",
      "[0.01329227 0.02658455]\n",
      "[0.01063382 0.02126764]\n",
      "[0.01063382 0.02126764]\n",
      "[0.00850705 0.01701411]\n",
      "[0.00850705 0.01701411]\n",
      "[0.00680564 0.01361129]\n",
      "[0.00680564 0.01361129]\n",
      "[0.00544451 0.01088903]\n",
      "[0.00544451 0.01088903]\n",
      "[0.00435561 0.00871122]\n",
      "[0.00435561 0.00871122]\n",
      "[0.00348448 0.00696898]\n",
      "[0.00348448 0.00696898]\n",
      "[0.00278759 0.00557518]\n",
      "[0.00278759 0.00557518]\n",
      "[0.00223007 0.00446014]\n",
      "[0.00223007 0.00446014]\n",
      "[0.00178405 0.00356811]\n",
      "[0.00178405 0.00356811]\n",
      "[0.00142724 0.00285449]\n",
      "[0.00142724 0.00285449]\n",
      "[0.00114179 0.00228359]\n",
      "[0.00114179 0.00228359]\n",
      "[0.00091343 0.00182687]\n",
      "[0.00091343 0.00182687]\n",
      "[0.00073074 0.00146149]\n",
      "[0.00073074 0.00146149]\n",
      "[0.00058459 0.00116919]\n",
      "[0.00058459 0.00116919]\n",
      "[0.00046767 0.00093535]\n",
      "[0.00046767 0.00093535]\n",
      "[0.00037414 0.00074828]\n",
      "[0.00037414 0.00074828]\n",
      "[0.00029931 0.00059862]\n",
      "[0.00029931 0.00059862]\n",
      "[0.00023945 0.0004789 ]\n",
      "[0.00023945 0.0004789 ]\n",
      "[0.00019155 0.00038312]\n",
      "[0.00019155 0.00038312]\n",
      "[0.00015324 0.00030649]\n",
      "[0.00015324 0.00030649]\n",
      "[0.00012259 0.00024519]\n",
      "[0.00012259 0.00024519]\n",
      "[9.80722733e-05 1.96151984e-04]\n",
      "[9.80722733e-05 1.96151984e-04]\n",
      "[7.84563285e-05 1.56920097e-04]\n",
      "[7.84563285e-05 1.56920097e-04]\n",
      "[6.27635727e-05 1.25534588e-04]\n",
      "[6.27635727e-05 1.25534588e-04]\n",
      "[5.0209368e-05 1.0042618e-04]\n",
      "[5.0209368e-05 1.0042618e-04]\n",
      "[4.01660043e-05 8.03394540e-05]\n",
      "[4.01660043e-05 8.03394540e-05]\n",
      "[3.21313133e-05 6.42700731e-05]\n",
      "[3.21313133e-05 6.42700731e-05]\n",
      "[2.57035605e-05 5.14145684e-05]\n",
      "[2.57035605e-05 5.14145684e-05]\n",
      "[2.05613583e-05 4.11301646e-05]\n",
      "[2.05613583e-05 4.11301646e-05]\n",
      "[1.64475965e-05 3.29026415e-05]\n",
      "[1.64475965e-05 3.29026415e-05]\n",
      "[1.31565871e-05 2.63206231e-05]\n",
      "[1.31565871e-05 2.63206231e-05]\n",
      "[1.05237796e-05 2.10550084e-05]\n",
      "[1.05237796e-05 2.10550084e-05]\n",
      "[8.41753355e-06 1.68425166e-05]\n",
      "[8.41753355e-06 1.68425166e-05]\n",
      "[6.73253672e-06 1.34725232e-05]\n",
      "[6.73253672e-06 1.34725232e-05]\n",
      "[5.38453926e-06 1.07765284e-05]\n",
      "[5.38453926e-06 1.07765284e-05]\n",
      "[4.30614129e-06 8.61973261e-06]\n",
      "[4.30614129e-06 8.61973261e-06]\n",
      "[3.44342292e-06 6.89429597e-06]\n",
      "[3.44342292e-06 6.89429597e-06]\n",
      "[2.75324822e-06 5.51394666e-06]\n",
      "[2.75324822e-06 5.51394666e-06]\n",
      "[2.20110846e-06 4.40966721e-06]\n",
      "[2.20110846e-06 4.40966721e-06]\n",
      "[1.75939665e-06 3.52624365e-06]\n",
      "[1.75939665e-06 3.52624365e-06]\n",
      "[1.40602720e-06 2.81950481e-06]\n",
      "[1.40602720e-06 2.81950481e-06]\n",
      "[1.12333165e-06 2.25411373e-06]\n",
      "[1.12333165e-06 2.25411373e-06]\n",
      "[8.97175202e-07 1.80180087e-06]\n",
      "[8.97175202e-07 1.80180087e-06]\n",
      "[7.16250045e-07 1.43995058e-06]\n",
      "[7.16250045e-07 1.43995058e-06]\n",
      "[5.71509920e-07 1.15047035e-06]\n",
      "[5.71509920e-07 1.15047035e-06]\n",
      "[4.55717820e-07 9.18886161e-07]\n",
      "[4.55717820e-07 9.18886161e-07]\n",
      "[3.63084140e-07 7.33618813e-07]\n",
      "[3.63084140e-07 7.33618813e-07]\n",
      "[2.88977196e-07 5.85404934e-07]\n",
      "[2.88977196e-07 5.85404934e-07]\n",
      "[2.29691640e-07 4.66833831e-07]\n",
      "[2.29691640e-07 4.66833831e-07]\n",
      "[1.82263196e-07 3.71976949e-07]\n",
      "[1.82263196e-07 3.71976949e-07]\n",
      "[1.44320441e-07 2.96091443e-07]\n",
      "[1.44320441e-07 2.96091443e-07]\n",
      "[1.13966237e-07 2.35383038e-07]\n",
      "[1.13966237e-07 2.35383038e-07]\n",
      "[8.96828731e-08 1.86816314e-07]\n",
      "[8.96828731e-08 1.86816314e-07]\n",
      "[7.02561824e-08 1.47962935e-07]\n",
      "[7.02561824e-08 1.47962935e-07]\n",
      "[5.47148298e-08 1.16880232e-07]\n",
      "[5.47148298e-08 1.16880232e-07]\n",
      "[4.22817477e-08 9.20140696e-08]\n",
      "[4.22817477e-08 9.20140696e-08]\n",
      "[3.23352821e-08 7.21211396e-08]\n",
      "[3.23352821e-08 7.21211396e-08]\n",
      "[2.43781095e-08 5.62067956e-08]\n",
      "[2.43781095e-08 5.62067956e-08]\n",
      "[1.80123715e-08 4.34753203e-08]\n",
      "[1.80123715e-08 4.34753203e-08]\n",
      "[1.29197811e-08 3.32901401e-08]\n"
     ]
    }
   ],
   "source": [
    "for i in range(100):\n",
    "#     # Calculate gradient\n",
    "    grad = approx_fprime(x_0, f, [eps, eps])\n",
    "        \n",
    "    # Update x with gradient\n",
    "    x_0 = x_0 -learning_rate*grad\n",
    "    print(x_0)"
   ]
  },
  {
   "cell_type": "code",
   "execution_count": 101,
   "id": "d96dae24",
   "metadata": {},
   "outputs": [
    {
     "name": "stdout",
     "output_type": "stream",
     "text": [
      "Минимум достигается в: [1.29197811e-08 3.32901401e-08]\n",
      "Значение функции в минимуме: 1.2751541739575584e-15\n"
     ]
    }
   ],
   "source": [
    "print(f\"Минимум достигается в: {x_0}\")\n",
    "print(f\"Значение функции в минимуме: {f(x_0)}\")"
   ]
  },
  {
   "cell_type": "markdown",
   "id": "cedf0c94",
   "metadata": {},
   "source": [
    "# Проверка с помощью встроенной функции numpy:"
   ]
  },
  {
   "cell_type": "code",
   "execution_count": 110,
   "id": "20402af9",
   "metadata": {},
   "outputs": [
    {
     "data": {
      "text/plain": [
       "array([100., 100.])"
      ]
     },
     "execution_count": 110,
     "metadata": {},
     "output_type": "execute_result"
    }
   ],
   "source": [
    "np.gradient(x_0_np)"
   ]
  }
 ],
 "metadata": {
  "kernelspec": {
   "display_name": "Python 3",
   "language": "python",
   "name": "python3"
  },
  "language_info": {
   "codemirror_mode": {
    "name": "ipython",
    "version": 3
   },
   "file_extension": ".py",
   "mimetype": "text/x-python",
   "name": "python",
   "nbconvert_exporter": "python",
   "pygments_lexer": "ipython3",
   "version": "3.8.8"
  }
 },
 "nbformat": 4,
 "nbformat_minor": 5
}
