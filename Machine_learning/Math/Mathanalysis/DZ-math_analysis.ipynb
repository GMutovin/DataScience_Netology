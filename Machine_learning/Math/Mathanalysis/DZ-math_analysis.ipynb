{
 "cells": [
  {
   "cell_type": "markdown",
   "id": "fb59600a",
   "metadata": {},
   "source": [
    "# Домашнее задание \"Математический анализ. Производная\""
   ]
  },
  {
   "cell_type": "code",
   "execution_count": 256,
   "id": "d061c751",
   "metadata": {},
   "outputs": [],
   "source": [
    "import numpy as np\n",
    "import scipy.misc \n",
    "import matplotlib.pyplot as plt"
   ]
  },
  {
   "cell_type": "code",
   "execution_count": 257,
   "id": "f619a2d8",
   "metadata": {},
   "outputs": [],
   "source": [
    "from sympy import *"
   ]
  },
  {
   "cell_type": "markdown",
   "id": "b0dcb4f1",
   "metadata": {},
   "source": [
    "# Уровень 0\n",
    "\n",
    "# Посчитайте значение первой и второй производной функции:\n",
    "\n",
    "# $f(x) = x^5 + 4sin(2x) + cos(3x+3)$\n",
    "\n",
    "# В точке x = 1."
   ]
  },
  {
   "cell_type": "code",
   "execution_count": 258,
   "id": "06b3e2c0",
   "metadata": {},
   "outputs": [
    {
     "data": {
      "text/latex": [
       "$\\displaystyle 5 x^{4} - 3 \\sin{\\left(3 x + 3 \\right)} + 8 \\cos{\\left(2 x \\right)}$"
      ],
      "text/plain": [
       "5*x**4 - 3*sin(3*x + 3) + 8*cos(2*x)"
      ]
     },
     "execution_count": 258,
     "metadata": {},
     "output_type": "execute_result"
    }
   ],
   "source": [
    "# Найти производную функции\n",
    "x = symbols('x')\n",
    "expn = x**5 + 4 * sin(2 * x) + cos(3 * x + 3)\n",
    "diff_expn = diff(expn, x)\n",
    "diff_expn"
   ]
  },
  {
   "cell_type": "code",
   "execution_count": 259,
   "id": "16ec2c85",
   "metadata": {},
   "outputs": [
    {
     "name": "stdout",
     "output_type": "stream",
     "text": [
      "2.5090718022196383\n"
     ]
    }
   ],
   "source": [
    "# Производная в точке x = 1\n",
    "ddx = lambdify(x, diff_expn)\n",
    "print(ddx(1))"
   ]
  },
  {
   "cell_type": "code",
   "execution_count": 260,
   "id": "9e47eb10",
   "metadata": {},
   "outputs": [
    {
     "name": "stdout",
     "output_type": "stream",
     "text": [
      "2.50907180221964\n"
     ]
    }
   ],
   "source": [
    "print(diff_expn.evalf(subs={x: 1}))"
   ]
  },
  {
   "cell_type": "code",
   "execution_count": 261,
   "id": "7c95de43",
   "metadata": {},
   "outputs": [
    {
     "name": "stdout",
     "output_type": "stream",
     "text": [
      "2.50907180188165\n",
      "2.50907180221964\n"
     ]
    }
   ],
   "source": [
    "# Второй способ: \n",
    "def func(x):\n",
    "    return x**5 + 4 * sin(2 * x) + cos(3 * x + 3)\n",
    "\n",
    "print(scipy.misc.derivative(func, 1, dx=1e-6, n=1))\n",
    "\n",
    "# Или:\n",
    "print(diff_expn.evalf(subs={x: 1}))"
   ]
  },
  {
   "cell_type": "code",
   "execution_count": 173,
   "id": "1e5a0096",
   "metadata": {},
   "outputs": [
    {
     "data": {
      "text/latex": [
       "$\\displaystyle 20 x^{3} - 16 \\sin{\\left(2 x \\right)} - 9 \\cos{\\left(3 \\left(x + 1\\right) \\right)}$"
      ],
      "text/plain": [
       "20*x**3 - 16*sin(2*x) - 9*cos(3*(x + 1))"
      ]
     },
     "execution_count": 173,
     "metadata": {},
     "output_type": "execute_result"
    }
   ],
   "source": [
    "# Найти производную производной функции\n",
    "diff_expn_2 = diff(expn, x, x)\n",
    "diff_expn_2"
   ]
  },
  {
   "cell_type": "code",
   "execution_count": 175,
   "id": "92085153",
   "metadata": {},
   "outputs": [
    {
     "name": "stdout",
     "output_type": "stream",
     "text": [
      "-3.1902914090642014\n"
     ]
    }
   ],
   "source": [
    "# Вторая производная в точке x = 1\n",
    "ddx_2 = lambdify(x, diff_expn_2)\n",
    "print(ddx_2(1))"
   ]
  },
  {
   "cell_type": "code",
   "execution_count": 185,
   "id": "2dfa067d",
   "metadata": {},
   "outputs": [
    {
     "name": "stdout",
     "output_type": "stream",
     "text": [
      "-3.19033688356285\n",
      "-3.19029140906420\n"
     ]
    }
   ],
   "source": [
    "# Второй способ: \n",
    "print(scipy.misc.derivative(func, 1, dx=1e-6, n=2))\n",
    "\n",
    "# Или:\n",
    "print(diff_expn_2.evalf(subs={x: 1}))"
   ]
  },
  {
   "cell_type": "code",
   "execution_count": null,
   "id": "2eed3661",
   "metadata": {},
   "outputs": [],
   "source": [
    "# Не совсем понял зачем нужен метод evalf() и метод scipy.misc.derivative(), если\n",
    "# это в целом, как я понял, равнозначные способы нахождения производных.\n",
    "# Но тогда почему в рекомендованных материалах не было информации про методы \n",
    "# subs() и lambdify(), с помощью которых тоже можно найти производные."
   ]
  },
  {
   "cell_type": "markdown",
   "id": "23531b60",
   "metadata": {},
   "source": [
    "# Уровень 1:\n",
    "# Постройте график первой и второй производной функции:\n",
    "\n",
    "# $f(x) = sin^5(2x+1)$\n",
    "\n",
    "# На отрезке [-5; 5]."
   ]
  },
  {
   "cell_type": "code",
   "execution_count": 238,
   "id": "6635324d",
   "metadata": {},
   "outputs": [],
   "source": [
    "import pandas as pd"
   ]
  },
  {
   "cell_type": "code",
   "execution_count": 188,
   "id": "b3b3ca94",
   "metadata": {},
   "outputs": [
    {
     "data": {
      "text/latex": [
       "$\\displaystyle 10 \\sin^{4}{\\left(2 z + 1 \\right)} \\cos{\\left(2 z + 1 \\right)}$"
      ],
      "text/plain": [
       "10*sin(2*z + 1)**4*cos(2*z + 1)"
      ]
     },
     "execution_count": 188,
     "metadata": {},
     "output_type": "execute_result"
    }
   ],
   "source": [
    "# Найти производную функции\n",
    "z = symbols('z')\n",
    "y = sin(2 * z + 1)**5\n",
    "diff_y = diff(y, z)\n",
    "diff_y"
   ]
  },
  {
   "cell_type": "code",
   "execution_count": 239,
   "id": "fb4e142d",
   "metadata": {},
   "outputs": [],
   "source": [
    "def new_func(z):\n",
    "    return sin(2 * z + 1)**5"
   ]
  },
  {
   "cell_type": "code",
   "execution_count": 225,
   "id": "c04b87ce",
   "metadata": {},
   "outputs": [],
   "source": [
    "# Создать массив значений z на отрезке [-5; 5]\n",
    "z_interval = [i for i in np.linspace(-5, 5, num=50, endpoint=True, retstep=False, dtype=None)]\n",
    "z_interval_array = np.array(z_interval)"
   ]
  },
  {
   "cell_type": "code",
   "execution_count": 227,
   "id": "5468ad42",
   "metadata": {},
   "outputs": [],
   "source": [
    "# Создать массив значений y на отрезке [-5; 5]\n",
    "y_interval = []\n",
    "for i in z_interval:\n",
    "    a = scipy.misc.derivative(new_func, i, dx=1e-6, n=1)\n",
    "    y_interval.append(a)\n",
    "y_interval_array = np.array(y_interval)"
   ]
  },
  {
   "cell_type": "code",
   "execution_count": 230,
   "id": "297c6f46",
   "metadata": {},
   "outputs": [],
   "source": [
    "df_diff = pd.DataFrame(\n",
    "    {\n",
    "        'z_values': z_interval_array,\n",
    "        'y_values': y_interval_array\n",
    "    })"
   ]
  },
  {
   "cell_type": "code",
   "execution_count": 246,
   "id": "92db2282",
   "metadata": {},
   "outputs": [
    {
     "data": {
      "text/plain": [
       "[<matplotlib.lines.Line2D at 0x7fea001ec310>]"
      ]
     },
     "execution_count": 246,
     "metadata": {},
     "output_type": "execute_result"
    },
    {
     "data": {
      "image/png": "[encoded data removed]",
      "text/plain": [
       "<Figure size 432x288 with 1 Axes>"
      ]
     },
     "metadata": {
      "needs_background": "light"
     },
     "output_type": "display_data"
    }
   ],
   "source": [
    "# График первой производной на отрезке [-5; 5]\n",
    "plt.plot(z_interval_array, y_interval_array)"
   ]
  },
  {
   "cell_type": "code",
   "execution_count": 247,
   "id": "ea5da107",
   "metadata": {},
   "outputs": [
    {
     "data": {
      "text/latex": [
       "$\\displaystyle 20 \\left(- \\sin^{2}{\\left(2 z + 1 \\right)} + 4 \\cos^{2}{\\left(2 z + 1 \\right)}\\right) \\sin^{3}{\\left(2 z + 1 \\right)}$"
      ],
      "text/plain": [
       "20*(-sin(2*z + 1)**2 + 4*cos(2*z + 1)**2)*sin(2*z + 1)**3"
      ]
     },
     "execution_count": 247,
     "metadata": {},
     "output_type": "execute_result"
    }
   ],
   "source": [
    "# Найти вторую производную функцию\n",
    "diff_y_2 = diff(y, z, z)\n",
    "diff_y_2"
   ]
  },
  {
   "cell_type": "code",
   "execution_count": 248,
   "id": "ab0346d4",
   "metadata": {},
   "outputs": [],
   "source": [
    "# Создать массив из значений второй производной\n",
    "y_diff_values_2 = []\n",
    "for i in z_interval:\n",
    "    y_diff_value_2 = diff_y_2.evalf(subs={z: i})\n",
    "    y_diff_values_2.append(y_diff_value_2)\n",
    "y_diff_values_2_array = np.array(y_diff_values_2)"
   ]
  },
  {
   "cell_type": "code",
   "execution_count": 250,
   "id": "b4564ab8",
   "metadata": {},
   "outputs": [
    {
     "data": {
      "text/plain": [
       "[<matplotlib.lines.Line2D at 0x7fea33ae3340>]"
      ]
     },
     "execution_count": 250,
     "metadata": {},
     "output_type": "execute_result"
    },
    {
     "data": {
      "image/png": "[encoded data removed]",
      "text/plain": [
       "<Figure size 432x288 with 1 Axes>"
      ]
     },
     "metadata": {
      "needs_background": "light"
     },
     "output_type": "display_data"
    }
   ],
   "source": [
    "# График второй производной на отрезке [-5; 5]\n",
    "plt.plot(z_interval_array, y_diff_values_2_array)"
   ]
  }
 ],
 "metadata": {
  "kernelspec": {
   "display_name": "Python 3",
   "language": "python",
   "name": "python3"
  },
  "language_info": {
   "codemirror_mode": {
    "name": "ipython",
    "version": 3
   },
   "file_extension": ".py",
   "mimetype": "text/x-python",
   "name": "python",
   "nbconvert_exporter": "python",
   "pygments_lexer": "ipython3",
   "version": "3.8.8"
  }
 },
 "nbformat": 4,
 "nbformat_minor": 5
}
