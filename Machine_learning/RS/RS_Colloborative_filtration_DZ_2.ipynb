{
 "cells": [
  {
   "cell_type": "markdown",
   "id": "31b359a9",
   "metadata": {},
   "source": [
    "# Задание по теме «Коллаборативная фильтрация»\n"
   ]
  },
  {
   "cell_type": "markdown",
   "id": "bd77c5b8",
   "metadata": {},
   "source": [
    "* используйте данные MovieLens 1M\n",
    "* можно использовать любые модели из пакета\n",
    "* получите RMSE на тестовом сете 0.87 и ниже"
   ]
  },
  {
   "cell_type": "code",
   "execution_count": 2,
   "id": "6391b031",
   "metadata": {},
   "outputs": [
    {
     "name": "stdout",
     "output_type": "stream",
     "text": [
      "Collecting surprise\n",
      "  Downloading surprise-0.1-py2.py3-none-any.whl (1.8 kB)\n",
      "Collecting scikit-surprise\n",
      "  Downloading scikit-surprise-1.1.1.tar.gz (11.8 MB)\n",
      "\u001b[2K     \u001b[90m━━━━━━━━━━━━━━━━━━━━━━━━━━━━━━━━━━━━━━━━\u001b[0m \u001b[32m11.8/11.8 MB\u001b[0m \u001b[31m8.3 MB/s\u001b[0m eta \u001b[36m0:00:00\u001b[0m00:01\u001b[0m00:01\u001b[0m\n",
      "\u001b[?25h  Preparing metadata (setup.py) ... \u001b[?25ldone\n",
      "\u001b[?25hRequirement already satisfied: joblib>=0.11 in /Users/glebmutovin/Downloads/ENTER/lib/python3.8/site-packages (from scikit-surprise->surprise) (1.0.1)\n",
      "Requirement already satisfied: numpy>=1.11.2 in /Users/glebmutovin/Downloads/ENTER/lib/python3.8/site-packages (from scikit-surprise->surprise) (1.20.1)\n",
      "Requirement already satisfied: scipy>=1.0.0 in /Users/glebmutovin/Downloads/ENTER/lib/python3.8/site-packages (from scikit-surprise->surprise) (1.6.2)\n",
      "Requirement already satisfied: six>=1.10.0 in /Users/glebmutovin/Downloads/ENTER/lib/python3.8/site-packages (from scikit-surprise->surprise) (1.15.0)\n",
      "Building wheels for collected packages: scikit-surprise\n",
      "  Building wheel for scikit-surprise (setup.py) ... \u001b[?25ldone\n",
      "\u001b[?25h  Created wheel for scikit-surprise: filename=scikit_surprise-1.1.1-cp38-cp38-macosx_10_9_x86_64.whl size=766565 sha256=26d1d96b7bdaea339cf2987ea70bda878eb49b9ede67ca43cef25d1b953116f1\n",
      "  Stored in directory: /Users/glebmutovin/Library/Caches/pip/wheels/20/91/57/2965d4cff1b8ac7ed1b6fa25741882af3974b54a31759e10b6\n",
      "Successfully built scikit-surprise\n",
      "Installing collected packages: scikit-surprise, surprise\n",
      "Successfully installed scikit-surprise-1.1.1 surprise-0.1\n",
      "\u001b[33mWARNING: You are using pip version 22.0.4; however, version 22.1.2 is available.\n",
      "You should consider upgrading via the '/Users/glebmutovin/Downloads/ENTER/bin/python -m pip install --upgrade pip' command.\u001b[0m\u001b[33m\n",
      "\u001b[0mNote: you may need to restart the kernel to use updated packages.\n"
     ]
    }
   ],
   "source": [
    "pip install surprise"
   ]
  },
  {
   "cell_type": "code",
   "execution_count": 3,
   "id": "3bcb3dcb",
   "metadata": {},
   "outputs": [],
   "source": [
    "from surprise import KNNWithMeans, KNNBasic\n",
    "from surprise import Dataset\n",
    "from surprise import accuracy\n",
    "from surprise import Reader\n",
    "from surprise.model_selection import train_test_split\n",
    "\n",
    "import pandas as pd"
   ]
  },
  {
   "cell_type": "code",
   "execution_count": 56,
   "id": "64edaf60",
   "metadata": {},
   "outputs": [
    {
     "name": "stderr",
     "output_type": "stream",
     "text": [
      "<ipython-input-56-8e571ecc3214>:1: ParserWarning: Falling back to the 'python' engine because the 'c' engine does not support regex separators (separators > 1 char and different from '\\s+' are interpreted as regex); you can avoid this warning by specifying engine='python'.\n",
      "  movies = pd.read_table('movies.dat', names=['MovieID','Title','Genres'], sep='::')\n"
     ]
    }
   ],
   "source": [
    "movies = pd.read_table('movies.dat', names=['MovieID','Title','Genres'], sep='::')"
   ]
  },
  {
   "cell_type": "code",
   "execution_count": 57,
   "id": "dcbad12d",
   "metadata": {},
   "outputs": [
    {
     "name": "stderr",
     "output_type": "stream",
     "text": [
      "<ipython-input-57-70d47cd7abe8>:1: ParserWarning: Falling back to the 'python' engine because the 'c' engine does not support regex separators (separators > 1 char and different from '\\s+' are interpreted as regex); you can avoid this warning by specifying engine='python'.\n",
      "  users = pd.read_table('users.dat', names=['UserID', 'Gender', 'Age', 'Occupation', 'Zip-code'], sep='::')\n",
      "<ipython-input-57-70d47cd7abe8>:2: ParserWarning: Falling back to the 'python' engine because the 'c' engine does not support regex separators (separators > 1 char and different from '\\s+' are interpreted as regex); you can avoid this warning by specifying engine='python'.\n",
      "  ratings = pd.read_table('ratings.dat', names=['UserID', 'MovieID', 'Rating', 'Timestamp'], sep='::')\n"
     ]
    }
   ],
   "source": [
    "users = pd.read_table('users.dat', names=['UserID', 'Gender', 'Age', 'Occupation', 'Zip-code'], sep='::')\n",
    "ratings = pd.read_table('ratings.dat', names=['UserID', 'MovieID', 'Rating', 'Timestamp'], sep='::')"
   ]
  },
  {
   "cell_type": "code",
   "execution_count": 58,
   "id": "1dee5e1d",
   "metadata": {},
   "outputs": [],
   "source": [
    "movies_with_ratings = movies.join(ratings.set_index('MovieID'), on='MovieID').reset_index(drop=True)"
   ]
  },
  {
   "cell_type": "code",
   "execution_count": 59,
   "id": "18cb6e11",
   "metadata": {},
   "outputs": [],
   "source": [
    "movies_with_ratings.dropna(inplace=True)"
   ]
  },
  {
   "cell_type": "code",
   "execution_count": 41,
   "id": "da946a06",
   "metadata": {},
   "outputs": [
    {
     "data": {
      "text/html": [
       "<div>\n",
       "<style scoped>\n",
       "    .dataframe tbody tr th:only-of-type {\n",
       "        vertical-align: middle;\n",
       "    }\n",
       "\n",
       "    .dataframe tbody tr th {\n",
       "        vertical-align: top;\n",
       "    }\n",
       "\n",
       "    .dataframe thead th {\n",
       "        text-align: right;\n",
       "    }\n",
       "</style>\n",
       "<table border=\"1\" class=\"dataframe\">\n",
       "  <thead>\n",
       "    <tr style=\"text-align: right;\">\n",
       "      <th></th>\n",
       "      <th>MovieID</th>\n",
       "      <th>Title</th>\n",
       "      <th>Genres</th>\n",
       "      <th>UserID</th>\n",
       "      <th>Rating</th>\n",
       "      <th>Timestamp</th>\n",
       "    </tr>\n",
       "  </thead>\n",
       "  <tbody>\n",
       "    <tr>\n",
       "      <th>0</th>\n",
       "      <td>1</td>\n",
       "      <td>Toy Story (1995)</td>\n",
       "      <td>Animation|Children's|Comedy</td>\n",
       "      <td>1.0</td>\n",
       "      <td>5.0</td>\n",
       "      <td>9.788243e+08</td>\n",
       "    </tr>\n",
       "    <tr>\n",
       "      <th>1</th>\n",
       "      <td>1</td>\n",
       "      <td>Toy Story (1995)</td>\n",
       "      <td>Animation|Children's|Comedy</td>\n",
       "      <td>6.0</td>\n",
       "      <td>4.0</td>\n",
       "      <td>9.782370e+08</td>\n",
       "    </tr>\n",
       "    <tr>\n",
       "      <th>2</th>\n",
       "      <td>1</td>\n",
       "      <td>Toy Story (1995)</td>\n",
       "      <td>Animation|Children's|Comedy</td>\n",
       "      <td>8.0</td>\n",
       "      <td>4.0</td>\n",
       "      <td>9.782335e+08</td>\n",
       "    </tr>\n",
       "    <tr>\n",
       "      <th>3</th>\n",
       "      <td>1</td>\n",
       "      <td>Toy Story (1995)</td>\n",
       "      <td>Animation|Children's|Comedy</td>\n",
       "      <td>9.0</td>\n",
       "      <td>5.0</td>\n",
       "      <td>9.782260e+08</td>\n",
       "    </tr>\n",
       "    <tr>\n",
       "      <th>4</th>\n",
       "      <td>1</td>\n",
       "      <td>Toy Story (1995)</td>\n",
       "      <td>Animation|Children's|Comedy</td>\n",
       "      <td>10.0</td>\n",
       "      <td>5.0</td>\n",
       "      <td>9.782265e+08</td>\n",
       "    </tr>\n",
       "    <tr>\n",
       "      <th>...</th>\n",
       "      <td>...</td>\n",
       "      <td>...</td>\n",
       "      <td>...</td>\n",
       "      <td>...</td>\n",
       "      <td>...</td>\n",
       "      <td>...</td>\n",
       "    </tr>\n",
       "    <tr>\n",
       "      <th>1000381</th>\n",
       "      <td>3952</td>\n",
       "      <td>Contender, The (2000)</td>\n",
       "      <td>Drama|Thriller</td>\n",
       "      <td>5812.0</td>\n",
       "      <td>4.0</td>\n",
       "      <td>9.920721e+08</td>\n",
       "    </tr>\n",
       "    <tr>\n",
       "      <th>1000382</th>\n",
       "      <td>3952</td>\n",
       "      <td>Contender, The (2000)</td>\n",
       "      <td>Drama|Thriller</td>\n",
       "      <td>5831.0</td>\n",
       "      <td>3.0</td>\n",
       "      <td>9.862231e+08</td>\n",
       "    </tr>\n",
       "    <tr>\n",
       "      <th>1000383</th>\n",
       "      <td>3952</td>\n",
       "      <td>Contender, The (2000)</td>\n",
       "      <td>Drama|Thriller</td>\n",
       "      <td>5837.0</td>\n",
       "      <td>4.0</td>\n",
       "      <td>1.011903e+09</td>\n",
       "    </tr>\n",
       "    <tr>\n",
       "      <th>1000384</th>\n",
       "      <td>3952</td>\n",
       "      <td>Contender, The (2000)</td>\n",
       "      <td>Drama|Thriller</td>\n",
       "      <td>5927.0</td>\n",
       "      <td>1.0</td>\n",
       "      <td>9.798525e+08</td>\n",
       "    </tr>\n",
       "    <tr>\n",
       "      <th>1000385</th>\n",
       "      <td>3952</td>\n",
       "      <td>Contender, The (2000)</td>\n",
       "      <td>Drama|Thriller</td>\n",
       "      <td>5998.0</td>\n",
       "      <td>4.0</td>\n",
       "      <td>1.001781e+09</td>\n",
       "    </tr>\n",
       "  </tbody>\n",
       "</table>\n",
       "<p>1000209 rows × 6 columns</p>\n",
       "</div>"
      ],
      "text/plain": [
       "         MovieID                  Title                       Genres  UserID  \\\n",
       "0              1       Toy Story (1995)  Animation|Children's|Comedy     1.0   \n",
       "1              1       Toy Story (1995)  Animation|Children's|Comedy     6.0   \n",
       "2              1       Toy Story (1995)  Animation|Children's|Comedy     8.0   \n",
       "3              1       Toy Story (1995)  Animation|Children's|Comedy     9.0   \n",
       "4              1       Toy Story (1995)  Animation|Children's|Comedy    10.0   \n",
       "...          ...                    ...                          ...     ...   \n",
       "1000381     3952  Contender, The (2000)               Drama|Thriller  5812.0   \n",
       "1000382     3952  Contender, The (2000)               Drama|Thriller  5831.0   \n",
       "1000383     3952  Contender, The (2000)               Drama|Thriller  5837.0   \n",
       "1000384     3952  Contender, The (2000)               Drama|Thriller  5927.0   \n",
       "1000385     3952  Contender, The (2000)               Drama|Thriller  5998.0   \n",
       "\n",
       "         Rating     Timestamp  \n",
       "0           5.0  9.788243e+08  \n",
       "1           4.0  9.782370e+08  \n",
       "2           4.0  9.782335e+08  \n",
       "3           5.0  9.782260e+08  \n",
       "4           5.0  9.782265e+08  \n",
       "...         ...           ...  \n",
       "1000381     4.0  9.920721e+08  \n",
       "1000382     3.0  9.862231e+08  \n",
       "1000383     4.0  1.011903e+09  \n",
       "1000384     1.0  9.798525e+08  \n",
       "1000385     4.0  1.001781e+09  \n",
       "\n",
       "[1000209 rows x 6 columns]"
      ]
     },
     "execution_count": 41,
     "metadata": {},
     "output_type": "execute_result"
    }
   ],
   "source": [
    "movies_with_ratings"
   ]
  },
  {
   "cell_type": "code",
   "execution_count": 60,
   "id": "b2ba0c10",
   "metadata": {},
   "outputs": [],
   "source": [
    "df_for_rs = pd.DataFrame(\n",
    "    {\n",
    "    'uid': movies_with_ratings.UserID,\n",
    "    'iid': movies_with_ratings.Title,\n",
    "    'rating': movies_with_ratings.Rating  \n",
    "    }\n",
    ")"
   ]
  },
  {
   "cell_type": "code",
   "execution_count": 61,
   "id": "03b76596",
   "metadata": {},
   "outputs": [
    {
     "data": {
      "text/html": [
       "<div>\n",
       "<style scoped>\n",
       "    .dataframe tbody tr th:only-of-type {\n",
       "        vertical-align: middle;\n",
       "    }\n",
       "\n",
       "    .dataframe tbody tr th {\n",
       "        vertical-align: top;\n",
       "    }\n",
       "\n",
       "    .dataframe thead th {\n",
       "        text-align: right;\n",
       "    }\n",
       "</style>\n",
       "<table border=\"1\" class=\"dataframe\">\n",
       "  <thead>\n",
       "    <tr style=\"text-align: right;\">\n",
       "      <th></th>\n",
       "      <th>uid</th>\n",
       "      <th>iid</th>\n",
       "      <th>rating</th>\n",
       "    </tr>\n",
       "  </thead>\n",
       "  <tbody>\n",
       "    <tr>\n",
       "      <th>0</th>\n",
       "      <td>1.0</td>\n",
       "      <td>Toy Story (1995)</td>\n",
       "      <td>5.0</td>\n",
       "    </tr>\n",
       "    <tr>\n",
       "      <th>1</th>\n",
       "      <td>6.0</td>\n",
       "      <td>Toy Story (1995)</td>\n",
       "      <td>4.0</td>\n",
       "    </tr>\n",
       "    <tr>\n",
       "      <th>2</th>\n",
       "      <td>8.0</td>\n",
       "      <td>Toy Story (1995)</td>\n",
       "      <td>4.0</td>\n",
       "    </tr>\n",
       "    <tr>\n",
       "      <th>3</th>\n",
       "      <td>9.0</td>\n",
       "      <td>Toy Story (1995)</td>\n",
       "      <td>5.0</td>\n",
       "    </tr>\n",
       "    <tr>\n",
       "      <th>4</th>\n",
       "      <td>10.0</td>\n",
       "      <td>Toy Story (1995)</td>\n",
       "      <td>5.0</td>\n",
       "    </tr>\n",
       "    <tr>\n",
       "      <th>...</th>\n",
       "      <td>...</td>\n",
       "      <td>...</td>\n",
       "      <td>...</td>\n",
       "    </tr>\n",
       "    <tr>\n",
       "      <th>1000381</th>\n",
       "      <td>5812.0</td>\n",
       "      <td>Contender, The (2000)</td>\n",
       "      <td>4.0</td>\n",
       "    </tr>\n",
       "    <tr>\n",
       "      <th>1000382</th>\n",
       "      <td>5831.0</td>\n",
       "      <td>Contender, The (2000)</td>\n",
       "      <td>3.0</td>\n",
       "    </tr>\n",
       "    <tr>\n",
       "      <th>1000383</th>\n",
       "      <td>5837.0</td>\n",
       "      <td>Contender, The (2000)</td>\n",
       "      <td>4.0</td>\n",
       "    </tr>\n",
       "    <tr>\n",
       "      <th>1000384</th>\n",
       "      <td>5927.0</td>\n",
       "      <td>Contender, The (2000)</td>\n",
       "      <td>1.0</td>\n",
       "    </tr>\n",
       "    <tr>\n",
       "      <th>1000385</th>\n",
       "      <td>5998.0</td>\n",
       "      <td>Contender, The (2000)</td>\n",
       "      <td>4.0</td>\n",
       "    </tr>\n",
       "  </tbody>\n",
       "</table>\n",
       "<p>1000209 rows × 3 columns</p>\n",
       "</div>"
      ],
      "text/plain": [
       "            uid                    iid  rating\n",
       "0           1.0       Toy Story (1995)     5.0\n",
       "1           6.0       Toy Story (1995)     4.0\n",
       "2           8.0       Toy Story (1995)     4.0\n",
       "3           9.0       Toy Story (1995)     5.0\n",
       "4          10.0       Toy Story (1995)     5.0\n",
       "...         ...                    ...     ...\n",
       "1000381  5812.0  Contender, The (2000)     4.0\n",
       "1000382  5831.0  Contender, The (2000)     3.0\n",
       "1000383  5837.0  Contender, The (2000)     4.0\n",
       "1000384  5927.0  Contender, The (2000)     1.0\n",
       "1000385  5998.0  Contender, The (2000)     4.0\n",
       "\n",
       "[1000209 rows x 3 columns]"
      ]
     },
     "execution_count": 61,
     "metadata": {},
     "output_type": "execute_result"
    }
   ],
   "source": [
    "df_for_rs"
   ]
  },
  {
   "cell_type": "code",
   "execution_count": 62,
   "id": "83fddd6b",
   "metadata": {},
   "outputs": [],
   "source": [
    "reader = Reader(rating_scale=(1.0, 5.0))\n",
    "dataset = Dataset.load_from_df(df_for_rs, reader)"
   ]
  },
  {
   "cell_type": "code",
   "execution_count": 63,
   "id": "b218958d",
   "metadata": {},
   "outputs": [],
   "source": [
    "trainset, testset = train_test_split(dataset, test_size=.15)"
   ]
  },
  {
   "cell_type": "code",
   "execution_count": 64,
   "id": "91a3a2f4",
   "metadata": {},
   "outputs": [
    {
     "name": "stdout",
     "output_type": "stream",
     "text": [
      "Estimating biases using als...\n",
      "Computing the pearson_baseline similarity matrix...\n",
      "Done computing similarity matrix.\n"
     ]
    },
    {
     "data": {
      "text/plain": [
       "<surprise.prediction_algorithms.knns.KNNWithMeans at 0x7fa869d5b1c0>"
      ]
     },
     "execution_count": 64,
     "metadata": {},
     "output_type": "execute_result"
    }
   ],
   "source": [
    "algo = KNNWithMeans(k=40, sim_options={'name': 'pearson_baseline', 'user_based': False})\n",
    "algo.fit(trainset)"
   ]
  },
  {
   "cell_type": "code",
   "execution_count": 65,
   "id": "26aea434",
   "metadata": {},
   "outputs": [],
   "source": [
    "test_pred = algo.test(testset)"
   ]
  },
  {
   "cell_type": "code",
   "execution_count": 66,
   "id": "ac4df7bb",
   "metadata": {},
   "outputs": [
    {
     "name": "stdout",
     "output_type": "stream",
     "text": [
      "RMSE: 0.8596\n"
     ]
    },
    {
     "data": {
      "text/plain": [
       "0.8596015050464502"
      ]
     },
     "execution_count": 66,
     "metadata": {},
     "output_type": "execute_result"
    }
   ],
   "source": [
    "accuracy.rmse(test_pred, verbose=True)"
   ]
  }
 ],
 "metadata": {
  "kernelspec": {
   "display_name": "Python 3",
   "language": "python",
   "name": "python3"
  },
  "language_info": {
   "codemirror_mode": {
    "name": "ipython",
    "version": 3
   },
   "file_extension": ".py",
   "mimetype": "text/x-python",
   "name": "python",
   "nbconvert_exporter": "python",
   "pygments_lexer": "ipython3",
   "version": "3.8.8"
  }
 },
 "nbformat": 4,
 "nbformat_minor": 5
}
