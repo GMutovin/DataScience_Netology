{
 "cells": [
  {
   "cell_type": "markdown",
   "id": "8fdc459a",
   "metadata": {},
   "source": [
    "# Домашнее задание по теме «Рекомендации на основе содержания»\n"
   ]
  },
  {
   "cell_type": "code",
   "execution_count": 1,
   "id": "f8dceaee",
   "metadata": {},
   "outputs": [],
   "source": [
    "import pandas as pd\n",
    "import numpy as np\n",
    "from datetime import datetime\n",
    "\n",
    "from tqdm import tqdm_notebook\n",
    "\n",
    "import matplotlib.pyplot as plt\n",
    "\n",
    "%matplotlib inline"
   ]
  },
  {
   "cell_type": "code",
   "execution_count": 2,
   "id": "3db495ed",
   "metadata": {},
   "outputs": [],
   "source": [
    "from sklearn.feature_extraction.text import TfidfTransformer, CountVectorizer\n",
    "from sklearn.neighbors import NearestNeighbors"
   ]
  },
  {
   "cell_type": "code",
   "execution_count": 3,
   "id": "37c6f889",
   "metadata": {},
   "outputs": [],
   "source": [
    "movies = pd.read_csv('movies.csv')\n",
    "links = pd.read_csv('links.csv')\n",
    "tags = pd.read_csv('tags.csv')\n",
    "ratings = pd.read_csv('ratings.csv')"
   ]
  },
  {
   "cell_type": "code",
   "execution_count": 4,
   "id": "5489698f",
   "metadata": {},
   "outputs": [],
   "source": [
    "# Подсчет среднего рейтинга фильма\n",
    "\n",
    "mean_movie_ratings = ratings.groupby('movieId').mean().drop(['userId', 'timestamp'], 1)"
   ]
  },
  {
   "cell_type": "code",
   "execution_count": 5,
   "id": "a90bef72",
   "metadata": {},
   "outputs": [],
   "source": [
    "mean_movie_ratings = mean_movie_ratings.reset_index()"
   ]
  },
  {
   "cell_type": "code",
   "execution_count": 6,
   "id": "b01f6d51",
   "metadata": {},
   "outputs": [],
   "source": [
    "# Объединяем датафрейм с средним рейтингом с датафреймом с фильмами\n",
    "\n",
    "movies_with_mean_ratings = movies.merge(mean_movie_ratings, how='inner', on = 'movieId')"
   ]
  },
  {
   "cell_type": "code",
   "execution_count": 7,
   "id": "0270848a",
   "metadata": {},
   "outputs": [
    {
     "data": {
      "text/html": [
       "<div>\n",
       "<style scoped>\n",
       "    .dataframe tbody tr th:only-of-type {\n",
       "        vertical-align: middle;\n",
       "    }\n",
       "\n",
       "    .dataframe tbody tr th {\n",
       "        vertical-align: top;\n",
       "    }\n",
       "\n",
       "    .dataframe thead th {\n",
       "        text-align: right;\n",
       "    }\n",
       "</style>\n",
       "<table border=\"1\" class=\"dataframe\">\n",
       "  <thead>\n",
       "    <tr style=\"text-align: right;\">\n",
       "      <th></th>\n",
       "      <th>movieId</th>\n",
       "      <th>title</th>\n",
       "      <th>genres</th>\n",
       "      <th>rating</th>\n",
       "    </tr>\n",
       "  </thead>\n",
       "  <tbody>\n",
       "    <tr>\n",
       "      <th>0</th>\n",
       "      <td>1</td>\n",
       "      <td>Toy Story (1995)</td>\n",
       "      <td>Adventure|Animation|Children|Comedy|Fantasy</td>\n",
       "      <td>3.920930</td>\n",
       "    </tr>\n",
       "    <tr>\n",
       "      <th>1</th>\n",
       "      <td>2</td>\n",
       "      <td>Jumanji (1995)</td>\n",
       "      <td>Adventure|Children|Fantasy</td>\n",
       "      <td>3.431818</td>\n",
       "    </tr>\n",
       "    <tr>\n",
       "      <th>2</th>\n",
       "      <td>3</td>\n",
       "      <td>Grumpier Old Men (1995)</td>\n",
       "      <td>Comedy|Romance</td>\n",
       "      <td>3.259615</td>\n",
       "    </tr>\n",
       "    <tr>\n",
       "      <th>3</th>\n",
       "      <td>4</td>\n",
       "      <td>Waiting to Exhale (1995)</td>\n",
       "      <td>Comedy|Drama|Romance</td>\n",
       "      <td>2.357143</td>\n",
       "    </tr>\n",
       "    <tr>\n",
       "      <th>4</th>\n",
       "      <td>5</td>\n",
       "      <td>Father of the Bride Part II (1995)</td>\n",
       "      <td>Comedy</td>\n",
       "      <td>3.071429</td>\n",
       "    </tr>\n",
       "    <tr>\n",
       "      <th>...</th>\n",
       "      <td>...</td>\n",
       "      <td>...</td>\n",
       "      <td>...</td>\n",
       "      <td>...</td>\n",
       "    </tr>\n",
       "    <tr>\n",
       "      <th>9719</th>\n",
       "      <td>193581</td>\n",
       "      <td>Black Butler: Book of the Atlantic (2017)</td>\n",
       "      <td>Action|Animation|Comedy|Fantasy</td>\n",
       "      <td>4.000000</td>\n",
       "    </tr>\n",
       "    <tr>\n",
       "      <th>9720</th>\n",
       "      <td>193583</td>\n",
       "      <td>No Game No Life: Zero (2017)</td>\n",
       "      <td>Animation|Comedy|Fantasy</td>\n",
       "      <td>3.500000</td>\n",
       "    </tr>\n",
       "    <tr>\n",
       "      <th>9721</th>\n",
       "      <td>193585</td>\n",
       "      <td>Flint (2017)</td>\n",
       "      <td>Drama</td>\n",
       "      <td>3.500000</td>\n",
       "    </tr>\n",
       "    <tr>\n",
       "      <th>9722</th>\n",
       "      <td>193587</td>\n",
       "      <td>Bungo Stray Dogs: Dead Apple (2018)</td>\n",
       "      <td>Action|Animation</td>\n",
       "      <td>3.500000</td>\n",
       "    </tr>\n",
       "    <tr>\n",
       "      <th>9723</th>\n",
       "      <td>193609</td>\n",
       "      <td>Andrew Dice Clay: Dice Rules (1991)</td>\n",
       "      <td>Comedy</td>\n",
       "      <td>4.000000</td>\n",
       "    </tr>\n",
       "  </tbody>\n",
       "</table>\n",
       "<p>9724 rows × 4 columns</p>\n",
       "</div>"
      ],
      "text/plain": [
       "      movieId                                      title  \\\n",
       "0           1                           Toy Story (1995)   \n",
       "1           2                             Jumanji (1995)   \n",
       "2           3                    Grumpier Old Men (1995)   \n",
       "3           4                   Waiting to Exhale (1995)   \n",
       "4           5         Father of the Bride Part II (1995)   \n",
       "...       ...                                        ...   \n",
       "9719   193581  Black Butler: Book of the Atlantic (2017)   \n",
       "9720   193583               No Game No Life: Zero (2017)   \n",
       "9721   193585                               Flint (2017)   \n",
       "9722   193587        Bungo Stray Dogs: Dead Apple (2018)   \n",
       "9723   193609        Andrew Dice Clay: Dice Rules (1991)   \n",
       "\n",
       "                                           genres    rating  \n",
       "0     Adventure|Animation|Children|Comedy|Fantasy  3.920930  \n",
       "1                      Adventure|Children|Fantasy  3.431818  \n",
       "2                                  Comedy|Romance  3.259615  \n",
       "3                            Comedy|Drama|Romance  2.357143  \n",
       "4                                          Comedy  3.071429  \n",
       "...                                           ...       ...  \n",
       "9719              Action|Animation|Comedy|Fantasy  4.000000  \n",
       "9720                     Animation|Comedy|Fantasy  3.500000  \n",
       "9721                                        Drama  3.500000  \n",
       "9722                             Action|Animation  3.500000  \n",
       "9723                                       Comedy  4.000000  \n",
       "\n",
       "[9724 rows x 4 columns]"
      ]
     },
     "execution_count": 7,
     "metadata": {},
     "output_type": "execute_result"
    }
   ],
   "source": [
    "movies_with_mean_ratings"
   ]
  },
  {
   "cell_type": "code",
   "execution_count": 8,
   "id": "7fd0c4c7",
   "metadata": {},
   "outputs": [],
   "source": [
    "# Объединяем датафрейм с фильмами и их рейтингами с датайфреймом с тэгами\n",
    "\n",
    "movies_with_tags = movies_with_mean_ratings.merge(tags, on='movieId', how='outer')"
   ]
  },
  {
   "cell_type": "code",
   "execution_count": 9,
   "id": "5acf446e",
   "metadata": {},
   "outputs": [],
   "source": [
    "movies_with_tags.dropna(subset=['rating'], inplace=True)"
   ]
  },
  {
   "cell_type": "code",
   "execution_count": 10,
   "id": "429e753c",
   "metadata": {},
   "outputs": [
    {
     "data": {
      "text/html": [
       "<div>\n",
       "<style scoped>\n",
       "    .dataframe tbody tr th:only-of-type {\n",
       "        vertical-align: middle;\n",
       "    }\n",
       "\n",
       "    .dataframe tbody tr th {\n",
       "        vertical-align: top;\n",
       "    }\n",
       "\n",
       "    .dataframe thead th {\n",
       "        text-align: right;\n",
       "    }\n",
       "</style>\n",
       "<table border=\"1\" class=\"dataframe\">\n",
       "  <thead>\n",
       "    <tr style=\"text-align: right;\">\n",
       "      <th></th>\n",
       "      <th>movieId</th>\n",
       "      <th>title</th>\n",
       "      <th>genres</th>\n",
       "      <th>rating</th>\n",
       "      <th>userId</th>\n",
       "      <th>tag</th>\n",
       "      <th>timestamp</th>\n",
       "    </tr>\n",
       "  </thead>\n",
       "  <tbody>\n",
       "    <tr>\n",
       "      <th>0</th>\n",
       "      <td>1</td>\n",
       "      <td>Toy Story (1995)</td>\n",
       "      <td>Adventure|Animation|Children|Comedy|Fantasy</td>\n",
       "      <td>3.920930</td>\n",
       "      <td>336.0</td>\n",
       "      <td>pixar</td>\n",
       "      <td>1.139046e+09</td>\n",
       "    </tr>\n",
       "    <tr>\n",
       "      <th>1</th>\n",
       "      <td>1</td>\n",
       "      <td>Toy Story (1995)</td>\n",
       "      <td>Adventure|Animation|Children|Comedy|Fantasy</td>\n",
       "      <td>3.920930</td>\n",
       "      <td>474.0</td>\n",
       "      <td>pixar</td>\n",
       "      <td>1.137207e+09</td>\n",
       "    </tr>\n",
       "    <tr>\n",
       "      <th>2</th>\n",
       "      <td>1</td>\n",
       "      <td>Toy Story (1995)</td>\n",
       "      <td>Adventure|Animation|Children|Comedy|Fantasy</td>\n",
       "      <td>3.920930</td>\n",
       "      <td>567.0</td>\n",
       "      <td>fun</td>\n",
       "      <td>1.525286e+09</td>\n",
       "    </tr>\n",
       "    <tr>\n",
       "      <th>3</th>\n",
       "      <td>2</td>\n",
       "      <td>Jumanji (1995)</td>\n",
       "      <td>Adventure|Children|Fantasy</td>\n",
       "      <td>3.431818</td>\n",
       "      <td>62.0</td>\n",
       "      <td>fantasy</td>\n",
       "      <td>1.528844e+09</td>\n",
       "    </tr>\n",
       "    <tr>\n",
       "      <th>4</th>\n",
       "      <td>2</td>\n",
       "      <td>Jumanji (1995)</td>\n",
       "      <td>Adventure|Children|Fantasy</td>\n",
       "      <td>3.431818</td>\n",
       "      <td>62.0</td>\n",
       "      <td>magic board game</td>\n",
       "      <td>1.528844e+09</td>\n",
       "    </tr>\n",
       "    <tr>\n",
       "      <th>...</th>\n",
       "      <td>...</td>\n",
       "      <td>...</td>\n",
       "      <td>...</td>\n",
       "      <td>...</td>\n",
       "      <td>...</td>\n",
       "      <td>...</td>\n",
       "      <td>...</td>\n",
       "    </tr>\n",
       "    <tr>\n",
       "      <th>11827</th>\n",
       "      <td>193581</td>\n",
       "      <td>Black Butler: Book of the Atlantic (2017)</td>\n",
       "      <td>Action|Animation|Comedy|Fantasy</td>\n",
       "      <td>4.000000</td>\n",
       "      <td>NaN</td>\n",
       "      <td>NaN</td>\n",
       "      <td>NaN</td>\n",
       "    </tr>\n",
       "    <tr>\n",
       "      <th>11828</th>\n",
       "      <td>193583</td>\n",
       "      <td>No Game No Life: Zero (2017)</td>\n",
       "      <td>Animation|Comedy|Fantasy</td>\n",
       "      <td>3.500000</td>\n",
       "      <td>NaN</td>\n",
       "      <td>NaN</td>\n",
       "      <td>NaN</td>\n",
       "    </tr>\n",
       "    <tr>\n",
       "      <th>11829</th>\n",
       "      <td>193585</td>\n",
       "      <td>Flint (2017)</td>\n",
       "      <td>Drama</td>\n",
       "      <td>3.500000</td>\n",
       "      <td>NaN</td>\n",
       "      <td>NaN</td>\n",
       "      <td>NaN</td>\n",
       "    </tr>\n",
       "    <tr>\n",
       "      <th>11830</th>\n",
       "      <td>193587</td>\n",
       "      <td>Bungo Stray Dogs: Dead Apple (2018)</td>\n",
       "      <td>Action|Animation</td>\n",
       "      <td>3.500000</td>\n",
       "      <td>NaN</td>\n",
       "      <td>NaN</td>\n",
       "      <td>NaN</td>\n",
       "    </tr>\n",
       "    <tr>\n",
       "      <th>11831</th>\n",
       "      <td>193609</td>\n",
       "      <td>Andrew Dice Clay: Dice Rules (1991)</td>\n",
       "      <td>Comedy</td>\n",
       "      <td>4.000000</td>\n",
       "      <td>NaN</td>\n",
       "      <td>NaN</td>\n",
       "      <td>NaN</td>\n",
       "    </tr>\n",
       "  </tbody>\n",
       "</table>\n",
       "<p>11832 rows × 7 columns</p>\n",
       "</div>"
      ],
      "text/plain": [
       "       movieId                                      title  \\\n",
       "0            1                           Toy Story (1995)   \n",
       "1            1                           Toy Story (1995)   \n",
       "2            1                           Toy Story (1995)   \n",
       "3            2                             Jumanji (1995)   \n",
       "4            2                             Jumanji (1995)   \n",
       "...        ...                                        ...   \n",
       "11827   193581  Black Butler: Book of the Atlantic (2017)   \n",
       "11828   193583               No Game No Life: Zero (2017)   \n",
       "11829   193585                               Flint (2017)   \n",
       "11830   193587        Bungo Stray Dogs: Dead Apple (2018)   \n",
       "11831   193609        Andrew Dice Clay: Dice Rules (1991)   \n",
       "\n",
       "                                            genres    rating  userId  \\\n",
       "0      Adventure|Animation|Children|Comedy|Fantasy  3.920930   336.0   \n",
       "1      Adventure|Animation|Children|Comedy|Fantasy  3.920930   474.0   \n",
       "2      Adventure|Animation|Children|Comedy|Fantasy  3.920930   567.0   \n",
       "3                       Adventure|Children|Fantasy  3.431818    62.0   \n",
       "4                       Adventure|Children|Fantasy  3.431818    62.0   \n",
       "...                                            ...       ...     ...   \n",
       "11827              Action|Animation|Comedy|Fantasy  4.000000     NaN   \n",
       "11828                     Animation|Comedy|Fantasy  3.500000     NaN   \n",
       "11829                                        Drama  3.500000     NaN   \n",
       "11830                             Action|Animation  3.500000     NaN   \n",
       "11831                                       Comedy  4.000000     NaN   \n",
       "\n",
       "                    tag     timestamp  \n",
       "0                 pixar  1.139046e+09  \n",
       "1                 pixar  1.137207e+09  \n",
       "2                   fun  1.525286e+09  \n",
       "3               fantasy  1.528844e+09  \n",
       "4      magic board game  1.528844e+09  \n",
       "...                 ...           ...  \n",
       "11827               NaN           NaN  \n",
       "11828               NaN           NaN  \n",
       "11829               NaN           NaN  \n",
       "11830               NaN           NaN  \n",
       "11831               NaN           NaN  \n",
       "\n",
       "[11832 rows x 7 columns]"
      ]
     },
     "execution_count": 10,
     "metadata": {},
     "output_type": "execute_result"
    }
   ],
   "source": [
    "movies_with_tags"
   ]
  },
  {
   "cell_type": "code",
   "execution_count": 11,
   "id": "7892f9e4",
   "metadata": {},
   "outputs": [
    {
     "data": {
      "text/plain": [
       "(9719,)"
      ]
     },
     "execution_count": 11,
     "metadata": {},
     "output_type": "execute_result"
    }
   ],
   "source": [
    "movies_with_tags.title.unique().shape"
   ]
  },
  {
   "cell_type": "code",
   "execution_count": 12,
   "id": "6cfeb315",
   "metadata": {},
   "outputs": [],
   "source": [
    "def change_string(s):\n",
    "    return ' '.join(s.replace(' ', '').replace('-', '').split('|'))"
   ]
  },
  {
   "cell_type": "code",
   "execution_count": 13,
   "id": "22167de9",
   "metadata": {},
   "outputs": [],
   "source": [
    "movie_genres = [change_string(g) for g in movies_with_tags.genres.values]"
   ]
  },
  {
   "cell_type": "code",
   "execution_count": 14,
   "id": "6899ae16",
   "metadata": {},
   "outputs": [],
   "source": [
    "movies_with_tags['genres'] = movie_genres"
   ]
  },
  {
   "cell_type": "code",
   "execution_count": 15,
   "id": "72dceba7",
   "metadata": {},
   "outputs": [],
   "source": [
    "movies_with_tags['tag'].fillna(value='No tag', inplace=True)"
   ]
  },
  {
   "cell_type": "markdown",
   "id": "83002a26",
   "metadata": {},
   "source": [
    "Создадим датафрейм для последующего анализа"
   ]
  },
  {
   "cell_type": "code",
   "execution_count": 16,
   "id": "5b735b81",
   "metadata": {},
   "outputs": [
    {
     "name": "stderr",
     "output_type": "stream",
     "text": [
      "<ipython-input-16-eb85083e7d2d>:7: TqdmDeprecationWarning: This function will be removed in tqdm==5.0.0\n",
      "Please use `tqdm.notebook.tqdm` instead of `tqdm.tqdm_notebook`\n",
      "  for movie, group in tqdm_notebook(movies_with_tags.groupby('title')):\n"
     ]
    },
    {
     "data": {
      "application/vnd.jupyter.widget-view+json": {
       "model_id": "7790daae7592496f8446071416f92028",
       "version_major": 2,
       "version_minor": 0
      },
      "text/plain": [
       "  0%|          | 0/9719 [00:00<?, ?it/s]"
      ]
     },
     "metadata": {},
     "output_type": "display_data"
    }
   ],
   "source": [
    "tag_strings = []\n",
    "movies = []\n",
    "movies_id = []\n",
    "genres = []\n",
    "ratings = []\n",
    "\n",
    "for movie, group in tqdm_notebook(movies_with_tags.groupby('title')):\n",
    "    tag_strings.append(' '.join([str(s).replace(' ', '').replace('-', '') for s in group.tag.values]))\n",
    "    movies.append(movie)\n",
    "    movies_id.append([s for s in group.movieId.values][0])\n",
    "    genres.append([s for s in group.genres.values][0])\n",
    "    ratings.append(round([s for s in group.rating.values][0], 2))"
   ]
  },
  {
   "cell_type": "code",
   "execution_count": 17,
   "id": "cc489473",
   "metadata": {},
   "outputs": [],
   "source": [
    "movies_for_rs = pd.DataFrame(\n",
    "    {\n",
    "        'movies_id': movies_id,\n",
    "        'movies': movies,\n",
    "        'genres': genres,\n",
    "        'tags': tag_strings,\n",
    "        'ratings': ratings,\n",
    "        }\n",
    ")"
   ]
  },
  {
   "cell_type": "markdown",
   "id": "ff9a012d",
   "metadata": {},
   "source": [
    "# Обучение модели"
   ]
  },
  {
   "cell_type": "code",
   "execution_count": 18,
   "id": "dd660438",
   "metadata": {},
   "outputs": [],
   "source": [
    "from sklearn.feature_extraction.text import TfidfVectorizer"
   ]
  },
  {
   "cell_type": "code",
   "execution_count": 19,
   "id": "842f823b",
   "metadata": {},
   "outputs": [
    {
     "name": "stdout",
     "output_type": "stream",
     "text": [
      "(9719, 20) (9719, 1470)\n"
     ]
    }
   ],
   "source": [
    "bow = TfidfVectorizer()\n",
    "\n",
    "genre_bow = bow.fit_transform(movies_for_rs['genres'])\n",
    "tags_bow = bow.fit_transform(movies_for_rs['tags'])\n",
    "\n",
    "print(genre_bow.shape, tags_bow.shape)"
   ]
  },
  {
   "cell_type": "code",
   "execution_count": 20,
   "id": "5e67bde1",
   "metadata": {},
   "outputs": [
    {
     "name": "stdout",
     "output_type": "stream",
     "text": [
      "<class 'scipy.sparse.coo.coo_matrix'>\n",
      "(9719, 1490)\n",
      "33778\n"
     ]
    }
   ],
   "source": [
    "from scipy.sparse import hstack\n",
    "X = hstack([genre_bow, tags_bow])\n",
    "\n",
    "print(type(X))\n",
    "print(X.shape)\n",
    "print(X.count_nonzero())"
   ]
  },
  {
   "cell_type": "code",
   "execution_count": 21,
   "id": "544703c0",
   "metadata": {},
   "outputs": [
    {
     "data": {
      "text/plain": [
       "LinearRegression()"
      ]
     },
     "execution_count": 21,
     "metadata": {},
     "output_type": "execute_result"
    }
   ],
   "source": [
    "# Линейная регрессия с параметрами на полученной матрице\n",
    "y = movies_for_rs['ratings']\n",
    "\n",
    "from sklearn.model_selection import train_test_split\n",
    "X_train, X_test, y_train, y_test = train_test_split(X, y, test_size=0.25, random_state=1)\n",
    "\n",
    "from sklearn.linear_model import LinearRegression\n",
    "lin_reg = LinearRegression()\n",
    "lin_reg.fit(X_train, y_train)"
   ]
  },
  {
   "cell_type": "code",
   "execution_count": 22,
   "id": "3a3b7000",
   "metadata": {},
   "outputs": [],
   "source": [
    "y_pred = lin_reg.predict(X_test)"
   ]
  },
  {
   "cell_type": "code",
   "execution_count": 23,
   "id": "485dff36",
   "metadata": {},
   "outputs": [
    {
     "name": "stdout",
     "output_type": "stream",
     "text": [
      "MSE: 0.6561366042388582\n"
     ]
    }
   ],
   "source": [
    "# Вычислим RMSE\n",
    "from sklearn.metrics import mean_squared_error\n",
    "print('MSE:', mean_squared_error(y_test, y_pred))\n"
   ]
  },
  {
   "cell_type": "markdown",
   "id": "6c857b2e",
   "metadata": {},
   "source": [
    "Результат не очень хороший"
   ]
  }
 ],
 "metadata": {
  "kernelspec": {
   "display_name": "Python 3",
   "language": "python",
   "name": "python3"
  },
  "language_info": {
   "codemirror_mode": {
    "name": "ipython",
    "version": 3
   },
   "file_extension": ".py",
   "mimetype": "text/x-python",
   "name": "python",
   "nbconvert_exporter": "python",
   "pygments_lexer": "ipython3",
   "version": "3.8.8"
  }
 },
 "nbformat": 4,
 "nbformat_minor": 5
}
