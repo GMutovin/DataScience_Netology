{
 "cells": [
  {
   "cell_type": "markdown",
   "id": "85aaf474",
   "metadata": {},
   "source": [
    "# Задание к теме «Гибридные рекомендательные системы»\n"
   ]
  },
  {
   "cell_type": "code",
   "execution_count": 1,
   "id": "ab260f2d",
   "metadata": {},
   "outputs": [],
   "source": [
    "import numpy as np\n",
    "import pandas as pd\n",
    "\n",
    "from surprise import SVD, SVDpp\n",
    "from surprise import Dataset\n",
    "from surprise import accuracy\n",
    "from surprise import Reader\n",
    "from surprise.model_selection import train_test_split\n",
    "\n",
    "import matplotlib.pyplot as plt\n",
    "\n",
    "from tqdm import tqdm_notebook\n",
    "\n",
    "from sklearn.feature_extraction.text import TfidfTransformer, CountVectorizer\n",
    "from sklearn.neighbors import NearestNeighbors"
   ]
  },
  {
   "cell_type": "code",
   "execution_count": 2,
   "id": "fa7e97b7",
   "metadata": {},
   "outputs": [
    {
     "name": "stderr",
     "output_type": "stream",
     "text": [
      "<ipython-input-2-24a05ac4f893>:1: ParserWarning: Falling back to the 'python' engine because the 'c' engine does not support regex separators (separators > 1 char and different from '\\s+' are interpreted as regex); you can avoid this warning by specifying engine='python'.\n",
      "  movies = pd.read_table('movies.dat', names=['MovieID','Title','Genres'], sep='::')\n",
      "<ipython-input-2-24a05ac4f893>:2: ParserWarning: Falling back to the 'python' engine because the 'c' engine does not support regex separators (separators > 1 char and different from '\\s+' are interpreted as regex); you can avoid this warning by specifying engine='python'.\n",
      "  users = pd.read_table('users.dat', names=['UserID', 'Gender', 'Age', 'Occupation', 'Zip-code'], sep='::')\n",
      "<ipython-input-2-24a05ac4f893>:3: ParserWarning: Falling back to the 'python' engine because the 'c' engine does not support regex separators (separators > 1 char and different from '\\s+' are interpreted as regex); you can avoid this warning by specifying engine='python'.\n",
      "  ratings = pd.read_table('ratings.dat', names=['UserID', 'MovieID', 'Rating', 'Timestamp'], sep='::')\n"
     ]
    }
   ],
   "source": [
    "movies = pd.read_table('movies.dat', names=['MovieID','Title','Genres'], sep='::')\n",
    "users = pd.read_table('users.dat', names=['UserID', 'Gender', 'Age', 'Occupation', 'Zip-code'], sep='::')\n",
    "ratings = pd.read_table('ratings.dat', names=['UserID', 'MovieID', 'Rating', 'Timestamp'], sep='::')"
   ]
  },
  {
   "cell_type": "code",
   "execution_count": 5,
   "id": "7067a7a8",
   "metadata": {},
   "outputs": [],
   "source": [
    "movies_ratings = movies.join(ratings.set_index('MovieID'), on='MovieID').reset_index(drop=True)"
   ]
  },
  {
   "cell_type": "code",
   "execution_count": 6,
   "id": "335a8ce1",
   "metadata": {},
   "outputs": [
    {
     "data": {
      "text/html": [
       "<div>\n",
       "<style scoped>\n",
       "    .dataframe tbody tr th:only-of-type {\n",
       "        vertical-align: middle;\n",
       "    }\n",
       "\n",
       "    .dataframe tbody tr th {\n",
       "        vertical-align: top;\n",
       "    }\n",
       "\n",
       "    .dataframe thead th {\n",
       "        text-align: right;\n",
       "    }\n",
       "</style>\n",
       "<table border=\"1\" class=\"dataframe\">\n",
       "  <thead>\n",
       "    <tr style=\"text-align: right;\">\n",
       "      <th></th>\n",
       "      <th>MovieID</th>\n",
       "      <th>Title</th>\n",
       "      <th>Genres</th>\n",
       "      <th>UserID</th>\n",
       "      <th>Rating</th>\n",
       "      <th>Timestamp</th>\n",
       "    </tr>\n",
       "  </thead>\n",
       "  <tbody>\n",
       "    <tr>\n",
       "      <th>0</th>\n",
       "      <td>1</td>\n",
       "      <td>Toy Story (1995)</td>\n",
       "      <td>Animation|Children's|Comedy</td>\n",
       "      <td>1.0</td>\n",
       "      <td>5.0</td>\n",
       "      <td>9.788243e+08</td>\n",
       "    </tr>\n",
       "    <tr>\n",
       "      <th>1</th>\n",
       "      <td>1</td>\n",
       "      <td>Toy Story (1995)</td>\n",
       "      <td>Animation|Children's|Comedy</td>\n",
       "      <td>6.0</td>\n",
       "      <td>4.0</td>\n",
       "      <td>9.782370e+08</td>\n",
       "    </tr>\n",
       "    <tr>\n",
       "      <th>2</th>\n",
       "      <td>1</td>\n",
       "      <td>Toy Story (1995)</td>\n",
       "      <td>Animation|Children's|Comedy</td>\n",
       "      <td>8.0</td>\n",
       "      <td>4.0</td>\n",
       "      <td>9.782335e+08</td>\n",
       "    </tr>\n",
       "    <tr>\n",
       "      <th>3</th>\n",
       "      <td>1</td>\n",
       "      <td>Toy Story (1995)</td>\n",
       "      <td>Animation|Children's|Comedy</td>\n",
       "      <td>9.0</td>\n",
       "      <td>5.0</td>\n",
       "      <td>9.782260e+08</td>\n",
       "    </tr>\n",
       "    <tr>\n",
       "      <th>4</th>\n",
       "      <td>1</td>\n",
       "      <td>Toy Story (1995)</td>\n",
       "      <td>Animation|Children's|Comedy</td>\n",
       "      <td>10.0</td>\n",
       "      <td>5.0</td>\n",
       "      <td>9.782265e+08</td>\n",
       "    </tr>\n",
       "    <tr>\n",
       "      <th>...</th>\n",
       "      <td>...</td>\n",
       "      <td>...</td>\n",
       "      <td>...</td>\n",
       "      <td>...</td>\n",
       "      <td>...</td>\n",
       "      <td>...</td>\n",
       "    </tr>\n",
       "    <tr>\n",
       "      <th>1000381</th>\n",
       "      <td>3952</td>\n",
       "      <td>Contender, The (2000)</td>\n",
       "      <td>Drama|Thriller</td>\n",
       "      <td>5812.0</td>\n",
       "      <td>4.0</td>\n",
       "      <td>9.920721e+08</td>\n",
       "    </tr>\n",
       "    <tr>\n",
       "      <th>1000382</th>\n",
       "      <td>3952</td>\n",
       "      <td>Contender, The (2000)</td>\n",
       "      <td>Drama|Thriller</td>\n",
       "      <td>5831.0</td>\n",
       "      <td>3.0</td>\n",
       "      <td>9.862231e+08</td>\n",
       "    </tr>\n",
       "    <tr>\n",
       "      <th>1000383</th>\n",
       "      <td>3952</td>\n",
       "      <td>Contender, The (2000)</td>\n",
       "      <td>Drama|Thriller</td>\n",
       "      <td>5837.0</td>\n",
       "      <td>4.0</td>\n",
       "      <td>1.011903e+09</td>\n",
       "    </tr>\n",
       "    <tr>\n",
       "      <th>1000384</th>\n",
       "      <td>3952</td>\n",
       "      <td>Contender, The (2000)</td>\n",
       "      <td>Drama|Thriller</td>\n",
       "      <td>5927.0</td>\n",
       "      <td>1.0</td>\n",
       "      <td>9.798525e+08</td>\n",
       "    </tr>\n",
       "    <tr>\n",
       "      <th>1000385</th>\n",
       "      <td>3952</td>\n",
       "      <td>Contender, The (2000)</td>\n",
       "      <td>Drama|Thriller</td>\n",
       "      <td>5998.0</td>\n",
       "      <td>4.0</td>\n",
       "      <td>1.001781e+09</td>\n",
       "    </tr>\n",
       "  </tbody>\n",
       "</table>\n",
       "<p>1000386 rows × 6 columns</p>\n",
       "</div>"
      ],
      "text/plain": [
       "         MovieID                  Title                       Genres  UserID  \\\n",
       "0              1       Toy Story (1995)  Animation|Children's|Comedy     1.0   \n",
       "1              1       Toy Story (1995)  Animation|Children's|Comedy     6.0   \n",
       "2              1       Toy Story (1995)  Animation|Children's|Comedy     8.0   \n",
       "3              1       Toy Story (1995)  Animation|Children's|Comedy     9.0   \n",
       "4              1       Toy Story (1995)  Animation|Children's|Comedy    10.0   \n",
       "...          ...                    ...                          ...     ...   \n",
       "1000381     3952  Contender, The (2000)               Drama|Thriller  5812.0   \n",
       "1000382     3952  Contender, The (2000)               Drama|Thriller  5831.0   \n",
       "1000383     3952  Contender, The (2000)               Drama|Thriller  5837.0   \n",
       "1000384     3952  Contender, The (2000)               Drama|Thriller  5927.0   \n",
       "1000385     3952  Contender, The (2000)               Drama|Thriller  5998.0   \n",
       "\n",
       "         Rating     Timestamp  \n",
       "0           5.0  9.788243e+08  \n",
       "1           4.0  9.782370e+08  \n",
       "2           4.0  9.782335e+08  \n",
       "3           5.0  9.782260e+08  \n",
       "4           5.0  9.782265e+08  \n",
       "...         ...           ...  \n",
       "1000381     4.0  9.920721e+08  \n",
       "1000382     3.0  9.862231e+08  \n",
       "1000383     4.0  1.011903e+09  \n",
       "1000384     1.0  9.798525e+08  \n",
       "1000385     4.0  1.001781e+09  \n",
       "\n",
       "[1000386 rows x 6 columns]"
      ]
     },
     "execution_count": 6,
     "metadata": {},
     "output_type": "execute_result"
    }
   ],
   "source": [
    "movies_ratings"
   ]
  },
  {
   "cell_type": "code",
   "execution_count": 8,
   "id": "9fa48cef",
   "metadata": {},
   "outputs": [],
   "source": [
    "movies_ratings.dropna(inplace=True)"
   ]
  },
  {
   "cell_type": "code",
   "execution_count": null,
   "id": "a7fbe832",
   "metadata": {},
   "outputs": [],
   "source": [
    "# Создаем датасет для анализа с нужными признаками"
   ]
  },
  {
   "cell_type": "code",
   "execution_count": 9,
   "id": "52e65df8",
   "metadata": {},
   "outputs": [],
   "source": [
    "movies_df = pd.DataFrame({\n",
    "    'uid': movies_ratings.UserID,\n",
    "    'iid': movies_ratings.Title,\n",
    "    'rating': movies_ratings.Rating\n",
    "})"
   ]
  },
  {
   "cell_type": "code",
   "execution_count": null,
   "id": "5dfd76bb",
   "metadata": {},
   "outputs": [],
   "source": [
    "# Создаем разреженную матрицу для построения РС"
   ]
  },
  {
   "cell_type": "code",
   "execution_count": 14,
   "id": "e33212b7",
   "metadata": {},
   "outputs": [],
   "source": [
    "reader = Reader(rating_scale = (1.0, 5.0))\n",
    "data = Dataset.load_from_df(movies_df, reader)"
   ]
  },
  {
   "cell_type": "code",
   "execution_count": 16,
   "id": "67510c81",
   "metadata": {},
   "outputs": [],
   "source": [
    "train_data, test_data = train_test_split(data, test_size=.15, random_state=42)"
   ]
  },
  {
   "cell_type": "code",
   "execution_count": 46,
   "id": "ef4f6ccc",
   "metadata": {},
   "outputs": [
    {
     "data": {
      "text/plain": [
       "<surprise.prediction_algorithms.matrix_factorization.SVD at 0x7ff59b3715e0>"
      ]
     },
     "execution_count": 46,
     "metadata": {},
     "output_type": "execute_result"
    }
   ],
   "source": [
    "model = SVD(n_factors=20, n_epochs=40, lr_all=0.005, reg_all=0.05)\n",
    "model.fit(train_data)"
   ]
  },
  {
   "cell_type": "code",
   "execution_count": 47,
   "id": "3366865c",
   "metadata": {},
   "outputs": [],
   "source": [
    "test_pred = model.test(test_data)"
   ]
  },
  {
   "cell_type": "code",
   "execution_count": 48,
   "id": "9106ef66",
   "metadata": {},
   "outputs": [
    {
     "name": "stdout",
     "output_type": "stream",
     "text": [
      "RMSE: 0.8537\n"
     ]
    },
    {
     "data": {
      "text/plain": [
       "0.8536681223854062"
      ]
     },
     "execution_count": 48,
     "metadata": {},
     "output_type": "execute_result"
    }
   ],
   "source": [
    "accuracy.rmse(test_pred, verbose=True)"
   ]
  },
  {
   "cell_type": "code",
   "execution_count": 76,
   "id": "f2edc265",
   "metadata": {},
   "outputs": [],
   "source": [
    "def sorted_movies(dict_):\n",
    "    sorted_dict = {}\n",
    "    sorted_keys = sorted(dict_, key=dict_.get, reverse = True) \n",
    "\n",
    "    for w in sorted_keys:\n",
    "        sorted_dict[w] = dict_[w]\n",
    "    \n",
    "    return sorted_dict"
   ]
  },
  {
   "cell_type": "code",
   "execution_count": 104,
   "id": "4249ce4e",
   "metadata": {},
   "outputs": [],
   "source": [
    "def user_movies_get(current_uid):\n",
    "    user_movies = movies_ratings[movies_ratings.UserID == current_uid].Title.unique()\n",
    "    return user_movies"
   ]
  },
  {
   "cell_type": "code",
   "execution_count": 77,
   "id": "9db35cae",
   "metadata": {},
   "outputs": [],
   "source": [
    "def user_scores(current_uid, user_movies):\n",
    "    \n",
    "    titles_scores = {}\n",
    "\n",
    "    for movie in movies_ratings.Title.unique():\n",
    "        if movie in user_movies:\n",
    "            continue\n",
    "        else:\n",
    "            scores.append(model.predict(uid=current_uid, iid=movie).est)\n",
    "            titles.append(movie)\n",
    "            \n",
    "            titles_scores[movie] = model.predict(uid=current_uid, iid=movie).est\n",
    "            \n",
    "    return sorted_movies(titles_scores)"
   ]
  },
  {
   "cell_type": "code",
   "execution_count": 82,
   "id": "d9786171",
   "metadata": {},
   "outputs": [],
   "source": [
    "def top_10(sorted_dict):\n",
    "    top_10_dict = {}\n",
    "    n = 0\n",
    "    \n",
    "    for m, r in sorted_dict.items():\n",
    "        if n < 10:\n",
    "            top_10_dict[m] = r\n",
    "            n += 1\n",
    "        \n",
    "    return top_10_dict"
   ]
  },
  {
   "cell_type": "code",
   "execution_count": 103,
   "id": "0284f06c",
   "metadata": {},
   "outputs": [
    {
     "data": {
      "text/plain": [
       "{\"Ed's Next Move (1996)\": 4.934223942787087,\n",
       " 'Sanjuro (1962)': 4.891790504440555,\n",
       " 'Firelight (1997)': 4.870249905118774,\n",
       " 'Circus, The (1928)': 4.8617055491722665,\n",
       " 'Eighth Day, The (Le Huiti�me jour ) (1996)': 4.8422713215275595,\n",
       " 'Chushingura (1962)': 4.824489623500907,\n",
       " 'Cinema Paradiso (1988)': 4.811694804526873,\n",
       " 'Much Ado About Nothing (1993)': 4.801073438773405,\n",
       " 'To Live (Huozhe) (1994)': 4.795520615009292,\n",
       " 'Color Purple, The (1985)': 4.792865508852889}"
      ]
     },
     "execution_count": 103,
     "metadata": {},
     "output_type": "execute_result"
    }
   ],
   "source": [
    "titles_scores_10 = top_10(user_scores(10.0, user_movies_get(10.0)))\n",
    "titles_scores_10"
   ]
  },
  {
   "cell_type": "code",
   "execution_count": 84,
   "id": "a009658f",
   "metadata": {},
   "outputs": [],
   "source": [
    "def change_string(string):\n",
    "    return ' '.join(string.replace(' ', '').replace('-', '').split('|'))"
   ]
  },
  {
   "cell_type": "code",
   "execution_count": 86,
   "id": "fce3cf1e",
   "metadata": {},
   "outputs": [],
   "source": [
    "movie_genres = [change_string(g) for g in movies.Genres.values]"
   ]
  },
  {
   "cell_type": "code",
   "execution_count": 89,
   "id": "3c9a1937",
   "metadata": {},
   "outputs": [
    {
     "data": {
      "text/plain": [
       "NearestNeighbors(metric='euclidean', n_jobs=-1, n_neighbors=15)"
      ]
     },
     "execution_count": 89,
     "metadata": {},
     "output_type": "execute_result"
    }
   ],
   "source": [
    "count_vect = CountVectorizer()\n",
    "X_train_counts = count_vect.fit_transform(movie_genres)\n",
    "\n",
    "tfidf_transformer = TfidfTransformer()\n",
    "X_train_tfidf = tfidf_transformer.fit_transform(X_train_counts)\n",
    "\n",
    "neigh = NearestNeighbors(n_neighbors=15, n_jobs=-1, metric='euclidean') \n",
    "neigh.fit(X_train_tfidf)"
   ]
  },
  {
   "cell_type": "code",
   "execution_count": 96,
   "id": "15cfd63c",
   "metadata": {},
   "outputs": [],
   "source": [
    "test = change_string(\"Adventure|Comedy|Fantasy|Crime\")\n",
    "\n",
    "predict = count_vect.transform([test])\n",
    "X_tfidf2 = tfidf_transformer.transform(predict)\n",
    "\n",
    "res = neigh.kneighbors(X_tfidf2, return_distance=True)"
   ]
  },
  {
   "cell_type": "code",
   "execution_count": 97,
   "id": "490de866",
   "metadata": {},
   "outputs": [
    {
     "data": {
      "text/plain": [
       "array(['Mask, The (1994)', 'Hook (1991)', 'Borrowers, The (1997)',\n",
       "       'Willy Wonka and the Chocolate Factory (1971)', 'Willow (1988)',\n",
       "       'Highlander: Endgame (2000)', '7th Voyage of Sinbad, The (1958)',\n",
       "       'Supergirl (1984)', 'Dragonheart (1996)', 'Ladyhawke (1985)',\n",
       "       'Legend (1985)', 'Big (1988)', 'Heart and Souls (1993)',\n",
       "       \"Midsummer Night's Dream, A (1999)\", 'Drop Dead Fred (1991)'],\n",
       "      dtype=object)"
      ]
     },
     "execution_count": 97,
     "metadata": {},
     "output_type": "execute_result"
    }
   ],
   "source": [
    "movies.iloc[res[1][0]].Title.values"
   ]
  },
  {
   "cell_type": "code",
   "execution_count": 94,
   "id": "5ae29c83",
   "metadata": {},
   "outputs": [
    {
     "name": "stderr",
     "output_type": "stream",
     "text": [
      "<ipython-input-94-3e57e12c13f0>:3: TqdmDeprecationWarning: This function will be removed in tqdm==5.0.0\n",
      "Please use `tqdm.notebook.tqdm` instead of `tqdm.tqdm_notebook`\n",
      "  for index, row in tqdm_notebook(movies.iterrows()):\n"
     ]
    },
    {
     "data": {
      "application/vnd.jupyter.widget-view+json": {
       "model_id": "bae9119c1b744701864086343a924e76",
       "version_major": 2,
       "version_minor": 0
      },
      "text/plain": [
       "0it [00:00, ?it/s]"
      ]
     },
     "metadata": {},
     "output_type": "display_data"
    }
   ],
   "source": [
    "title_genres = {}\n",
    "\n",
    "for index, row in tqdm_notebook(movies.iterrows()):\n",
    "    title_genres[row.Title] = row.Genres"
   ]
  },
  {
   "cell_type": "code",
   "execution_count": 113,
   "id": "46b07f90",
   "metadata": {},
   "outputs": [],
   "source": [
    "def recommend_for_user(user_id):\n",
    "    current_uid = user_id\n",
    "    user_movies = movies_ratings[movies_ratings.UserID == current_uid].Title.unique()\n",
    "    \n",
    "    last_user_movie = user_movies[-1]\n",
    "    \n",
    "    movie_genres = change_string(title_genres[last_user_movie])\n",
    "    \n",
    "    predict = count_vect.transform([movie_genres])\n",
    "    X_tfidf2 = tfidf_transformer.transform(predict)\n",
    "    \n",
    "    res = neigh.kneighbors(X_tfidf2, return_distance=True)\n",
    "    \n",
    "    movies_to_score = movies.iloc[res[1][0]].Title.values\n",
    "    \n",
    "    return top_10(user_scores(current_uid, movies_to_score))"
   ]
  },
  {
   "cell_type": "code",
   "execution_count": 115,
   "id": "53bce331",
   "metadata": {},
   "outputs": [
    {
     "data": {
      "text/plain": [
       "{\"Ed's Next Move (1996)\": 4.934223942787087,\n",
       " 'Wrong Trousers, The (1993)': 4.911526127604387,\n",
       " 'Wallace & Gromit: The Best of Aardman Animation (1996)': 4.89620162538551,\n",
       " 'Sanjuro (1962)': 4.891790504440555,\n",
       " 'Firelight (1997)': 4.870249905118774,\n",
       " 'Circus, The (1928)': 4.8617055491722665,\n",
       " 'Roman Holiday (1953)': 4.847674234239353,\n",
       " 'Sixth Sense, The (1999)': 4.8438945168265475,\n",
       " 'Close Shave, A (1995)': 4.843871672857963,\n",
       " 'Eighth Day, The (Le Huiti�me jour ) (1996)': 4.8422713215275595}"
      ]
     },
     "execution_count": 115,
     "metadata": {},
     "output_type": "execute_result"
    }
   ],
   "source": [
    "recommend_for_user(10.0)"
   ]
  }
 ],
 "metadata": {
  "kernelspec": {
   "display_name": "Python 3",
   "language": "python",
   "name": "python3"
  },
  "language_info": {
   "codemirror_mode": {
    "name": "ipython",
    "version": 3
   },
   "file_extension": ".py",
   "mimetype": "text/x-python",
   "name": "python",
   "nbconvert_exporter": "python",
   "pygments_lexer": "ipython3",
   "version": "3.8.8"
  }
 },
 "nbformat": 4,
 "nbformat_minor": 5
}
