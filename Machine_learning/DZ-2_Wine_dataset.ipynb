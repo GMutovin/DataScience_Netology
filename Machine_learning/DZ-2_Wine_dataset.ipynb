{
 "cells": [
  {
   "cell_type": "markdown",
   "id": "6fdc067e",
   "metadata": {},
   "source": [
    "# Домашнее задание \"Методология ведения DS-проектов\""
   ]
  },
  {
   "cell_type": "markdown",
   "id": "6f2704ef",
   "metadata": {},
   "source": [
    "Возьмите задачу с винами (www.kaggle.com...ne-quality) и решите ее, оформив в виде CrispDM-подхода. Решение - jupyter notebook на github или colab."
   ]
  },
  {
   "cell_type": "markdown",
   "id": "ecb59c8a",
   "metadata": {},
   "source": [
    "# 1. Цель"
   ]
  },
  {
   "cell_type": "markdown",
   "id": "2fb4325b",
   "metadata": {},
   "source": [
    "Предсказать качество вина"
   ]
  },
  {
   "cell_type": "markdown",
   "id": "cf332788",
   "metadata": {},
   "source": [
    "# 1.1. Описание"
   ]
  },
  {
   "cell_type": "markdown",
   "id": "f3f5a94c",
   "metadata": {},
   "source": [
    "The two datasets are related to red and white variants of the Portuguese \"Vinho Verde\" wine. The reference [Cortez et al., 2009]. Due to privacy and logistic issues, only physicochemical (inputs) and sensory (the output) variables are available (e.g. there is no data about grape types, wine brand, wine selling price, etc.).\n",
    "\n",
    "These datasets can be viewed as classification or regression tasks. The classes are ordered and not balanced (e.g. there are munch more normal wines than excellent or poor ones). Outlier detection algorithms could be used to detect the few excellent or poor wines. Also, we are not sure if all input variables are relevant. So it could be interesting to test feature selection methods.\n",
    "\n",
    "Two datasets were combined and few values were randomly removed."
   ]
  },
  {
   "cell_type": "markdown",
   "id": "aeda801b",
   "metadata": {},
   "source": [
    "# 2. Понимание данных"
   ]
  },
  {
   "cell_type": "markdown",
   "id": "77972094",
   "metadata": {},
   "source": [
    "2.1. Импорт библиотек"
   ]
  },
  {
   "cell_type": "code",
   "execution_count": 1,
   "id": "ce7310d0",
   "metadata": {},
   "outputs": [],
   "source": [
    "import pandas as pd\n",
    "import numpy as np\n",
    "import matplotlib.pyplot as plt\n",
    "import seaborn as sns\n",
    "%matplotlib inline"
   ]
  },
  {
   "cell_type": "code",
   "execution_count": 2,
   "id": "37b2319e",
   "metadata": {},
   "outputs": [
    {
     "name": "stdout",
     "output_type": "stream",
     "text": [
      "Requirement already satisfied: xgboost in /Users/glebmutovin/Downloads/ENTER/lib/python3.8/site-packages (1.6.1)\n",
      "Requirement already satisfied: scipy in /Users/glebmutovin/Downloads/ENTER/lib/python3.8/site-packages (from xgboost) (1.6.2)\n",
      "Requirement already satisfied: numpy in /Users/glebmutovin/Downloads/ENTER/lib/python3.8/site-packages (from xgboost) (1.20.1)\n",
      "\u001b[33mWARNING: You are using pip version 22.0.4; however, version 22.1.2 is available.\n",
      "You should consider upgrading via the '/Users/glebmutovin/Downloads/ENTER/bin/python -m pip install --upgrade pip' command.\u001b[0m\u001b[33m\n",
      "\u001b[0mNote: you may need to restart the kernel to use updated packages.\n"
     ]
    }
   ],
   "source": [
    "pip install xgboost"
   ]
  },
  {
   "cell_type": "code",
   "execution_count": 3,
   "id": "e9e1701e",
   "metadata": {},
   "outputs": [
    {
     "name": "stdout",
     "output_type": "stream",
     "text": [
      "Requirement already satisfied: imblearn in /Users/glebmutovin/Downloads/ENTER/lib/python3.8/site-packages (0.0)\n",
      "Requirement already satisfied: imbalanced-learn in /Users/glebmutovin/Downloads/ENTER/lib/python3.8/site-packages (from imblearn) (0.9.1)\n",
      "Requirement already satisfied: scikit-learn>=1.1.0 in /Users/glebmutovin/Downloads/ENTER/lib/python3.8/site-packages (from imbalanced-learn->imblearn) (1.1.1)\n",
      "Requirement already satisfied: scipy>=1.3.2 in /Users/glebmutovin/Downloads/ENTER/lib/python3.8/site-packages (from imbalanced-learn->imblearn) (1.6.2)\n",
      "Requirement already satisfied: joblib>=1.0.0 in /Users/glebmutovin/Downloads/ENTER/lib/python3.8/site-packages (from imbalanced-learn->imblearn) (1.0.1)\n",
      "Requirement already satisfied: numpy>=1.17.3 in /Users/glebmutovin/Downloads/ENTER/lib/python3.8/site-packages (from imbalanced-learn->imblearn) (1.20.1)\n",
      "Requirement already satisfied: threadpoolctl>=2.0.0 in /Users/glebmutovin/Downloads/ENTER/lib/python3.8/site-packages (from imbalanced-learn->imblearn) (2.1.0)\n",
      "\u001b[33mWARNING: You are using pip version 22.0.4; however, version 22.1.2 is available.\n",
      "You should consider upgrading via the '/Users/glebmutovin/Downloads/ENTER/bin/python -m pip install --upgrade pip' command.\u001b[0m\u001b[33m\n",
      "\u001b[0mNote: you may need to restart the kernel to use updated packages.\n"
     ]
    }
   ],
   "source": [
    "pip install imblearn"
   ]
  },
  {
   "cell_type": "code",
   "execution_count": 4,
   "id": "c5b3825e",
   "metadata": {},
   "outputs": [
    {
     "name": "stdout",
     "output_type": "stream",
     "text": [
      "Requirement already satisfied: imbalanced-learn in /Users/glebmutovin/Downloads/ENTER/lib/python3.8/site-packages (0.9.1)\n",
      "Requirement already satisfied: scikit-learn>=1.1.0 in /Users/glebmutovin/Downloads/ENTER/lib/python3.8/site-packages (from imbalanced-learn) (1.1.1)\n",
      "Requirement already satisfied: scipy>=1.3.2 in /Users/glebmutovin/Downloads/ENTER/lib/python3.8/site-packages (from imbalanced-learn) (1.6.2)\n",
      "Requirement already satisfied: joblib>=1.0.0 in /Users/glebmutovin/Downloads/ENTER/lib/python3.8/site-packages (from imbalanced-learn) (1.0.1)\n",
      "Requirement already satisfied: threadpoolctl>=2.0.0 in /Users/glebmutovin/Downloads/ENTER/lib/python3.8/site-packages (from imbalanced-learn) (2.1.0)\n",
      "Requirement already satisfied: numpy>=1.17.3 in /Users/glebmutovin/Downloads/ENTER/lib/python3.8/site-packages (from imbalanced-learn) (1.20.1)\n",
      "\u001b[33mWARNING: You are using pip version 22.0.4; however, version 22.1.2 is available.\n",
      "You should consider upgrading via the '/Users/glebmutovin/Downloads/ENTER/bin/python -m pip install --upgrade pip' command.\u001b[0m\u001b[33m\n",
      "\u001b[0mNote: you may need to restart the kernel to use updated packages.\n"
     ]
    }
   ],
   "source": [
    "pip install imbalanced-learn"
   ]
  },
  {
   "cell_type": "code",
   "execution_count": 2,
   "id": "97ddbc2b",
   "metadata": {},
   "outputs": [],
   "source": [
    "from xgboost import XGBClassifier\n",
    "from sklearn import metrics, tree\n",
    "from sklearn.preprocessing import StandardScaler, PolynomialFeatures\n",
    "from sklearn.model_selection import GridSearchCV, cross_val_score, KFold, cross_val_predict, train_test_split\n",
    "from sklearn.metrics import roc_auc_score, roc_curve, auc, accuracy_score, log_loss\n",
    "\n",
    "from sklearn.ensemble import RandomForestClassifier\n",
    "from sklearn.neighbors import KNeighborsClassifier\n",
    "from sklearn.svm import SVC, LinearSVC\n",
    "from sklearn.linear_model import LogisticRegression\n",
    "from sklearn.tree import DecisionTreeClassifier\n",
    "\n",
    "from sklearn.pipeline import make_pipeline\n",
    "\n",
    "# from keras.models import Sequential\n",
    "# from keras.layers import Dense\n",
    "# from keras.wrappers.scikit_learn import KerasClassifier"
   ]
  },
  {
   "cell_type": "markdown",
   "id": "3c8d71de",
   "metadata": {},
   "source": [
    "# 2.2. Загрузка данных"
   ]
  },
  {
   "cell_type": "code",
   "execution_count": 3,
   "id": "da73d70d",
   "metadata": {},
   "outputs": [],
   "source": [
    "df = pd.read_csv('winequalityN.csv')"
   ]
  },
  {
   "cell_type": "code",
   "execution_count": 4,
   "id": "feefa868",
   "metadata": {},
   "outputs": [
    {
     "data": {
      "text/plain": [
       "(6497, 13)"
      ]
     },
     "execution_count": 4,
     "metadata": {},
     "output_type": "execute_result"
    }
   ],
   "source": [
    "df.shape"
   ]
  },
  {
   "cell_type": "markdown",
   "id": "7644800e",
   "metadata": {},
   "source": [
    "# 2.3. Статистика и визуализация"
   ]
  },
  {
   "cell_type": "code",
   "execution_count": 5,
   "id": "8d8014ef",
   "metadata": {},
   "outputs": [
    {
     "data": {
      "text/html": [
       "<div>\n",
       "<style scoped>\n",
       "    .dataframe tbody tr th:only-of-type {\n",
       "        vertical-align: middle;\n",
       "    }\n",
       "\n",
       "    .dataframe tbody tr th {\n",
       "        vertical-align: top;\n",
       "    }\n",
       "\n",
       "    .dataframe thead th {\n",
       "        text-align: right;\n",
       "    }\n",
       "</style>\n",
       "<table border=\"1\" class=\"dataframe\">\n",
       "  <thead>\n",
       "    <tr style=\"text-align: right;\">\n",
       "      <th></th>\n",
       "      <th>type</th>\n",
       "      <th>fixed acidity</th>\n",
       "      <th>volatile acidity</th>\n",
       "      <th>citric acid</th>\n",
       "      <th>residual sugar</th>\n",
       "      <th>chlorides</th>\n",
       "      <th>free sulfur dioxide</th>\n",
       "      <th>total sulfur dioxide</th>\n",
       "      <th>density</th>\n",
       "      <th>pH</th>\n",
       "      <th>sulphates</th>\n",
       "      <th>alcohol</th>\n",
       "      <th>quality</th>\n",
       "    </tr>\n",
       "  </thead>\n",
       "  <tbody>\n",
       "    <tr>\n",
       "      <th>0</th>\n",
       "      <td>white</td>\n",
       "      <td>7.0</td>\n",
       "      <td>0.27</td>\n",
       "      <td>0.36</td>\n",
       "      <td>20.7</td>\n",
       "      <td>0.045</td>\n",
       "      <td>45.0</td>\n",
       "      <td>170.0</td>\n",
       "      <td>1.0010</td>\n",
       "      <td>3.00</td>\n",
       "      <td>0.45</td>\n",
       "      <td>8.8</td>\n",
       "      <td>6</td>\n",
       "    </tr>\n",
       "    <tr>\n",
       "      <th>1</th>\n",
       "      <td>white</td>\n",
       "      <td>6.3</td>\n",
       "      <td>0.30</td>\n",
       "      <td>0.34</td>\n",
       "      <td>1.6</td>\n",
       "      <td>0.049</td>\n",
       "      <td>14.0</td>\n",
       "      <td>132.0</td>\n",
       "      <td>0.9940</td>\n",
       "      <td>3.30</td>\n",
       "      <td>0.49</td>\n",
       "      <td>9.5</td>\n",
       "      <td>6</td>\n",
       "    </tr>\n",
       "    <tr>\n",
       "      <th>2</th>\n",
       "      <td>white</td>\n",
       "      <td>8.1</td>\n",
       "      <td>0.28</td>\n",
       "      <td>0.40</td>\n",
       "      <td>6.9</td>\n",
       "      <td>0.050</td>\n",
       "      <td>30.0</td>\n",
       "      <td>97.0</td>\n",
       "      <td>0.9951</td>\n",
       "      <td>3.26</td>\n",
       "      <td>0.44</td>\n",
       "      <td>10.1</td>\n",
       "      <td>6</td>\n",
       "    </tr>\n",
       "    <tr>\n",
       "      <th>3</th>\n",
       "      <td>white</td>\n",
       "      <td>7.2</td>\n",
       "      <td>0.23</td>\n",
       "      <td>0.32</td>\n",
       "      <td>8.5</td>\n",
       "      <td>0.058</td>\n",
       "      <td>47.0</td>\n",
       "      <td>186.0</td>\n",
       "      <td>0.9956</td>\n",
       "      <td>3.19</td>\n",
       "      <td>0.40</td>\n",
       "      <td>9.9</td>\n",
       "      <td>6</td>\n",
       "    </tr>\n",
       "    <tr>\n",
       "      <th>4</th>\n",
       "      <td>white</td>\n",
       "      <td>7.2</td>\n",
       "      <td>0.23</td>\n",
       "      <td>0.32</td>\n",
       "      <td>8.5</td>\n",
       "      <td>0.058</td>\n",
       "      <td>47.0</td>\n",
       "      <td>186.0</td>\n",
       "      <td>0.9956</td>\n",
       "      <td>3.19</td>\n",
       "      <td>0.40</td>\n",
       "      <td>9.9</td>\n",
       "      <td>6</td>\n",
       "    </tr>\n",
       "  </tbody>\n",
       "</table>\n",
       "</div>"
      ],
      "text/plain": [
       "    type  fixed acidity  volatile acidity  citric acid  residual sugar  \\\n",
       "0  white            7.0              0.27         0.36            20.7   \n",
       "1  white            6.3              0.30         0.34             1.6   \n",
       "2  white            8.1              0.28         0.40             6.9   \n",
       "3  white            7.2              0.23         0.32             8.5   \n",
       "4  white            7.2              0.23         0.32             8.5   \n",
       "\n",
       "   chlorides  free sulfur dioxide  total sulfur dioxide  density    pH  \\\n",
       "0      0.045                 45.0                 170.0   1.0010  3.00   \n",
       "1      0.049                 14.0                 132.0   0.9940  3.30   \n",
       "2      0.050                 30.0                  97.0   0.9951  3.26   \n",
       "3      0.058                 47.0                 186.0   0.9956  3.19   \n",
       "4      0.058                 47.0                 186.0   0.9956  3.19   \n",
       "\n",
       "   sulphates  alcohol  quality  \n",
       "0       0.45      8.8        6  \n",
       "1       0.49      9.5        6  \n",
       "2       0.44     10.1        6  \n",
       "3       0.40      9.9        6  \n",
       "4       0.40      9.9        6  "
      ]
     },
     "execution_count": 5,
     "metadata": {},
     "output_type": "execute_result"
    }
   ],
   "source": [
    "df.head()"
   ]
  },
  {
   "cell_type": "markdown",
   "id": "5f36658c",
   "metadata": {},
   "source": [
    "Описание переменных:"
   ]
  },
  {
   "cell_type": "markdown",
   "id": "bcdde95d",
   "metadata": {},
   "source": [
    "Признаки для обучения:\n",
    "* 1 - fixed acidity (фиксированная кислотность)\n",
    "* 2 - volatile acidity (летучая кислотность)\n",
    "* 3 - citric acid (лимонная кислота)\n",
    "* 4 - residual sugar (остаточный сахар)\n",
    "* 5 - chlorides (хлориды)\n",
    "* 6 - free sulfur dioxide (кол-во свободного диоксида серы)\n",
    "* 7 - total sulfur dioxide (общее кол-во диоксида серы)\n",
    "* 8 - density (плотность)\n",
    "* 9 - pH (концентрация ионов водорода в граммах на литр)\n",
    "* 10 - sulphates (сульфаты)\n",
    "* 11 - alcohol (процент алкоголя)\n",
    "\n",
    "Целевая переменная:\n",
    "* 12 - quality (качество вина - рейтинг от 0 до 10)"
   ]
  },
  {
   "cell_type": "markdown",
   "id": "dfe89982",
   "metadata": {},
   "source": [
    "# 2.3.1. Ключевая информация по переменным"
   ]
  },
  {
   "cell_type": "code",
   "execution_count": 7,
   "id": "d0ad7e91",
   "metadata": {},
   "outputs": [
    {
     "name": "stdout",
     "output_type": "stream",
     "text": [
      "<class 'pandas.core.frame.DataFrame'>\n",
      "RangeIndex: 6497 entries, 0 to 6496\n",
      "Data columns (total 13 columns):\n",
      " #   Column                Non-Null Count  Dtype  \n",
      "---  ------                --------------  -----  \n",
      " 0   type                  6497 non-null   object \n",
      " 1   fixed acidity         6487 non-null   float64\n",
      " 2   volatile acidity      6489 non-null   float64\n",
      " 3   citric acid           6494 non-null   float64\n",
      " 4   residual sugar        6495 non-null   float64\n",
      " 5   chlorides             6495 non-null   float64\n",
      " 6   free sulfur dioxide   6497 non-null   float64\n",
      " 7   total sulfur dioxide  6497 non-null   float64\n",
      " 8   density               6497 non-null   float64\n",
      " 9   pH                    6488 non-null   float64\n",
      " 10  sulphates             6493 non-null   float64\n",
      " 11  alcohol               6497 non-null   float64\n",
      " 12  quality               6497 non-null   int64  \n",
      "dtypes: float64(11), int64(1), object(1)\n",
      "memory usage: 660.0+ KB\n"
     ]
    }
   ],
   "source": [
    "df.info()"
   ]
  },
  {
   "cell_type": "code",
   "execution_count": 8,
   "id": "51f34220",
   "metadata": {},
   "outputs": [
    {
     "data": {
      "text/html": [
       "<div>\n",
       "<style scoped>\n",
       "    .dataframe tbody tr th:only-of-type {\n",
       "        vertical-align: middle;\n",
       "    }\n",
       "\n",
       "    .dataframe tbody tr th {\n",
       "        vertical-align: top;\n",
       "    }\n",
       "\n",
       "    .dataframe thead th {\n",
       "        text-align: right;\n",
       "    }\n",
       "</style>\n",
       "<table border=\"1\" class=\"dataframe\">\n",
       "  <thead>\n",
       "    <tr style=\"text-align: right;\">\n",
       "      <th></th>\n",
       "      <th>fixed acidity</th>\n",
       "      <th>volatile acidity</th>\n",
       "      <th>citric acid</th>\n",
       "      <th>residual sugar</th>\n",
       "      <th>chlorides</th>\n",
       "      <th>free sulfur dioxide</th>\n",
       "      <th>total sulfur dioxide</th>\n",
       "      <th>density</th>\n",
       "      <th>pH</th>\n",
       "      <th>sulphates</th>\n",
       "      <th>alcohol</th>\n",
       "      <th>quality</th>\n",
       "    </tr>\n",
       "  </thead>\n",
       "  <tbody>\n",
       "    <tr>\n",
       "      <th>count</th>\n",
       "      <td>6487.000000</td>\n",
       "      <td>6489.000000</td>\n",
       "      <td>6494.000000</td>\n",
       "      <td>6495.000000</td>\n",
       "      <td>6495.000000</td>\n",
       "      <td>6497.000000</td>\n",
       "      <td>6497.000000</td>\n",
       "      <td>6497.000000</td>\n",
       "      <td>6488.000000</td>\n",
       "      <td>6493.000000</td>\n",
       "      <td>6497.000000</td>\n",
       "      <td>6497.000000</td>\n",
       "    </tr>\n",
       "    <tr>\n",
       "      <th>mean</th>\n",
       "      <td>7.216579</td>\n",
       "      <td>0.339691</td>\n",
       "      <td>0.318722</td>\n",
       "      <td>5.444326</td>\n",
       "      <td>0.056042</td>\n",
       "      <td>30.525319</td>\n",
       "      <td>115.744574</td>\n",
       "      <td>0.994697</td>\n",
       "      <td>3.218395</td>\n",
       "      <td>0.531215</td>\n",
       "      <td>10.491801</td>\n",
       "      <td>5.818378</td>\n",
       "    </tr>\n",
       "    <tr>\n",
       "      <th>std</th>\n",
       "      <td>1.296750</td>\n",
       "      <td>0.164649</td>\n",
       "      <td>0.145265</td>\n",
       "      <td>4.758125</td>\n",
       "      <td>0.035036</td>\n",
       "      <td>17.749400</td>\n",
       "      <td>56.521855</td>\n",
       "      <td>0.002999</td>\n",
       "      <td>0.160748</td>\n",
       "      <td>0.148814</td>\n",
       "      <td>1.192712</td>\n",
       "      <td>0.873255</td>\n",
       "    </tr>\n",
       "    <tr>\n",
       "      <th>min</th>\n",
       "      <td>3.800000</td>\n",
       "      <td>0.080000</td>\n",
       "      <td>0.000000</td>\n",
       "      <td>0.600000</td>\n",
       "      <td>0.009000</td>\n",
       "      <td>1.000000</td>\n",
       "      <td>6.000000</td>\n",
       "      <td>0.987110</td>\n",
       "      <td>2.720000</td>\n",
       "      <td>0.220000</td>\n",
       "      <td>8.000000</td>\n",
       "      <td>3.000000</td>\n",
       "    </tr>\n",
       "    <tr>\n",
       "      <th>25%</th>\n",
       "      <td>6.400000</td>\n",
       "      <td>0.230000</td>\n",
       "      <td>0.250000</td>\n",
       "      <td>1.800000</td>\n",
       "      <td>0.038000</td>\n",
       "      <td>17.000000</td>\n",
       "      <td>77.000000</td>\n",
       "      <td>0.992340</td>\n",
       "      <td>3.110000</td>\n",
       "      <td>0.430000</td>\n",
       "      <td>9.500000</td>\n",
       "      <td>5.000000</td>\n",
       "    </tr>\n",
       "    <tr>\n",
       "      <th>50%</th>\n",
       "      <td>7.000000</td>\n",
       "      <td>0.290000</td>\n",
       "      <td>0.310000</td>\n",
       "      <td>3.000000</td>\n",
       "      <td>0.047000</td>\n",
       "      <td>29.000000</td>\n",
       "      <td>118.000000</td>\n",
       "      <td>0.994890</td>\n",
       "      <td>3.210000</td>\n",
       "      <td>0.510000</td>\n",
       "      <td>10.300000</td>\n",
       "      <td>6.000000</td>\n",
       "    </tr>\n",
       "    <tr>\n",
       "      <th>75%</th>\n",
       "      <td>7.700000</td>\n",
       "      <td>0.400000</td>\n",
       "      <td>0.390000</td>\n",
       "      <td>8.100000</td>\n",
       "      <td>0.065000</td>\n",
       "      <td>41.000000</td>\n",
       "      <td>156.000000</td>\n",
       "      <td>0.996990</td>\n",
       "      <td>3.320000</td>\n",
       "      <td>0.600000</td>\n",
       "      <td>11.300000</td>\n",
       "      <td>6.000000</td>\n",
       "    </tr>\n",
       "    <tr>\n",
       "      <th>max</th>\n",
       "      <td>15.900000</td>\n",
       "      <td>1.580000</td>\n",
       "      <td>1.660000</td>\n",
       "      <td>65.800000</td>\n",
       "      <td>0.611000</td>\n",
       "      <td>289.000000</td>\n",
       "      <td>440.000000</td>\n",
       "      <td>1.038980</td>\n",
       "      <td>4.010000</td>\n",
       "      <td>2.000000</td>\n",
       "      <td>14.900000</td>\n",
       "      <td>9.000000</td>\n",
       "    </tr>\n",
       "  </tbody>\n",
       "</table>\n",
       "</div>"
      ],
      "text/plain": [
       "       fixed acidity  volatile acidity  citric acid  residual sugar  \\\n",
       "count    6487.000000       6489.000000  6494.000000     6495.000000   \n",
       "mean        7.216579          0.339691     0.318722        5.444326   \n",
       "std         1.296750          0.164649     0.145265        4.758125   \n",
       "min         3.800000          0.080000     0.000000        0.600000   \n",
       "25%         6.400000          0.230000     0.250000        1.800000   \n",
       "50%         7.000000          0.290000     0.310000        3.000000   \n",
       "75%         7.700000          0.400000     0.390000        8.100000   \n",
       "max        15.900000          1.580000     1.660000       65.800000   \n",
       "\n",
       "         chlorides  free sulfur dioxide  total sulfur dioxide      density  \\\n",
       "count  6495.000000          6497.000000           6497.000000  6497.000000   \n",
       "mean      0.056042            30.525319            115.744574     0.994697   \n",
       "std       0.035036            17.749400             56.521855     0.002999   \n",
       "min       0.009000             1.000000              6.000000     0.987110   \n",
       "25%       0.038000            17.000000             77.000000     0.992340   \n",
       "50%       0.047000            29.000000            118.000000     0.994890   \n",
       "75%       0.065000            41.000000            156.000000     0.996990   \n",
       "max       0.611000           289.000000            440.000000     1.038980   \n",
       "\n",
       "                pH    sulphates      alcohol      quality  \n",
       "count  6488.000000  6493.000000  6497.000000  6497.000000  \n",
       "mean      3.218395     0.531215    10.491801     5.818378  \n",
       "std       0.160748     0.148814     1.192712     0.873255  \n",
       "min       2.720000     0.220000     8.000000     3.000000  \n",
       "25%       3.110000     0.430000     9.500000     5.000000  \n",
       "50%       3.210000     0.510000    10.300000     6.000000  \n",
       "75%       3.320000     0.600000    11.300000     6.000000  \n",
       "max       4.010000     2.000000    14.900000     9.000000  "
      ]
     },
     "execution_count": 8,
     "metadata": {},
     "output_type": "execute_result"
    }
   ],
   "source": [
    "df.describe()"
   ]
  },
  {
   "cell_type": "code",
   "execution_count": 9,
   "id": "17711d1c",
   "metadata": {},
   "outputs": [
    {
     "data": {
      "text/plain": [
       "type                     0\n",
       "fixed acidity           10\n",
       "volatile acidity         8\n",
       "citric acid              3\n",
       "residual sugar           2\n",
       "chlorides                2\n",
       "free sulfur dioxide      0\n",
       "total sulfur dioxide     0\n",
       "density                  0\n",
       "pH                       9\n",
       "sulphates                4\n",
       "alcohol                  0\n",
       "quality                  0\n",
       "dtype: int64"
      ]
     },
     "execution_count": 9,
     "metadata": {},
     "output_type": "execute_result"
    }
   ],
   "source": [
    "df.isnull().sum()\n",
    "\n",
    "# Есть небольшое количество пропусков в 7 атрибутах "
   ]
  },
  {
   "cell_type": "code",
   "execution_count": 10,
   "id": "b1d3d678",
   "metadata": {},
   "outputs": [
    {
     "data": {
      "text/plain": [
       "6    2836\n",
       "5    2138\n",
       "7    1079\n",
       "4     216\n",
       "8     193\n",
       "3      30\n",
       "9       5\n",
       "Name: quality, dtype: int64"
      ]
     },
     "execution_count": 10,
     "metadata": {},
     "output_type": "execute_result"
    }
   ],
   "source": [
    "df.quality.value_counts()\n",
    "\n",
    "# Видим, что классы несбалансированны "
   ]
  },
  {
   "cell_type": "markdown",
   "id": "261e6917",
   "metadata": {},
   "source": [
    "# 2.3.2. Тепловая карта корреляции"
   ]
  },
  {
   "cell_type": "code",
   "execution_count": 12,
   "id": "5f3b04b2",
   "metadata": {},
   "outputs": [],
   "source": [
    "corr = df.corr()"
   ]
  },
  {
   "cell_type": "code",
   "execution_count": 13,
   "id": "3f32f7c7",
   "metadata": {},
   "outputs": [
    {
     "data": {
      "text/html": [
       "<style  type=\"text/css\" >\n",
       "#T_98ab4_row0_col0,#T_98ab4_row1_col1,#T_98ab4_row2_col2,#T_98ab4_row3_col3,#T_98ab4_row4_col4,#T_98ab4_row5_col5,#T_98ab4_row6_col6,#T_98ab4_row7_col7,#T_98ab4_row8_col8,#T_98ab4_row9_col9,#T_98ab4_row10_col10,#T_98ab4_row11_col11{\n",
       "            background-color:  #b40426;\n",
       "            color:  #f1f1f1;\n",
       "        }#T_98ab4_row0_col1,#T_98ab4_row1_col0{\n",
       "            background-color:  #e6d7cf;\n",
       "            color:  #000000;\n",
       "        }#T_98ab4_row0_col2,#T_98ab4_row2_col0{\n",
       "            background-color:  #f2cbb7;\n",
       "            color:  #000000;\n",
       "        }#T_98ab4_row0_col3,#T_98ab4_row3_col0{\n",
       "            background-color:  #adc9fd;\n",
       "            color:  #000000;\n",
       "        }#T_98ab4_row0_col4,#T_98ab4_row0_col9,#T_98ab4_row4_col0,#T_98ab4_row9_col0{\n",
       "            background-color:  #efcebd;\n",
       "            color:  #000000;\n",
       "        }#T_98ab4_row0_col5,#T_98ab4_row4_col6,#T_98ab4_row5_col0,#T_98ab4_row6_col4{\n",
       "            background-color:  #89acfd;\n",
       "            color:  #000000;\n",
       "        }#T_98ab4_row0_col6,#T_98ab4_row2_col8,#T_98ab4_row6_col0,#T_98ab4_row8_col2{\n",
       "            background-color:  #80a3fa;\n",
       "            color:  #000000;\n",
       "        }#T_98ab4_row0_col7,#T_98ab4_row7_col0{\n",
       "            background-color:  #f7b497;\n",
       "            color:  #000000;\n",
       "        }#T_98ab4_row0_col8,#T_98ab4_row8_col0{\n",
       "            background-color:  #90b2fe;\n",
       "            color:  #000000;\n",
       "        }#T_98ab4_row0_col10,#T_98ab4_row10_col0{\n",
       "            background-color:  #afcafc;\n",
       "            color:  #000000;\n",
       "        }#T_98ab4_row0_col11,#T_98ab4_row11_col0{\n",
       "            background-color:  #b3cdfb;\n",
       "            color:  #000000;\n",
       "        }#T_98ab4_row1_col2,#T_98ab4_row2_col1{\n",
       "            background-color:  #7597f6;\n",
       "            color:  #000000;\n",
       "        }#T_98ab4_row1_col3,#T_98ab4_row3_col1,#T_98ab4_row4_col5,#T_98ab4_row5_col4{\n",
       "            background-color:  #9bbcff;\n",
       "            color:  #000000;\n",
       "        }#T_98ab4_row1_col4,#T_98ab4_row4_col1{\n",
       "            background-color:  #f5c2aa;\n",
       "            color:  #000000;\n",
       "        }#T_98ab4_row1_col5,#T_98ab4_row5_col1{\n",
       "            background-color:  #7a9df8;\n",
       "            color:  #000000;\n",
       "        }#T_98ab4_row1_col6,#T_98ab4_row6_col1{\n",
       "            background-color:  #6e90f2;\n",
       "            color:  #000000;\n",
       "        }#T_98ab4_row1_col7,#T_98ab4_row7_col1{\n",
       "            background-color:  #edd2c3;\n",
       "            color:  #000000;\n",
       "        }#T_98ab4_row1_col8,#T_98ab4_row7_col9,#T_98ab4_row8_col1,#T_98ab4_row9_col7{\n",
       "            background-color:  #ebd3c6;\n",
       "            color:  #000000;\n",
       "        }#T_98ab4_row1_col9,#T_98ab4_row9_col1{\n",
       "            background-color:  #e7d7ce;\n",
       "            color:  #000000;\n",
       "        }#T_98ab4_row1_col10,#T_98ab4_row3_col11,#T_98ab4_row10_col1,#T_98ab4_row11_col3{\n",
       "            background-color:  #bbd1f8;\n",
       "            color:  #000000;\n",
       "        }#T_98ab4_row1_col11,#T_98ab4_row3_col8,#T_98ab4_row6_col10,#T_98ab4_row8_col3,#T_98ab4_row10_col6,#T_98ab4_row11_col1{\n",
       "            background-color:  #8caffe;\n",
       "            color:  #000000;\n",
       "        }#T_98ab4_row2_col3,#T_98ab4_row3_col2{\n",
       "            background-color:  #dadce0;\n",
       "            color:  #000000;\n",
       "        }#T_98ab4_row2_col4,#T_98ab4_row4_col2,#T_98ab4_row9_col11,#T_98ab4_row11_col9{\n",
       "            background-color:  #cad8ef;\n",
       "            color:  #000000;\n",
       "        }#T_98ab4_row2_col5,#T_98ab4_row5_col2{\n",
       "            background-color:  #d9dce1;\n",
       "            color:  #000000;\n",
       "        }#T_98ab4_row2_col6,#T_98ab4_row6_col2,#T_98ab4_row8_col9,#T_98ab4_row9_col8{\n",
       "            background-color:  #e2dad5;\n",
       "            color:  #000000;\n",
       "        }#T_98ab4_row2_col7,#T_98ab4_row7_col2{\n",
       "            background-color:  #d3dbe7;\n",
       "            color:  #000000;\n",
       "        }#T_98ab4_row2_col9,#T_98ab4_row5_col11,#T_98ab4_row9_col2,#T_98ab4_row11_col5{\n",
       "            background-color:  #ccd9ed;\n",
       "            color:  #000000;\n",
       "        }#T_98ab4_row2_col10,#T_98ab4_row10_col2{\n",
       "            background-color:  #c0d4f5;\n",
       "            color:  #000000;\n",
       "        }#T_98ab4_row2_col11,#T_98ab4_row11_col2{\n",
       "            background-color:  #d2dbe8;\n",
       "            color:  #000000;\n",
       "        }#T_98ab4_row3_col4,#T_98ab4_row4_col3{\n",
       "            background-color:  #a9c6fd;\n",
       "            color:  #000000;\n",
       "        }#T_98ab4_row3_col5,#T_98ab4_row5_col3{\n",
       "            background-color:  #f6bea4;\n",
       "            color:  #000000;\n",
       "        }#T_98ab4_row3_col6,#T_98ab4_row6_col3{\n",
       "            background-color:  #f7ac8e;\n",
       "            color:  #000000;\n",
       "        }#T_98ab4_row3_col7,#T_98ab4_row7_col3{\n",
       "            background-color:  #f59f80;\n",
       "            color:  #000000;\n",
       "        }#T_98ab4_row3_col9,#T_98ab4_row5_col10,#T_98ab4_row9_col3,#T_98ab4_row10_col5{\n",
       "            background-color:  #9ebeff;\n",
       "            color:  #000000;\n",
       "        }#T_98ab4_row3_col10,#T_98ab4_row10_col3{\n",
       "            background-color:  #799cf8;\n",
       "            color:  #000000;\n",
       "        }#T_98ab4_row4_col7,#T_98ab4_row7_col4{\n",
       "            background-color:  #f4c5ad;\n",
       "            color:  #000000;\n",
       "        }#T_98ab4_row4_col8,#T_98ab4_row8_col4{\n",
       "            background-color:  #cbd8ee;\n",
       "            color:  #000000;\n",
       "        }#T_98ab4_row4_col9,#T_98ab4_row9_col4{\n",
       "            background-color:  #f6bfa6;\n",
       "            color:  #000000;\n",
       "        }#T_98ab4_row4_col10,#T_98ab4_row10_col4{\n",
       "            background-color:  #8fb1fe;\n",
       "            color:  #000000;\n",
       "        }#T_98ab4_row4_col11,#T_98ab4_row11_col4{\n",
       "            background-color:  #9abbff;\n",
       "            color:  #000000;\n",
       "        }#T_98ab4_row5_col6,#T_98ab4_row6_col5{\n",
       "            background-color:  #e7745b;\n",
       "            color:  #000000;\n",
       "        }#T_98ab4_row5_col7,#T_98ab4_row7_col5{\n",
       "            background-color:  #c7d7f0;\n",
       "            color:  #000000;\n",
       "        }#T_98ab4_row5_col8,#T_98ab4_row8_col5{\n",
       "            background-color:  #a6c4fe;\n",
       "            color:  #000000;\n",
       "        }#T_98ab4_row5_col9,#T_98ab4_row9_col5{\n",
       "            background-color:  #9dbdff;\n",
       "            color:  #000000;\n",
       "        }#T_98ab4_row6_col7,#T_98ab4_row7_col6{\n",
       "            background-color:  #c9d7f0;\n",
       "            color:  #000000;\n",
       "        }#T_98ab4_row6_col8,#T_98ab4_row8_col6{\n",
       "            background-color:  #93b5fe;\n",
       "            color:  #000000;\n",
       "        }#T_98ab4_row6_col9,#T_98ab4_row9_col6{\n",
       "            background-color:  #8badfd;\n",
       "            color:  #000000;\n",
       "        }#T_98ab4_row6_col11,#T_98ab4_row11_col6{\n",
       "            background-color:  #bad0f8;\n",
       "            color:  #000000;\n",
       "        }#T_98ab4_row7_col8,#T_98ab4_row8_col7{\n",
       "            background-color:  #c5d6f2;\n",
       "            color:  #000000;\n",
       "        }#T_98ab4_row7_col10,#T_98ab4_row10_col7{\n",
       "            background-color:  #3b4cc0;\n",
       "            color:  #f1f1f1;\n",
       "        }#T_98ab4_row7_col11,#T_98ab4_row11_col7{\n",
       "            background-color:  #84a7fc;\n",
       "            color:  #000000;\n",
       "        }#T_98ab4_row8_col10,#T_98ab4_row10_col8{\n",
       "            background-color:  #d7dce3;\n",
       "            color:  #000000;\n",
       "        }#T_98ab4_row8_col11,#T_98ab4_row11_col8{\n",
       "            background-color:  #c6d6f1;\n",
       "            color:  #000000;\n",
       "        }#T_98ab4_row9_col10,#T_98ab4_row10_col9{\n",
       "            background-color:  #c1d4f4;\n",
       "            color:  #000000;\n",
       "        }#T_98ab4_row10_col11,#T_98ab4_row11_col10{\n",
       "            background-color:  #f7b79b;\n",
       "            color:  #000000;\n",
       "        }</style><table id=\"T_98ab4_\" ><thead>    <tr>        <th class=\"blank level0\" ></th>        <th class=\"col_heading level0 col0\" >fixed acidity</th>        <th class=\"col_heading level0 col1\" >volatile acidity</th>        <th class=\"col_heading level0 col2\" >citric acid</th>        <th class=\"col_heading level0 col3\" >residual sugar</th>        <th class=\"col_heading level0 col4\" >chlorides</th>        <th class=\"col_heading level0 col5\" >free sulfur dioxide</th>        <th class=\"col_heading level0 col6\" >total sulfur dioxide</th>        <th class=\"col_heading level0 col7\" >density</th>        <th class=\"col_heading level0 col8\" >pH</th>        <th class=\"col_heading level0 col9\" >sulphates</th>        <th class=\"col_heading level0 col10\" >alcohol</th>        <th class=\"col_heading level0 col11\" >quality</th>    </tr></thead><tbody>\n",
       "                <tr>\n",
       "                        <th id=\"T_98ab4_level0_row0\" class=\"row_heading level0 row0\" >fixed acidity</th>\n",
       "                        <td id=\"T_98ab4_row0_col0\" class=\"data row0 col0\" >1.000000</td>\n",
       "                        <td id=\"T_98ab4_row0_col1\" class=\"data row0 col1\" >0.220172</td>\n",
       "                        <td id=\"T_98ab4_row0_col2\" class=\"data row0 col2\" >0.323736</td>\n",
       "                        <td id=\"T_98ab4_row0_col3\" class=\"data row0 col3\" >-0.112319</td>\n",
       "                        <td id=\"T_98ab4_row0_col4\" class=\"data row0 col4\" >0.298421</td>\n",
       "                        <td id=\"T_98ab4_row0_col5\" class=\"data row0 col5\" >-0.283317</td>\n",
       "                        <td id=\"T_98ab4_row0_col6\" class=\"data row0 col6\" >-0.329747</td>\n",
       "                        <td id=\"T_98ab4_row0_col7\" class=\"data row0 col7\" >0.459204</td>\n",
       "                        <td id=\"T_98ab4_row0_col8\" class=\"data row0 col8\" >-0.251814</td>\n",
       "                        <td id=\"T_98ab4_row0_col9\" class=\"data row0 col9\" >0.300380</td>\n",
       "                        <td id=\"T_98ab4_row0_col10\" class=\"data row0 col10\" >-0.095603</td>\n",
       "                        <td id=\"T_98ab4_row0_col11\" class=\"data row0 col11\" >-0.077031</td>\n",
       "            </tr>\n",
       "            <tr>\n",
       "                        <th id=\"T_98ab4_level0_row1\" class=\"row_heading level0 row1\" >volatile acidity</th>\n",
       "                        <td id=\"T_98ab4_row1_col0\" class=\"data row1 col0\" >0.220172</td>\n",
       "                        <td id=\"T_98ab4_row1_col1\" class=\"data row1 col1\" >1.000000</td>\n",
       "                        <td id=\"T_98ab4_row1_col2\" class=\"data row1 col2\" >-0.378061</td>\n",
       "                        <td id=\"T_98ab4_row1_col3\" class=\"data row1 col3\" >-0.196702</td>\n",
       "                        <td id=\"T_98ab4_row1_col4\" class=\"data row1 col4\" >0.377167</td>\n",
       "                        <td id=\"T_98ab4_row1_col5\" class=\"data row1 col5\" >-0.353230</td>\n",
       "                        <td id=\"T_98ab4_row1_col6\" class=\"data row1 col6\" >-0.414928</td>\n",
       "                        <td id=\"T_98ab4_row1_col7\" class=\"data row1 col7\" >0.271193</td>\n",
       "                        <td id=\"T_98ab4_row1_col8\" class=\"data row1 col8\" >0.260660</td>\n",
       "                        <td id=\"T_98ab4_row1_col9\" class=\"data row1 col9\" >0.225476</td>\n",
       "                        <td id=\"T_98ab4_row1_col10\" class=\"data row1 col10\" >-0.038248</td>\n",
       "                        <td id=\"T_98ab4_row1_col11\" class=\"data row1 col11\" >-0.265953</td>\n",
       "            </tr>\n",
       "            <tr>\n",
       "                        <th id=\"T_98ab4_level0_row2\" class=\"row_heading level0 row2\" >citric acid</th>\n",
       "                        <td id=\"T_98ab4_row2_col0\" class=\"data row2 col0\" >0.323736</td>\n",
       "                        <td id=\"T_98ab4_row2_col1\" class=\"data row2 col1\" >-0.378061</td>\n",
       "                        <td id=\"T_98ab4_row2_col2\" class=\"data row2 col2\" >1.000000</td>\n",
       "                        <td id=\"T_98ab4_row2_col3\" class=\"data row2 col3\" >0.142486</td>\n",
       "                        <td id=\"T_98ab4_row2_col4\" class=\"data row2 col4\" >0.039315</td>\n",
       "                        <td id=\"T_98ab4_row2_col5\" class=\"data row2 col5\" >0.133437</td>\n",
       "                        <td id=\"T_98ab4_row2_col6\" class=\"data row2 col6\" >0.195218</td>\n",
       "                        <td id=\"T_98ab4_row2_col7\" class=\"data row2 col7\" >0.096320</td>\n",
       "                        <td id=\"T_98ab4_row2_col8\" class=\"data row2 col8\" >-0.328689</td>\n",
       "                        <td id=\"T_98ab4_row2_col9\" class=\"data row2 col9\" >0.057613</td>\n",
       "                        <td id=\"T_98ab4_row2_col10\" class=\"data row2 col10\" >-0.010433</td>\n",
       "                        <td id=\"T_98ab4_row2_col11\" class=\"data row2 col11\" >0.085706</td>\n",
       "            </tr>\n",
       "            <tr>\n",
       "                        <th id=\"T_98ab4_level0_row3\" class=\"row_heading level0 row3\" >residual sugar</th>\n",
       "                        <td id=\"T_98ab4_row3_col0\" class=\"data row3 col0\" >-0.112319</td>\n",
       "                        <td id=\"T_98ab4_row3_col1\" class=\"data row3 col1\" >-0.196702</td>\n",
       "                        <td id=\"T_98ab4_row3_col2\" class=\"data row3 col2\" >0.142486</td>\n",
       "                        <td id=\"T_98ab4_row3_col3\" class=\"data row3 col3\" >1.000000</td>\n",
       "                        <td id=\"T_98ab4_row3_col4\" class=\"data row3 col4\" >-0.128902</td>\n",
       "                        <td id=\"T_98ab4_row3_col5\" class=\"data row3 col5\" >0.403439</td>\n",
       "                        <td id=\"T_98ab4_row3_col6\" class=\"data row3 col6\" >0.495820</td>\n",
       "                        <td id=\"T_98ab4_row3_col7\" class=\"data row3 col7\" >0.552498</td>\n",
       "                        <td id=\"T_98ab4_row3_col8\" class=\"data row3 col8\" >-0.267050</td>\n",
       "                        <td id=\"T_98ab4_row3_col9\" class=\"data row3 col9\" >-0.185745</td>\n",
       "                        <td id=\"T_98ab4_row3_col10\" class=\"data row3 col10\" >-0.359706</td>\n",
       "                        <td id=\"T_98ab4_row3_col11\" class=\"data row3 col11\" >-0.036825</td>\n",
       "            </tr>\n",
       "            <tr>\n",
       "                        <th id=\"T_98ab4_level0_row4\" class=\"row_heading level0 row4\" >chlorides</th>\n",
       "                        <td id=\"T_98ab4_row4_col0\" class=\"data row4 col0\" >0.298421</td>\n",
       "                        <td id=\"T_98ab4_row4_col1\" class=\"data row4 col1\" >0.377167</td>\n",
       "                        <td id=\"T_98ab4_row4_col2\" class=\"data row4 col2\" >0.039315</td>\n",
       "                        <td id=\"T_98ab4_row4_col3\" class=\"data row4 col3\" >-0.128902</td>\n",
       "                        <td id=\"T_98ab4_row4_col4\" class=\"data row4 col4\" >1.000000</td>\n",
       "                        <td id=\"T_98ab4_row4_col5\" class=\"data row4 col5\" >-0.195042</td>\n",
       "                        <td id=\"T_98ab4_row4_col6\" class=\"data row4 col6\" >-0.279580</td>\n",
       "                        <td id=\"T_98ab4_row4_col7\" class=\"data row4 col7\" >0.362594</td>\n",
       "                        <td id=\"T_98ab4_row4_col8\" class=\"data row4 col8\" >0.044806</td>\n",
       "                        <td id=\"T_98ab4_row4_col9\" class=\"data row4 col9\" >0.395332</td>\n",
       "                        <td id=\"T_98ab4_row4_col10\" class=\"data row4 col10\" >-0.256861</td>\n",
       "                        <td id=\"T_98ab4_row4_col11\" class=\"data row4 col11\" >-0.200886</td>\n",
       "            </tr>\n",
       "            <tr>\n",
       "                        <th id=\"T_98ab4_level0_row5\" class=\"row_heading level0 row5\" >free sulfur dioxide</th>\n",
       "                        <td id=\"T_98ab4_row5_col0\" class=\"data row5 col0\" >-0.283317</td>\n",
       "                        <td id=\"T_98ab4_row5_col1\" class=\"data row5 col1\" >-0.353230</td>\n",
       "                        <td id=\"T_98ab4_row5_col2\" class=\"data row5 col2\" >0.133437</td>\n",
       "                        <td id=\"T_98ab4_row5_col3\" class=\"data row5 col3\" >0.403439</td>\n",
       "                        <td id=\"T_98ab4_row5_col4\" class=\"data row5 col4\" >-0.195042</td>\n",
       "                        <td id=\"T_98ab4_row5_col5\" class=\"data row5 col5\" >1.000000</td>\n",
       "                        <td id=\"T_98ab4_row5_col6\" class=\"data row5 col6\" >0.720934</td>\n",
       "                        <td id=\"T_98ab4_row5_col7\" class=\"data row5 col7\" >0.025717</td>\n",
       "                        <td id=\"T_98ab4_row5_col8\" class=\"data row5 col8\" >-0.145191</td>\n",
       "                        <td id=\"T_98ab4_row5_col9\" class=\"data row5 col9\" >-0.188489</td>\n",
       "                        <td id=\"T_98ab4_row5_col10\" class=\"data row5 col10\" >-0.179838</td>\n",
       "                        <td id=\"T_98ab4_row5_col11\" class=\"data row5 col11\" >0.055463</td>\n",
       "            </tr>\n",
       "            <tr>\n",
       "                        <th id=\"T_98ab4_level0_row6\" class=\"row_heading level0 row6\" >total sulfur dioxide</th>\n",
       "                        <td id=\"T_98ab4_row6_col0\" class=\"data row6 col0\" >-0.329747</td>\n",
       "                        <td id=\"T_98ab4_row6_col1\" class=\"data row6 col1\" >-0.414928</td>\n",
       "                        <td id=\"T_98ab4_row6_col2\" class=\"data row6 col2\" >0.195218</td>\n",
       "                        <td id=\"T_98ab4_row6_col3\" class=\"data row6 col3\" >0.495820</td>\n",
       "                        <td id=\"T_98ab4_row6_col4\" class=\"data row6 col4\" >-0.279580</td>\n",
       "                        <td id=\"T_98ab4_row6_col5\" class=\"data row6 col5\" >0.720934</td>\n",
       "                        <td id=\"T_98ab4_row6_col6\" class=\"data row6 col6\" >1.000000</td>\n",
       "                        <td id=\"T_98ab4_row6_col7\" class=\"data row6 col7\" >0.032395</td>\n",
       "                        <td id=\"T_98ab4_row6_col8\" class=\"data row6 col8\" >-0.237687</td>\n",
       "                        <td id=\"T_98ab4_row6_col9\" class=\"data row6 col9\" >-0.275381</td>\n",
       "                        <td id=\"T_98ab4_row6_col10\" class=\"data row6 col10\" >-0.265740</td>\n",
       "                        <td id=\"T_98ab4_row6_col11\" class=\"data row6 col11\" >-0.041385</td>\n",
       "            </tr>\n",
       "            <tr>\n",
       "                        <th id=\"T_98ab4_level0_row7\" class=\"row_heading level0 row7\" >density</th>\n",
       "                        <td id=\"T_98ab4_row7_col0\" class=\"data row7 col0\" >0.459204</td>\n",
       "                        <td id=\"T_98ab4_row7_col1\" class=\"data row7 col1\" >0.271193</td>\n",
       "                        <td id=\"T_98ab4_row7_col2\" class=\"data row7 col2\" >0.096320</td>\n",
       "                        <td id=\"T_98ab4_row7_col3\" class=\"data row7 col3\" >0.552498</td>\n",
       "                        <td id=\"T_98ab4_row7_col4\" class=\"data row7 col4\" >0.362594</td>\n",
       "                        <td id=\"T_98ab4_row7_col5\" class=\"data row7 col5\" >0.025717</td>\n",
       "                        <td id=\"T_98ab4_row7_col6\" class=\"data row7 col6\" >0.032395</td>\n",
       "                        <td id=\"T_98ab4_row7_col7\" class=\"data row7 col7\" >1.000000</td>\n",
       "                        <td id=\"T_98ab4_row7_col8\" class=\"data row7 col8\" >0.011920</td>\n",
       "                        <td id=\"T_98ab4_row7_col9\" class=\"data row7 col9\" >0.259454</td>\n",
       "                        <td id=\"T_98ab4_row7_col10\" class=\"data row7 col10\" >-0.686745</td>\n",
       "                        <td id=\"T_98ab4_row7_col11\" class=\"data row7 col11\" >-0.305858</td>\n",
       "            </tr>\n",
       "            <tr>\n",
       "                        <th id=\"T_98ab4_level0_row8\" class=\"row_heading level0 row8\" >pH</th>\n",
       "                        <td id=\"T_98ab4_row8_col0\" class=\"data row8 col0\" >-0.251814</td>\n",
       "                        <td id=\"T_98ab4_row8_col1\" class=\"data row8 col1\" >0.260660</td>\n",
       "                        <td id=\"T_98ab4_row8_col2\" class=\"data row8 col2\" >-0.328689</td>\n",
       "                        <td id=\"T_98ab4_row8_col3\" class=\"data row8 col3\" >-0.267050</td>\n",
       "                        <td id=\"T_98ab4_row8_col4\" class=\"data row8 col4\" >0.044806</td>\n",
       "                        <td id=\"T_98ab4_row8_col5\" class=\"data row8 col5\" >-0.145191</td>\n",
       "                        <td id=\"T_98ab4_row8_col6\" class=\"data row8 col6\" >-0.237687</td>\n",
       "                        <td id=\"T_98ab4_row8_col7\" class=\"data row8 col7\" >0.011920</td>\n",
       "                        <td id=\"T_98ab4_row8_col8\" class=\"data row8 col8\" >1.000000</td>\n",
       "                        <td id=\"T_98ab4_row8_col9\" class=\"data row8 col9\" >0.191248</td>\n",
       "                        <td id=\"T_98ab4_row8_col10\" class=\"data row8 col10\" >0.121002</td>\n",
       "                        <td id=\"T_98ab4_row8_col11\" class=\"data row8 col11\" >0.019366</td>\n",
       "            </tr>\n",
       "            <tr>\n",
       "                        <th id=\"T_98ab4_level0_row9\" class=\"row_heading level0 row9\" >sulphates</th>\n",
       "                        <td id=\"T_98ab4_row9_col0\" class=\"data row9 col0\" >0.300380</td>\n",
       "                        <td id=\"T_98ab4_row9_col1\" class=\"data row9 col1\" >0.225476</td>\n",
       "                        <td id=\"T_98ab4_row9_col2\" class=\"data row9 col2\" >0.057613</td>\n",
       "                        <td id=\"T_98ab4_row9_col3\" class=\"data row9 col3\" >-0.185745</td>\n",
       "                        <td id=\"T_98ab4_row9_col4\" class=\"data row9 col4\" >0.395332</td>\n",
       "                        <td id=\"T_98ab4_row9_col5\" class=\"data row9 col5\" >-0.188489</td>\n",
       "                        <td id=\"T_98ab4_row9_col6\" class=\"data row9 col6\" >-0.275381</td>\n",
       "                        <td id=\"T_98ab4_row9_col7\" class=\"data row9 col7\" >0.259454</td>\n",
       "                        <td id=\"T_98ab4_row9_col8\" class=\"data row9 col8\" >0.191248</td>\n",
       "                        <td id=\"T_98ab4_row9_col9\" class=\"data row9 col9\" >1.000000</td>\n",
       "                        <td id=\"T_98ab4_row9_col10\" class=\"data row9 col10\" >-0.003261</td>\n",
       "                        <td id=\"T_98ab4_row9_col11\" class=\"data row9 col11\" >0.038729</td>\n",
       "            </tr>\n",
       "            <tr>\n",
       "                        <th id=\"T_98ab4_level0_row10\" class=\"row_heading level0 row10\" >alcohol</th>\n",
       "                        <td id=\"T_98ab4_row10_col0\" class=\"data row10 col0\" >-0.095603</td>\n",
       "                        <td id=\"T_98ab4_row10_col1\" class=\"data row10 col1\" >-0.038248</td>\n",
       "                        <td id=\"T_98ab4_row10_col2\" class=\"data row10 col2\" >-0.010433</td>\n",
       "                        <td id=\"T_98ab4_row10_col3\" class=\"data row10 col3\" >-0.359706</td>\n",
       "                        <td id=\"T_98ab4_row10_col4\" class=\"data row10 col4\" >-0.256861</td>\n",
       "                        <td id=\"T_98ab4_row10_col5\" class=\"data row10 col5\" >-0.179838</td>\n",
       "                        <td id=\"T_98ab4_row10_col6\" class=\"data row10 col6\" >-0.265740</td>\n",
       "                        <td id=\"T_98ab4_row10_col7\" class=\"data row10 col7\" >-0.686745</td>\n",
       "                        <td id=\"T_98ab4_row10_col8\" class=\"data row10 col8\" >0.121002</td>\n",
       "                        <td id=\"T_98ab4_row10_col9\" class=\"data row10 col9\" >-0.003261</td>\n",
       "                        <td id=\"T_98ab4_row10_col10\" class=\"data row10 col10\" >1.000000</td>\n",
       "                        <td id=\"T_98ab4_row10_col11\" class=\"data row10 col11\" >0.444319</td>\n",
       "            </tr>\n",
       "            <tr>\n",
       "                        <th id=\"T_98ab4_level0_row11\" class=\"row_heading level0 row11\" >quality</th>\n",
       "                        <td id=\"T_98ab4_row11_col0\" class=\"data row11 col0\" >-0.077031</td>\n",
       "                        <td id=\"T_98ab4_row11_col1\" class=\"data row11 col1\" >-0.265953</td>\n",
       "                        <td id=\"T_98ab4_row11_col2\" class=\"data row11 col2\" >0.085706</td>\n",
       "                        <td id=\"T_98ab4_row11_col3\" class=\"data row11 col3\" >-0.036825</td>\n",
       "                        <td id=\"T_98ab4_row11_col4\" class=\"data row11 col4\" >-0.200886</td>\n",
       "                        <td id=\"T_98ab4_row11_col5\" class=\"data row11 col5\" >0.055463</td>\n",
       "                        <td id=\"T_98ab4_row11_col6\" class=\"data row11 col6\" >-0.041385</td>\n",
       "                        <td id=\"T_98ab4_row11_col7\" class=\"data row11 col7\" >-0.305858</td>\n",
       "                        <td id=\"T_98ab4_row11_col8\" class=\"data row11 col8\" >0.019366</td>\n",
       "                        <td id=\"T_98ab4_row11_col9\" class=\"data row11 col9\" >0.038729</td>\n",
       "                        <td id=\"T_98ab4_row11_col10\" class=\"data row11 col10\" >0.444319</td>\n",
       "                        <td id=\"T_98ab4_row11_col11\" class=\"data row11 col11\" >1.000000</td>\n",
       "            </tr>\n",
       "    </tbody></table>"
      ],
      "text/plain": [
       "<pandas.io.formats.style.Styler at 0x7f963009fe20>"
      ]
     },
     "execution_count": 13,
     "metadata": {},
     "output_type": "execute_result"
    }
   ],
   "source": [
    "corr.style.background_gradient(cmap='coolwarm', axis=None)"
   ]
  },
  {
   "cell_type": "code",
   "execution_count": 14,
   "id": "0124d461",
   "metadata": {},
   "outputs": [
    {
     "data": {
      "image/png": "[encoded data removed]",
      "text/plain": [
       "<Figure size 1440x1440 with 2 Axes>"
      ]
     },
     "metadata": {
      "needs_background": "light"
     },
     "output_type": "display_data"
    }
   ],
   "source": [
    "f, ax = plt.subplots(figsize=(20, 20))\n",
    "ax = sns.heatmap(corr, \n",
    "            xticklabels=corr.columns.values,\n",
    "            yticklabels=corr.columns.values, annot=True, linewidths=.100)"
   ]
  },
  {
   "cell_type": "markdown",
   "id": "fcefe389",
   "metadata": {},
   "source": [
    "Больше всего на качество вина влияют признаки alcohol, density, volatile acidity, chlorids. \n",
    "\n",
    "pH и sulphates особо не влияют на значение целевой переменной"
   ]
  },
  {
   "cell_type": "code",
   "execution_count": 5,
   "id": "b7cff6aa",
   "metadata": {},
   "outputs": [],
   "source": [
    "df['alcohol_round'] = df['alcohol'].apply(lambda x: round(x))"
   ]
  },
  {
   "cell_type": "code",
   "execution_count": 6,
   "id": "5fa61b5d",
   "metadata": {},
   "outputs": [
    {
     "name": "stderr",
     "output_type": "stream",
     "text": [
      "/Users/glebmutovin/Downloads/ENTER/lib/python3.8/site-packages/seaborn/_decorators.py:36: FutureWarning: Pass the following variables as keyword args: x, y. From version 0.12, the only valid positional argument will be `data`, and passing other arguments without an explicit keyword will result in an error or misinterpretation.\n",
      "  warnings.warn(\n"
     ]
    },
    {
     "data": {
      "text/plain": [
       "<AxesSubplot:xlabel='alcohol_round', ylabel='quality'>"
      ]
     },
     "execution_count": 6,
     "metadata": {},
     "output_type": "execute_result"
    },
    {
     "data": {
      "image/png": "[encoded data removed]",
      "text/plain": [
       "<Figure size 432x288 with 1 Axes>"
      ]
     },
     "metadata": {
      "needs_background": "light"
     },
     "output_type": "display_data"
    }
   ],
   "source": [
    "sns.barplot(df['alcohol_round'], df['quality'])\n"
   ]
  },
  {
   "cell_type": "markdown",
   "id": "e4d9ac1d",
   "metadata": {},
   "source": [
    "# 3. Подготовка данных"
   ]
  },
  {
   "cell_type": "markdown",
   "id": "e6560072",
   "metadata": {},
   "source": [
    "3.1. Преобразование категориальных признаков"
   ]
  },
  {
   "cell_type": "code",
   "execution_count": 7,
   "id": "a7392e89",
   "metadata": {},
   "outputs": [],
   "source": [
    "# Только один категориальный признак - тип вина. Можно преобразовать через one_hot_encoding"
   ]
  },
  {
   "cell_type": "code",
   "execution_count": 8,
   "id": "af7f6abc",
   "metadata": {},
   "outputs": [
    {
     "data": {
      "text/html": [
       "<div>\n",
       "<style scoped>\n",
       "    .dataframe tbody tr th:only-of-type {\n",
       "        vertical-align: middle;\n",
       "    }\n",
       "\n",
       "    .dataframe tbody tr th {\n",
       "        vertical-align: top;\n",
       "    }\n",
       "\n",
       "    .dataframe thead th {\n",
       "        text-align: right;\n",
       "    }\n",
       "</style>\n",
       "<table border=\"1\" class=\"dataframe\">\n",
       "  <thead>\n",
       "    <tr style=\"text-align: right;\">\n",
       "      <th></th>\n",
       "      <th>Type_red</th>\n",
       "      <th>Type_white</th>\n",
       "    </tr>\n",
       "  </thead>\n",
       "  <tbody>\n",
       "    <tr>\n",
       "      <th>0</th>\n",
       "      <td>0</td>\n",
       "      <td>1</td>\n",
       "    </tr>\n",
       "    <tr>\n",
       "      <th>1</th>\n",
       "      <td>0</td>\n",
       "      <td>1</td>\n",
       "    </tr>\n",
       "    <tr>\n",
       "      <th>2</th>\n",
       "      <td>0</td>\n",
       "      <td>1</td>\n",
       "    </tr>\n",
       "    <tr>\n",
       "      <th>3</th>\n",
       "      <td>0</td>\n",
       "      <td>1</td>\n",
       "    </tr>\n",
       "    <tr>\n",
       "      <th>4</th>\n",
       "      <td>0</td>\n",
       "      <td>1</td>\n",
       "    </tr>\n",
       "  </tbody>\n",
       "</table>\n",
       "</div>"
      ],
      "text/plain": [
       "   Type_red  Type_white\n",
       "0         0           1\n",
       "1         0           1\n",
       "2         0           1\n",
       "3         0           1\n",
       "4         0           1"
      ]
     },
     "execution_count": 8,
     "metadata": {},
     "output_type": "execute_result"
    }
   ],
   "source": [
    "wine_type = pd.get_dummies(df['type'], prefix='Type')\n",
    "wine_type.head()"
   ]
  },
  {
   "cell_type": "code",
   "execution_count": 9,
   "id": "f65e6ab1",
   "metadata": {},
   "outputs": [
    {
     "data": {
      "text/html": [
       "<div>\n",
       "<style scoped>\n",
       "    .dataframe tbody tr th:only-of-type {\n",
       "        vertical-align: middle;\n",
       "    }\n",
       "\n",
       "    .dataframe tbody tr th {\n",
       "        vertical-align: top;\n",
       "    }\n",
       "\n",
       "    .dataframe thead th {\n",
       "        text-align: right;\n",
       "    }\n",
       "</style>\n",
       "<table border=\"1\" class=\"dataframe\">\n",
       "  <thead>\n",
       "    <tr style=\"text-align: right;\">\n",
       "      <th></th>\n",
       "      <th>type</th>\n",
       "      <th>fixed acidity</th>\n",
       "      <th>volatile acidity</th>\n",
       "      <th>citric acid</th>\n",
       "      <th>residual sugar</th>\n",
       "      <th>chlorides</th>\n",
       "      <th>free sulfur dioxide</th>\n",
       "      <th>total sulfur dioxide</th>\n",
       "      <th>density</th>\n",
       "      <th>pH</th>\n",
       "      <th>sulphates</th>\n",
       "      <th>alcohol</th>\n",
       "      <th>quality</th>\n",
       "      <th>alcohol_round</th>\n",
       "      <th>Type_red</th>\n",
       "      <th>Type_white</th>\n",
       "    </tr>\n",
       "  </thead>\n",
       "  <tbody>\n",
       "    <tr>\n",
       "      <th>0</th>\n",
       "      <td>white</td>\n",
       "      <td>7.0</td>\n",
       "      <td>0.27</td>\n",
       "      <td>0.36</td>\n",
       "      <td>20.7</td>\n",
       "      <td>0.045</td>\n",
       "      <td>45.0</td>\n",
       "      <td>170.0</td>\n",
       "      <td>1.0010</td>\n",
       "      <td>3.00</td>\n",
       "      <td>0.45</td>\n",
       "      <td>8.8</td>\n",
       "      <td>6</td>\n",
       "      <td>9</td>\n",
       "      <td>0</td>\n",
       "      <td>1</td>\n",
       "    </tr>\n",
       "    <tr>\n",
       "      <th>1</th>\n",
       "      <td>white</td>\n",
       "      <td>6.3</td>\n",
       "      <td>0.30</td>\n",
       "      <td>0.34</td>\n",
       "      <td>1.6</td>\n",
       "      <td>0.049</td>\n",
       "      <td>14.0</td>\n",
       "      <td>132.0</td>\n",
       "      <td>0.9940</td>\n",
       "      <td>3.30</td>\n",
       "      <td>0.49</td>\n",
       "      <td>9.5</td>\n",
       "      <td>6</td>\n",
       "      <td>10</td>\n",
       "      <td>0</td>\n",
       "      <td>1</td>\n",
       "    </tr>\n",
       "    <tr>\n",
       "      <th>2</th>\n",
       "      <td>white</td>\n",
       "      <td>8.1</td>\n",
       "      <td>0.28</td>\n",
       "      <td>0.40</td>\n",
       "      <td>6.9</td>\n",
       "      <td>0.050</td>\n",
       "      <td>30.0</td>\n",
       "      <td>97.0</td>\n",
       "      <td>0.9951</td>\n",
       "      <td>3.26</td>\n",
       "      <td>0.44</td>\n",
       "      <td>10.1</td>\n",
       "      <td>6</td>\n",
       "      <td>10</td>\n",
       "      <td>0</td>\n",
       "      <td>1</td>\n",
       "    </tr>\n",
       "    <tr>\n",
       "      <th>3</th>\n",
       "      <td>white</td>\n",
       "      <td>7.2</td>\n",
       "      <td>0.23</td>\n",
       "      <td>0.32</td>\n",
       "      <td>8.5</td>\n",
       "      <td>0.058</td>\n",
       "      <td>47.0</td>\n",
       "      <td>186.0</td>\n",
       "      <td>0.9956</td>\n",
       "      <td>3.19</td>\n",
       "      <td>0.40</td>\n",
       "      <td>9.9</td>\n",
       "      <td>6</td>\n",
       "      <td>10</td>\n",
       "      <td>0</td>\n",
       "      <td>1</td>\n",
       "    </tr>\n",
       "    <tr>\n",
       "      <th>4</th>\n",
       "      <td>white</td>\n",
       "      <td>7.2</td>\n",
       "      <td>0.23</td>\n",
       "      <td>0.32</td>\n",
       "      <td>8.5</td>\n",
       "      <td>0.058</td>\n",
       "      <td>47.0</td>\n",
       "      <td>186.0</td>\n",
       "      <td>0.9956</td>\n",
       "      <td>3.19</td>\n",
       "      <td>0.40</td>\n",
       "      <td>9.9</td>\n",
       "      <td>6</td>\n",
       "      <td>10</td>\n",
       "      <td>0</td>\n",
       "      <td>1</td>\n",
       "    </tr>\n",
       "  </tbody>\n",
       "</table>\n",
       "</div>"
      ],
      "text/plain": [
       "    type  fixed acidity  volatile acidity  citric acid  residual sugar  \\\n",
       "0  white            7.0              0.27         0.36            20.7   \n",
       "1  white            6.3              0.30         0.34             1.6   \n",
       "2  white            8.1              0.28         0.40             6.9   \n",
       "3  white            7.2              0.23         0.32             8.5   \n",
       "4  white            7.2              0.23         0.32             8.5   \n",
       "\n",
       "   chlorides  free sulfur dioxide  total sulfur dioxide  density    pH  \\\n",
       "0      0.045                 45.0                 170.0   1.0010  3.00   \n",
       "1      0.049                 14.0                 132.0   0.9940  3.30   \n",
       "2      0.050                 30.0                  97.0   0.9951  3.26   \n",
       "3      0.058                 47.0                 186.0   0.9956  3.19   \n",
       "4      0.058                 47.0                 186.0   0.9956  3.19   \n",
       "\n",
       "   sulphates  alcohol  quality  alcohol_round  Type_red  Type_white  \n",
       "0       0.45      8.8        6              9         0           1  \n",
       "1       0.49      9.5        6             10         0           1  \n",
       "2       0.44     10.1        6             10         0           1  \n",
       "3       0.40      9.9        6             10         0           1  \n",
       "4       0.40      9.9        6             10         0           1  "
      ]
     },
     "execution_count": 9,
     "metadata": {},
     "output_type": "execute_result"
    }
   ],
   "source": [
    "df = pd.concat([df, wine_type], axis=1)\n",
    "df.head()"
   ]
  },
  {
   "cell_type": "code",
   "execution_count": 10,
   "id": "fb521c90",
   "metadata": {},
   "outputs": [],
   "source": [
    "df.drop(['type'], axis=1, inplace=True)"
   ]
  },
  {
   "cell_type": "code",
   "execution_count": 11,
   "id": "5f7aa4e1",
   "metadata": {},
   "outputs": [
    {
     "data": {
      "text/html": [
       "<div>\n",
       "<style scoped>\n",
       "    .dataframe tbody tr th:only-of-type {\n",
       "        vertical-align: middle;\n",
       "    }\n",
       "\n",
       "    .dataframe tbody tr th {\n",
       "        vertical-align: top;\n",
       "    }\n",
       "\n",
       "    .dataframe thead th {\n",
       "        text-align: right;\n",
       "    }\n",
       "</style>\n",
       "<table border=\"1\" class=\"dataframe\">\n",
       "  <thead>\n",
       "    <tr style=\"text-align: right;\">\n",
       "      <th></th>\n",
       "      <th>fixed acidity</th>\n",
       "      <th>volatile acidity</th>\n",
       "      <th>citric acid</th>\n",
       "      <th>residual sugar</th>\n",
       "      <th>chlorides</th>\n",
       "      <th>free sulfur dioxide</th>\n",
       "      <th>total sulfur dioxide</th>\n",
       "      <th>density</th>\n",
       "      <th>pH</th>\n",
       "      <th>sulphates</th>\n",
       "      <th>alcohol</th>\n",
       "      <th>quality</th>\n",
       "      <th>alcohol_round</th>\n",
       "      <th>Type_red</th>\n",
       "      <th>Type_white</th>\n",
       "    </tr>\n",
       "  </thead>\n",
       "  <tbody>\n",
       "    <tr>\n",
       "      <th>0</th>\n",
       "      <td>7.0</td>\n",
       "      <td>0.27</td>\n",
       "      <td>0.36</td>\n",
       "      <td>20.7</td>\n",
       "      <td>0.045</td>\n",
       "      <td>45.0</td>\n",
       "      <td>170.0</td>\n",
       "      <td>1.0010</td>\n",
       "      <td>3.00</td>\n",
       "      <td>0.45</td>\n",
       "      <td>8.8</td>\n",
       "      <td>6</td>\n",
       "      <td>9</td>\n",
       "      <td>0</td>\n",
       "      <td>1</td>\n",
       "    </tr>\n",
       "    <tr>\n",
       "      <th>1</th>\n",
       "      <td>6.3</td>\n",
       "      <td>0.30</td>\n",
       "      <td>0.34</td>\n",
       "      <td>1.6</td>\n",
       "      <td>0.049</td>\n",
       "      <td>14.0</td>\n",
       "      <td>132.0</td>\n",
       "      <td>0.9940</td>\n",
       "      <td>3.30</td>\n",
       "      <td>0.49</td>\n",
       "      <td>9.5</td>\n",
       "      <td>6</td>\n",
       "      <td>10</td>\n",
       "      <td>0</td>\n",
       "      <td>1</td>\n",
       "    </tr>\n",
       "    <tr>\n",
       "      <th>2</th>\n",
       "      <td>8.1</td>\n",
       "      <td>0.28</td>\n",
       "      <td>0.40</td>\n",
       "      <td>6.9</td>\n",
       "      <td>0.050</td>\n",
       "      <td>30.0</td>\n",
       "      <td>97.0</td>\n",
       "      <td>0.9951</td>\n",
       "      <td>3.26</td>\n",
       "      <td>0.44</td>\n",
       "      <td>10.1</td>\n",
       "      <td>6</td>\n",
       "      <td>10</td>\n",
       "      <td>0</td>\n",
       "      <td>1</td>\n",
       "    </tr>\n",
       "    <tr>\n",
       "      <th>3</th>\n",
       "      <td>7.2</td>\n",
       "      <td>0.23</td>\n",
       "      <td>0.32</td>\n",
       "      <td>8.5</td>\n",
       "      <td>0.058</td>\n",
       "      <td>47.0</td>\n",
       "      <td>186.0</td>\n",
       "      <td>0.9956</td>\n",
       "      <td>3.19</td>\n",
       "      <td>0.40</td>\n",
       "      <td>9.9</td>\n",
       "      <td>6</td>\n",
       "      <td>10</td>\n",
       "      <td>0</td>\n",
       "      <td>1</td>\n",
       "    </tr>\n",
       "    <tr>\n",
       "      <th>4</th>\n",
       "      <td>7.2</td>\n",
       "      <td>0.23</td>\n",
       "      <td>0.32</td>\n",
       "      <td>8.5</td>\n",
       "      <td>0.058</td>\n",
       "      <td>47.0</td>\n",
       "      <td>186.0</td>\n",
       "      <td>0.9956</td>\n",
       "      <td>3.19</td>\n",
       "      <td>0.40</td>\n",
       "      <td>9.9</td>\n",
       "      <td>6</td>\n",
       "      <td>10</td>\n",
       "      <td>0</td>\n",
       "      <td>1</td>\n",
       "    </tr>\n",
       "  </tbody>\n",
       "</table>\n",
       "</div>"
      ],
      "text/plain": [
       "   fixed acidity  volatile acidity  citric acid  residual sugar  chlorides  \\\n",
       "0            7.0              0.27         0.36            20.7      0.045   \n",
       "1            6.3              0.30         0.34             1.6      0.049   \n",
       "2            8.1              0.28         0.40             6.9      0.050   \n",
       "3            7.2              0.23         0.32             8.5      0.058   \n",
       "4            7.2              0.23         0.32             8.5      0.058   \n",
       "\n",
       "   free sulfur dioxide  total sulfur dioxide  density    pH  sulphates  \\\n",
       "0                 45.0                 170.0   1.0010  3.00       0.45   \n",
       "1                 14.0                 132.0   0.9940  3.30       0.49   \n",
       "2                 30.0                  97.0   0.9951  3.26       0.44   \n",
       "3                 47.0                 186.0   0.9956  3.19       0.40   \n",
       "4                 47.0                 186.0   0.9956  3.19       0.40   \n",
       "\n",
       "   alcohol  quality  alcohol_round  Type_red  Type_white  \n",
       "0      8.8        6              9         0           1  \n",
       "1      9.5        6             10         0           1  \n",
       "2     10.1        6             10         0           1  \n",
       "3      9.9        6             10         0           1  \n",
       "4      9.9        6             10         0           1  "
      ]
     },
     "execution_count": 11,
     "metadata": {},
     "output_type": "execute_result"
    }
   ],
   "source": [
    "df.head()"
   ]
  },
  {
   "cell_type": "code",
   "execution_count": 12,
   "id": "ae0014bc",
   "metadata": {},
   "outputs": [],
   "source": [
    "def change_class_num(x):\n",
    "    if x==3:\n",
    "        return 0\n",
    "    elif x==4:\n",
    "        return 1\n",
    "    elif x==5:\n",
    "        return 2\n",
    "    elif x==6:\n",
    "        return 3\n",
    "    elif x==7:\n",
    "        return 4\n",
    "    elif x==8:\n",
    "        return 5\n",
    "    else:\n",
    "        return 6"
   ]
  },
  {
   "cell_type": "code",
   "execution_count": 13,
   "id": "4a5f3631",
   "metadata": {},
   "outputs": [],
   "source": [
    "df['quality_label'] = df.quality.apply(change_class_num)"
   ]
  },
  {
   "cell_type": "markdown",
   "id": "f015a8ad",
   "metadata": {},
   "source": [
    "3.2. Заполнение пропусков"
   ]
  },
  {
   "cell_type": "code",
   "execution_count": 14,
   "id": "aa6d7fe8",
   "metadata": {},
   "outputs": [
    {
     "data": {
      "text/plain": [
       "fixed acidity           10\n",
       "volatile acidity         8\n",
       "citric acid              3\n",
       "residual sugar           2\n",
       "chlorides                2\n",
       "free sulfur dioxide      0\n",
       "total sulfur dioxide     0\n",
       "density                  0\n",
       "pH                       9\n",
       "sulphates                4\n",
       "alcohol                  0\n",
       "quality                  0\n",
       "alcohol_round            0\n",
       "Type_red                 0\n",
       "Type_white               0\n",
       "quality_label            0\n",
       "dtype: int64"
      ]
     },
     "execution_count": 14,
     "metadata": {},
     "output_type": "execute_result"
    }
   ],
   "source": [
    "df.isna().sum()\n",
    "\n",
    "# Пропусков очень мало, можно просто исключить строчки с пропусками"
   ]
  },
  {
   "cell_type": "code",
   "execution_count": 15,
   "id": "35483118",
   "metadata": {},
   "outputs": [],
   "source": [
    "df.dropna(inplace=True)"
   ]
  },
  {
   "cell_type": "code",
   "execution_count": 16,
   "id": "b42af6ef",
   "metadata": {},
   "outputs": [
    {
     "name": "stdout",
     "output_type": "stream",
     "text": [
      "<class 'pandas.core.frame.DataFrame'>\n",
      "Int64Index: 6463 entries, 0 to 6496\n",
      "Data columns (total 16 columns):\n",
      " #   Column                Non-Null Count  Dtype  \n",
      "---  ------                --------------  -----  \n",
      " 0   fixed acidity         6463 non-null   float64\n",
      " 1   volatile acidity      6463 non-null   float64\n",
      " 2   citric acid           6463 non-null   float64\n",
      " 3   residual sugar        6463 non-null   float64\n",
      " 4   chlorides             6463 non-null   float64\n",
      " 5   free sulfur dioxide   6463 non-null   float64\n",
      " 6   total sulfur dioxide  6463 non-null   float64\n",
      " 7   density               6463 non-null   float64\n",
      " 8   pH                    6463 non-null   float64\n",
      " 9   sulphates             6463 non-null   float64\n",
      " 10  alcohol               6463 non-null   float64\n",
      " 11  quality               6463 non-null   int64  \n",
      " 12  alcohol_round         6463 non-null   int64  \n",
      " 13  Type_red              6463 non-null   uint8  \n",
      " 14  Type_white            6463 non-null   uint8  \n",
      " 15  quality_label         6463 non-null   int64  \n",
      "dtypes: float64(11), int64(3), uint8(2)\n",
      "memory usage: 770.0 KB\n"
     ]
    }
   ],
   "source": [
    "df.info()"
   ]
  },
  {
   "cell_type": "markdown",
   "id": "46699223",
   "metadata": {},
   "source": [
    "3.3. Создание датасетов"
   ]
  },
  {
   "cell_type": "code",
   "execution_count": 17,
   "id": "c65099a7",
   "metadata": {},
   "outputs": [],
   "source": [
    "df.drop('alcohol_round', axis=1, inplace=True)"
   ]
  },
  {
   "cell_type": "code",
   "execution_count": 18,
   "id": "344b8e0a",
   "metadata": {},
   "outputs": [],
   "source": [
    "df.drop('quality', axis=1, inplace=True)"
   ]
  },
  {
   "cell_type": "code",
   "execution_count": 19,
   "id": "458b0503",
   "metadata": {},
   "outputs": [
    {
     "data": {
      "text/html": [
       "<div>\n",
       "<style scoped>\n",
       "    .dataframe tbody tr th:only-of-type {\n",
       "        vertical-align: middle;\n",
       "    }\n",
       "\n",
       "    .dataframe tbody tr th {\n",
       "        vertical-align: top;\n",
       "    }\n",
       "\n",
       "    .dataframe thead th {\n",
       "        text-align: right;\n",
       "    }\n",
       "</style>\n",
       "<table border=\"1\" class=\"dataframe\">\n",
       "  <thead>\n",
       "    <tr style=\"text-align: right;\">\n",
       "      <th></th>\n",
       "      <th>fixed acidity</th>\n",
       "      <th>volatile acidity</th>\n",
       "      <th>citric acid</th>\n",
       "      <th>residual sugar</th>\n",
       "      <th>chlorides</th>\n",
       "      <th>free sulfur dioxide</th>\n",
       "      <th>total sulfur dioxide</th>\n",
       "      <th>density</th>\n",
       "      <th>pH</th>\n",
       "      <th>sulphates</th>\n",
       "      <th>alcohol</th>\n",
       "      <th>Type_red</th>\n",
       "      <th>Type_white</th>\n",
       "      <th>quality_label</th>\n",
       "    </tr>\n",
       "  </thead>\n",
       "  <tbody>\n",
       "    <tr>\n",
       "      <th>0</th>\n",
       "      <td>7.0</td>\n",
       "      <td>0.27</td>\n",
       "      <td>0.36</td>\n",
       "      <td>20.7</td>\n",
       "      <td>0.045</td>\n",
       "      <td>45.0</td>\n",
       "      <td>170.0</td>\n",
       "      <td>1.0010</td>\n",
       "      <td>3.00</td>\n",
       "      <td>0.45</td>\n",
       "      <td>8.8</td>\n",
       "      <td>0</td>\n",
       "      <td>1</td>\n",
       "      <td>3</td>\n",
       "    </tr>\n",
       "    <tr>\n",
       "      <th>1</th>\n",
       "      <td>6.3</td>\n",
       "      <td>0.30</td>\n",
       "      <td>0.34</td>\n",
       "      <td>1.6</td>\n",
       "      <td>0.049</td>\n",
       "      <td>14.0</td>\n",
       "      <td>132.0</td>\n",
       "      <td>0.9940</td>\n",
       "      <td>3.30</td>\n",
       "      <td>0.49</td>\n",
       "      <td>9.5</td>\n",
       "      <td>0</td>\n",
       "      <td>1</td>\n",
       "      <td>3</td>\n",
       "    </tr>\n",
       "    <tr>\n",
       "      <th>2</th>\n",
       "      <td>8.1</td>\n",
       "      <td>0.28</td>\n",
       "      <td>0.40</td>\n",
       "      <td>6.9</td>\n",
       "      <td>0.050</td>\n",
       "      <td>30.0</td>\n",
       "      <td>97.0</td>\n",
       "      <td>0.9951</td>\n",
       "      <td>3.26</td>\n",
       "      <td>0.44</td>\n",
       "      <td>10.1</td>\n",
       "      <td>0</td>\n",
       "      <td>1</td>\n",
       "      <td>3</td>\n",
       "    </tr>\n",
       "    <tr>\n",
       "      <th>3</th>\n",
       "      <td>7.2</td>\n",
       "      <td>0.23</td>\n",
       "      <td>0.32</td>\n",
       "      <td>8.5</td>\n",
       "      <td>0.058</td>\n",
       "      <td>47.0</td>\n",
       "      <td>186.0</td>\n",
       "      <td>0.9956</td>\n",
       "      <td>3.19</td>\n",
       "      <td>0.40</td>\n",
       "      <td>9.9</td>\n",
       "      <td>0</td>\n",
       "      <td>1</td>\n",
       "      <td>3</td>\n",
       "    </tr>\n",
       "    <tr>\n",
       "      <th>4</th>\n",
       "      <td>7.2</td>\n",
       "      <td>0.23</td>\n",
       "      <td>0.32</td>\n",
       "      <td>8.5</td>\n",
       "      <td>0.058</td>\n",
       "      <td>47.0</td>\n",
       "      <td>186.0</td>\n",
       "      <td>0.9956</td>\n",
       "      <td>3.19</td>\n",
       "      <td>0.40</td>\n",
       "      <td>9.9</td>\n",
       "      <td>0</td>\n",
       "      <td>1</td>\n",
       "      <td>3</td>\n",
       "    </tr>\n",
       "  </tbody>\n",
       "</table>\n",
       "</div>"
      ],
      "text/plain": [
       "   fixed acidity  volatile acidity  citric acid  residual sugar  chlorides  \\\n",
       "0            7.0              0.27         0.36            20.7      0.045   \n",
       "1            6.3              0.30         0.34             1.6      0.049   \n",
       "2            8.1              0.28         0.40             6.9      0.050   \n",
       "3            7.2              0.23         0.32             8.5      0.058   \n",
       "4            7.2              0.23         0.32             8.5      0.058   \n",
       "\n",
       "   free sulfur dioxide  total sulfur dioxide  density    pH  sulphates  \\\n",
       "0                 45.0                 170.0   1.0010  3.00       0.45   \n",
       "1                 14.0                 132.0   0.9940  3.30       0.49   \n",
       "2                 30.0                  97.0   0.9951  3.26       0.44   \n",
       "3                 47.0                 186.0   0.9956  3.19       0.40   \n",
       "4                 47.0                 186.0   0.9956  3.19       0.40   \n",
       "\n",
       "   alcohol  Type_red  Type_white  quality_label  \n",
       "0      8.8         0           1              3  \n",
       "1      9.5         0           1              3  \n",
       "2     10.1         0           1              3  \n",
       "3      9.9         0           1              3  \n",
       "4      9.9         0           1              3  "
      ]
     },
     "execution_count": 19,
     "metadata": {},
     "output_type": "execute_result"
    }
   ],
   "source": [
    "df.head()"
   ]
  },
  {
   "cell_type": "code",
   "execution_count": 20,
   "id": "f2ef989b",
   "metadata": {},
   "outputs": [],
   "source": [
    "target = df['quality_label']\n",
    "df.drop('quality_label', axis=1, inplace=True)"
   ]
  },
  {
   "cell_type": "markdown",
   "id": "4a969f30",
   "metadata": {},
   "source": [
    "3.4. Разделение выборки на тренировочную и тестовую"
   ]
  },
  {
   "cell_type": "code",
   "execution_count": 21,
   "id": "9d3833e6",
   "metadata": {},
   "outputs": [],
   "source": [
    "X_train , X_test, y_train, y_test = train_test_split(df , target, test_size=0.3, random_state=42)"
   ]
  },
  {
   "cell_type": "markdown",
   "id": "872d4dc5",
   "metadata": {},
   "source": [
    "3.5. Важность признаков"
   ]
  },
  {
   "cell_type": "code",
   "execution_count": 22,
   "id": "ab17b53c",
   "metadata": {},
   "outputs": [
    {
     "data": {
      "text/html": [
       "<style>#sk-container-id-1 {color: black;background-color: white;}#sk-container-id-1 pre{padding: 0;}#sk-container-id-1 div.sk-toggleable {background-color: white;}#sk-container-id-1 label.sk-toggleable__label {cursor: pointer;display: block;width: 100%;margin-bottom: 0;padding: 0.3em;box-sizing: border-box;text-align: center;}#sk-container-id-1 label.sk-toggleable__label-arrow:before {content: \"▸\";float: left;margin-right: 0.25em;color: #696969;}#sk-container-id-1 label.sk-toggleable__label-arrow:hover:before {color: black;}#sk-container-id-1 div.sk-estimator:hover label.sk-toggleable__label-arrow:before {color: black;}#sk-container-id-1 div.sk-toggleable__content {max-height: 0;max-width: 0;overflow: hidden;text-align: left;background-color: #f0f8ff;}#sk-container-id-1 div.sk-toggleable__content pre {margin: 0.2em;color: black;border-radius: 0.25em;background-color: #f0f8ff;}#sk-container-id-1 input.sk-toggleable__control:checked~div.sk-toggleable__content {max-height: 200px;max-width: 100%;overflow: auto;}#sk-container-id-1 input.sk-toggleable__control:checked~label.sk-toggleable__label-arrow:before {content: \"▾\";}#sk-container-id-1 div.sk-estimator input.sk-toggleable__control:checked~label.sk-toggleable__label {background-color: #d4ebff;}#sk-container-id-1 div.sk-label input.sk-toggleable__control:checked~label.sk-toggleable__label {background-color: #d4ebff;}#sk-container-id-1 input.sk-hidden--visually {border: 0;clip: rect(1px 1px 1px 1px);clip: rect(1px, 1px, 1px, 1px);height: 1px;margin: -1px;overflow: hidden;padding: 0;position: absolute;width: 1px;}#sk-container-id-1 div.sk-estimator {font-family: monospace;background-color: #f0f8ff;border: 1px dotted black;border-radius: 0.25em;box-sizing: border-box;margin-bottom: 0.5em;}#sk-container-id-1 div.sk-estimator:hover {background-color: #d4ebff;}#sk-container-id-1 div.sk-parallel-item::after {content: \"\";width: 100%;border-bottom: 1px solid gray;flex-grow: 1;}#sk-container-id-1 div.sk-label:hover label.sk-toggleable__label {background-color: #d4ebff;}#sk-container-id-1 div.sk-serial::before {content: \"\";position: absolute;border-left: 1px solid gray;box-sizing: border-box;top: 0;bottom: 0;left: 50%;z-index: 0;}#sk-container-id-1 div.sk-serial {display: flex;flex-direction: column;align-items: center;background-color: white;padding-right: 0.2em;padding-left: 0.2em;position: relative;}#sk-container-id-1 div.sk-item {position: relative;z-index: 1;}#sk-container-id-1 div.sk-parallel {display: flex;align-items: stretch;justify-content: center;background-color: white;position: relative;}#sk-container-id-1 div.sk-item::before, #sk-container-id-1 div.sk-parallel-item::before {content: \"\";position: absolute;border-left: 1px solid gray;box-sizing: border-box;top: 0;bottom: 0;left: 50%;z-index: -1;}#sk-container-id-1 div.sk-parallel-item {display: flex;flex-direction: column;z-index: 1;position: relative;background-color: white;}#sk-container-id-1 div.sk-parallel-item:first-child::after {align-self: flex-end;width: 50%;}#sk-container-id-1 div.sk-parallel-item:last-child::after {align-self: flex-start;width: 50%;}#sk-container-id-1 div.sk-parallel-item:only-child::after {width: 0;}#sk-container-id-1 div.sk-dashed-wrapped {border: 1px dashed gray;margin: 0 0.4em 0.5em 0.4em;box-sizing: border-box;padding-bottom: 0.4em;background-color: white;}#sk-container-id-1 div.sk-label label {font-family: monospace;font-weight: bold;display: inline-block;line-height: 1.2em;}#sk-container-id-1 div.sk-label-container {text-align: center;}#sk-container-id-1 div.sk-container {/* jupyter's `normalize.less` sets `[hidden] { display: none; }` but bootstrap.min.css set `[hidden] { display: none !important; }` so we also need the `!important` here to be able to override the default hidden behavior on the sphinx rendered scikit-learn.org. See: https://github.com/scikit-learn/scikit-learn/issues/21755 */display: inline-block !important;position: relative;}#sk-container-id-1 div.sk-text-repr-fallback {display: none;}</style><div id=\"sk-container-id-1\" class=\"sk-top-container\"><div class=\"sk-text-repr-fallback\"><pre>ExtraTreesClassifier()</pre><b>In a Jupyter environment, please rerun this cell to show the HTML representation or trust the notebook. <br />On GitHub, the HTML representation is unable to render, please try loading this page with nbviewer.org.</b></div><div class=\"sk-container\" hidden><div class=\"sk-item\"><div class=\"sk-estimator sk-toggleable\"><input class=\"sk-toggleable__control sk-hidden--visually\" id=\"sk-estimator-id-1\" type=\"checkbox\" checked><label for=\"sk-estimator-id-1\" class=\"sk-toggleable__label sk-toggleable__label-arrow\">ExtraTreesClassifier</label><div class=\"sk-toggleable__content\"><pre>ExtraTreesClassifier()</pre></div></div></div></div></div>"
      ],
      "text/plain": [
       "ExtraTreesClassifier()"
      ]
     },
     "execution_count": 22,
     "metadata": {},
     "output_type": "execute_result"
    }
   ],
   "source": [
    "from sklearn.ensemble import ExtraTreesClassifier\n",
    "model_tree = ExtraTreesClassifier()\n",
    "model_tree.fit(X_train, y_train)"
   ]
  },
  {
   "cell_type": "code",
   "execution_count": 23,
   "id": "ce99eac6",
   "metadata": {},
   "outputs": [
    {
     "data": {
      "image/png": "[encoded data removed]",
      "text/plain": [
       "<Figure size 432x288 with 1 Axes>"
      ]
     },
     "metadata": {
      "needs_background": "light"
     },
     "output_type": "display_data"
    }
   ],
   "source": [
    "feat_importances = pd.Series(model_tree.feature_importances_, index =X_train.columns)\n",
    "feat_importances.nlargest(9).plot(kind=\"barh\")\n",
    "plt.show()"
   ]
  },
  {
   "cell_type": "markdown",
   "id": "40f5475f",
   "metadata": {},
   "source": [
    "# 4. Моделирование"
   ]
  },
  {
   "cell_type": "markdown",
   "id": "f49c234a",
   "metadata": {},
   "source": [
    "4.1. Выбор модели"
   ]
  },
  {
   "cell_type": "markdown",
   "id": "0157bfbc",
   "metadata": {},
   "source": [
    "SVM"
   ]
  },
  {
   "cell_type": "code",
   "execution_count": 24,
   "id": "38bb28e8",
   "metadata": {},
   "outputs": [],
   "source": [
    "clf_svm = SVC(kernel=\"rbf\",C=1)"
   ]
  },
  {
   "cell_type": "markdown",
   "id": "bfac853c",
   "metadata": {},
   "source": [
    "XGBoost"
   ]
  },
  {
   "cell_type": "code",
   "execution_count": 25,
   "id": "ecc7ffbe",
   "metadata": {},
   "outputs": [],
   "source": [
    "xgboost_model = XGBClassifier(use_label_encoder=False, eval_metric='mlogloss')"
   ]
  },
  {
   "cell_type": "markdown",
   "id": "7732c9b3",
   "metadata": {},
   "source": [
    "Логистическая регрессия"
   ]
  },
  {
   "cell_type": "code",
   "execution_count": 26,
   "id": "88b12e89",
   "metadata": {},
   "outputs": [],
   "source": [
    "log_red_model = LogisticRegression(solver='liblinear',multi_class = 'auto')"
   ]
  },
  {
   "cell_type": "code",
   "execution_count": 28,
   "id": "c73f94c2",
   "metadata": {},
   "outputs": [],
   "source": [
    "clf_lgreg = make_pipeline(StandardScaler(), log_red_model)"
   ]
  },
  {
   "cell_type": "markdown",
   "id": "380a53f7",
   "metadata": {},
   "source": [
    "4.2. Обучение модели"
   ]
  },
  {
   "cell_type": "markdown",
   "id": "cc787d48",
   "metadata": {},
   "source": [
    "SVM"
   ]
  },
  {
   "cell_type": "code",
   "execution_count": 27,
   "id": "45a063be",
   "metadata": {},
   "outputs": [
    {
     "data": {
      "text/html": [
       "<style>#sk-container-id-2 {color: black;background-color: white;}#sk-container-id-2 pre{padding: 0;}#sk-container-id-2 div.sk-toggleable {background-color: white;}#sk-container-id-2 label.sk-toggleable__label {cursor: pointer;display: block;width: 100%;margin-bottom: 0;padding: 0.3em;box-sizing: border-box;text-align: center;}#sk-container-id-2 label.sk-toggleable__label-arrow:before {content: \"▸\";float: left;margin-right: 0.25em;color: #696969;}#sk-container-id-2 label.sk-toggleable__label-arrow:hover:before {color: black;}#sk-container-id-2 div.sk-estimator:hover label.sk-toggleable__label-arrow:before {color: black;}#sk-container-id-2 div.sk-toggleable__content {max-height: 0;max-width: 0;overflow: hidden;text-align: left;background-color: #f0f8ff;}#sk-container-id-2 div.sk-toggleable__content pre {margin: 0.2em;color: black;border-radius: 0.25em;background-color: #f0f8ff;}#sk-container-id-2 input.sk-toggleable__control:checked~div.sk-toggleable__content {max-height: 200px;max-width: 100%;overflow: auto;}#sk-container-id-2 input.sk-toggleable__control:checked~label.sk-toggleable__label-arrow:before {content: \"▾\";}#sk-container-id-2 div.sk-estimator input.sk-toggleable__control:checked~label.sk-toggleable__label {background-color: #d4ebff;}#sk-container-id-2 div.sk-label input.sk-toggleable__control:checked~label.sk-toggleable__label {background-color: #d4ebff;}#sk-container-id-2 input.sk-hidden--visually {border: 0;clip: rect(1px 1px 1px 1px);clip: rect(1px, 1px, 1px, 1px);height: 1px;margin: -1px;overflow: hidden;padding: 0;position: absolute;width: 1px;}#sk-container-id-2 div.sk-estimator {font-family: monospace;background-color: #f0f8ff;border: 1px dotted black;border-radius: 0.25em;box-sizing: border-box;margin-bottom: 0.5em;}#sk-container-id-2 div.sk-estimator:hover {background-color: #d4ebff;}#sk-container-id-2 div.sk-parallel-item::after {content: \"\";width: 100%;border-bottom: 1px solid gray;flex-grow: 1;}#sk-container-id-2 div.sk-label:hover label.sk-toggleable__label {background-color: #d4ebff;}#sk-container-id-2 div.sk-serial::before {content: \"\";position: absolute;border-left: 1px solid gray;box-sizing: border-box;top: 0;bottom: 0;left: 50%;z-index: 0;}#sk-container-id-2 div.sk-serial {display: flex;flex-direction: column;align-items: center;background-color: white;padding-right: 0.2em;padding-left: 0.2em;position: relative;}#sk-container-id-2 div.sk-item {position: relative;z-index: 1;}#sk-container-id-2 div.sk-parallel {display: flex;align-items: stretch;justify-content: center;background-color: white;position: relative;}#sk-container-id-2 div.sk-item::before, #sk-container-id-2 div.sk-parallel-item::before {content: \"\";position: absolute;border-left: 1px solid gray;box-sizing: border-box;top: 0;bottom: 0;left: 50%;z-index: -1;}#sk-container-id-2 div.sk-parallel-item {display: flex;flex-direction: column;z-index: 1;position: relative;background-color: white;}#sk-container-id-2 div.sk-parallel-item:first-child::after {align-self: flex-end;width: 50%;}#sk-container-id-2 div.sk-parallel-item:last-child::after {align-self: flex-start;width: 50%;}#sk-container-id-2 div.sk-parallel-item:only-child::after {width: 0;}#sk-container-id-2 div.sk-dashed-wrapped {border: 1px dashed gray;margin: 0 0.4em 0.5em 0.4em;box-sizing: border-box;padding-bottom: 0.4em;background-color: white;}#sk-container-id-2 div.sk-label label {font-family: monospace;font-weight: bold;display: inline-block;line-height: 1.2em;}#sk-container-id-2 div.sk-label-container {text-align: center;}#sk-container-id-2 div.sk-container {/* jupyter's `normalize.less` sets `[hidden] { display: none; }` but bootstrap.min.css set `[hidden] { display: none !important; }` so we also need the `!important` here to be able to override the default hidden behavior on the sphinx rendered scikit-learn.org. See: https://github.com/scikit-learn/scikit-learn/issues/21755 */display: inline-block !important;position: relative;}#sk-container-id-2 div.sk-text-repr-fallback {display: none;}</style><div id=\"sk-container-id-2\" class=\"sk-top-container\"><div class=\"sk-text-repr-fallback\"><pre>SVC(C=1)</pre><b>In a Jupyter environment, please rerun this cell to show the HTML representation or trust the notebook. <br />On GitHub, the HTML representation is unable to render, please try loading this page with nbviewer.org.</b></div><div class=\"sk-container\" hidden><div class=\"sk-item\"><div class=\"sk-estimator sk-toggleable\"><input class=\"sk-toggleable__control sk-hidden--visually\" id=\"sk-estimator-id-2\" type=\"checkbox\" checked><label for=\"sk-estimator-id-2\" class=\"sk-toggleable__label sk-toggleable__label-arrow\">SVC</label><div class=\"sk-toggleable__content\"><pre>SVC(C=1)</pre></div></div></div></div></div>"
      ],
      "text/plain": [
       "SVC(C=1)"
      ]
     },
     "execution_count": 27,
     "metadata": {},
     "output_type": "execute_result"
    }
   ],
   "source": [
    "clf_svm.fit(X_train,y_train)"
   ]
  },
  {
   "cell_type": "markdown",
   "id": "7fce1d9a",
   "metadata": {},
   "source": [
    "XGBoost"
   ]
  },
  {
   "cell_type": "code",
   "execution_count": 29,
   "id": "22fd5cfe",
   "metadata": {},
   "outputs": [
    {
     "data": {
      "text/html": [
       "<style>#sk-container-id-3 {color: black;background-color: white;}#sk-container-id-3 pre{padding: 0;}#sk-container-id-3 div.sk-toggleable {background-color: white;}#sk-container-id-3 label.sk-toggleable__label {cursor: pointer;display: block;width: 100%;margin-bottom: 0;padding: 0.3em;box-sizing: border-box;text-align: center;}#sk-container-id-3 label.sk-toggleable__label-arrow:before {content: \"▸\";float: left;margin-right: 0.25em;color: #696969;}#sk-container-id-3 label.sk-toggleable__label-arrow:hover:before {color: black;}#sk-container-id-3 div.sk-estimator:hover label.sk-toggleable__label-arrow:before {color: black;}#sk-container-id-3 div.sk-toggleable__content {max-height: 0;max-width: 0;overflow: hidden;text-align: left;background-color: #f0f8ff;}#sk-container-id-3 div.sk-toggleable__content pre {margin: 0.2em;color: black;border-radius: 0.25em;background-color: #f0f8ff;}#sk-container-id-3 input.sk-toggleable__control:checked~div.sk-toggleable__content {max-height: 200px;max-width: 100%;overflow: auto;}#sk-container-id-3 input.sk-toggleable__control:checked~label.sk-toggleable__label-arrow:before {content: \"▾\";}#sk-container-id-3 div.sk-estimator input.sk-toggleable__control:checked~label.sk-toggleable__label {background-color: #d4ebff;}#sk-container-id-3 div.sk-label input.sk-toggleable__control:checked~label.sk-toggleable__label {background-color: #d4ebff;}#sk-container-id-3 input.sk-hidden--visually {border: 0;clip: rect(1px 1px 1px 1px);clip: rect(1px, 1px, 1px, 1px);height: 1px;margin: -1px;overflow: hidden;padding: 0;position: absolute;width: 1px;}#sk-container-id-3 div.sk-estimator {font-family: monospace;background-color: #f0f8ff;border: 1px dotted black;border-radius: 0.25em;box-sizing: border-box;margin-bottom: 0.5em;}#sk-container-id-3 div.sk-estimator:hover {background-color: #d4ebff;}#sk-container-id-3 div.sk-parallel-item::after {content: \"\";width: 100%;border-bottom: 1px solid gray;flex-grow: 1;}#sk-container-id-3 div.sk-label:hover label.sk-toggleable__label {background-color: #d4ebff;}#sk-container-id-3 div.sk-serial::before {content: \"\";position: absolute;border-left: 1px solid gray;box-sizing: border-box;top: 0;bottom: 0;left: 50%;z-index: 0;}#sk-container-id-3 div.sk-serial {display: flex;flex-direction: column;align-items: center;background-color: white;padding-right: 0.2em;padding-left: 0.2em;position: relative;}#sk-container-id-3 div.sk-item {position: relative;z-index: 1;}#sk-container-id-3 div.sk-parallel {display: flex;align-items: stretch;justify-content: center;background-color: white;position: relative;}#sk-container-id-3 div.sk-item::before, #sk-container-id-3 div.sk-parallel-item::before {content: \"\";position: absolute;border-left: 1px solid gray;box-sizing: border-box;top: 0;bottom: 0;left: 50%;z-index: -1;}#sk-container-id-3 div.sk-parallel-item {display: flex;flex-direction: column;z-index: 1;position: relative;background-color: white;}#sk-container-id-3 div.sk-parallel-item:first-child::after {align-self: flex-end;width: 50%;}#sk-container-id-3 div.sk-parallel-item:last-child::after {align-self: flex-start;width: 50%;}#sk-container-id-3 div.sk-parallel-item:only-child::after {width: 0;}#sk-container-id-3 div.sk-dashed-wrapped {border: 1px dashed gray;margin: 0 0.4em 0.5em 0.4em;box-sizing: border-box;padding-bottom: 0.4em;background-color: white;}#sk-container-id-3 div.sk-label label {font-family: monospace;font-weight: bold;display: inline-block;line-height: 1.2em;}#sk-container-id-3 div.sk-label-container {text-align: center;}#sk-container-id-3 div.sk-container {/* jupyter's `normalize.less` sets `[hidden] { display: none; }` but bootstrap.min.css set `[hidden] { display: none !important; }` so we also need the `!important` here to be able to override the default hidden behavior on the sphinx rendered scikit-learn.org. See: https://github.com/scikit-learn/scikit-learn/issues/21755 */display: inline-block !important;position: relative;}#sk-container-id-3 div.sk-text-repr-fallback {display: none;}</style><div id=\"sk-container-id-3\" class=\"sk-top-container\"><div class=\"sk-text-repr-fallback\"><pre>XGBClassifier(base_score=0.5, booster=&#x27;gbtree&#x27;, callbacks=None,\n",
       "              colsample_bylevel=1, colsample_bynode=1, colsample_bytree=1,\n",
       "              early_stopping_rounds=None, enable_categorical=False,\n",
       "              eval_metric=&#x27;mlogloss&#x27;, gamma=0, gpu_id=-1,\n",
       "              grow_policy=&#x27;depthwise&#x27;, importance_type=None,\n",
       "              interaction_constraints=&#x27;&#x27;, learning_rate=0.300000012,\n",
       "              max_bin=256, max_cat_to_onehot=4, max_delta_step=0, max_depth=6,\n",
       "              max_leaves=0, min_child_weight=1, missing=nan,\n",
       "              monotone_constraints=&#x27;()&#x27;, n_estimators=100, n_jobs=0,\n",
       "              num_parallel_tree=1, objective=&#x27;multi:softprob&#x27;, predictor=&#x27;auto&#x27;,\n",
       "              random_state=0, reg_alpha=0, ...)</pre><b>In a Jupyter environment, please rerun this cell to show the HTML representation or trust the notebook. <br />On GitHub, the HTML representation is unable to render, please try loading this page with nbviewer.org.</b></div><div class=\"sk-container\" hidden><div class=\"sk-item\"><div class=\"sk-estimator sk-toggleable\"><input class=\"sk-toggleable__control sk-hidden--visually\" id=\"sk-estimator-id-3\" type=\"checkbox\" checked><label for=\"sk-estimator-id-3\" class=\"sk-toggleable__label sk-toggleable__label-arrow\">XGBClassifier</label><div class=\"sk-toggleable__content\"><pre>XGBClassifier(base_score=0.5, booster=&#x27;gbtree&#x27;, callbacks=None,\n",
       "              colsample_bylevel=1, colsample_bynode=1, colsample_bytree=1,\n",
       "              early_stopping_rounds=None, enable_categorical=False,\n",
       "              eval_metric=&#x27;mlogloss&#x27;, gamma=0, gpu_id=-1,\n",
       "              grow_policy=&#x27;depthwise&#x27;, importance_type=None,\n",
       "              interaction_constraints=&#x27;&#x27;, learning_rate=0.300000012,\n",
       "              max_bin=256, max_cat_to_onehot=4, max_delta_step=0, max_depth=6,\n",
       "              max_leaves=0, min_child_weight=1, missing=nan,\n",
       "              monotone_constraints=&#x27;()&#x27;, n_estimators=100, n_jobs=0,\n",
       "              num_parallel_tree=1, objective=&#x27;multi:softprob&#x27;, predictor=&#x27;auto&#x27;,\n",
       "              random_state=0, reg_alpha=0, ...)</pre></div></div></div></div></div>"
      ],
      "text/plain": [
       "XGBClassifier(base_score=0.5, booster='gbtree', callbacks=None,\n",
       "              colsample_bylevel=1, colsample_bynode=1, colsample_bytree=1,\n",
       "              early_stopping_rounds=None, enable_categorical=False,\n",
       "              eval_metric='mlogloss', gamma=0, gpu_id=-1,\n",
       "              grow_policy='depthwise', importance_type=None,\n",
       "              interaction_constraints='', learning_rate=0.300000012,\n",
       "              max_bin=256, max_cat_to_onehot=4, max_delta_step=0, max_depth=6,\n",
       "              max_leaves=0, min_child_weight=1, missing=nan,\n",
       "              monotone_constraints='()', n_estimators=100, n_jobs=0,\n",
       "              num_parallel_tree=1, objective='multi:softprob', predictor='auto',\n",
       "              random_state=0, reg_alpha=0, ...)"
      ]
     },
     "execution_count": 29,
     "metadata": {},
     "output_type": "execute_result"
    }
   ],
   "source": [
    "xgboost_model.fit(X_train, y_train)"
   ]
  },
  {
   "cell_type": "markdown",
   "id": "0015882f",
   "metadata": {},
   "source": [
    "Логистическая регрессия"
   ]
  },
  {
   "cell_type": "code",
   "execution_count": 30,
   "id": "1db8d55b",
   "metadata": {},
   "outputs": [
    {
     "data": {
      "text/html": [
       "<style>#sk-container-id-4 {color: black;background-color: white;}#sk-container-id-4 pre{padding: 0;}#sk-container-id-4 div.sk-toggleable {background-color: white;}#sk-container-id-4 label.sk-toggleable__label {cursor: pointer;display: block;width: 100%;margin-bottom: 0;padding: 0.3em;box-sizing: border-box;text-align: center;}#sk-container-id-4 label.sk-toggleable__label-arrow:before {content: \"▸\";float: left;margin-right: 0.25em;color: #696969;}#sk-container-id-4 label.sk-toggleable__label-arrow:hover:before {color: black;}#sk-container-id-4 div.sk-estimator:hover label.sk-toggleable__label-arrow:before {color: black;}#sk-container-id-4 div.sk-toggleable__content {max-height: 0;max-width: 0;overflow: hidden;text-align: left;background-color: #f0f8ff;}#sk-container-id-4 div.sk-toggleable__content pre {margin: 0.2em;color: black;border-radius: 0.25em;background-color: #f0f8ff;}#sk-container-id-4 input.sk-toggleable__control:checked~div.sk-toggleable__content {max-height: 200px;max-width: 100%;overflow: auto;}#sk-container-id-4 input.sk-toggleable__control:checked~label.sk-toggleable__label-arrow:before {content: \"▾\";}#sk-container-id-4 div.sk-estimator input.sk-toggleable__control:checked~label.sk-toggleable__label {background-color: #d4ebff;}#sk-container-id-4 div.sk-label input.sk-toggleable__control:checked~label.sk-toggleable__label {background-color: #d4ebff;}#sk-container-id-4 input.sk-hidden--visually {border: 0;clip: rect(1px 1px 1px 1px);clip: rect(1px, 1px, 1px, 1px);height: 1px;margin: -1px;overflow: hidden;padding: 0;position: absolute;width: 1px;}#sk-container-id-4 div.sk-estimator {font-family: monospace;background-color: #f0f8ff;border: 1px dotted black;border-radius: 0.25em;box-sizing: border-box;margin-bottom: 0.5em;}#sk-container-id-4 div.sk-estimator:hover {background-color: #d4ebff;}#sk-container-id-4 div.sk-parallel-item::after {content: \"\";width: 100%;border-bottom: 1px solid gray;flex-grow: 1;}#sk-container-id-4 div.sk-label:hover label.sk-toggleable__label {background-color: #d4ebff;}#sk-container-id-4 div.sk-serial::before {content: \"\";position: absolute;border-left: 1px solid gray;box-sizing: border-box;top: 0;bottom: 0;left: 50%;z-index: 0;}#sk-container-id-4 div.sk-serial {display: flex;flex-direction: column;align-items: center;background-color: white;padding-right: 0.2em;padding-left: 0.2em;position: relative;}#sk-container-id-4 div.sk-item {position: relative;z-index: 1;}#sk-container-id-4 div.sk-parallel {display: flex;align-items: stretch;justify-content: center;background-color: white;position: relative;}#sk-container-id-4 div.sk-item::before, #sk-container-id-4 div.sk-parallel-item::before {content: \"\";position: absolute;border-left: 1px solid gray;box-sizing: border-box;top: 0;bottom: 0;left: 50%;z-index: -1;}#sk-container-id-4 div.sk-parallel-item {display: flex;flex-direction: column;z-index: 1;position: relative;background-color: white;}#sk-container-id-4 div.sk-parallel-item:first-child::after {align-self: flex-end;width: 50%;}#sk-container-id-4 div.sk-parallel-item:last-child::after {align-self: flex-start;width: 50%;}#sk-container-id-4 div.sk-parallel-item:only-child::after {width: 0;}#sk-container-id-4 div.sk-dashed-wrapped {border: 1px dashed gray;margin: 0 0.4em 0.5em 0.4em;box-sizing: border-box;padding-bottom: 0.4em;background-color: white;}#sk-container-id-4 div.sk-label label {font-family: monospace;font-weight: bold;display: inline-block;line-height: 1.2em;}#sk-container-id-4 div.sk-label-container {text-align: center;}#sk-container-id-4 div.sk-container {/* jupyter's `normalize.less` sets `[hidden] { display: none; }` but bootstrap.min.css set `[hidden] { display: none !important; }` so we also need the `!important` here to be able to override the default hidden behavior on the sphinx rendered scikit-learn.org. See: https://github.com/scikit-learn/scikit-learn/issues/21755 */display: inline-block !important;position: relative;}#sk-container-id-4 div.sk-text-repr-fallback {display: none;}</style><div id=\"sk-container-id-4\" class=\"sk-top-container\"><div class=\"sk-text-repr-fallback\"><pre>Pipeline(steps=[(&#x27;standardscaler&#x27;, StandardScaler()),\n",
       "                (&#x27;logisticregression&#x27;, LogisticRegression(solver=&#x27;liblinear&#x27;))])</pre><b>In a Jupyter environment, please rerun this cell to show the HTML representation or trust the notebook. <br />On GitHub, the HTML representation is unable to render, please try loading this page with nbviewer.org.</b></div><div class=\"sk-container\" hidden><div class=\"sk-item sk-dashed-wrapped\"><div class=\"sk-label-container\"><div class=\"sk-label sk-toggleable\"><input class=\"sk-toggleable__control sk-hidden--visually\" id=\"sk-estimator-id-4\" type=\"checkbox\" ><label for=\"sk-estimator-id-4\" class=\"sk-toggleable__label sk-toggleable__label-arrow\">Pipeline</label><div class=\"sk-toggleable__content\"><pre>Pipeline(steps=[(&#x27;standardscaler&#x27;, StandardScaler()),\n",
       "                (&#x27;logisticregression&#x27;, LogisticRegression(solver=&#x27;liblinear&#x27;))])</pre></div></div></div><div class=\"sk-serial\"><div class=\"sk-item\"><div class=\"sk-estimator sk-toggleable\"><input class=\"sk-toggleable__control sk-hidden--visually\" id=\"sk-estimator-id-5\" type=\"checkbox\" ><label for=\"sk-estimator-id-5\" class=\"sk-toggleable__label sk-toggleable__label-arrow\">StandardScaler</label><div class=\"sk-toggleable__content\"><pre>StandardScaler()</pre></div></div></div><div class=\"sk-item\"><div class=\"sk-estimator sk-toggleable\"><input class=\"sk-toggleable__control sk-hidden--visually\" id=\"sk-estimator-id-6\" type=\"checkbox\" ><label for=\"sk-estimator-id-6\" class=\"sk-toggleable__label sk-toggleable__label-arrow\">LogisticRegression</label><div class=\"sk-toggleable__content\"><pre>LogisticRegression(solver=&#x27;liblinear&#x27;)</pre></div></div></div></div></div></div></div>"
      ],
      "text/plain": [
       "Pipeline(steps=[('standardscaler', StandardScaler()),\n",
       "                ('logisticregression', LogisticRegression(solver='liblinear'))])"
      ]
     },
     "execution_count": 30,
     "metadata": {},
     "output_type": "execute_result"
    }
   ],
   "source": [
    "clf_lgreg.fit(X_train, y_train)"
   ]
  },
  {
   "cell_type": "markdown",
   "id": "4806a2c3",
   "metadata": {},
   "source": [
    "# 5. Оценка модели"
   ]
  },
  {
   "cell_type": "markdown",
   "id": "e3edfc38",
   "metadata": {},
   "source": [
    "SVM"
   ]
  },
  {
   "cell_type": "code",
   "execution_count": 31,
   "id": "71f4d543",
   "metadata": {},
   "outputs": [
    {
     "name": "stderr",
     "output_type": "stream",
     "text": [
      "/Users/glebmutovin/Downloads/ENTER/lib/python3.8/site-packages/sklearn/model_selection/_split.py:680: UserWarning: The least populated class in y has only 4 members, which is less than n_splits=8.\n",
      "  warnings.warn(\n"
     ]
    },
    {
     "data": {
      "text/plain": [
       "0.4396549297976797"
      ]
     },
     "execution_count": 31,
     "metadata": {},
     "output_type": "execute_result"
    }
   ],
   "source": [
    "scores_svm = cross_val_score(clf_svm, X_train,y_train,cv=8,scoring=\"accuracy\")\n",
    "scores_svm.mean()"
   ]
  },
  {
   "cell_type": "code",
   "execution_count": 32,
   "id": "99babdcf",
   "metadata": {},
   "outputs": [
    {
     "data": {
      "text/plain": [
       "array([0.43639576, 0.44169611, 0.44169611, 0.43992933, 0.43716814,\n",
       "       0.43539823, 0.44247788, 0.44247788])"
      ]
     },
     "execution_count": 32,
     "metadata": {},
     "output_type": "execute_result"
    }
   ],
   "source": [
    "scores_svm"
   ]
  },
  {
   "cell_type": "code",
   "execution_count": 35,
   "id": "29534b8a",
   "metadata": {},
   "outputs": [
    {
     "data": {
      "text/plain": [
       "0.43063434760185665"
      ]
     },
     "execution_count": 35,
     "metadata": {},
     "output_type": "execute_result"
    }
   ],
   "source": [
    "y_pred_svm = clf_svm.predict(X_test)\n",
    "accuracy_svm = accuracy_score(y_test, y_pred_svm)\n",
    "accuracy_svm"
   ]
  },
  {
   "cell_type": "markdown",
   "id": "792612da",
   "metadata": {},
   "source": [
    "XGBoost"
   ]
  },
  {
   "cell_type": "code",
   "execution_count": 37,
   "id": "8ea92af2",
   "metadata": {},
   "outputs": [],
   "source": [
    "y_pred_xgb = xgboost_model.predict(X_test)"
   ]
  },
  {
   "cell_type": "code",
   "execution_count": 38,
   "id": "b6d4347a",
   "metadata": {},
   "outputs": [
    {
     "data": {
      "text/plain": [
       "0.6415678184631253"
      ]
     },
     "execution_count": 38,
     "metadata": {},
     "output_type": "execute_result"
    }
   ],
   "source": [
    "accuracy = accuracy_score(y_test, y_pred_xgb)\n",
    "accuracy"
   ]
  },
  {
   "cell_type": "code",
   "execution_count": 49,
   "id": "e2e1dcce",
   "metadata": {},
   "outputs": [
    {
     "data": {
      "text/plain": [
       "0.6798239102344507"
      ]
     },
     "execution_count": 49,
     "metadata": {},
     "output_type": "execute_result"
    }
   ],
   "source": [
    "scores_xgb = cross_val_score(xgboost_model, df, target,cv=5,scoring=\"roc_auc_ovr_weighted\")\n",
    "scores_xgb.mean()"
   ]
  },
  {
   "cell_type": "code",
   "execution_count": 42,
   "id": "f1ebe43e",
   "metadata": {},
   "outputs": [
    {
     "data": {
      "text/plain": [
       "0.8521724877748262"
      ]
     },
     "execution_count": 42,
     "metadata": {},
     "output_type": "execute_result"
    }
   ],
   "source": [
    "roc_auc_score(y_test, xgboost_model.predict_proba(X_test), multi_class='ovr')"
   ]
  },
  {
   "cell_type": "code",
   "execution_count": 43,
   "id": "342b3c7f",
   "metadata": {},
   "outputs": [
    {
     "data": {
      "text/plain": [
       "0.9481851859815522"
      ]
     },
     "execution_count": 43,
     "metadata": {},
     "output_type": "execute_result"
    }
   ],
   "source": [
    "logloss = log_loss(y_test, xgboost_model.predict_proba(X_test))\n",
    "logloss"
   ]
  },
  {
   "cell_type": "markdown",
   "id": "29fdf9cf",
   "metadata": {},
   "source": [
    "Логистическая регрессия"
   ]
  },
  {
   "cell_type": "code",
   "execution_count": 50,
   "id": "ae43bcf5",
   "metadata": {},
   "outputs": [],
   "source": [
    "y_pred_logress = clf_lgreg.predict(X_test)"
   ]
  },
  {
   "cell_type": "code",
   "execution_count": 51,
   "id": "41e32067",
   "metadata": {},
   "outputs": [
    {
     "data": {
      "text/plain": [
       "0.5368746776689015"
      ]
     },
     "execution_count": 51,
     "metadata": {},
     "output_type": "execute_result"
    }
   ],
   "source": [
    "accuracy = accuracy_score(y_test, y_pred_logress)\n",
    "accuracy"
   ]
  },
  {
   "cell_type": "code",
   "execution_count": 53,
   "id": "f817b8a0",
   "metadata": {},
   "outputs": [
    {
     "data": {
      "text/plain": [
       "0.7013610272242916"
      ]
     },
     "execution_count": 53,
     "metadata": {},
     "output_type": "execute_result"
    }
   ],
   "source": [
    "scores_lgreg = cross_val_score(clf_lgreg, df, target,cv=5,scoring=\"roc_auc_ovr_weighted\")\n",
    "scores_lgreg.mean()"
   ]
  },
  {
   "cell_type": "code",
   "execution_count": 52,
   "id": "38eee3b1",
   "metadata": {},
   "outputs": [
    {
     "data": {
      "text/plain": [
       "0.7880262428108008"
      ]
     },
     "execution_count": 52,
     "metadata": {},
     "output_type": "execute_result"
    }
   ],
   "source": [
    "roc_auc_score(y_test, clf_lgreg.predict_proba(X_test), multi_class='ovr')"
   ]
  },
  {
   "cell_type": "markdown",
   "id": "1ce76ba2",
   "metadata": {},
   "source": [
    "# Итог"
   ]
  },
  {
   "cell_type": "markdown",
   "id": "f5a85d47",
   "metadata": {},
   "source": [
    "Среди выбранных моделей ни одна не показала высокие результаты качества классификации класса вина. \n",
    "При этом модель XGBoost выделяется по значению roc-auc, поэтому наиболее приемлимой моделью для многоклассовой классификации с учетом несбалансированности классов в рамках нашей задачи является именно эта модель.\n",
    "\n",
    "Также возможно попробовать обучить нейронную сеть с многоклассовой классификацией и сравнить полученные результаты с результатами модели XGBoost (на Kaggle в задаче по многоклассовой классификации классов вина нейронная сеть показала результаты хуже, чем ряд моделей классического ML)."
   ]
  },
  {
   "cell_type": "code",
   "execution_count": null,
   "id": "ebe4d776",
   "metadata": {},
   "outputs": [],
   "source": []
  }
 ],
 "metadata": {
  "kernelspec": {
   "display_name": "Python 3",
   "language": "python",
   "name": "python3"
  },
  "language_info": {
   "codemirror_mode": {
    "name": "ipython",
    "version": 3
   },
   "file_extension": ".py",
   "mimetype": "text/x-python",
   "name": "python",
   "nbconvert_exporter": "python",
   "pygments_lexer": "ipython3",
   "version": "3.8.8"
  }
 },
 "nbformat": 4,
 "nbformat_minor": 5
}
