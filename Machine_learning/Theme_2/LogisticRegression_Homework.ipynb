{
 "cells": [
  {
   "cell_type": "code",
   "execution_count": 1,
   "id": "e6f429f1",
   "metadata": {},
   "outputs": [],
   "source": [
    "import numpy as np\n",
    "import pandas as pd\n",
    "import matplotlib.pyplot as plt\n",
    "from sklearn.linear_model import LogisticRegression\n",
    "from sklearn.svm import SVC\n",
    "from sklearn.metrics import mean_squared_error, r2_score, accuracy_score\n",
    "from sklearn.model_selection import train_test_split"
   ]
  },
  {
   "cell_type": "code",
   "execution_count": 2,
   "id": "d7c32106",
   "metadata": {},
   "outputs": [],
   "source": [
    "income_df = pd.read_csv('adult.csv', na_values='?')"
   ]
  },
  {
   "cell_type": "code",
   "execution_count": 3,
   "id": "47f7f549",
   "metadata": {},
   "outputs": [],
   "source": [
    "# Удаляем строчки, где есть Null, из датасета\n",
    "income_df = income_df.dropna()"
   ]
  },
  {
   "cell_type": "code",
   "execution_count": 5,
   "id": "94d0add2",
   "metadata": {},
   "outputs": [],
   "source": [
    "# Выбор признаков для обучения\n",
    "attributes = income_df[['age', 'workclass', 'fnlwgt', 'education', 'educational-num', 'marital-status', 'occupation', \n",
    "             'relationship', 'race', 'gender', 'capital-gain', 'capital-loss', 'hours-per-week', 'native-country']]"
   ]
  },
  {
   "cell_type": "code",
   "execution_count": 7,
   "id": "be8d3395",
   "metadata": {},
   "outputs": [],
   "source": [
    "model = LogisticRegression()"
   ]
  },
  {
   "cell_type": "code",
   "execution_count": 8,
   "id": "076f0b84",
   "metadata": {},
   "outputs": [],
   "source": [
    "# Применяем метод get_dummies для последующего обучения модели на всех признаках\n",
    "attributes = pd.get_dummies( attributes, columns = [ 'workclass', 'education', 'marital-status', 'occupation', \n",
    "                                              'relationship', 'race', 'gender', 'native-country' ] )"
   ]
  },
  {
   "cell_type": "code",
   "execution_count": 9,
   "id": "a8a22e20",
   "metadata": {},
   "outputs": [],
   "source": [
    "from sklearn.preprocessing import LabelEncoder\n",
    "le = LabelEncoder()"
   ]
  },
  {
   "cell_type": "code",
   "execution_count": 10,
   "id": "7df30371",
   "metadata": {},
   "outputs": [
    {
     "data": {
      "text/plain": [
       "LabelEncoder()"
      ]
     },
     "execution_count": 10,
     "metadata": {},
     "output_type": "execute_result"
    }
   ],
   "source": [
    "le.fit(income_df['income'])"
   ]
  },
  {
   "cell_type": "code",
   "execution_count": 57,
   "id": "eb8a688b",
   "metadata": {},
   "outputs": [
    {
     "data": {
      "text/plain": [
       "array([0, 1])"
      ]
     },
     "execution_count": 57,
     "metadata": {},
     "output_type": "execute_result"
    }
   ],
   "source": [
    "le.transform( [ '<=50K', '>50K'] )"
   ]
  },
  {
   "cell_type": "code",
   "execution_count": 22,
   "id": "8c41691b",
   "metadata": {},
   "outputs": [],
   "source": [
    "# Перевод в классы данных по уровню заработка\n",
    "income_classes = pd.Series( le.transform( income_df['income'] ) )"
   ]
  },
  {
   "cell_type": "code",
   "execution_count": 25,
   "id": "0a11aa6f",
   "metadata": {},
   "outputs": [],
   "source": [
    "# Разделение данных на тренировочную и тестовую выборки\n",
    "x_train, x_test, y_train, y_test = train_test_split(attributes, income_classes, test_size=0.25)"
   ]
  },
  {
   "cell_type": "code",
   "execution_count": 26,
   "id": "10deb64e",
   "metadata": {},
   "outputs": [
    {
     "data": {
      "text/plain": [
       "LogisticRegression()"
      ]
     },
     "execution_count": 26,
     "metadata": {},
     "output_type": "execute_result"
    }
   ],
   "source": [
    "# Обучение модели логистической регрессии\n",
    "model.fit(x_train, y_train)"
   ]
  },
  {
   "cell_type": "code",
   "execution_count": 35,
   "id": "75602055",
   "metadata": {},
   "outputs": [
    {
     "data": {
      "text/plain": [
       "array([[0.70890173, 0.29109827],\n",
       "       [0.74811676, 0.25188324],\n",
       "       [0.88859312, 0.11140688],\n",
       "       ...,\n",
       "       [0.78992949, 0.21007051],\n",
       "       [0.78138901, 0.21861099],\n",
       "       [0.76377171, 0.23622829]])"
      ]
     },
     "execution_count": 35,
     "metadata": {},
     "output_type": "execute_result"
    }
   ],
   "source": [
    "predictions = model.predict_proba(x_train)\n",
    "predictions"
   ]
  },
  {
   "cell_type": "code",
   "execution_count": 40,
   "id": "9dae6441",
   "metadata": {},
   "outputs": [],
   "source": [
    "predicted_income = model.predict(x_test)"
   ]
  },
  {
   "cell_type": "code",
   "execution_count": 41,
   "id": "52e013b0",
   "metadata": {},
   "outputs": [
    {
     "data": {
      "text/plain": [
       "array([1, 0, 0, ..., 0, 0, 0])"
      ]
     },
     "execution_count": 41,
     "metadata": {},
     "output_type": "execute_result"
    }
   ],
   "source": [
    "predicted_income"
   ]
  },
  {
   "cell_type": "code",
   "execution_count": 44,
   "id": "f57a885a",
   "metadata": {},
   "outputs": [
    {
     "data": {
      "text/plain": [
       "0.7903644297676613"
      ]
     },
     "execution_count": 44,
     "metadata": {},
     "output_type": "execute_result"
    }
   ],
   "source": [
    "model.score(x_train, y_train)"
   ]
  },
  {
   "cell_type": "code",
   "execution_count": 43,
   "id": "ea69eecb",
   "metadata": {},
   "outputs": [
    {
     "data": {
      "text/plain": [
       "0.7950645674862905"
      ]
     },
     "execution_count": 43,
     "metadata": {},
     "output_type": "execute_result"
    }
   ],
   "source": [
    "# Точность модели\n",
    "model.score(x_test, y_test)"
   ]
  },
  {
   "cell_type": "code",
   "execution_count": 47,
   "id": "01a775f5",
   "metadata": {},
   "outputs": [
    {
     "data": {
      "text/plain": [
       "0.7950645674862905"
      ]
     },
     "execution_count": 47,
     "metadata": {},
     "output_type": "execute_result"
    }
   ],
   "source": [
    "# Точность модели\n",
    "accuracy_score(y_test, predicted_income)"
   ]
  },
  {
   "cell_type": "markdown",
   "id": "407f435d",
   "metadata": {},
   "source": [
    "# Модель SVM"
   ]
  },
  {
   "cell_type": "code",
   "execution_count": 50,
   "id": "1b6ea348",
   "metadata": {},
   "outputs": [],
   "source": [
    "svc = SVC()"
   ]
  },
  {
   "cell_type": "code",
   "execution_count": 51,
   "id": "acbdb2d9",
   "metadata": {},
   "outputs": [
    {
     "data": {
      "text/plain": [
       "SVC()"
      ]
     },
     "execution_count": 51,
     "metadata": {},
     "output_type": "execute_result"
    }
   ],
   "source": [
    "# Обучение модели SVM\n",
    "svc.fit(x_train, y_train)"
   ]
  },
  {
   "cell_type": "code",
   "execution_count": 52,
   "id": "c18a843a",
   "metadata": {},
   "outputs": [
    {
     "data": {
      "text/plain": [
       "array([0, 0, 0, ..., 0, 0, 0])"
      ]
     },
     "execution_count": 52,
     "metadata": {},
     "output_type": "execute_result"
    }
   ],
   "source": [
    "predicted_income_svc = svc.predict(x_test)\n",
    "predicted_income_svc"
   ]
  },
  {
   "cell_type": "code",
   "execution_count": 54,
   "id": "ec03305f",
   "metadata": {},
   "outputs": [
    {
     "data": {
      "text/plain": [
       "0.7894209222785706"
      ]
     },
     "execution_count": 54,
     "metadata": {},
     "output_type": "execute_result"
    }
   ],
   "source": [
    "svc.score(x_train, y_train)"
   ]
  },
  {
   "cell_type": "code",
   "execution_count": 55,
   "id": "08c01704",
   "metadata": {},
   "outputs": [
    {
     "data": {
      "text/plain": [
       "0.7924995577569433"
      ]
     },
     "execution_count": 55,
     "metadata": {},
     "output_type": "execute_result"
    }
   ],
   "source": [
    "# Точность модели\n",
    "svc.score(x_test, y_test)"
   ]
  }
 ],
 "metadata": {
  "kernelspec": {
   "display_name": "Python 3",
   "language": "python",
   "name": "python3"
  },
  "language_info": {
   "codemirror_mode": {
    "name": "ipython",
    "version": 3
   },
   "file_extension": ".py",
   "mimetype": "text/x-python",
   "name": "python",
   "nbconvert_exporter": "python",
   "pygments_lexer": "ipython3",
   "version": "3.8.8"
  }
 },
 "nbformat": 4,
 "nbformat_minor": 5
}
