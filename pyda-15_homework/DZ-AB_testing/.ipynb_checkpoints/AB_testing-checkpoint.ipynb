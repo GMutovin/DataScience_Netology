{
 "cells": [
  {
   "cell_type": "markdown",
   "id": "biological-hypothesis",
   "metadata": {},
   "source": [
    "# Домашнее задание «Статистическая проверка гипотез для связанных выборок. A/B тесты и как их проводить»"
   ]
  },
  {
   "cell_type": "code",
   "execution_count": 2,
   "id": "responsible-development",
   "metadata": {},
   "outputs": [],
   "source": [
    "import numpy as np\n",
    "import pandas as pd\n",
    "import scipy.stats as stats\n",
    "import matplotlib.pyplot as plt "
   ]
  },
  {
   "cell_type": "markdown",
   "id": "stupid-cotton",
   "metadata": {},
   "source": [
    "<div class=\"alert alert-info\">\n",
    "<b>Задание № 1</b>\n",
    "Вам даны результаты проверки двух препаратов.\n",
    "    \n",
    "Требуется:\n",
    "- Оценить, есть ли различие в эффекте у этих пациентов?\n",
    "- Визуально подтвердить результат\n",
    "    \n",
    "`A` - результаты для группы людей получающих препарат А.\n",
    "\n",
    "`B` - результаты для другой группы людей, получающих препарат B.\n",
    "    \n",
    "</div>"
   ]
  },
  {
   "cell_type": "code",
   "execution_count": 3,
   "id": "annual-excuse",
   "metadata": {},
   "outputs": [],
   "source": [
    "np.random.seed(11)\n",
    "A = stats.norm.rvs(scale=30, loc=11, size=100)\n",
    "B = A + stats.norm.rvs(scale=54, loc=11, size=100)"
   ]
  },
  {
   "cell_type": "code",
   "execution_count": 5,
   "id": "employed-device",
   "metadata": {},
   "outputs": [],
   "source": [
    "from scipy.stats import mannwhitneyu "
   ]
  },
  {
   "cell_type": "code",
   "execution_count": 6,
   "id": "thick-consortium",
   "metadata": {},
   "outputs": [
    {
     "name": "stdout",
     "output_type": "stream",
     "text": [
      "Statistics=4343.0, p=0.054347680446611354\n",
      "Различий нет (не отвергаем H0)\n"
     ]
    }
   ],
   "source": [
    "stat, p = mannwhitneyu(A, B) # U-тест Манна-Уитни\n",
    "print(f'Statistics={stat}, p={p}')\n",
    "\n",
    "alpha = 0.05 \n",
    "if p > alpha:\n",
    "    print('Различий нет (не отвергаем H0)')\n",
    "else:\n",
    "    print('Различия есть (отвергаем H0)')"
   ]
  },
  {
   "cell_type": "code",
   "execution_count": 7,
   "id": "appreciated-inventory",
   "metadata": {},
   "outputs": [
    {
     "data": {
      "text/plain": [
       "(array([ 5.,  7., 13., 13., 21., 16., 11.,  8.,  3.,  3.]),\n",
       " array([-99.92486747, -73.18817253, -46.45147758, -19.71478263,\n",
       "          7.02191231,  33.75860726,  60.4953022 ,  87.23199715,\n",
       "        113.9686921 , 140.70538704, 167.44208199]),\n",
       " <BarContainer object of 10 artists>)"
      ]
     },
     "execution_count": 7,
     "metadata": {},
     "output_type": "execute_result"
    },
    {
     "data": {
      "image/png": "[encoded data removed]",
      "text/plain": [
       "<Figure size 432x288 with 1 Axes>"
      ]
     },
     "metadata": {
      "needs_background": "light"
     },
     "output_type": "display_data"
    }
   ],
   "source": [
    "plt.hist(A, alpha=0.5)\n",
    "plt.hist(B, alpha=0.3)"
   ]
  },
  {
   "cell_type": "code",
   "execution_count": 8,
   "id": "apart-portable",
   "metadata": {},
   "outputs": [],
   "source": [
    "# Визуально распределения схожи друг с другом"
   ]
  },
  {
   "cell_type": "markdown",
   "id": "educated-honduras",
   "metadata": {},
   "source": [
    "<div class=\"alert alert-info\">\n",
    "<b>Задание № 2</b>\n",
    "Вам даны результаты проверки двух препаратов. \n",
    "    \n",
    "Требуется: \n",
    "- Оценить, есть ли различие в эффекте у этих пациентов?\n",
    "- Визуально подтвердить результат\n",
    "    \n",
    "`А` - группа людей без препарата.\n",
    "\n",
    "`B` - та же группа людей, но получающая препарат\n",
    "</div>"
   ]
  },
  {
   "cell_type": "code",
   "execution_count": 9,
   "id": "willing-burner",
   "metadata": {},
   "outputs": [],
   "source": [
    "np.random.seed(11)\n",
    "A = stats.norm.rvs(scale=30, loc=11, size=100)\n",
    "B = A + stats.norm.rvs(scale=54, loc=11, size=100)"
   ]
  },
  {
   "cell_type": "code",
   "execution_count": 10,
   "id": "solved-declaration",
   "metadata": {},
   "outputs": [],
   "source": [
    "from scipy.stats import wilcoxon"
   ]
  },
  {
   "cell_type": "code",
   "execution_count": 11,
   "id": "excellent-stereo",
   "metadata": {},
   "outputs": [
    {
     "name": "stdout",
     "output_type": "stream",
     "text": [
      "Statistics=1930.0, p=0.04077572901549266\n",
      "Различие в эффекте препаратов имеется (отвергаем H0)\n"
     ]
    }
   ],
   "source": [
    "stat, p = wilcoxon(A, B)\n",
    "print(f'Statistics={stat}, p={p}')\n",
    "\n",
    "alpha = 0.5\n",
    "if p > alpha:\n",
    "    print('Одинаковые распределения (не отвергаем H0)')\n",
    "else:\n",
    "    print('Различие в эффекте препаратов имеется (отвергаем H0)')"
   ]
  },
  {
   "cell_type": "code",
   "execution_count": 12,
   "id": "perfect-imagination",
   "metadata": {},
   "outputs": [
    {
     "data": {
      "text/plain": [
       "(array([ 5.,  7., 13., 13., 21., 16., 11.,  8.,  3.,  3.]),\n",
       " array([-99.92486747, -73.18817253, -46.45147758, -19.71478263,\n",
       "          7.02191231,  33.75860726,  60.4953022 ,  87.23199715,\n",
       "        113.9686921 , 140.70538704, 167.44208199]),\n",
       " <BarContainer object of 10 artists>)"
      ]
     },
     "execution_count": 12,
     "metadata": {},
     "output_type": "execute_result"
    },
    {
     "data": {
      "image/png": "[encoded data removed]",
      "text/plain": [
       "<Figure size 432x288 with 1 Axes>"
      ]
     },
     "metadata": {
      "needs_background": "light"
     },
     "output_type": "display_data"
    }
   ],
   "source": [
    "plt.hist(A, alpha=0.5)\n",
    "plt.hist(B, alpha=0.3)"
   ]
  },
  {
   "cell_type": "code",
   "execution_count": 13,
   "id": "material-choice",
   "metadata": {},
   "outputs": [],
   "source": [
    "# Визуально выборки существенно не отличаются"
   ]
  },
  {
   "cell_type": "markdown",
   "id": "egyptian-trinity",
   "metadata": {},
   "source": [
    "<div class=\"alert alert-info\">\n",
    "<b>Задание № 3</b>\n",
    "Допустим вы решили устроить дачный эксперимент. Берем и поливаем одни огурцы водой, другие огурцы водой с удобнением, третью группу огурцов будем поливать минералкой. \n",
    "    \n",
    " - Используя дисперсионный анализ, сделайте выводы о распредлениях результатов. Есть ли эффект от удобрения по сравнению с минералкой? \n",
    " - Помимо результата статистического теста, продемонстрируйте отличия визуально с помощью `boxplot` или `hist`\n",
    "    \n",
    "`water = [1,2,3,4,2,4,2,4,5,2,3,4,2,1,3,4,3,2,5,1]`\n",
    "\n",
    "`nutri = [1,2,4,6,5,6,7,5,4,5,6,7,4,3,5,5,6,5,4,3,5]`\n",
    "\n",
    "`mineral =[2,1,1,3,2,4,2,4,5,4,3,2,3,2,3,1,3,4,5,1,4]`\n",
    "</div>"
   ]
  },
  {
   "cell_type": "code",
   "execution_count": 14,
   "id": "passing-copyright",
   "metadata": {},
   "outputs": [],
   "source": [
    "water = [1,2,3,4,2,4,2,4,5,2,3,4,2,1,3,4,3,2,5,1]\n",
    "nutri = [1,2,4,6,5,6,7,5,4,5,6,7,4,3,5,5,6,5,4,3,5]\n",
    "mineral =[2,1,1,3,2,4,2,4,5,4,3,2,3,2,3,1,3,4,5,1,4]\n",
    "\n"
   ]
  },
  {
   "cell_type": "code",
   "execution_count": 15,
   "id": "intended-financing",
   "metadata": {},
   "outputs": [
    {
     "name": "stdout",
     "output_type": "stream",
     "text": [
      "12.525963044834192 2.9240047906326866e-05\n",
      "Разное распределение (отклоняем H0)\n"
     ]
    }
   ],
   "source": [
    "from scipy.stats import f_oneway \n",
    "\n",
    "F, p = f_oneway(water, nutri, mineral)\n",
    "\n",
    "alpha = 0.05  \n",
    "print(F, p)  \n",
    "\n",
    "if p > alpha:\n",
    "    print('Одинаковое распределение (не отвергаем H0)')\n",
    "else:\n",
    "    print('Разное распределение (отклоняем H0)')"
   ]
  },
  {
   "cell_type": "code",
   "execution_count": 17,
   "id": "selected-ebony",
   "metadata": {},
   "outputs": [
    {
     "name": "stdout",
     "output_type": "stream",
     "text": [
      "2.85\n",
      "4.666666666666667\n",
      "2.8095238095238093\n"
     ]
    }
   ],
   "source": [
    "print(sum(water) / len(water))\n",
    "print(sum(nutri) / len(nutri))\n",
    "print(sum(mineral) / len(mineral))\n",
    "\n",
    "# Распределения отличаются друг от друга, причем среднее выборки, где огурцы поливали с удобрениями, \n",
    "# выше других средних, что свидетельствует в пользу того, что от удобрения имеется эффект в сравнении с водой и минералкой."
   ]
  },
  {
   "cell_type": "code",
   "execution_count": 18,
   "id": "running-peninsula",
   "metadata": {},
   "outputs": [],
   "source": [
    "fertilizers = pd.DataFrame(columns=['fertilizer', 'value'])\n",
    "\n",
    "for i in water:\n",
    "    w = pd.DataFrame({'fertilizer': ['water'], 'value': i})\n",
    "    fertilizers = pd.concat([fertilizers, w])\n",
    "for i in nutri:\n",
    "    n = pd.DataFrame({'fertilizer': ['nutri'], 'value': i})\n",
    "    fertilizers = pd.concat([fertilizers, n])\n",
    "for i in mineral:\n",
    "    m = pd.DataFrame({'fertilizer': ['mineral'], 'value': i})\n",
    "    fertilizers = pd.concat([fertilizers, m])"
   ]
  },
  {
   "cell_type": "code",
   "execution_count": 20,
   "id": "least-nightlife",
   "metadata": {},
   "outputs": [],
   "source": [
    "fertilizers.reset_index(inplace=True)"
   ]
  },
  {
   "cell_type": "code",
   "execution_count": 22,
   "id": "silver-avatar",
   "metadata": {},
   "outputs": [
    {
     "data": {
      "text/plain": [
       "<AxesSubplot:xlabel='fertilizer', ylabel='value'>"
      ]
     },
     "execution_count": 22,
     "metadata": {},
     "output_type": "execute_result"
    },
    {
     "data": {
      "image/png": "[encoded data removed]",
      "text/plain": [
       "<Figure size 432x288 with 1 Axes>"
      ]
     },
     "metadata": {
      "needs_background": "light"
     },
     "output_type": "display_data"
    }
   ],
   "source": [
    "import seaborn as sns \n",
    "sns.boxplot(x='fertilizer', y='value', data=fertilizers, color='green')"
   ]
  },
  {
   "cell_type": "code",
   "execution_count": 23,
   "id": "prerequisite-reality",
   "metadata": {},
   "outputs": [
    {
     "data": {
      "text/plain": [
       "(array([4., 0., 5., 0., 0., 5., 0., 5., 0., 2.]),\n",
       " array([1. , 1.4, 1.8, 2.2, 2.6, 3. , 3.4, 3.8, 4.2, 4.6, 5. ]),\n",
       " <BarContainer object of 10 artists>)"
      ]
     },
     "execution_count": 23,
     "metadata": {},
     "output_type": "execute_result"
    },
    {
     "data": {
      "image/png": "[encoded data removed]",
      "text/plain": [
       "<Figure size 432x288 with 1 Axes>"
      ]
     },
     "metadata": {
      "needs_background": "light"
     },
     "output_type": "display_data"
    }
   ],
   "source": [
    "plt.hist(water, color='blue', alpha=0.5)\n",
    "plt.hist(nutri, color='green', alpha=0.7)\n",
    "plt.hist(mineral, color='orange', alpha=0.2)"
   ]
  },
  {
   "cell_type": "markdown",
   "id": "southeast-hometown",
   "metadata": {},
   "source": [
    "# Cookie Cats"
   ]
  },
  {
   "cell_type": "markdown",
   "id": "scientific-venue",
   "metadata": {},
   "source": [
    "<div class=\"alert alert-info\">\n",
    "Cookie Cats - чрезвычайно популярная мобильная игра-головоломка, разработанная Tactile Entertainment. Это классическая игра-головоломка в стиле «соедините три», в которой игрок должен соединять плитки одного цвета, чтобы очистить поле и выиграть уровень. Здесь также есть поющие кошки. Посмотрите эту короткую демонстрацию:\n",
    "</div>"
   ]
  },
  {
   "cell_type": "markdown",
   "id": "minor-daisy",
   "metadata": {},
   "source": [
    "<p style=\"align: center;\"><img align=center src=\"https://i.ytimg.com/vi/iPxZIp0cbJE/maxresdefault.jpg\"  width=400></p>"
   ]
  },
  {
   "cell_type": "markdown",
   "id": "lyric-january",
   "metadata": {},
   "source": [
    "<div class=\"alert alert-info\">\n",
    "По мере прохождения уровней игры игроки время от времени сталкиваются с воротами, которые заставляют их ждать нетривиальное количество времени или совершать покупки в приложении, чтобы продолжить. Помимо стимулирования покупок в приложении, эти ворота служат важной цели - дать игрокам вынужденный перерыв в игре, что, как мы надеемся, приведет к увеличению и продлению удовольствия от игры.\n",
    "</div>"
   ]
  },
  {
   "cell_type": "markdown",
   "id": "lonely-violation",
   "metadata": {},
   "source": [
    "<div class=\"alert alert-info\">\n",
    "<b>Но где ставить ворота? </b>\n",
    "Первоначально первые ворота были размещены на уровне 30. В этом проекте вам предлагается проанализировать AB-тест, в котором создатели переместили первые ворота в Cookie Cats с 30 уровня на уровень 40. В частности, вам надо рассмотрим влияние A/B теста на удержание игроков.\n",
    "</div>"
   ]
  },
  {
   "cell_type": "code",
   "execution_count": 26,
   "id": "registered-atmosphere",
   "metadata": {},
   "outputs": [],
   "source": [
    "cookie_cats = 'https://raw.githubusercontent.com/a-milenkin/datasets_for_t-tests/main/cookie_cats.csv'\n",
    "\n",
    "data = pd.read_csv(cookie_cats, error_bad_lines=False)  # Откроем датасет"
   ]
  },
  {
   "cell_type": "markdown",
   "id": "solved-aaron",
   "metadata": {},
   "source": [
    "**Данные получены от 90 189 игроков, которые установили игру во время проведения AB-теста. Переменные:**\n",
    "\n",
    "`userid` - уникальный номер, идентифицирующий каждого игрока.\n",
    "\n",
    "версия - был ли игрок помещен в контрольную группу (gate_30 - ворота на уровне 30) или в тестовую группу (gate_40 - ворота на уровне 40).\n",
    "\n",
    "`sum_gamerounds` - количество игровых раундов, сыгранных игроком в течение первой недели после установки\n",
    "\n",
    "`retention_1` - проигрыватель вернулся и поиграл через 1 день после установки?\n",
    "\n",
    "`retention_7` - проигрыватель вернулся и играл через 7 дней после установки?\n",
    "\n",
    "Когда игрок устанавливал игру, ему случайным образом назначали `gate_30` или `gate_40`."
   ]
  },
  {
   "cell_type": "markdown",
   "id": "mental-wonder",
   "metadata": {},
   "source": [
    "<div class=\"alert alert-info\">\n",
    "<b>Задание: провести анализ данных и сделать выводы о лучшем месте для установки ворот. </b>\n",
    "    \n",
    "Замечание: приведенных вспомогательных фрагментов кода не хватает для ответа на вопрос. \n",
    "Делать выводы необходимо опираясь на статистические тесты, разобранные в лекции. Большим плюсом будет построение визуализиция для подтверждения ваших выводом. \n",
    "</div>"
   ]
  },
  {
   "cell_type": "code",
   "execution_count": 27,
   "id": "downtown-technician",
   "metadata": {},
   "outputs": [
    {
     "data": {
      "text/html": [
       "<div>\n",
       "<style scoped>\n",
       "    .dataframe tbody tr th:only-of-type {\n",
       "        vertical-align: middle;\n",
       "    }\n",
       "\n",
       "    .dataframe tbody tr th {\n",
       "        vertical-align: top;\n",
       "    }\n",
       "\n",
       "    .dataframe thead th {\n",
       "        text-align: right;\n",
       "    }\n",
       "</style>\n",
       "<table border=\"1\" class=\"dataframe\">\n",
       "  <thead>\n",
       "    <tr style=\"text-align: right;\">\n",
       "      <th></th>\n",
       "      <th>userid</th>\n",
       "      <th>sum_gamerounds</th>\n",
       "      <th>retention_1</th>\n",
       "      <th>retention_7</th>\n",
       "    </tr>\n",
       "    <tr>\n",
       "      <th>version</th>\n",
       "      <th></th>\n",
       "      <th></th>\n",
       "      <th></th>\n",
       "      <th></th>\n",
       "    </tr>\n",
       "  </thead>\n",
       "  <tbody>\n",
       "    <tr>\n",
       "      <th>gate_30</th>\n",
       "      <td>44700</td>\n",
       "      <td>44700</td>\n",
       "      <td>44700</td>\n",
       "      <td>44700</td>\n",
       "    </tr>\n",
       "    <tr>\n",
       "      <th>gate_40</th>\n",
       "      <td>45489</td>\n",
       "      <td>45489</td>\n",
       "      <td>45489</td>\n",
       "      <td>45489</td>\n",
       "    </tr>\n",
       "  </tbody>\n",
       "</table>\n",
       "</div>"
      ],
      "text/plain": [
       "         userid  sum_gamerounds  retention_1  retention_7\n",
       "version                                                  \n",
       "gate_30   44700           44700        44700        44700\n",
       "gate_40   45489           45489        45489        45489"
      ]
     },
     "execution_count": 27,
     "metadata": {},
     "output_type": "execute_result"
    }
   ],
   "source": [
    "#Сгрупируем результаты теста по версиям игры.\n",
    "data.groupby('version').count()"
   ]
  },
  {
   "cell_type": "code",
   "execution_count": 28,
   "id": "settled-better",
   "metadata": {},
   "outputs": [
    {
     "data": {
      "text/plain": [
       "<AxesSubplot:>"
      ]
     },
     "execution_count": 28,
     "metadata": {},
     "output_type": "execute_result"
    },
    {
     "data": {
      "image/png": "[encoded data removed]",
      "text/plain": [
       "<Figure size 432x288 with 1 Axes>"
      ]
     },
     "metadata": {
      "needs_background": "light"
     },
     "output_type": "display_data"
    }
   ],
   "source": [
    "# Подсчет количества игроков для каждого количества раундов\n",
    "plot_df = data.groupby('sum_gamerounds')['userid'].count()\n",
    "plot_df.hist(bins=100)  # попробуйте поварировать параметр bins"
   ]
  },
  {
   "cell_type": "code",
   "execution_count": 29,
   "id": "treated-salad",
   "metadata": {},
   "outputs": [],
   "source": [
    "# Вывод: больше всего игроков сыграли от 0 до ± 100 раундов"
   ]
  },
  {
   "cell_type": "code",
   "execution_count": 30,
   "id": "impressive-excitement",
   "metadata": {},
   "outputs": [
    {
     "data": {
      "text/plain": [
       "<AxesSubplot:ylabel='Density'>"
      ]
     },
     "execution_count": 30,
     "metadata": {},
     "output_type": "execute_result"
    },
    {
     "data": {
      "image/png": "[encoded data removed]",
      "text/plain": [
       "<Figure size 432x288 with 1 Axes>"
      ]
     },
     "metadata": {
      "needs_background": "light"
     },
     "output_type": "display_data"
    }
   ],
   "source": [
    "# Creating an list with bootstrapped means for each AB-group\n",
    "boot_1d = []\n",
    "for i in range(1000):\n",
    "    boot_mean = data.sample(frac = 1, replace = True).groupby('version')['retention_7'].mean()  #retention_1\n",
    "    boot_1d.append(boot_mean)\n",
    "\n",
    "# Преобразование списка в DataFrame\n",
    "boot_1d = pd.DataFrame(boot_1d)\n",
    "\n",
    "# A Kernel Density Estimate plot of the bootstrap distributions\n",
    "boot_1d.plot(kind='density')"
   ]
  },
  {
   "cell_type": "code",
   "execution_count": 31,
   "id": "specified-decline",
   "metadata": {},
   "outputs": [],
   "source": [
    " # Вывод: в среднем игроки с воротами на 30 уровне чаще остаются играть после 7 дней с установки игры."
   ]
  },
  {
   "cell_type": "markdown",
   "id": "therapeutic-extent",
   "metadata": {},
   "source": [
    "#### Используя любой тест для проверки статистической гипотезы, продемонстрируйте наличие эффекта из-за сдвига ворот."
   ]
  },
  {
   "cell_type": "code",
   "execution_count": 32,
   "id": "southwest-import",
   "metadata": {},
   "outputs": [
    {
     "name": "stdout",
     "output_type": "stream",
     "text": [
      "9.0 3.4169553748281145e-165\n",
      "Эффект из-за сдвига ворот имеется (отклоняем H0)\n"
     ]
    }
   ],
   "source": [
    "from scipy.stats import f_oneway \n",
    "from scipy.stats import wilcoxon\n",
    "from scipy.stats import mannwhitneyu\n",
    "import scipy.stats as stats\n",
    "\n",
    "F, p = wilcoxon(boot_1d['gate_30'], boot_1d['gate_40'])\n",
    "\n",
    "alpha = 0.05  \n",
    "print(F, p)  \n",
    "\n",
    "if p > alpha:\n",
    "    print('Эффект из-за сдвига ворот отсутствует (не отвергаем H0)')\n",
    "else:\n",
    "    print('Эффект из-за сдвига ворот имеется (отклоняем H0)')"
   ]
  },
  {
   "cell_type": "code",
   "execution_count": 33,
   "id": "parliamentary-processing",
   "metadata": {},
   "outputs": [
    {
     "name": "stdout",
     "output_type": "stream",
     "text": [
      "0.1902804655252897\n",
      "0.18198109741103707\n"
     ]
    }
   ],
   "source": [
    "print(boot_1d['gate_30'].mean())\n",
    "print(boot_1d['gate_40'].mean())"
   ]
  },
  {
   "cell_type": "code",
   "execution_count": 34,
   "id": "tropical-recruitment",
   "metadata": {},
   "outputs": [
    {
     "name": "stdout",
     "output_type": "stream",
     "text": [
      "Установка ворот на 30 уровне целесообразнее, поскольку больше игроков остаются после 7 дней.\n"
     ]
    }
   ],
   "source": [
    "print('Установка ворот на 30 уровне целесообразнее, поскольку больше игроков остаются после 7 дней.')"
   ]
  },
  {
   "cell_type": "code",
   "execution_count": 62,
   "id": "institutional-nudist",
   "metadata": {},
   "outputs": [],
   "source": [
    "data_30 = data[data.version == 'gate_30']\n",
    "data_40 = data[data.version == 'gate_40']"
   ]
  },
  {
   "cell_type": "code",
   "execution_count": 71,
   "id": "fiscal-scholar",
   "metadata": {},
   "outputs": [
    {
     "data": {
      "text/plain": [
       "52.45626398210291"
      ]
     },
     "execution_count": 71,
     "metadata": {},
     "output_type": "execute_result"
    }
   ],
   "source": [
    "data_30.sum_gamerounds.sum() / data_30.userid.count()"
   ]
  },
  {
   "cell_type": "code",
   "execution_count": 70,
   "id": "sorted-instrumentation",
   "metadata": {},
   "outputs": [
    {
     "data": {
      "text/plain": [
       "51.29877552814966"
      ]
     },
     "execution_count": 70,
     "metadata": {},
     "output_type": "execute_result"
    }
   ],
   "source": [
    "data_40.sum_gamerounds.sum() / data_40.userid.count()"
   ]
  },
  {
   "cell_type": "code",
   "execution_count": 72,
   "id": "played-ghost",
   "metadata": {},
   "outputs": [],
   "source": [
    "# С воротами на 30 уровне было сыграно в среднем больше уровней каждым игроком"
   ]
  },
  {
   "cell_type": "code",
   "execution_count": null,
   "id": "charming-piece",
   "metadata": {},
   "outputs": [],
   "source": []
  }
 ],
 "metadata": {
  "kernelspec": {
   "display_name": "Python 3",
   "language": "python",
   "name": "python3"
  },
  "language_info": {
   "codemirror_mode": {
    "name": "ipython",
    "version": 3
   },
   "file_extension": ".py",
   "mimetype": "text/x-python",
   "name": "python",
   "nbconvert_exporter": "python",
   "pygments_lexer": "ipython3",
   "version": "3.8.8"
  }
 },
 "nbformat": 4,
 "nbformat_minor": 5
}
