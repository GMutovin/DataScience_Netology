{
 "cells": [
  {
   "cell_type": "markdown",
   "metadata": {},
   "source": [
    "# Домашнее задание к лекции \"Базовые понятия статистики\""
   ]
  },
  {
   "cell_type": "code",
   "execution_count": null,
   "metadata": {},
   "outputs": [],
   "source": [
    "#Будем осуществлять работу с непростым набором данных о состоянии здоровья лошадей, испытывающих кишечные колики."
   ]
  },
  {
   "cell_type": "code",
   "execution_count": null,
   "metadata": {},
   "outputs": [],
   "source": [
    "import numpy\n",
    "import pandas as pd"
   ]
  },
  {
   "cell_type": "markdown",
   "metadata": {},
   "source": [
    "# Задание 1. Базовое изучение"
   ]
  },
  {
   "cell_type": "code",
   "execution_count": null,
   "metadata": {},
   "outputs": [],
   "source": [
    "# Изучить представленный набор данных на основе описания его столбцов и выбрать 8 столбцов для дальнейшего изучения \n",
    "# (среди них должны быть как числовые, так и категориальные). \n",
    "# Провести расчет базовых метрик для них, кратко описать результаты."
   ]
  },
  {
   "cell_type": "code",
   "execution_count": null,
   "metadata": {},
   "outputs": [],
   "source": [
    "file = pd.read_csv('/Users/mas/Desktop/Data_Science/DataScience_Netology/pyda-15_Lections_materials/Statistics_basics/практика_и_дз/horse_data.csv', header=None, na_values='?')"
   ]
  },
  {
   "cell_type": "code",
   "execution_count": null,
   "metadata": {},
   "outputs": [],
   "source": [
    "# Выбранные для анализа столбцы с указанием типов данных в них:\n",
    "\n",
    "# 1 = категориальный (порядковый)\n",
    "# 2 = категориальный (порядковый)\n",
    "# 3 = категориальный (номинальный)\n",
    "# 5 = числовой (дискретный)\n",
    "# 13 = числовой (дискретный) \n",
    "# 20 = числовой (непрерывный)\n",
    "# 23 = категориальный (порядковый)\n",
    "# 24 = категориальный (порядковый)"
   ]
  },
  {
   "cell_type": "code",
   "execution_count": null,
   "metadata": {},
   "outputs": [],
   "source": [
    "# Создаем датафрейм только с нужными нам столбцами\n",
    "df = file[[0, 1, 2, 4, 12, 19, 22, 23]]\n",
    "df.columns = ['surgery', 'age', 'Hospital Number', 'pulse', 'abdominal distension', 'total protein', 'outcome', 'surgical lesion']"
   ]
  },
  {
   "cell_type": "code",
   "execution_count": null,
   "metadata": {},
   "outputs": [],
   "source": [
    "df.describe()"
   ]
  },
  {
   "cell_type": "code",
   "execution_count": null,
   "metadata": {},
   "outputs": [],
   "source": []
  },
  {
   "cell_type": "markdown",
   "metadata": {},
   "source": [
    "# Задание 2. Работа с выбросами"
   ]
  },
  {
   "cell_type": "code",
   "execution_count": null,
   "metadata": {},
   "outputs": [],
   "source": [
    "# В выбранных числовых столбцах найти выбросы, выдвинуть гипотезы об их причинах и проинтерпретировать результаты. \n",
    "# Принять и обосновать решение о дальнейшей работе с ними."
   ]
  },
  {
   "cell_type": "code",
   "execution_count": null,
   "metadata": {},
   "outputs": [],
   "source": [
    "# Проверим данные по пульсу\n",
    "\n",
    "# Нормальный уровень пульса = 30-40 для взрослых лошадей и 20-25 для спортивных лошадей. Также в публично доступных\n",
    "# источниках есть информация о том, что у молодых лошадей и у больных лошадей пульс обычно выше.\n",
    "\n",
    "# Проверив данные, можно выявить, что среди них отсутствуют данные о пульсе ниже 30. \n",
    "# Значит выбросов ниже нижней границы нет.\n",
    "# print(df[(df.pulse < 40)].pulse)\n",
    "\n",
    "# Теперь определим межквартильный размах, чтобы выявить выбросы.\n",
    "q1 = df.pulse.quantile(0.25)\n",
    "q3 = df.pulse.quantile(0.75)\n",
    "iqr = q3 - q1\n",
    "lower_bound = q1 - (1.5 * iqr)\n",
    "higher_bound = q3 + (1.5 * iqr)\n",
    "# Интересно, что 0.25-квантиль является модой данных по пульсу.\n",
    "\n",
    "# Проверяем данные, которые выше верхней границы (higher_bound = 148), и находим 5 значений, которые являются выбросами\n",
    "# print(df[(df.pulse > 148)].pulse)\n",
    "\n",
    "# Смотрим на датафрейм без выбросов:\n",
    "remove_ouliners = df[df.pulse.between(lower_bound, higher_bound, inclusive=True)].sort_values('pulse')\n",
    "# print(remove_ouliners)\n",
    "\n",
    "# Посмотрим как изменились меры центральной тенденции, если исключить выбросы:\n",
    "# print(df.pulse.mean())\n",
    "# print(remove_ouliners.pulse.mean())\n",
    "# print(df.pulse.median())\n",
    "# print(remove_ouliners.pulse.median())\n",
    "# print(df.pulse.mode()[0])\n",
    "# print(remove_ouliners.pulse.mode()[0])\n",
    "# Видно, что выбросы не влияют значительным образом на меры центральной тенденции (разница между средним арифметическим\n",
    "# и медианой в данных по пульсу в двух датафреймах всего 1.5.\n",
    "\n",
    "# Также следует посмотреть взаимосвязь выбросов с другими данными:\n",
    "# print(df.loc[df.pulse > 148])\n",
    "# В результате видно, что:\n",
    "# 1) все выбросы это данные по молодым лошадям (до 6 месяцев);\n",
    "# 2) только одной лошади сделали операцию, причем только она и выжила. Остальные лошади умерли;\n",
    "# 3) у всех эти лошадей был повышен уровень abdominal distension;\n",
    "# 4) у всех лошадей необходимо были surgical lesion.\n",
    "# Можно сделать вывод, что выбросы носят естественный характер, так как у молодых лошадей пульс по общему правилу \n",
    "# выше, кроме того, с учетом болезни пульс может быть выше обычных показателей. \n",
    "# Соответственно, мы не будем исключать выбросы из нашего анализа, поскольку они носят естественный характер и \n",
    "# не влияют значительным образом на меры центральной тенденции."
   ]
  },
  {
   "cell_type": "code",
   "execution_count": null,
   "metadata": {},
   "outputs": [],
   "source": [
    "# Проверим данные по total protein\n",
    "\n",
    "# Нормальный уровень общего протеина = 6-7.5 (gms/dL)\n",
    "# Проверив данные, можно выявить, что среди данных есть 27 значений ниже 6 (gms/dL)\n",
    "# print(len(df[(df['total protein'] < 6)]['total protein']))\n",
    "\n",
    "q1_protein = df['total protein'].quantile(0.25)\n",
    "q3_protein = df['total protein'].quantile(0.75)\n",
    "iqr = q3_protein - q1_protein\n",
    "lower_bound_protein = q1_protein - (1.5 * iqr)\n",
    "higher_bound_protein = q3_protein + (1.5 * iqr)\n",
    "\n",
    "# Проверив данные по higher_bound можно выявить, что выбросы за верхней границей отсутствуют:\n",
    "# print(df[(df['total protein'] > 123)]['total protein'])\n",
    "# Выбросов по нижней границе нет, так как lower_bound_protein = -63.625.\n",
    "# print(lower_bound_protein)\n",
    "\n",
    "# Таким образом выбросов по total protein не выявлено."
   ]
  },
  {
   "cell_type": "markdown",
   "metadata": {},
   "source": [
    "# Задание 3. Работа с пропусками"
   ]
  },
  {
   "cell_type": "code",
   "execution_count": null,
   "metadata": {},
   "outputs": [],
   "source": [
    "# Рассчитать количество пропусков для всех выбранных столбцов. \n",
    "# Принять и обосновать решение о методе работы с пропусками по каждому столбцу, сформировать датафрейм, \n",
    "# в котором пропуски будут отсутствовать."
   ]
  },
  {
   "cell_type": "code",
   "execution_count": null,
   "metadata": {},
   "outputs": [],
   "source": [
    "df.isna().sum()"
   ]
  },
  {
   "cell_type": "code",
   "execution_count": null,
   "metadata": {},
   "outputs": [],
   "source": [
    "# Пропуски по пульсу можно заполнить исходя из среднего арифметического пульса с группировкой по возрасту лошадей.\n",
    "df.pulse.fillna(df.groupby('age').pulse.transform('mean'), inplace=True)"
   ]
  },
  {
   "cell_type": "code",
   "execution_count": null,
   "metadata": {},
   "outputs": [],
   "source": [
    "# Можем сгруппировать датафрейм по outcome, так как вероятно существует взаимосвязь между уровнем \n",
    "# abdominal distension и смертностью лошадей (можно проверить гипотезу путем df.groupby(['abdominal distension', 'outcome']))\n",
    "# Далее мы можем заполнить пропуски медианой по каждой группе из outcome, так как более вероятно, что\n",
    "# признак смертности соотносится с уровнем abdominal distension\n",
    "df['abdominal distension'].fillna(df.groupby('outcome')['abdominal distension'].transform('median'), inplace=True)"
   ]
  },
  {
   "cell_type": "code",
   "execution_count": null,
   "metadata": {},
   "outputs": [],
   "source": [
    "# Нужно посмотреть строку с пропуском по surgery:\n",
    "# print(df.loc[df['surgery'] != 1.0].loc[df['surgery'] != 2.0])\n",
    "# Видим, что строка также не имеет данных по outcome. Уровень surgical lesion = 1.\n",
    "\n",
    "# Пропуск по surgery можно проверить в взаимосвязи с данными по surgical lesion:\n",
    "# print(df.groupby(['surgery', 'surgical lesion']).count())\n",
    "# Видим, что уровень surgical lesion = 1 значительно чаще возникал в случаях, когда проводилась операция\n",
    "\n",
    "# Соответственно, вероятнее всего операция проводилась и мы можем проставить значение 1.0 в пропуске\n",
    "df['surgery'].fillna(1.0, inplace=True)"
   ]
  },
  {
   "cell_type": "code",
   "execution_count": null,
   "metadata": {},
   "outputs": [],
   "source": [
    "# Мы знаем, что лошадь, у которой был пропуск по surgery и есть пропуск по outcome, является взрослой лошадью,\n",
    "# у нее нормальный пульс (0.25-квантиль), у нее отсутствует abdominal distension и предположительно ей сделали операцию.\n",
    "# Посмотрев взаимосвязь данных по смертности с данными по abdominal distension\n",
    "# print(df.groupby(['outcome', 'abdominal distension']).count())\n",
    "# видно, что при отсутствующем abdominal distension лошадь значительно чаще оставалась жива.\n",
    "# Поэтому можем предположить, что такая лошадь выжила, и мы можем проставить 1.0 в пропуске:\n",
    "df['outcome'].fillna(1.0, inplace=True)"
   ]
  },
  {
   "cell_type": "code",
   "execution_count": null,
   "metadata": {},
   "outputs": [],
   "source": [
    "# Проверим как изменятся меры центральной тенденции при каждом способе заполнения пропуска по total protein:\n",
    "# 1) Проверим показатели с учетом незаполненных пропусков:\n",
    "# print(df['total protein'].mean())\n",
    "# print(df['total protein'].median())\n",
    "# print(df['total protein'].mode()[0])\n",
    "\n",
    "# 2) Создадим копии датафреймов для проверки:\n",
    "# df_1 = df.copy(deep=True)\n",
    "# df_2 = df.copy(deep=True)\n",
    "# df_3 = df.copy(deep=True)\n",
    "\n",
    "# 3) Проверим каждый способ заполнения:\n",
    "# а) По среднему арифметическому:\n",
    "\n",
    "# df_1['total protein'].fillna(round(df_1['total protein'].mean(), 1). inplace=True)\n",
    "# print(df_1['total protein'].mean())\n",
    "# print(df_1['total protein'].median())\n",
    "# print(df_1['total protein'].mode()[0])\n",
    "\n",
    "# б) По медиане:\n",
    "\n",
    "# df_2['total protein'].fillna(df_2['total protein'].median(). inplace=True)\n",
    "# print(df_2['total protein'].mean())\n",
    "# print(df_2['total protein'].median())\n",
    "# print(df_2['total protein'].mode()[0])\n",
    "\n",
    "# в) По моде:\n",
    "\n",
    "# df_3['total protein'].fillna(df_3[['total protein'].mode()[0]. inplace=True)\n",
    "# print(df_3['total protein'].mean())\n",
    "# print(df_3['total protein'].median())\n",
    "# print(df_3['total protein'].mode()[0])\n",
    "\n",
    "# Видим, что заполнение средним арифметическим сильно исказит моду данных, поэтому не будет использовать этот способ\n",
    "# Заполнение по моде и медиане меньше искажает меры центральной тенденции, однако если среднее арифметическое\n",
    "# в обоих способах заполнения почти одинаковое, то при заполнении медианой показатель моды меняется на 1, в то время\n",
    "# как при заполнении модой показатель медианы исказится лишь на 0.3.\n",
    "\n",
    "# Заменим пропуски модой:\n",
    "df['total protein'].fillna(df['total protein'].mode()[0], inplace=True)"
   ]
  },
  {
   "cell_type": "code",
   "execution_count": null,
   "metadata": {},
   "outputs": [],
   "source": [
    "# Теперь у нас заполнен весь датафрейм и пропусков нет.\n",
    "df.isna().sum()"
   ]
  }
 ],
 "metadata": {
  "kernelspec": {
   "display_name": "Python 3",
   "language": "python",
   "name": "python3"
  },
  "language_info": {
   "codemirror_mode": {
    "name": "ipython",
    "version": 3
   },
   "file_extension": ".py",
   "mimetype": "text/x-python",
   "name": "python",
   "nbconvert_exporter": "python",
   "pygments_lexer": "ipython3",
   "version": "3.8.3"
  }
 },
 "nbformat": 4,
 "nbformat_minor": 4
}
