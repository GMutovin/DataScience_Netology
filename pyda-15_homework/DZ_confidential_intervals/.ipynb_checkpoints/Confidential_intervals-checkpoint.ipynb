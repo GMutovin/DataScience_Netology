{
 "cells": [
  {
   "cell_type": "markdown",
   "id": "assured-arnold",
   "metadata": {},
   "source": [
    "# Домашнее задание \"Доверительные интервалы. Статистическая проверка гипотез для несвязанных выборок\""
   ]
  },
  {
   "cell_type": "code",
   "execution_count": 11,
   "id": "integral-intervention",
   "metadata": {},
   "outputs": [],
   "source": [
    "import numpy as np\n",
    "import pandas as pd\n",
    "import scipy.stats\n",
    "import matplotlib.pyplot as plt "
   ]
  },
  {
   "cell_type": "markdown",
   "id": "upset-vietnamese",
   "metadata": {},
   "source": [
    "<div class=\"alert alert-info\">\n",
    "<b>Задание № 0</b>\n",
    "\n",
    "Найдите минимально необходимый объем выборки для построения интервальной оценки среднего.\n",
    "\n",
    "- желаемая точность $\\Delta$ = 3;\n",
    "- дисперсия $\\sigma^2$  = 225;\n",
    "- уровень доверия $\\beta$ = 0.95.\n",
    "</div>"
   ]
  },
  {
   "cell_type": "code",
   "execution_count": 2,
   "id": "expensive-mambo",
   "metadata": {},
   "outputs": [],
   "source": [
    "sko = 225**0.5\n",
    "a = 0.05\n",
    "z = 1.96 # Найти по табличке Z-оценки для нормального распределения - если уровень доверия 95%, то нам нужно значение, слева от которого лежит 97,5% значений (0.975)\n",
    "accuracy = 3 "
   ]
  },
  {
   "cell_type": "code",
   "execution_count": 3,
   "id": "opened-consensus",
   "metadata": {},
   "outputs": [],
   "source": [
    " n = ((sko *z) / accuracy) ** 2"
   ]
  },
  {
   "cell_type": "code",
   "execution_count": 4,
   "id": "theoretical-specialist",
   "metadata": {},
   "outputs": [
    {
     "name": "stdout",
     "output_type": "stream",
     "text": [
      "Минимально необходимый объем выборки: 96\n"
     ]
    }
   ],
   "source": [
    "print(f'Минимально необходимый объем выборки: {round(n)}')"
   ]
  },
  {
   "cell_type": "markdown",
   "id": "horizontal-status",
   "metadata": {},
   "source": [
    "<div class=\"alert alert-info\">\n",
    "<b>Задание № 1</b>\n",
    "\n",
    "Постройте `98% доверительный интервал` для среднего значения, если известно, что\n",
    "\n",
    "- объем выборки n = 25;\n",
    "- среднее значение по выборке $\\overline x$ = 130;\n",
    "- Из достоверных источников известно стандартное отклонение $\\sigma = 12$.\n",
    "</div>"
   ]
  },
  {
   "cell_type": "code",
   "execution_count": 5,
   "id": "immediate-shoot",
   "metadata": {},
   "outputs": [],
   "source": [
    "mean_value = 130\n",
    "sko = 12\n",
    "n = 25\n",
    "z_a = 2.33 "
   ]
  },
  {
   "cell_type": "code",
   "execution_count": 6,
   "id": "requested-genius",
   "metadata": {},
   "outputs": [
    {
     "name": "stdout",
     "output_type": "stream",
     "text": [
      "98% доверительный интервал для среднего значения = от 124.41 до 135.59\n"
     ]
    }
   ],
   "source": [
    "accuracy = (sko / (n**0.5)) * z_a\n",
    "left_, right_ = (mean_value - accuracy), (mean_value + accuracy)\n",
    "print(f'98% доверительный интервал для среднего значения = от {round(left_, 2)} до {round(right_, 2)}')"
   ]
  },
  {
   "cell_type": "markdown",
   "id": "realistic-general",
   "metadata": {},
   "source": [
    "### 2. Вам даны две выборки роста мужчин и женщин. Докажите, используя t-Тест Стьдента, что различия между выборками незначительно, если уровень значимости равен 0.001"
   ]
  },
  {
   "cell_type": "markdown",
   "id": "native-neighborhood",
   "metadata": {},
   "source": [
    "<div class=\"alert alert-info\">\n",
    "<b>Задание № 2</b>\n",
    "\n",
    "Даны две выборки роста мужчин и женщин. \n",
    "- Докажите, используя `t-Тест Стьдента`, что различие между выборками незначительно, если уровень значимости равен $\\alpha$ `= 0.001`.\n",
    "- Покажите различия визуально\n",
    "</div>"
   ]
  },
  {
   "cell_type": "code",
   "execution_count": 8,
   "id": "chicken-popularity",
   "metadata": {},
   "outputs": [],
   "source": [
    "import scipy.stats as stats\n",
    "\n",
    "population_men  = stats.norm.rvs(loc=171, scale=19, size=11000000)  # Выборка мужчин со средним ростом 171\n",
    "population_women = stats.norm.rvs(loc=165, scale=16, size=12000)  # Выборка женщин со средним ростом 165\n",
    "\n",
    "t, p = stats.ttest_ind(population_men, population_women)"
   ]
  },
  {
   "cell_type": "code",
   "execution_count": 9,
   "id": "hearing-round",
   "metadata": {},
   "outputs": [
    {
     "data": {
      "text/plain": [
       "(35.88446260356449, 5.5427848753850205e-282)"
      ]
     },
     "execution_count": 9,
     "metadata": {},
     "output_type": "execute_result"
    }
   ],
   "source": [
    "# Поскольку p < a и t достаточно высокий, \n",
    "# то можно отвергнуть нулевую гипотезу и принять альтернативную - выборки различны\n",
    "t, p"
   ]
  },
  {
   "cell_type": "code",
   "execution_count": 14,
   "id": "identical-disclaimer",
   "metadata": {},
   "outputs": [
    {
     "data": {
      "image/png": "[encoded data removed]",
      "text/plain": [
       "<Figure size 432x288 with 1 Axes>"
      ]
     },
     "metadata": {
      "needs_background": "light"
     },
     "output_type": "display_data"
    }
   ],
   "source": [
    "# Почему-то обе выборки не отображаются на одной гистограмме\n",
    "plt.hist(population_women, color='orange', bins=70);\n",
    "plt.hist(population_men, color='green', bins=70);\n",
    "plt.show()"
   ]
  },
  {
   "cell_type": "markdown",
   "id": "least-switzerland",
   "metadata": {},
   "source": [
    "### 3. Определите объем необходимой выборки для исследования среднего чека за кофе в случайном городе, если известно, что в этом городе стандартное отклонение = 150, уровень доверия = 95%. Погрешность 50 рублей."
   ]
  },
  {
   "cell_type": "markdown",
   "id": "liquid-membrane",
   "metadata": {},
   "source": [
    "<div class=\"alert alert-info\">\n",
    "<b>Задание № 3</b>\n",
    "\n",
    "Определите объем необходимой выборки для исследования среднего чека за кофе в случайном городе если известно, что в этом городе:\n",
    "\n",
    "- стандартное отклонение $\\sigma = 150$;\n",
    "- уровень доверия $\\beta$  = 95%;\n",
    "- Погрешность $\\Delta = 50$ рублей.\n",
    "</div>"
   ]
  },
  {
   "cell_type": "code",
   "execution_count": 15,
   "id": "wooden-probe",
   "metadata": {},
   "outputs": [
    {
     "name": "stdout",
     "output_type": "stream",
     "text": [
      "Объем необходимой выборки для исследования среднего чека за кофе в случайном городе: 35\n"
     ]
    }
   ],
   "source": [
    "sko = 150\n",
    "accuracy = 50\n",
    "z = 1.96\n",
    "n = ((sko * z) / accuracy) ** 2\n",
    "print(f'Объем необходимой выборки для исследования среднего чека за кофе в случайном городе: {round(n)}')"
   ]
  },
  {
   "cell_type": "markdown",
   "id": "operational-falls",
   "metadata": {},
   "source": [
    "<div class=\"alert alert-info\">\n",
    "<b>Задание № 4</b>\n",
    "\n",
    "Представьте, что вы хотите разоблачить \"волшебника\" который считает, что умеет предсказывать погоду на завтра, отвечая просто: дождь или солнце. Вы пронаблюдали за ответами \"волшебника\" в течении какого-то периода времени и получили некие результаты (см.ниже).\n",
    "\n",
    "Можно ли сказать, что маг действительно умеет предсказывать погоду? Уровень значимости принять за `0.05` ($\\alpha=0.05$).\n",
    "</div>"
   ]
  },
  {
   "cell_type": "code",
   "execution_count": 16,
   "id": "simple-postage",
   "metadata": {},
   "outputs": [
    {
     "data": {
      "text/html": [
       "<div>\n",
       "<style scoped>\n",
       "    .dataframe tbody tr th:only-of-type {\n",
       "        vertical-align: middle;\n",
       "    }\n",
       "\n",
       "    .dataframe tbody tr th {\n",
       "        vertical-align: top;\n",
       "    }\n",
       "\n",
       "    .dataframe thead th {\n",
       "        text-align: right;\n",
       "    }\n",
       "</style>\n",
       "<table border=\"1\" class=\"dataframe\">\n",
       "  <thead>\n",
       "    <tr style=\"text-align: right;\">\n",
       "      <th></th>\n",
       "      <th>Ответ волшебника</th>\n",
       "      <th>Реальность</th>\n",
       "    </tr>\n",
       "  </thead>\n",
       "  <tbody>\n",
       "    <tr>\n",
       "      <th>Дождь</th>\n",
       "      <td>10</td>\n",
       "      <td>15</td>\n",
       "    </tr>\n",
       "    <tr>\n",
       "      <th>Солнце</th>\n",
       "      <td>39</td>\n",
       "      <td>34</td>\n",
       "    </tr>\n",
       "  </tbody>\n",
       "</table>\n",
       "</div>"
      ],
      "text/plain": [
       "        Ответ волшебника  Реальность\n",
       "Дождь                 10          15\n",
       "Солнце                39          34"
      ]
     },
     "execution_count": 16,
     "metadata": {},
     "output_type": "execute_result"
    }
   ],
   "source": [
    "observations = pd.DataFrame([[10,15],[39,34]],\n",
    "                            index=['Дождь','Солнце'],\n",
    "                            columns=['Ответ волшебника','Реальность'])\n",
    "observations"
   ]
  },
  {
   "cell_type": "code",
   "execution_count": 17,
   "id": "reserved-interpretation",
   "metadata": {},
   "outputs": [
    {
     "data": {
      "text/plain": [
       "(0.5811965811965812, 0.35417955365927367)"
      ]
     },
     "execution_count": 17,
     "metadata": {},
     "output_type": "execute_result"
    }
   ],
   "source": [
    "oddsratio, pvalue = stats.fisher_exact(observations)\n",
    "\n",
    "oddsratio, pvalue"
   ]
  },
  {
   "cell_type": "code",
   "execution_count": 18,
   "id": "above-emerald",
   "metadata": {},
   "outputs": [
    {
     "name": "stdout",
     "output_type": "stream",
     "text": [
      "P-value > a. \"Волшебник\" скорее всего умеет предсказывать погоду\n"
     ]
    }
   ],
   "source": [
    "print('P-value > a. \"Волшебник\" скорее всего умеет предсказывать погоду')"
   ]
  },
  {
   "cell_type": "markdown",
   "id": "bulgarian-roman",
   "metadata": {},
   "source": [
    "<div class=\"alert alert-info\">\n",
    "<b>Задание № 5</b> \n",
    "\n",
    "Используя функцию mean_confidence_interval(data, confidence), постройте доверительный интервал с уровнем доверия $\\beta = 90\\%$ для выборки:\n",
    "\n",
    "</div>"
   ]
  },
  {
   "cell_type": "code",
   "execution_count": 19,
   "id": "nervous-congress",
   "metadata": {},
   "outputs": [],
   "source": [
    "data_3 = [4,5,8,9,6,7,5,6,7,8,5,6,7,0,9,8,4,6,\n",
    "        7,9,8,6,5,7,8,9,6,7,5,8,6,7,9,5,10]\n",
    "\n"
   ]
  },
  {
   "cell_type": "code",
   "execution_count": 21,
   "id": "secondary-vintage",
   "metadata": {},
   "outputs": [],
   "source": [
    "def mean_confidence_interval(data, confidence=0.90):   \n",
    "    n = len(data)\n",
    "    m, se = np.mean(data), scipy.stats.sem(data)\n",
    "    h = se * scipy.stats.t.ppf((1 + confidence)/2, n)  #  функция ppf из scipy возвращает нам перцентиль\n",
    "    return m-h, m, m+h "
   ]
  },
  {
   "cell_type": "code",
   "execution_count": 22,
   "id": "handled-disability",
   "metadata": {},
   "outputs": [
    {
     "data": {
      "text/plain": [
       "(6.074074746111319, 6.628571428571429, 7.183068111031539)"
      ]
     },
     "execution_count": 22,
     "metadata": {},
     "output_type": "execute_result"
    }
   ],
   "source": [
    "mean_confidence_interval(data_3)"
   ]
  },
  {
   "cell_type": "markdown",
   "id": "thirty-beauty",
   "metadata": {},
   "source": [
    "<div class=\"alert alert-info\">\n",
    "<b>Задание № 6</b>\n",
    "\n",
    "Принадлежат ли выборки data_1 и data_2 одному множеству? \n",
    "    \n",
    "- Оцените это с помощью известных вам тестов для проверок статистических гипотез;\n",
    "- Покажите различия визуально.\n",
    "</div>"
   ]
  },
  {
   "cell_type": "code",
   "execution_count": 23,
   "id": "unnecessary-lightning",
   "metadata": {},
   "outputs": [],
   "source": [
    "data_1 = [4,5,8,9,6,7,5,6,7,8,5,6,7,0,9,8,4,\n",
    "          6,7,9,8,6,5,7,8,9,6,7,5,8,6,7,9,5,10]\n",
    "\n",
    "data_2 = [8,5,6,7,0,1,8,4,6,7,0,2,6,5,7,5,3,5,3,\n",
    "          5,3,5,5,8,7,6,4,5,3,5,4,6,4,5,3,2,6,4,\n",
    "          2,6,1,0,4,3,5,4,3,4,5,4,3,4,5,4,3,4,5,\n",
    "          3,4,4,1,2,4,3,1,2,4,3,2,1,5,3,4,6,4,5,\n",
    "          3,2,4,5,6,4,3,1,3,5,3,4,4,4,2,5,3]\n",
    "\n"
   ]
  },
  {
   "cell_type": "code",
   "execution_count": 24,
   "id": "handy-pickup",
   "metadata": {},
   "outputs": [
    {
     "data": {
      "text/plain": [
       "(7.35744682757447, 2.1159475572725764e-11)"
      ]
     },
     "execution_count": 24,
     "metadata": {},
     "output_type": "execute_result"
    }
   ],
   "source": [
    "# Уровень t достаточно высокий и p достаточно низкий (меньше a = 0.001), соответственно выборки различны\n",
    "t, p = stats.ttest_ind(data_1, data_2)\n",
    "t, p"
   ]
  },
  {
   "cell_type": "code",
   "execution_count": 25,
   "id": "negative-separate",
   "metadata": {},
   "outputs": [
    {
     "data": {
      "image/png": "[encoded data removed]",
      "text/plain": [
       "<Figure size 432x288 with 1 Axes>"
      ]
     },
     "metadata": {
      "needs_background": "light"
     },
     "output_type": "display_data"
    }
   ],
   "source": [
    "plt.hist(data_1, bins=70);\n",
    "plt.hist(data_2, bins=70);"
   ]
  },
  {
   "cell_type": "markdown",
   "id": "sorted-territory",
   "metadata": {},
   "source": [
    "<div class=\"alert alert-info\">\n",
    "<b>Задание № 7 (задание без подвоха)</b>\n",
    "\n",
    "На примере датасета про жилье в New York City, мы сталкивались с примером, когда переменная имеет не совсем нормальное распределение. \n",
    "\n",
    "- Предположим, Вы сформировали две гипотезы:\n",
    "    - нулевая гипотеза - распределение нормальное;\n",
    "    - альтернативная гипотеза - распределение ненормальное.\n",
    "- допустим, вы применили какой-то тест (сейчас неважно какой), который показал уровень значимости  `p-value = 0.03`. Каковы будут ваши выводы? Будем считать что у нас нормальное распределение или все-таки нет?)\n",
    "    \n",
    "</div>"
   ]
  },
  {
   "cell_type": "code",
   "execution_count": 26,
   "id": "complimentary-norman",
   "metadata": {},
   "outputs": [],
   "source": [
    "# Нужно принять альтернативную гипотезу, так как значение p-value ниже традиционного значения a (0.05)\n",
    "# Распределение ненормальное"
   ]
  },
  {
   "cell_type": "markdown",
   "id": "continental-admission",
   "metadata": {},
   "source": [
    "<div class=\"alert alert-info\">\n",
    "<b>Задание № 8</b>\n",
    "    \n",
    "Первая выборка — это пациенты, которых лечили препаратом `А`.  Вторая выборка — пациенты, которых лечили препаратом `B`.\n",
    "\n",
    "Значения в выборках — это некоторая характеристика эффективности лечения (уровень метаболита в крови, температура через три дня после начала лечения, срок выздоровления, число койко-дней, и т.д.) \n",
    "\n",
    "- Требуется выяснить, имеется ли значимое различие эффективности препаратов `А` и `B`, или различия являются чисто случайными и объясняются «естественной» дисперсией выбранной характеристики?  (`уровень значимости принять за 0.05 (5%)`)\n",
    "\n",
    "- При каком минимальном p-value различия были бы уже значимы? \n",
    "    \n",
    "- Если выборки незначительно отличаются, то продемонстрируйте это визуально\n",
    "</div>"
   ]
  },
  {
   "cell_type": "code",
   "execution_count": 27,
   "id": "extreme-requirement",
   "metadata": {},
   "outputs": [
    {
     "data": {
      "text/plain": [
       "1.2012822571340978"
      ]
     },
     "execution_count": 27,
     "metadata": {},
     "output_type": "execute_result"
    }
   ],
   "source": [
    "np.random.seed(11)\n",
    "A = stats.norm.rvs(scale=50,loc=10,size=300)\n",
    "B = stats.norm.rvs(scale=10,loc=-7.5,size=300)\n",
    "pharmaceuticals=np.concatenate((A,B))\n",
    "pharmaceuticals.mean()"
   ]
  },
  {
   "cell_type": "code",
   "execution_count": 28,
   "id": "light-knock",
   "metadata": {},
   "outputs": [
    {
     "data": {
      "text/plain": [
       "Ttest_indResult(statistic=6.1593583482504535, pvalue=2.156662854865036e-09)"
      ]
     },
     "execution_count": 28,
     "metadata": {},
     "output_type": "execute_result"
    }
   ],
   "source": [
    "# Различия случайны и объясняются «естественной» дисперсией выбранной характеристики\n",
    "stats.ttest_ind(a=A,b=B,equal_var=False) "
   ]
  },
  {
   "cell_type": "code",
   "execution_count": 29,
   "id": "threatened-transportation",
   "metadata": {},
   "outputs": [],
   "source": [
    "# Различия были бы значимы при p-value > 0.05 (например, 0.051)"
   ]
  },
  {
   "cell_type": "code",
   "execution_count": 30,
   "id": "olive-tribute",
   "metadata": {},
   "outputs": [
    {
     "data": {
      "image/png": "[encoded data removed]",
      "text/plain": [
       "<Figure size 432x288 with 1 Axes>"
      ]
     },
     "metadata": {
      "needs_background": "light"
     },
     "output_type": "display_data"
    }
   ],
   "source": [
    "plt.hist(A, bins=70);\n",
    "plt.hist(B, bins=70);"
   ]
  },
  {
   "cell_type": "code",
   "execution_count": null,
   "id": "northern-orchestra",
   "metadata": {},
   "outputs": [],
   "source": []
  }
 ],
 "metadata": {
  "kernelspec": {
   "display_name": "Python 3",
   "language": "python",
   "name": "python3"
  },
  "language_info": {
   "codemirror_mode": {
    "name": "ipython",
    "version": 3
   },
   "file_extension": ".py",
   "mimetype": "text/x-python",
   "name": "python",
   "nbconvert_exporter": "python",
   "pygments_lexer": "ipython3",
   "version": "3.8.8"
  }
 },
 "nbformat": 4,
 "nbformat_minor": 5
}
