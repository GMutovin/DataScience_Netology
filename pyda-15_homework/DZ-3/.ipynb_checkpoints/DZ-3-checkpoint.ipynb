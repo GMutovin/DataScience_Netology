{
 "cells": [
  {
   "cell_type": "code",
   "execution_count": null,
   "metadata": {},
   "outputs": [],
   "source": [
    "# Домашнее задание № 3. Задание № 1\n",
    "\n",
    "geo_metki_list = []\n",
    "for geo_metki in ids.values():\n",
    "    for geo_metka in geo_metki:\n",
    "        geo_metki_list.append(geo_metka)\n",
    "print(set(geo_metki_list))\n",
    "    "
   ]
  },
  {
   "cell_type": "code",
   "execution_count": null,
   "metadata": {},
   "outputs": [],
   "source": [
    "# Домашнее задание № 3. Задание № 2\n",
    "\n",
    "queries = [\n",
    "    'смотреть сериалы онлайн',\n",
    "    'новости спорта',\n",
    "    'афиша кино',\n",
    "    'курс доллара',\n",
    "    'сериалы этим летом',\n",
    "    'курс по питону',\n",
    "    'сериалы про спорт',\n",
    "]\n",
    "\n",
    "newdict = {}\n",
    "for query in queries:\n",
    "    len_list = len(query.split(' '))\n",
    "    if len_list not in newdict:\n",
    "        newdict[len_list] = 1\n",
    "    else:\n",
    "        newdict[len_list] += 1\n",
    "for key, value in newdict.items():\n",
    "    print(f'Поисковых запросов, содержащих {key} слов(а): {round(value / len(queries) * 100, 2)}%')"
   ]
  },
  {
   "cell_type": "code",
   "execution_count": null,
   "metadata": {},
   "outputs": [],
   "source": [
    "# Домашнее задание № 3. Задание № 3\n",
    "\n",
    "results = {\n",
    "    'vk': {'revenue': 103, 'cost': 98},\n",
    "    'yandex': {'revenue': 179, 'cost': 153},\n",
    "    'facebook': {'revenue': 103, 'cost': 110},\n",
    "    'adwords': {'revenue': 35, 'cost': 34},\n",
    "    'twitter': {'revenue': 11, 'cost': 24},\n",
    "}\n",
    "\n",
    "for result in results.values():\n",
    "    result['ROI'] = round((((result['revenue'] / result['cost']) - 1) * 100), 2)\n",
    "print(results)"
   ]
  },
  {
   "cell_type": "code",
   "execution_count": null,
   "metadata": {},
   "outputs": [],
   "source": [
    "# Домашнее задание № 3. Задание № 4\n",
    "\n",
    "stats = {'facebook': 55, 'yandex': 115, 'vk': 120, 'google': 99, 'email': 42, 'ok': 98}\n",
    "\n",
    "max_sell = 0\n",
    "best_chanel = None\n",
    "for key, value in stats.items():\n",
    "    if value > max_sell:\n",
    "        max_sell = value\n",
    "        best_chanel = key\n",
    "print(f'Максимальный объем продаж на рекламном канале: {best_chanel}')"
   ]
  },
  {
   "cell_type": "code",
   "execution_count": null,
   "metadata": {},
   "outputs": [],
   "source": [
    "# Домашнее задание № 3. Задание № 5\n",
    "    \n",
    "value = my_list[-1]\n",
    "for element in reversed(my_list[:-1]):\n",
    "    value = {element: value}\n",
    "print(value)"
   ]
  },
  {
   "cell_type": "code",
   "execution_count": null,
   "metadata": {},
   "outputs": [],
   "source": [
    "# Домашнее задание № 3. Задание № 6\n",
    "\n",
    "cook_book = {\n",
    "  'салат': [\n",
    "     {'ingridient_name': 'сыр', 'quantity': 50, 'measure': 'гр'},\n",
    "     {'ingridient_name': 'томаты', 'quantity': 2, 'measure': 'шт'},\n",
    "     {'ingridient_name': 'огурцы', 'quantity': 20, 'measure': 'гр'},\n",
    "     {'ingridient_name': 'маслины', 'quantity': 10, 'measure': 'гр'},\n",
    "     {'ingridient_name': 'оливковое масло', 'quantity': 20, 'measure': 'мл'},\n",
    "     {'ingridient_name': 'салат', 'quantity': 10, 'measure': 'гр'},\n",
    "     {'ingridient_name': 'перец', 'quantity': 20, 'measure': 'гр'}\n",
    "    ],\n",
    "  'пицца': [\n",
    "     {'ingridient_name': 'сыр', 'quantity': 20, 'measure': 'гр'},\n",
    "     {'ingridient_name': 'колбаса', 'quantity': 30, 'measure': 'гр'},\n",
    "     {'ingridient_name': 'бекон', 'quantity': 30, 'measure': 'гр'},\n",
    "     {'ingridient_name': 'оливки', 'quantity': 10, 'measure': 'гр'},\n",
    "     {'ingridient_name': 'томаты', 'quantity': 20, 'measure': 'гр'},\n",
    "     {'ingridient_name': 'тесто', 'quantity': 100, 'measure': 'гр'},   \n",
    "    ],\n",
    "  'лимонад': [\n",
    "     {'ingridient_name': 'лимон', 'quantity': 1, 'measure': 'шт'},\n",
    "     {'ingridient_name': 'вода', 'quantity': 200, 'measure': 'мл'},\n",
    "     {'ingridient_name': 'сахар', 'quantity': 10, 'measure': 'гр'},\n",
    "     {'ingridient_name': 'лайм', 'quantity': 20, 'measure': 'гр'},    \n",
    "    ]\n",
    "}\n",
    "\n",
    "portions = input('Введите количество порций: ')\n",
    "new_list = []\n",
    "new_dict = {}\n",
    "for dish in cook_book.values():\n",
    "    for element in dish:\n",
    "        new_list.append(element)\n",
    "for i in new_list:\n",
    "    element = [i['ingridient_name'], i['measure']]\n",
    "    if tuple(element) in new_dict:\n",
    "        new_dict[tuple(element)] += i['quantity']\n",
    "    else:\n",
    "        new_dict[tuple(element)] = i['quantity']\n",
    "for tup, value in new_dict.items():\n",
    "    new_dict[tup] = value * int(portions)\n",
    "    print(f'{tup[0].capitalize()}: {new_dict[tup]} {tup[1]}')"
   ]
  }
 ],
 "metadata": {
  "kernelspec": {
   "display_name": "Python 3",
   "language": "python",
   "name": "python3"
  },
  "language_info": {
   "codemirror_mode": {
    "name": "ipython",
    "version": 3
   },
   "file_extension": ".py",
   "mimetype": "text/x-python",
   "name": "python",
   "nbconvert_exporter": "python",
   "pygments_lexer": "ipython3",
   "version": "3.8.3"
  }
 },
 "nbformat": 4,
 "nbformat_minor": 4
}
