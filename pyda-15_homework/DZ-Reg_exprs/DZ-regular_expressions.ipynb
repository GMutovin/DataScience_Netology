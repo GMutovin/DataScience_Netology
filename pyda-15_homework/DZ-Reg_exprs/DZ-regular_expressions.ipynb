{
 "cells": [
  {
   "cell_type": "markdown",
   "metadata": {},
   "source": [
    "# Домашнее задание \"Регулярные выражения\""
   ]
  },
  {
   "cell_type": "markdown",
   "metadata": {},
   "source": [
    "# Задание 1"
   ]
  },
  {
   "cell_type": "code",
   "execution_count": null,
   "metadata": {},
   "outputs": [],
   "source": [
    "# #Напишите функцию, которая принимает на вход строку и проверяет является ли она валидным транспортным номером \n",
    "# (1 буква, 3 цифры, 2 буквы, 2-3 цифры). \n",
    "# Обратите внимание, что не все буквы кириллического алфавита используются в транспортных номерах.\n",
    "\n",
    "# Если номер валиден, то функция должна возвращать отдельно номер и регион.\n",
    "\n",
    "# Примеры работы программы:\n",
    "\n",
    "# car_id = 'A222BC96'\n",
    "# Результат: Номер A222BС валиден. Регион: 96\n",
    "\n",
    "# car_id = 'АБ22ВВ193'\n",
    "# Результат: Номер не валиден"
   ]
  },
  {
   "cell_type": "code",
   "execution_count": null,
   "metadata": {},
   "outputs": [],
   "source": [
    "import re\n",
    "\n",
    "def vehicle_num_check(string):\n",
    "    car_id = re.search(r'^[АВЕКМНОРСТУХABEKMHOPCTYX]\\d{3}[АВЕКМНОРСТУХABEKMHOPCTYX]{2}\\d{2,3}', string, re.IGNORECASE)\n",
    "    if car_id:\n",
    "        print(f'Результат: Номер {car_id[0][:6]} валиден. Регион: {car_id[0][6:]}')\n",
    "    else:\n",
    "        print('Результат: Номер не валиден')"
   ]
  },
  {
   "cell_type": "code",
   "execution_count": null,
   "metadata": {},
   "outputs": [],
   "source": [
    "vehicle_num_check('В222ВВ193')"
   ]
  },
  {
   "cell_type": "markdown",
   "metadata": {},
   "source": [
    "# Задание 2"
   ]
  },
  {
   "cell_type": "code",
   "execution_count": 8,
   "metadata": {},
   "outputs": [],
   "source": [
    "# Напишите функцию, которая будет удалять все последовательные повторы слов \n",
    "# из заданной строки при помощи регулярных выражений.\n",
    "\n",
    "# Пример работы программы:\n",
    "\n",
    "some_string = 'Напишите функцию функцию, которая будет будет будет будет удалять все все все все последовательные повторы слов из из из из заданной строки строки при помощи регулярных выражений.'\n",
    "\n",
    "# Результат:\n",
    "# Напишите функцию, которая будет удалять все последовательные повторы слов из заданной строки при помощи регулярных выражений."
   ]
  },
  {
   "cell_type": "code",
   "execution_count": 34,
   "metadata": {},
   "outputs": [],
   "source": [
    "import re\n",
    "def del_repeated_words(string):\n",
    "    new_string = re.sub(r'\\b(\\w+)(\\s+\\1)+\\b', r'\\1', string)\n",
    "    return new_string"
   ]
  },
  {
   "cell_type": "code",
   "execution_count": 35,
   "metadata": {},
   "outputs": [
    {
     "data": {
      "text/plain": [
       "'Напишите функцию, которая будет удалять все последовательные повторы слов из заданной строки при помощи регулярных выражений.'"
      ]
     },
     "execution_count": 35,
     "metadata": {},
     "output_type": "execute_result"
    }
   ],
   "source": [
    "del_repeated_words(some_string)"
   ]
  },
  {
   "cell_type": "markdown",
   "metadata": {},
   "source": [
    "# Задание 3"
   ]
  },
  {
   "cell_type": "code",
   "execution_count": null,
   "metadata": {},
   "outputs": [],
   "source": [
    "# Напишите функцию, которая будет возвращать акроним по переданной в нее строке со словами.\n",
    "\n",
    "# Примеры работы программы:\n",
    "\n",
    "# some_words = 'Информационные технологии'\n",
    "# Результат: ИТ\n",
    "\n",
    "# some_words = 'Near Field Communication'\n",
    "# Результат: NFC"
   ]
  },
  {
   "cell_type": "code",
   "execution_count": null,
   "metadata": {},
   "outputs": [],
   "source": [
    "import re\n",
    "def acronim(string):\n",
    "    res = re.findall(r'\\b[А-Я, A-Z]{1}', string, re.IGNORECASE)\n",
    "    res = re.sub(r'\\s+', '', ''.join(res))\n",
    "    return ''.join(res).upper()\n"
   ]
  },
  {
   "cell_type": "code",
   "execution_count": null,
   "metadata": {},
   "outputs": [],
   "source": [
    "acronim('Near Field Communication')"
   ]
  },
  {
   "cell_type": "markdown",
   "metadata": {},
   "source": [
    "# Задание 4"
   ]
  },
  {
   "cell_type": "code",
   "execution_count": 3,
   "metadata": {},
   "outputs": [],
   "source": [
    "# Напишите функцию, которая будет принимать на вход список email-адресов и \n",
    "# выводить их распределение по доменным зонам.\n",
    "\n",
    "# Пример работы программы:\n",
    "\n",
    "# emails = ['test@gmail.com', 'xyz@test.in', 'test@ya.ru', 'xyz@mail.ru', 'xyz@ya.ru', 'xyz@gmail.com']\n",
    "\n",
    "# Результат:\n",
    "\n",
    "# gmail.com: 2\n",
    "# test.in: 1 \n",
    "# ya.ru: 2 \n",
    "# mail.ru: 1"
   ]
  },
  {
   "cell_type": "code",
   "execution_count": 86,
   "metadata": {},
   "outputs": [],
   "source": [
    "import re\n",
    "\n",
    "def domens_zone(string):\n",
    "    domens_list = []\n",
    "    domens_dict = {}\n",
    "    for email in string:\n",
    "        domen = re.findall(r'@(.+)', email)\n",
    "        domens_list.append(''.join(domen))\n",
    "    for i in domens_list:\n",
    "        if i not in domens_dict.keys():\n",
    "            domens_dict[i] = 1\n",
    "        else:\n",
    "            domens_dict[i] += 1\n",
    "    for k, v in domens_dict.items():\n",
    "        print(f'{k}: {v}')\n"
   ]
  },
  {
   "cell_type": "code",
   "execution_count": 87,
   "metadata": {},
   "outputs": [
    {
     "name": "stdout",
     "output_type": "stream",
     "text": [
      "gmail.com: 2\n",
      "test.in: 1\n",
      "ya.ru: 2\n",
      "mail.ru: 1\n"
     ]
    }
   ],
   "source": [
    "domens_zone(emails)"
   ]
  },
  {
   "cell_type": "markdown",
   "metadata": {},
   "source": [
    "# Задание 5"
   ]
  },
  {
   "cell_type": "code",
   "execution_count": 104,
   "metadata": {},
   "outputs": [],
   "source": [
    "# Напишите функцию, которая будет подсчитывать сколько слов начинается на гласные, \n",
    "# а сколько на согласные буквы в тексте \n",
    "# (текст может быть написан как с использованием букв кириллицы, так и латиницы).\n",
    "\n",
    "# Пример работы программы:\n",
    "\n",
    "some_text = 'Эталонной реализацией Python является интерпретатор CPython, поддерживающий большинство активно используемых платформ. Он распространяется под свободной лицензией Python Software Foundation License, позволяющей использовать его без ограничений в любых приложениях, включая проприетарные.'\n",
    "\n",
    "# Результат:\n",
    "\n",
    "# Слов на гласные буквы: 9\n",
    "# Слов на согласные буквы: 21"
   ]
  },
  {
   "cell_type": "code",
   "execution_count": 105,
   "metadata": {},
   "outputs": [],
   "source": [
    "def words_start_count(string):\n",
    "    res_vowels = re.findall(r'\\b[QEYUIOAJЁУЕАОЭЯИЮ]', string, re.IGNORECASE)\n",
    "    res_cons = re.findall(r'\\b[WRTPSDFGHKLZXCVBNMЙЦКНГШЩЗХФВПРЛДЖЧСМТБ]', string, re.IGNORECASE)\n",
    "    print(f'Слов на гласные буквы: {len(res_vowels)}')\n",
    "    print(f'Слов на гласные буквы: {len(res_cons)}')"
   ]
  },
  {
   "cell_type": "code",
   "execution_count": 106,
   "metadata": {},
   "outputs": [
    {
     "name": "stdout",
     "output_type": "stream",
     "text": [
      "Слов на гласные буквы: 9\n",
      "Слов на гласные буквы: 21\n"
     ]
    }
   ],
   "source": [
    "words_start_count(some_text)"
   ]
  },
  {
   "cell_type": "markdown",
   "metadata": {},
   "source": [
    "# Задание 6"
   ]
  },
  {
   "cell_type": "code",
   "execution_count": 107,
   "metadata": {},
   "outputs": [],
   "source": [
    "# Напишите функцию, которая будет проверять номер сотового телефона на валидность \n",
    "#(только для российского формата), если он валиден, то переводить его в формат:\n",
    "# +7-xxx-xxx-xx-xx\n",
    "# Постарайтесь предусмотреть как можно больше адекватных форматов изначального ввода номера. \n",
    "#Примеры работы программы:\n",
    "\n",
    "#phone = '+7 955 555-55-55'\n",
    "# Результат: +7-950-555-55-55\n",
    "\n",
    "# phone = '8(955)555-55-55'\n",
    "# Результат: +7-950-555-55-55\n",
    "\n",
    "# phone = '+7 955 555 55 55'\n",
    "# Результат: +7-950-555-55-55\n",
    "\n",
    "# phone = '7(955) 555-55-55'\n",
    "# Результат: +7-950-555-55-55\n",
    "\n",
    "# phone = '423-555-55-5555'\n",
    "# Результат: Номер не валиден\n",
    "\n",
    "# phone = '123-456-789'\n",
    "# Результат: Номер не валиден"
   ]
  },
  {
   "cell_type": "code",
   "execution_count": 181,
   "metadata": {},
   "outputs": [],
   "source": [
    "def valid_phone_num(number):\n",
    "    valid_number = None\n",
    "    if re.search(r'(\\+[7]{1}\\s\\d{3}\\s\\d{3}\\-\\d{2}\\-\\d{2})', number):\n",
    "        valid_number = re.search(r'(\\s\\d{3}\\s\\d{3}\\-\\d{2}\\-\\d{2})', number)\n",
    "        valid_number = valid_number.group().replace(' ', '-')\n",
    "    elif re.search(r'(^[+][7, 8]{1}\\(\\d{3}\\)\\d{3}\\-\\d{2}\\-\\d{2})', number):\n",
    "        valid_number = re.search(r'(\\(\\d{3}\\)\\d{3}\\-\\d{2}\\-\\d{2})', number)\n",
    "        valid_number = valid_number.group().replace('(', '-').replace(')', '-')\n",
    "    elif re.search(r'(\\+[7]{1}\\s\\d{3}\\s\\d{3}\\s\\d{2}\\s\\d{2})', number):\n",
    "        valid_number = re.search(r'(\\s\\d{3}\\s\\d{3}\\s\\d{2}\\s\\d{2})', number)\n",
    "        valid_number = valid_number.group().replace(' ', '-')\n",
    "    elif re.search(r'(^[+][7,8]{1}\\(\\d{3}\\)\\s\\d{3}\\-\\d{2}\\-\\d{2})', number):\n",
    "        valid_number = re.search(r'(\\(\\d{3}\\)\\s\\d{3}\\-\\d{2}\\-\\d{2})', number)\n",
    "        valid_number = valid_number.group().replace(' ', '').replace('(', '-').replace(')', '-')\n",
    "    elif re.search(r'(\\+[7]{1}\\(\\d{3}\\)\\s\\d{3}\\-\\d{2}\\-\\d{2})', number):\n",
    "        valid_number = re.search(r'(\\(\\d{3}\\)\\s\\d{3}\\-\\d{2}\\-\\d{2})', number)\n",
    "        valid_number = valid_number.group().replace(' ', '').replace('(', '-').replace(')', '-')\n",
    "    elif re.search(r'(\\+[7]{1}\\s\\(\\d{3}\\)\\s\\d{3}\\-\\d{2}\\-\\d{2})', number):\n",
    "        valid_number = re.search(r'(\\s\\(\\d{3}\\)\\s\\d{3}\\-\\d{2}\\-\\d{2})', number)\n",
    "        valid_number = valid_number.group().replace(' ', '').replace('(', '-').replace(')', '-')\n",
    "    \n",
    "    if valid_number:\n",
    "        print(f'Результат: +7{valid_number}')\n",
    "    else:\n",
    "        print('Результат: Номер не валиден')\n",
    "        \n",
    "        \n",
    "#     if car_id:\n",
    "#         print(f'Результат: Номер {car_id[0][:6]} валиден. Регион: {car_id[0][6:]}')\n",
    "#     else:\n",
    "#         print(f'Результат: Номер не валиден')"
   ]
  },
  {
   "cell_type": "code",
   "execution_count": 184,
   "metadata": {},
   "outputs": [
    {
     "name": "stdout",
     "output_type": "stream",
     "text": [
      "Результат: +7-955-555-55-55\n"
     ]
    }
   ],
   "source": [
    "valid_phone_num('+7 (955)555-55-55')"
   ]
  },
  {
   "cell_type": "code",
   "execution_count": null,
   "metadata": {},
   "outputs": [],
   "source": []
  },
  {
   "cell_type": "code",
   "execution_count": null,
   "metadata": {},
   "outputs": [],
   "source": []
  }
 ],
 "metadata": {
  "kernelspec": {
   "display_name": "Python 3",
   "language": "python",
   "name": "python3"
  },
  "language_info": {
   "codemirror_mode": {
    "name": "ipython",
    "version": 3
   },
   "file_extension": ".py",
   "mimetype": "text/x-python",
   "name": "python",
   "nbconvert_exporter": "python",
   "pygments_lexer": "ipython3",
   "version": "3.8.3"
  }
 },
 "nbformat": 4,
 "nbformat_minor": 4
}
