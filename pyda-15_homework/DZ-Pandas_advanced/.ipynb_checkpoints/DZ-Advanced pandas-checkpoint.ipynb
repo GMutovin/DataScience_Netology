{
 "cells": [
  {
   "cell_type": "markdown",
   "metadata": {},
   "source": [
    "# Домашнее задание «Продвинутый pandas»"
   ]
  },
  {
   "cell_type": "code",
   "execution_count": null,
   "metadata": {},
   "outputs": [],
   "source": [
    "import pandas as pd"
   ]
  },
  {
   "cell_type": "markdown",
   "metadata": {},
   "source": [
    "# Задание 1"
   ]
  },
  {
   "cell_type": "code",
   "execution_count": null,
   "metadata": {},
   "outputs": [],
   "source": [
    "# Для датафрейма log из материалов занятия создайте столбец source_type по следующим правилам:\n",
    "\n",
    "# - если источник traffic_source равен yandex или google, то в source_type ставится organic\n",
    "# - для источников paid и email из России - ставим ad\n",
    "# - для источников paid и email не из России - ставим other\n",
    "# - все остальные варианты берем из traffic_source без изменений\n"
   ]
  },
  {
   "cell_type": "code",
   "execution_count": null,
   "metadata": {},
   "outputs": [],
   "source": [
    "df = pd.read_csv('доп_материалы_к_пандас_1_и_2/visit_log.csv', sep=';')"
   ]
  },
  {
   "cell_type": "code",
   "execution_count": null,
   "metadata": {},
   "outputs": [],
   "source": [
    "defined_sources = ['yandex', 'google', 'paid', 'email']"
   ]
  },
  {
   "cell_type": "code",
   "execution_count": null,
   "metadata": {},
   "outputs": [],
   "source": [
    "def source_type_column(row):\n",
    "    if row.region == 'Russia' and row.traffic_source in ['paid', 'email']:\n",
    "        row['source_type'] = 'ad'\n",
    "        return row['source_type']\n",
    "    elif row.region != 'Russia'and row.traffic_source in ['paid', 'email']:\n",
    "        row['source_type'] = 'other'\n",
    "        return row['source_type']\n",
    "    else:\n",
    "        return row['source_type']"
   ]
  },
  {
   "cell_type": "code",
   "execution_count": null,
   "metadata": {},
   "outputs": [],
   "source": [
    "df['source_type'] = df.apply(lambda row: row.traffic_source if row.traffic_source not in defined_sources else None, axis=1)\n",
    "df.loc[df.traffic_source.str.contains('yandex|google'), 'source_type'] = 'organic'\n",
    "df['source_type'] = df.apply(source_type_column, axis=1)"
   ]
  },
  {
   "cell_type": "markdown",
   "metadata": {},
   "source": [
    "# Задание 2"
   ]
  },
  {
   "cell_type": "code",
   "execution_count": null,
   "metadata": {},
   "outputs": [],
   "source": [
    "# В файле URLs.txt содержатся url страниц новостного сайта. \n",
    "\n",
    "# Вам необходимо отфильтровать его по адресам страниц с текстами новостей. \n",
    "\n",
    "# Известно, что шаблон страницы новостей имеет внутри url следующую конструкцию: /, затем 8 цифр, затем дефис. \n",
    "\n",
    "# Выполните следующие действия:\n",
    "# 1. Прочитайте содержимое файла с датафрейм\n",
    "# 2. Отфильтруйте страницы с текстом новостей, используя метод str.contains и \n",
    "#    регулярное выражение в соответствии с заданным шаблоном"
   ]
  },
  {
   "cell_type": "code",
   "execution_count": null,
   "metadata": {},
   "outputs": [],
   "source": [
    "urls_df = pd.read_csv('доп_материалы_к_пандас_1_и_2/URLs.txt')"
   ]
  },
  {
   "cell_type": "code",
   "execution_count": null,
   "metadata": {},
   "outputs": [],
   "source": [
    "urls_df.loc[urls_df.url.str.contains('/[0-9]{0,8}-')]"
   ]
  },
  {
   "cell_type": "markdown",
   "metadata": {},
   "source": [
    "# Задание 3"
   ]
  },
  {
   "cell_type": "code",
   "execution_count": null,
   "metadata": {},
   "outputs": [],
   "source": [
    "# В датафрейме data создайте столбец lemmas, в котором вычислите леммы поисковых запросов из столбца keyword. \n",
    "# Леммы должны иметь строковый тип."
   ]
  },
  {
   "cell_type": "code",
   "execution_count": null,
   "metadata": {},
   "outputs": [],
   "source": [
    "data = pd.DataFrame({\n",
    "    'keyword': ['курс гривны к рублю', 'доллары в рубли', '100 долларов в рублях', 'курс рубля'],\n",
    "    'shows': [125076, 114173, 97534, 53546],\n",
    "})"
   ]
  },
  {
   "cell_type": "code",
   "execution_count": null,
   "metadata": {},
   "outputs": [],
   "source": [
    "from pymystem3 import Mystem"
   ]
  },
  {
   "cell_type": "code",
   "execution_count": null,
   "metadata": {},
   "outputs": [],
   "source": [
    "m = Mystem()"
   ]
  },
  {
   "cell_type": "code",
   "execution_count": null,
   "metadata": {},
   "outputs": [],
   "source": [
    "def lemmas_(row):\n",
    "    all_lemmas = []\n",
    "    row = row.split(' ')\n",
    "    for i in row:\n",
    "        lemma = m.lemmatize(i)\n",
    "        lemma.remove('\\n')\n",
    "        lemma = ''.join(lemma)\n",
    "        all_lemmas.append(lemma)\n",
    "    return all_lemmas"
   ]
  },
  {
   "cell_type": "code",
   "execution_count": null,
   "metadata": {},
   "outputs": [],
   "source": [
    "data['lemmas'] = data['keyword'].apply(lemmas_)"
   ]
  },
  {
   "cell_type": "code",
   "execution_count": null,
   "metadata": {},
   "outputs": [],
   "source": []
  }
 ],
 "metadata": {
  "kernelspec": {
   "display_name": "Python 3",
   "language": "python",
   "name": "python3"
  },
  "language_info": {
   "codemirror_mode": {
    "name": "ipython",
    "version": 3
   },
   "file_extension": ".py",
   "mimetype": "text/x-python",
   "name": "python",
   "nbconvert_exporter": "python",
   "pygments_lexer": "ipython3",
   "version": "3.8.3"
  }
 },
 "nbformat": 4,
 "nbformat_minor": 4
}
