{
 "cells": [
  {
   "cell_type": "markdown",
   "id": "functioning-penny",
   "metadata": {},
   "source": [
    "# Домашнее задание"
   ]
  },
  {
   "cell_type": "markdown",
   "id": "functional-charge",
   "metadata": {},
   "source": [
    "# Распределение случайных величин"
   ]
  },
  {
   "cell_type": "code",
   "execution_count": 1,
   "id": "geographic-trick",
   "metadata": {},
   "outputs": [],
   "source": [
    "# Смоделировать игру против лотерейного автомата типа \"777\". \n",
    "# Игрок платит 1 руб., после чего выпадает трёхзначное случайное целое число, \n",
    "# равномерно распределенное от 000 до 999. \n",
    "# При некоторых значениях числа игрок получает выигрыш (см. справа)"
   ]
  },
  {
   "cell_type": "code",
   "execution_count": 2,
   "id": "innocent-suspect",
   "metadata": {},
   "outputs": [],
   "source": [
    "# Вопрос 1 - выгодна ли игра игроку?\n",
    "# Вопрос 2 - сколько в среднем приобретает или теряет игрок за одну игру?"
   ]
  },
  {
   "cell_type": "code",
   "execution_count": 4,
   "id": "female-blanket",
   "metadata": {},
   "outputs": [],
   "source": [
    "import numpy as np"
   ]
  },
  {
   "cell_type": "code",
   "execution_count": 48,
   "id": "alive-layout",
   "metadata": {},
   "outputs": [],
   "source": [
    "trials = 10000000\n",
    "sucess_200_rub = 0\n",
    "sucess_100_rub = 0\n",
    "sucess_50_rub = 0\n",
    "sucess_15_rub = 0\n",
    "sucess_10_rub = 0\n",
    "sucess_5_rub = 0\n",
    "sucess_3_rub = 0\n",
    "sucess_2_rub = 0\n",
    "sucess_1_rub = 0"
   ]
  },
  {
   "cell_type": "code",
   "execution_count": 49,
   "id": "forty-insulin",
   "metadata": {},
   "outputs": [],
   "source": [
    "for trial in range(trials):\n",
    "    random_number = np.random.randint(100, 1000)\n",
    "    if random_number == 777:\n",
    "        sucess_200_rub += 1\n",
    "    elif random_number == 999:\n",
    "        sucess_100_rub += 1\n",
    "    elif random_number == 555:\n",
    "        sucess_50_rub += 1\n",
    "    elif random_number == 333:\n",
    "        sucess_15_rub += 1\n",
    "    elif random_number == 111:\n",
    "        sucess_10_rub += 1\n",
    "    elif random_number % 100 == 77:\n",
    "        sucess_5_rub += 1\n",
    "    elif random_number % 10 == 7:\n",
    "        sucess_3_rub += 1\n",
    "    elif random_number % 100 == 0:\n",
    "        sucess_2_rub += 1\n",
    "    elif random_number % 10 == 0:\n",
    "        sucess_1_rub += 1\n",
    "\n",
    "sucesses = sucess_200_rub + sucess_100_rub + sucess_50_rub + sucess_15_rub + sucess_10_rub + sucess_5_rub + sucess_3_rub + sucess_2_rub\n",
    "p_monte_carlo = sucesses / trials"
   ]
  },
  {
   "cell_type": "code",
   "execution_count": 51,
   "id": "starting-exhaust",
   "metadata": {},
   "outputs": [],
   "source": [
    "_200_rub = sucess_200_rub * 200\n",
    "_100_rub = sucess_100_rub * 100\n",
    "_50_rub = sucess_50_rub * 50\n",
    "_15_rub = sucess_15_rub * 15\n",
    "_10_rub = sucess_10_rub * 10\n",
    "_5_rub = sucess_5_rub * 5\n",
    "_3_rub = sucess_3_rub * 3\n",
    "_2_rub = sucess_2_rub * 2\n",
    "_1_rub = sucess_1_rub * 1"
   ]
  },
  {
   "cell_type": "code",
   "execution_count": 52,
   "id": "proper-indonesian",
   "metadata": {},
   "outputs": [],
   "source": [
    "# Посмотрим общую вероятную сумму выигрыша\n",
    "full_prize = _200_rub + _100_rub + _50_rub + _15_rub + _10_rub + _5_rub + _3_rub + _2_rub + _1_rub"
   ]
  },
  {
   "cell_type": "code",
   "execution_count": 53,
   "id": "toxic-extension",
   "metadata": {},
   "outputs": [
    {
     "data": {
      "text/plain": [
       "8459775"
      ]
     },
     "execution_count": 53,
     "metadata": {},
     "output_type": "execute_result"
    }
   ],
   "source": [
    "full_prize"
   ]
  },
  {
   "cell_type": "code",
   "execution_count": 38,
   "id": "stunning-athletics",
   "metadata": {},
   "outputs": [
    {
     "name": "stdout",
     "output_type": "stream",
     "text": [
      "Игра невыгодна. Частота успеха: 0.1145106\n",
      "0.0011012\n"
     ]
    }
   ],
   "source": [
    "# Игра невыгодна, так как частота успеха составляет всего около 11%, кроме того,\n",
    "# общая вероятная сумма выигрыша ниже суммы, потраченной на участие в игре (8459775 руб.).\n",
    "print(f'Игра невыгодна. Частота успеха: {p_monte_carlo}')\n",
    "print(sucess_200_rub / trials)"
   ]
  },
  {
   "cell_type": "code",
   "execution_count": 55,
   "id": "fitted-router",
   "metadata": {},
   "outputs": [
    {
     "data": {
      "text/plain": [
       "0.8459775"
      ]
     },
     "execution_count": 55,
     "metadata": {},
     "output_type": "execute_result"
    }
   ],
   "source": [
    "# Средний выигрыш за одну игру:\n",
    "full_prize / trials"
   ]
  },
  {
   "cell_type": "code",
   "execution_count": 62,
   "id": "industrial-collection",
   "metadata": {},
   "outputs": [
    {
     "name": "stdout",
     "output_type": "stream",
     "text": [
      "Каждую игру игрок теряет в среднем: 0.15 рублей\n"
     ]
    }
   ],
   "source": [
    "# Соответственно, игрок каждую игру теряет в среднем:\n",
    "print('Каждую игру игрок теряет в среднем:', round((1 - full_prize / trials), 2), 'рублей')"
   ]
  },
  {
   "cell_type": "markdown",
   "id": "seven-despite",
   "metadata": {},
   "source": [
    "# Дополнительное задание повышенной сложности. "
   ]
  },
  {
   "cell_type": "code",
   "execution_count": null,
   "id": "chinese-extension",
   "metadata": {},
   "outputs": [],
   "source": [
    "# Теоретически рассчитать средний выигрыш (проигрыш) и сравнить с результатами моделирования"
   ]
  },
  {
   "cell_type": "code",
   "execution_count": 70,
   "id": "ancient-medicare",
   "metadata": {},
   "outputs": [],
   "source": [
    "p_1 = 1 / 999\n",
    "p_10 = 10 / 999\n",
    "p_100 = 100 / 999"
   ]
  },
  {
   "cell_type": "code",
   "execution_count": 71,
   "id": "fitted-painting",
   "metadata": {},
   "outputs": [],
   "source": [
    "mean_prize = (p_1 * 200) + (p_1 * 100) + (p_1 * 50) + (p_1 * 15) + (p_1 * 10) + (p_10 * 5) + (p_10 * 2) + (p_100 * 3) + (p_100 * 1)"
   ]
  },
  {
   "cell_type": "code",
   "execution_count": 72,
   "id": "noted-tours",
   "metadata": {},
   "outputs": [
    {
     "data": {
      "text/plain": [
       "0.8458458458458458"
      ]
     },
     "execution_count": 72,
     "metadata": {},
     "output_type": "execute_result"
    }
   ],
   "source": [
    "mean_prize"
   ]
  },
  {
   "cell_type": "code",
   "execution_count": 73,
   "id": "fitted-detector",
   "metadata": {},
   "outputs": [
    {
     "name": "stdout",
     "output_type": "stream",
     "text": [
      "Каждую игру игрок теряет в среднем: 0.15 рублей\n"
     ]
    }
   ],
   "source": [
    "# Соответственно, средний проигрыш каждую игру:\n",
    "print('Каждую игру игрок теряет в среднем:', round((1 - mean_prize), 2), 'рублей')"
   ]
  },
  {
   "cell_type": "code",
   "execution_count": null,
   "id": "unauthorized-distance",
   "metadata": {},
   "outputs": [],
   "source": [
    "# Теоретические расчеты совпадают с результатами моделирования"
   ]
  }
 ],
 "metadata": {
  "kernelspec": {
   "display_name": "Python 3",
   "language": "python",
   "name": "python3"
  },
  "language_info": {
   "codemirror_mode": {
    "name": "ipython",
    "version": 3
   },
   "file_extension": ".py",
   "mimetype": "text/x-python",
   "name": "python",
   "nbconvert_exporter": "python",
   "pygments_lexer": "ipython3",
   "version": "3.8.5"
  }
 },
 "nbformat": 4,
 "nbformat_minor": 5
}
