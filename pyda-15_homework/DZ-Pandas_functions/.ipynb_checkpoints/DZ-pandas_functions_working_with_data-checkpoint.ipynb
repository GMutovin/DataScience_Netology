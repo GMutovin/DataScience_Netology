{
 "cells": [
  {
   "cell_type": "markdown",
   "metadata": {},
   "source": [
    "# Домашнее задание «Функции и работа с данными»"
   ]
  },
  {
   "cell_type": "code",
   "execution_count": 1,
   "metadata": {},
   "outputs": [],
   "source": [
    "import pandas as pd"
   ]
  },
  {
   "cell_type": "markdown",
   "metadata": {},
   "source": [
    "# Задание 1**"
   ]
  },
  {
   "cell_type": "code",
   "execution_count": null,
   "metadata": {},
   "outputs": [],
   "source": [
    "# Напишите функцию, которая классифицирует фильмы из материалов занятия по следующим правилам:\n",
    "# - оценка 2 и меньше - низкий рейтинг\n",
    "# - оценка 4 и меньше - средний рейтинг\n",
    "# - оценка 4.5 и 5 - высокий рейтинг\n",
    "\n",
    "# Результат классификации запишите в столбец class"
   ]
  },
  {
   "cell_type": "code",
   "execution_count": null,
   "metadata": {},
   "outputs": [],
   "source": [
    "movies_df = pd.read_csv('ml-latest-small/movies.csv')\n",
    "ratings_df = pd.read_csv('ml-latest-small/ratings.csv')"
   ]
  },
  {
   "cell_type": "code",
   "execution_count": null,
   "metadata": {},
   "outputs": [],
   "source": [
    "def class_rating(row):\n",
    "    if row <= 2:\n",
    "        return 'низкий рейтинг'\n",
    "    elif 2 < row <= 4:\n",
    "        return 'средний рейтинг'\n",
    "    else:\n",
    "        return 'высокий рейтинг'"
   ]
  },
  {
   "cell_type": "code",
   "execution_count": null,
   "metadata": {},
   "outputs": [],
   "source": [
    "def mean_rating(data):\n",
    "    return data.rating.mean()"
   ]
  },
  {
   "cell_type": "code",
   "execution_count": null,
   "metadata": {},
   "outputs": [],
   "source": [
    "# Создание датафрейма с группировкой по movieId, чтобы подсчитать средний рейтинг каждого фильма.\n",
    "\n",
    "mean_ratings = ratings_df.groupby('movieId').apply(mean_rating).reset_index()\n",
    "mean_ratings.columns = ['movieId','mean_ratings']"
   ]
  },
  {
   "cell_type": "code",
   "execution_count": null,
   "metadata": {},
   "outputs": [],
   "source": [
    "# Создание нового слобца class, где будут храниться результаты функции, определящей классификацию рейтинга фильма.\n",
    "\n",
    "mean_ratings['class'] = mean_ratings['mean_ratings'].apply(class_rating)"
   ]
  },
  {
   "cell_type": "code",
   "execution_count": null,
   "metadata": {},
   "outputs": [],
   "source": [
    "# Объединение датафрейма с средним рейтингом и классификацией рейтинга с датафреймом с информацией о каждом фильме.\n",
    "\n",
    "mean_ratings.merge(movies_df)"
   ]
  },
  {
   "cell_type": "markdown",
   "metadata": {},
   "source": [
    "# Задание 2"
   ]
  },
  {
   "cell_type": "code",
   "execution_count": null,
   "metadata": {},
   "outputs": [],
   "source": [
    "# Используем файл keywords.csv.\n",
    "\n",
    "# Необходимо написать гео-классификатор, \n",
    "# который каждой строке сможет выставить географическую принадлежность определенному региону. \n",
    "# Т. е. если поисковый запрос содержит название города региона, \n",
    "# то в столбце ‘region’ пишется название этого региона. \n",
    "# Если поисковый запрос не содержит названия города, то ставим ‘undefined’.\n",
    "\n",
    "# Правила распределения по регионам Центр, Северо-Запад и Дальний Восток:\n",
    "\n",
    "# geo_data = {\n",
    "\n",
    "# 1 'Центр': ['москва', 'тула', 'ярославль'],\n",
    "# 2\n",
    "# 3 'Северо-Запад': ['петербург', 'псков', 'мурманск'],\n",
    "# 4\n",
    "# 5 'Дальний Восток': ['владивосток', 'сахалин', 'хабаровск']\n",
    "# }\n",
    "\n",
    "# Результат классификации запишите в отдельный столбец region."
   ]
  },
  {
   "cell_type": "code",
   "execution_count": 121,
   "metadata": {},
   "outputs": [],
   "source": [
    "import re"
   ]
  },
  {
   "cell_type": "code",
   "execution_count": 144,
   "metadata": {},
   "outputs": [],
   "source": [
    "keywords_df = pd.read_csv('ml-latest-small/keywords.csv')"
   ]
  },
  {
   "cell_type": "code",
   "execution_count": 145,
   "metadata": {},
   "outputs": [],
   "source": [
    "patterns = {\n",
    "    'Центр': [r'\\bмоскв\\w+\\b', r'\\bтул\\w+\\b', r'\\bярославл\\w+\\b'],\n",
    "    'Северо-Запад': [r'\\bпетербург\\w*\\b', r'\\bпсков\\w*\\b', r'\\bмурманск\\w*\\b'],\n",
    "    'Дальний Восток': [r'\\bвладивосток\\w*\\b', r'\\bсахалин\\w*\\b', r'\\bхабаровск\\w*\\b']\n",
    "}\n",
    "\n",
    "def region_finder(row):\n",
    "    for region, city_list in patterns.items():\n",
    "        for city in city_list:\n",
    "            if re.findall(city, row.keyword):\n",
    "                row['region'] = region\n",
    "                return row\n",
    "    else:\n",
    "        row['region'] = 'undefined'\n",
    "        return row"
   ]
  },
  {
   "cell_type": "code",
   "execution_count": 146,
   "metadata": {},
   "outputs": [],
   "source": [
    "keywords_df = keywords_df.apply(region_finder, axis=1)"
   ]
  },
  {
   "cell_type": "markdown",
   "metadata": {},
   "source": [
    "# Задание 3 (бонусное)"
   ]
  },
  {
   "cell_type": "code",
   "execution_count": null,
   "metadata": {},
   "outputs": [],
   "source": [
    "# Есть мнение, что “раньше снимали настоящее кино, не то что сейчас”. \n",
    "# Ваша задача проверить это утверждение, используя файлы с рейтингами фильмов из прошлого домашнего занятия \n",
    "# (файл ratings.csv из базы https://grouplens.org/datasets/movielens). \n",
    "# Т. е. проверить верно ли, что с ростом года выпуска фильма его средний рейтинг становится ниже.\n",
    "\n",
    "# При этом мы не будем затрагивать субьективные факторы выставления этих рейтингов, \n",
    "# а пройдемся по следующему алгоритму:\n",
    "\n",
    "#     1. В переменную years запишите список из всех годов с 1950 по 2010.\n",
    "    \n",
    "#     2. Напишите функцию production_year, которая каждой строке из названия фильма выставляет год выпуска. \n",
    "#        Не все названия фильмов содержат год выпуска в одинаковом формате, поэтому используйте следующий алгоритм:\n",
    "\n",
    "#         1. для каждой строки пройдите по всем годам списка years\n",
    "        \n",
    "#         2. если номер года присутствует в названии фильма, то функция возвращает этот год как год выпуска\n",
    "        \n",
    "#         3. если ни один из номеров года списка years не встретился в названии фильма, то возвращается 1900 год\n",
    "    \n",
    "#     3. Запишите год выпуска фильма по алгоритму пункта 2 в новый столбец ‘year’\n",
    "    \n",
    "#     4. Посчитайте средний рейтинг всех фильмов для каждого значения столбца ‘year’ и \n",
    "#        отсортируйте результат по убыванию рейтинга"
   ]
  },
  {
   "cell_type": "code",
   "execution_count": 269,
   "metadata": {},
   "outputs": [],
   "source": [
    "movies_df_2 = pd.read_csv('ml-latest-small/movies.csv')\n",
    "ratings_df_2 = pd.read_csv('ml-latest-small/ratings.csv')\n",
    "merged_table = ratings_df_2.merge(movies_df_2)\n",
    "years = list(range(1950, 2011))"
   ]
  },
  {
   "cell_type": "code",
   "execution_count": 270,
   "metadata": {},
   "outputs": [],
   "source": [
    "def production_year(data):\n",
    "    for year in years:\n",
    "        if str(year) in data:\n",
    "            movie_year = year\n",
    "            return movie_year\n",
    "    else:\n",
    "        movie_year = 1900\n",
    "        return movie_year\n",
    "\n",
    "def mean_rating_for_year(data):\n",
    "    return data.rating.mean()"
   ]
  },
  {
   "cell_type": "code",
   "execution_count": 271,
   "metadata": {},
   "outputs": [],
   "source": [
    "# Добавление столбца с year в объединенный датафрейм.\n",
    "\n",
    "merged_table['year'] = merged_table['title'].apply(production_year)"
   ]
  },
  {
   "cell_type": "code",
   "execution_count": 272,
   "metadata": {},
   "outputs": [],
   "source": [
    "# Группировка по каждому году с подсчетом среднего рейтинга фильмов за этот год. \n",
    "\n",
    "mean_rating_for_year_df = merged_table.groupby('year').apply(mean_rating_for_year).reset_index()\n",
    "mean_rating_for_year_df.columns = ['year', 'mean_rating']"
   ]
  },
  {
   "cell_type": "code",
   "execution_count": 273,
   "metadata": {},
   "outputs": [
    {
     "data": {
      "text/html": [
       "<div>\n",
       "<style scoped>\n",
       "    .dataframe tbody tr th:only-of-type {\n",
       "        vertical-align: middle;\n",
       "    }\n",
       "\n",
       "    .dataframe tbody tr th {\n",
       "        vertical-align: top;\n",
       "    }\n",
       "\n",
       "    .dataframe thead th {\n",
       "        text-align: right;\n",
       "    }\n",
       "</style>\n",
       "<table border=\"1\" class=\"dataframe\">\n",
       "  <thead>\n",
       "    <tr style=\"text-align: right;\">\n",
       "      <th></th>\n",
       "      <th>year</th>\n",
       "      <th>mean_rating</th>\n",
       "    </tr>\n",
       "  </thead>\n",
       "  <tbody>\n",
       "    <tr>\n",
       "      <th>8</th>\n",
       "      <td>1957</td>\n",
       "      <td>4.014241</td>\n",
       "    </tr>\n",
       "    <tr>\n",
       "      <th>23</th>\n",
       "      <td>1972</td>\n",
       "      <td>4.011136</td>\n",
       "    </tr>\n",
       "    <tr>\n",
       "      <th>3</th>\n",
       "      <td>1952</td>\n",
       "      <td>4.000000</td>\n",
       "    </tr>\n",
       "    <tr>\n",
       "      <th>5</th>\n",
       "      <td>1954</td>\n",
       "      <td>3.994220</td>\n",
       "    </tr>\n",
       "    <tr>\n",
       "      <th>2</th>\n",
       "      <td>1951</td>\n",
       "      <td>3.983539</td>\n",
       "    </tr>\n",
       "  </tbody>\n",
       "</table>\n",
       "</div>"
      ],
      "text/plain": [
       "    year  mean_rating\n",
       "8   1957     4.014241\n",
       "23  1972     4.011136\n",
       "3   1952     4.000000\n",
       "5   1954     3.994220\n",
       "2   1951     3.983539"
      ]
     },
     "execution_count": 273,
     "metadata": {},
     "output_type": "execute_result"
    }
   ],
   "source": [
    "# Сортировка среднего рейтинга фильмов за год по убыванию.\n",
    "\n",
    "mean_rating_for_year_df.sort_values('mean_rating', ascending=False).head()"
   ]
  }
 ],
 "metadata": {
  "kernelspec": {
   "display_name": "Python 3",
   "language": "python",
   "name": "python3"
  },
  "language_info": {
   "codemirror_mode": {
    "name": "ipython",
    "version": 3
   },
   "file_extension": ".py",
   "mimetype": "text/x-python",
   "name": "python",
   "nbconvert_exporter": "python",
   "pygments_lexer": "ipython3",
   "version": "3.8.3"
  }
 },
 "nbformat": 4,
 "nbformat_minor": 4
}
