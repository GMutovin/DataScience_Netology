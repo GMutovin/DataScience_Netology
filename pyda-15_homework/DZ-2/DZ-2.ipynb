{
 "cells": [
  {
   "cell_type": "code",
   "execution_count": null,
   "metadata": {},
   "outputs": [],
   "source": [
    "#Введение в типы данных и циклы. Часть 1 - Задание № 1\n",
    "\n",
    "word = input()\n",
    "\n",
    "if len(word) % 2 == 0:\n",
    "    cut_index = int(len(word) / 2)\n",
    "    print(word[cut_index - 1:cut_index + 1])\n",
    "else:\n",
    "    cut_index = int(len(word) // 2)\n",
    "    print(word[cut_index])"
   ]
  },
  {
   "cell_type": "code",
   "execution_count": null,
   "metadata": {},
   "outputs": [],
   "source": [
    "#Введение в типы данных и циклы. Часть 1 - Задание № 2\n",
    "\n",
    "numbers_list = []\n",
    "\n",
    "while True:\n",
    "    user_number = int(input())\n",
    "    if user_number != 0:\n",
    "        numbers_list.append(user_number)\n",
    "    else:\n",
    "        print(sum(numbers_list))\n",
    "        break"
   ]
  },
  {
   "cell_type": "code",
   "execution_count": null,
   "metadata": {},
   "outputs": [],
   "source": [
    "#Введение в типы данных и циклы. Часть 1 - Задание № 3\n",
    "\n",
    "girl_index = 0\n",
    "\n",
    "boys.sort()\n",
    "girls.sort()\n",
    "\n",
    "if len(boys) != len(girls):\n",
    "    print('Внимание, кто-то может остаться без пары!')\n",
    "else:\n",
    "    print('Идеальные пары:')\n",
    "    for i in boys:\n",
    "        print(i, 'и', girls[girl_index])\n",
    "        girl_index += 1"
   ]
  },
  {
   "cell_type": "code",
   "execution_count": null,
   "metadata": {},
   "outputs": [],
   "source": [
    "#Введение в типы данных и циклы. Часть 1 - Задание № 4\n",
    "\n",
    "average_list = []\n",
    "index_aver = 0\n",
    "print('Средняя температура в странах:')\n",
    "for i in countries_temperature:\n",
    "    average = sum(i[1]) / len (i[1])\n",
    "    convert = (average - 32) / 1.8\n",
    "    average_list.append(round(convert, 1))\n",
    "    print(f'{i[0]} - {average_list[index_aver]} C')\n",
    "    index_aver += 1"
   ]
  },
  {
   "cell_type": "code",
   "execution_count": null,
   "metadata": {},
   "outputs": [],
   "source": [
    "#Введение в типы данных и циклы. Часть 1 - Задание № 5\n",
    "\n",
    "stream_list = [i.split(',') for i in stream]\n",
    "watching_list = [int(i[2]) for i in stream_list]\n",
    "unique_users = []\n",
    "for i in stream_list:\n",
    "    if i[1] not in unique_users:\n",
    "        unique_users.append(i[1])\n",
    "    else:\n",
    "        pass\n",
    "print(f'Среднее количество просмотров на уникального пользователя: {sum(watching_list) / len(unique_users)}')"
   ]
  },
  {
   "cell_type": "code",
   "execution_count": null,
   "metadata": {},
   "outputs": [],
   "source": [
    "#Введение в типы данных и циклы. Часть 1 - Задание № 6\n",
    "\n",
    "numbers = input('Введите числа: ')\n",
    "print(' '.join(list(set([i for i in numbers.split(' ')]))))"
   ]
  }
 ],
 "metadata": {
  "kernelspec": {
   "display_name": "Python 3",
   "language": "python",
   "name": "python3"
  },
  "language_info": {
   "codemirror_mode": {
    "name": "ipython",
    "version": 3
   },
   "file_extension": ".py",
   "mimetype": "text/x-python",
   "name": "python",
   "nbconvert_exporter": "python",
   "pygments_lexer": "ipython3",
   "version": "3.8.3"
  }
 },
 "nbformat": 4,
 "nbformat_minor": 4
}
