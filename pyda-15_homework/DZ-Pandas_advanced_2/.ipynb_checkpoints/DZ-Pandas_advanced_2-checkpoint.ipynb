{
 "cells": [
  {
   "cell_type": "markdown",
   "metadata": {},
   "source": [
    "# Домашнее задание «Продвинутый pandas 2»"
   ]
  },
  {
   "cell_type": "code",
   "execution_count": null,
   "metadata": {},
   "outputs": [],
   "source": [
    "import pandas as pd"
   ]
  },
  {
   "cell_type": "markdown",
   "metadata": {},
   "source": [
    "# Задание 1"
   ]
  },
  {
   "cell_type": "code",
   "execution_count": null,
   "metadata": {},
   "outputs": [],
   "source": [
    "# Используйте файл с оценками фильмов ml-latest-small/ratings.csv. \n",
    "# Посчитайте среднее время жизни пользователей, которые выставили более 100 оценок. \n",
    "# Под временем жизни понимается разница между максимальным и минимальным значением столбца \n",
    "# timestamp для данного значения userId."
   ]
  },
  {
   "cell_type": "code",
   "execution_count": null,
   "metadata": {},
   "outputs": [],
   "source": [
    "df = pd.read_csv('ml-latest-small/ratings.csv')"
   ]
  },
  {
   "cell_type": "code",
   "execution_count": null,
   "metadata": {},
   "outputs": [],
   "source": [
    "# Делаем второй датафрейм, где будет подсчитано количество оценок одного пользователя\n",
    "df_sorted = df.groupby('userId').count()['rating'].reset_index().sort_values('rating', ascending=False)"
   ]
  },
  {
   "cell_type": "code",
   "execution_count": null,
   "metadata": {},
   "outputs": [],
   "source": [
    "# Оставляем только пользователей, у кого оценок больше 100\n",
    "df_sorted = df_sorted.loc[df_sorted.rating > 100]"
   ]
  },
  {
   "cell_type": "code",
   "execution_count": null,
   "metadata": {},
   "outputs": [],
   "source": [
    "# Создаем датафрейм, где будут только пользователи более 100 оценок\n",
    "df_sorted = df_sorted.drop(['rating'], axis='columns').head()\n",
    "joined = df_sorted.merge(df, how='left', on='userId')"
   ]
  },
  {
   "cell_type": "code",
   "execution_count": null,
   "metadata": {},
   "outputs": [],
   "source": [
    "# Создаем функцию для подсчета разницы между максимальным и минимальным значением timestamp\n",
    "def counting(data):\n",
    "    return data.timestamp.max() - data.timestamp.min()"
   ]
  },
  {
   "cell_type": "code",
   "execution_count": null,
   "metadata": {},
   "outputs": [],
   "source": [
    "# Создаем объект-группировку по userId из имеющегося датафрейма\n",
    "obj = joined.groupby('userId')"
   ]
  },
  {
   "cell_type": "code",
   "execution_count": null,
   "metadata": {},
   "outputs": [],
   "source": [
    "# Считаем среднее время жизни пользователей, которые выставили более 100 оценок\n",
    "mean_time = obj.apply(counting).mean()"
   ]
  },
  {
   "cell_type": "markdown",
   "metadata": {},
   "source": [
    "# Задание 2"
   ]
  },
  {
   "cell_type": "code",
   "execution_count": null,
   "metadata": {},
   "outputs": [],
   "source": [
    "# Дана статистика услуг перевозок клиентов компании по типам (см. файл с кодом занятия). \n",
    "# Необходимо сформировать две таблицы:\n",
    "# 1. таблицу с тремя типами выручки для каждого client_id без указания адреса клиента\n",
    "# 2. аналогичную таблицу по типам выручки с указанием адреса клиента\n",
    "# Обратите внимание, что в процессе объединения таблиц данные не должны теряться."
   ]
  },
  {
   "cell_type": "code",
   "execution_count": null,
   "metadata": {},
   "outputs": [],
   "source": [
    "rzd = pd.DataFrame(\n",
    "    {\n",
    "        'client_id': [111, 112, 113, 114, 115],\n",
    "        'rzd_revenue': [1093, 2810, 10283, 5774, 981]\n",
    "    }\n",
    ")\n",
    "rzd"
   ]
  },
  {
   "cell_type": "code",
   "execution_count": null,
   "metadata": {},
   "outputs": [],
   "source": [
    "auto = pd.DataFrame(\n",
    "    {\n",
    "        'client_id': [113, 114, 115, 116, 117],\n",
    "        'auto_revenue': [57483, 83, 912, 4834, 98]\n",
    "    }\n",
    ")"
   ]
  },
  {
   "cell_type": "code",
   "execution_count": null,
   "metadata": {},
   "outputs": [],
   "source": [
    "air = pd.DataFrame(\n",
    "    {\n",
    "        'client_id': [115, 116, 117, 118],\n",
    "        'air_revenue': [81, 4, 13, 173]\n",
    "    }\n",
    ")"
   ]
  },
  {
   "cell_type": "code",
   "execution_count": null,
   "metadata": {},
   "outputs": [],
   "source": [
    "client_base = pd.DataFrame(\n",
    "    {\n",
    "        'client_id': [111, 112, 113, 114, 115, 116, 117, 118],\n",
    "        'address': ['Комсомольская 4', 'Энтузиастов 8а', 'Левобережная 1а', 'Мира 14', 'ЗЖБИиДК 1', \n",
    "                    'Строителей 18', 'Панфиловская 33', 'Мастеркова 4']\n",
    "    }\n",
    ")"
   ]
  },
  {
   "cell_type": "code",
   "execution_count": null,
   "metadata": {},
   "outputs": [],
   "source": [
    "rzd_auto = rzd.merge(auto, how='outer')\n",
    "rzd_auto_air = rzd_auto.merge(air, how='outer')"
   ]
  },
  {
   "cell_type": "code",
   "execution_count": null,
   "metadata": {},
   "outputs": [],
   "source": [
    "rzd_auto_air_address = rzd_auto_air.merge(client_base, how='outer')"
   ]
  },
  {
   "cell_type": "markdown",
   "metadata": {},
   "source": [
    "# Задание 3"
   ]
  },
  {
   "cell_type": "code",
   "execution_count": null,
   "metadata": {},
   "outputs": [],
   "source": [
    "# В задаче сквозной аналитики вам предоставили данные по местоположению пользователей. \n",
    "# Т. е. для каждого user_id известна последовательность координат (широта/долгота), \n",
    "# когда они требовались приложению для полноценной работы. \n",
    "# Как бы вы добавили эти сведения в таблицу визитов и покупок? \n",
    "# Для составления ответа можно использовать вопросы:\n",
    "# 1. У каждого пользователя известен набор координат. \n",
    "# А для связывания с визитом или фактом покупки скорее всего потребуется одно-два числа. Как их получить?\n",
    "# 2. Наборы координат одного и того же пользователя могут быть значительно удалены друг от друга. \n",
    "# Как это отразится на вопросе расчетах пункта 1?\n",
    "# 3. Какие дополнительные признаки можно получить из координат? \n",
    "# Ведь это просто числа, которые сами по себе мало что дают."
   ]
  },
  {
   "cell_type": "code",
   "execution_count": null,
   "metadata": {},
   "outputs": [],
   "source": [
    "1. Необходимо объеденить датафрейм с user_id и координатами с датафреймом из user_id, визитов и покупок путем метода \n",
    "pd.merge(DataFrame, how='outer')\n",
    "\n",
    "2. Удаленность координат не повлияет на расчеты. Удаленность координат свидетельствует о том, что пользователь\n",
    "    заходил на сайт/приложение в разных местах. \n",
    "\n",
    "3. Координаты позволяют установить местонахождение пользователя в определенный момент времени. \n",
    "    В связке с координатами оффлайн магазина можно будет выявлять тех пользователей, которые находятся поблизости,\n",
    "    после чего можно направлять им рекламные предложения, основанные на его предпочтениях исходя из ранних покупок.\n",
    "    Кроме того, можно установить эффективность инвестиций в маркетинговые кампании в определенных источниках визитов\n",
    "    пользователей, так как могут возникать ситуации, когда пользователь переходит на сайт/приложение с определенного\n",
    "    источника и не приобретает ничего онлайн, но впоследствии он посещает оффлайн магазин и приобретает там товар.\n",
    "    Соответственно, можно будет по связке координаты-user_id выявлять таких пользователей, которые посещали сайт/приложение,\n",
    "    но приобретали товар не онлайн, а в оффлайн магазине, что позволяет оценить реальную эффективность маркетинговых\n",
    "    мероприятий на различных источниках визитов - т.к. мы будем включать в анализ эффективности не только онлайн\n",
    "    транзакции, но и оффлайн транзакции."
   ]
  },
  {
   "cell_type": "code",
   "execution_count": null,
   "metadata": {},
   "outputs": [],
   "source": []
  },
  {
   "cell_type": "code",
   "execution_count": null,
   "metadata": {},
   "outputs": [],
   "source": []
  }
 ],
 "metadata": {
  "kernelspec": {
   "display_name": "Python 3",
   "language": "python",
   "name": "python3"
  },
  "language_info": {
   "codemirror_mode": {
    "name": "ipython",
    "version": 3
   },
   "file_extension": ".py",
   "mimetype": "text/x-python",
   "name": "python",
   "nbconvert_exporter": "python",
   "pygments_lexer": "ipython3",
   "version": "3.8.3"
  }
 },
 "nbformat": 4,
 "nbformat_minor": 4
}
