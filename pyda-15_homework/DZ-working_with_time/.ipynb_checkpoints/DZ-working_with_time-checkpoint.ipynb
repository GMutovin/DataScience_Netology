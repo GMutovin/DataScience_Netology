{
 "cells": [
  {
   "cell_type": "markdown",
   "metadata": {},
   "source": [
    "# Домашнее задание к лекции «Исключения и обработка ошибок»"
   ]
  },
  {
   "cell_type": "markdown",
   "metadata": {},
   "source": [
    "# Задание № 1"
   ]
  },
  {
   "cell_type": "code",
   "execution_count": null,
   "metadata": {},
   "outputs": [],
   "source": [
    "# Печатные газеты использовали свой формат дат для каждого выпуска. \n",
    "# Для каждой газеты из списка напишите формат указанной даты для перевода в объект datetime:\n",
    "# The Moscow Times - Wednesday, October 2, 2002\n",
    "# The Guardian - Friday, 11.10.13\n",
    "# Daily News - Thursday, 18 August 1977"
   ]
  },
  {
   "cell_type": "code",
   "execution_count": null,
   "metadata": {},
   "outputs": [],
   "source": [
    "from datetime import datetime"
   ]
  },
  {
   "cell_type": "code",
   "execution_count": null,
   "metadata": {},
   "outputs": [],
   "source": [
    "moscow_times_data = datetime.strptime('October 2, 2002', '%B %d, %Y')"
   ]
  },
  {
   "cell_type": "code",
   "execution_count": null,
   "metadata": {},
   "outputs": [],
   "source": [
    "guardian_data = datetime.strptime('11.10.13', '%d.%m.%y')"
   ]
  },
  {
   "cell_type": "code",
   "execution_count": null,
   "metadata": {},
   "outputs": [],
   "source": [
    "daily_data = datetime.strptime('18 August 1977', '%d %B %Y')"
   ]
  },
  {
   "cell_type": "markdown",
   "metadata": {},
   "source": [
    "# Задание № 2"
   ]
  },
  {
   "cell_type": "code",
   "execution_count": null,
   "metadata": {},
   "outputs": [],
   "source": [
    "#Дан поток дат в формате YYYY-MM-DD, в которых встречаются некорректные значения:\n",
    "stream = ['2018-04-02', '2018-02-29', '2018-19-02']\n",
    "\n",
    "#Напишите функцию, которая проверяет эти даты на корректность. \n",
    "#Т. е. для каждой даты возвращает True (дата корректна) или False (некорректная дата)."
   ]
  },
  {
   "cell_type": "code",
   "execution_count": null,
   "metadata": {},
   "outputs": [],
   "source": [
    "from datetime import datetime"
   ]
  },
  {
   "cell_type": "code",
   "execution_count": null,
   "metadata": {},
   "outputs": [],
   "source": [
    "def check_date(dates_list):\n",
    "    dates_boolean = []\n",
    "    for date in dates_list:\n",
    "        try:\n",
    "            datetime.strptime(date, '%Y-%m-%d') \n",
    "            dates_boolean.append(True)\n",
    "        except:\n",
    "            dates_boolean.append(False)\n",
    "    return dates_boolean"
   ]
  },
  {
   "cell_type": "code",
   "execution_count": null,
   "metadata": {},
   "outputs": [],
   "source": [
    "check_date(stream)"
   ]
  },
  {
   "cell_type": "markdown",
   "metadata": {},
   "source": [
    "# Задание № 3"
   ]
  },
  {
   "cell_type": "code",
   "execution_count": null,
   "metadata": {},
   "outputs": [],
   "source": [
    "#Напишите функцию date_range, которая возвращает список дат за период от start_date до end_date. \n",
    "#Даты должны вводиться в формате YYYY-MM-DD. \n",
    "#В случае неверного формата или при start_date > end_date должен возвращаться пустой список."
   ]
  },
  {
   "cell_type": "code",
   "execution_count": null,
   "metadata": {},
   "outputs": [],
   "source": [
    "from datetime import datetime"
   ]
  },
  {
   "cell_type": "code",
   "execution_count": null,
   "metadata": {},
   "outputs": [],
   "source": [
    "from datetime import timedelta"
   ]
  },
  {
   "cell_type": "code",
   "execution_count": null,
   "metadata": {},
   "outputs": [],
   "source": [
    "def date_range(start, end):\n",
    "    dates_list = []\n",
    "    if start > end:\n",
    "        return dates_list\n",
    "    try: \n",
    "        current_dt = datetime.strptime(start, '%Y-%m-%d')\n",
    "        end_date_dt = datetime.strptime(end, '%Y-%m-%d')\n",
    "        while current_dt <= end_date_dt:\n",
    "            dates_list.append(current_dt.strftime('%Y-%m-%d'))\n",
    "            current_dt += timedelta(days=1)\n",
    "    except:\n",
    "        return []\n",
    "    return dates_list"
   ]
  },
  {
   "cell_type": "code",
   "execution_count": null,
   "metadata": {},
   "outputs": [],
   "source": [
    "#Проверка\n",
    "start_date = '2018-07-02'\n",
    "end_date = '2018-07-08'\n",
    "\n",
    "date_range(start_date, end_date)"
   ]
  },
  {
   "cell_type": "markdown",
   "metadata": {},
   "source": [
    "# Задание № 4"
   ]
  },
  {
   "cell_type": "code",
   "execution_count": null,
   "metadata": {},
   "outputs": [],
   "source": [
    "#Ваш коллега прислал код функции:\n",
    "\n",
    "DEFAULT_USER_COUNT = 3\n",
    "\n",
    "def delete_and_return_last_user(region, default_list=['A100', 'A101', 'A102']):\n",
    "    \"\"\"\n",
    "    Удаляет из списка default_list последнего пользователя\n",
    "    и возвращает ID нового последнего пользователя.\n",
    "    \"\"\"\n",
    "    element_to_delete = default_list[-1]\n",
    "    default_list.remove(element_to_delete)\n",
    "\n",
    "    return default_list[DEFAULT_USER_COUNT-2]\n",
    "\n",
    "\n",
    "# При однократном вызове этой функции все работает корректно:\n",
    "# delete_and_return_last_user(1)\n",
    "# ‘A101’\n",
    "\n",
    "# Однако, при повторном вызове получается ошибка IndexError: list index out of range."
   ]
  },
  {
   "cell_type": "code",
   "execution_count": null,
   "metadata": {},
   "outputs": [],
   "source": [
    "# Задание:\n",
    "\n",
    "# Что значит ошибка list index out of range?\n",
    "Ответ:\n",
    "    В списке отсутствует элемент с требуемым индексом, то есть указан недопустимый индекс.\n",
    "# Почему при первом запуске функция работает корректно, а при втором - нет?\n",
    "Ответ:\n",
    "    Список уже был изменен, и количество элементов списка уменьшилось на 1 элемент. \n",
    "    В то же время, значение вернуть не получается при втором вызове функции, \n",
    "    так как удаляется еще 1 элемент, и в списке остается всего 1 элемент, \n",
    "    а функция пытается вернуть второй элемент списка.\n",
    "    Таким образом, мы используем индекс, которого нет в списке."
   ]
  },
  {
   "cell_type": "code",
   "execution_count": null,
   "metadata": {},
   "outputs": [],
   "source": [
    "# Исправленная функция\n",
    "def delete_and_return_last_user(region, default_list=['A100', 'A101', 'A102']):\n",
    "    \"\"\"\n",
    "    Удаляет из списка default_list последнего пользователя\n",
    "    и возвращает ID нового последнего пользователя.\n",
    "    \"\"\"\n",
    "    element_to_delete = default_list[-1]\n",
    "    default_list.remove(element_to_delete)\n",
    "    try:\n",
    "        return default_list[-1]\n",
    "    except:\n",
    "        print('Список пользователей пуст')"
   ]
  }
 ],
 "metadata": {
  "kernelspec": {
   "display_name": "Python 3",
   "language": "python",
   "name": "python3"
  },
  "language_info": {
   "codemirror_mode": {
    "name": "ipython",
    "version": 3
   },
   "file_extension": ".py",
   "mimetype": "text/x-python",
   "name": "python",
   "nbconvert_exporter": "python",
   "pygments_lexer": "ipython3",
   "version": "3.8.3"
  }
 },
 "nbformat": 4,
 "nbformat_minor": 4
}
