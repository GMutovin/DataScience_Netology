{
 "cells": [
  {
   "cell_type": "markdown",
   "metadata": {},
   "source": [
    "# Домашнее задание к лекции \"Функции\""
   ]
  },
  {
   "cell_type": "code",
   "execution_count": null,
   "metadata": {},
   "outputs": [],
   "source": [
    "#Вам нужно помочь секретарю автоматизировать работу. \n",
    "#Для этого нужно написать программу, которая будет на основе хранимых данных исполнять пользовательские команды.\n",
    "\n",
    "documents = [\n",
    " {'type': 'passport', 'number': '2207 876234', 'name': 'Василий Гупкин'},\n",
    " {'type': 'invoice', 'number': '11-2', 'name': 'Геннадий Покемонов'},\n",
    " {'type': 'insurance', 'number': '10006', 'name': 'Аристарх Павлов'}\n",
    "]\n",
    "\n",
    "directories = {\n",
    " '1': ['2207 876234', '11-2'],\n",
    " '2': ['10006'],\n",
    " '3': []\n",
    "}\n"
   ]
  },
  {
   "cell_type": "markdown",
   "metadata": {},
   "source": [
    "# Задание № 1"
   ]
  },
  {
   "cell_type": "code",
   "execution_count": null,
   "metadata": {},
   "outputs": [],
   "source": [
    "#Пункт 1. Пользователь по команде \"p\" может узнать владельца документа по его номеру\n",
    "\n",
    "def doc_owner(docs):\n",
    "    doc_num = input('Введите номер документа: ')\n",
    "    counter = None\n",
    "    for document in docs:\n",
    "        if document['number'] == doc_num:\n",
    "            print(f\"Владелец документа: {document['name']}\")\n",
    "            counter = 1\n",
    "    if counter is None:\n",
    "         print('Документ не найден в базе')\n"
   ]
  },
  {
   "cell_type": "code",
   "execution_count": null,
   "metadata": {},
   "outputs": [],
   "source": [
    "#Пункт 2. Пользователь по команде \"s\" может по номеру документа узнать на какой полке он хранится¶\n",
    "            \n",
    "def doc_shells(dirs):\n",
    "    doc_shell = input('Введите номер документа: ')\n",
    "    counter = None\n",
    "    for k, v in dirs.items():\n",
    "        if doc_shell in v:\n",
    "            print(f\"Документ хранится на полке: {k}\")\n",
    "            counter = 1\n",
    "    if counter is None:\n",
    "         print('Документ не найден в базе')"
   ]
  },
  {
   "cell_type": "code",
   "execution_count": null,
   "metadata": {},
   "outputs": [],
   "source": [
    "#Пункт 3. Пользователь по команде \"l\" может увидеть полную информацию по всем документам¶\n",
    "                \n",
    "def all_info(docs, dirs):\n",
    "    for dictionary in docs:\n",
    "        shell = [key for key, values in dirs.items() if dictionary['number'] in values]\n",
    "        print(f\"№: {dictionary['number']}, тип: {dictionary['type']}, владелец: {dictionary['name']}, полка хранения: {shell[0]}\")"
   ]
  },
  {
   "cell_type": "code",
   "execution_count": null,
   "metadata": {},
   "outputs": [],
   "source": [
    "# Пункт 4. Пользователь по команде \"ads\" может добавить новую полку¶\n",
    "\n",
    "def add_shell(dirs):\n",
    "    new_shell = input()\n",
    "    if new_shell in dirs:\n",
    "        shells = ', '.join(list(dirs.keys()))\n",
    "        print(f'Такая полка уже существует. Текущий перечень полок: {shells}')\n",
    "    else:\n",
    "        dirs[new_shell] = []\n",
    "        shells = ', '.join(list(dirs.keys()))\n",
    "        print(f'Полка добавлена. Текущий перечень полок: {shells}')\n"
   ]
  },
  {
   "cell_type": "code",
   "execution_count": null,
   "metadata": {},
   "outputs": [],
   "source": [
    "# Пункт 5. Пользователь по команде \"ds\" может удалить существующую полку из данных (только если она пустая)\n",
    "\n",
    "def del_shell(docs, dirs):\n",
    "    del_shell = input()\n",
    "    shells = ', '.join(list(dirs.keys()))\n",
    "    if del_shell not in dirs.keys():\n",
    "        print(f'Такой полки не существует. Текущий перечень полок: {shells}')\n",
    "    else:\n",
    "        if not dirs[del_shell]:\n",
    "            del(dirs[del_shell])\n",
    "            shells = ', '.join(list(dirs.keys()))\n",
    "            print(f'Полка удалена. Текущий перечень полок: {shells}')\n",
    "        elif dirs[del_shell]:\n",
    "            print(f'На полке есть документа, удалите их перед удалением полки. Текущий перечень полок: {shells}')\n",
    "    "
   ]
  },
  {
   "cell_type": "code",
   "execution_count": null,
   "metadata": {},
   "outputs": [],
   "source": [
    "# Вызов программы\n",
    "def user_command(docs, dirs):\n",
    "    while True:\n",
    "        us_command = input('Введите команду: ')\n",
    "        if us_command == 'p':\n",
    "            doc_owner(docs)\n",
    "        elif us_command == 's':\n",
    "            doc_shells(dirs)\n",
    "        elif us_command == '1':\n",
    "            all_info(docs, dirs)\n",
    "        elif us_command == 'ads':\n",
    "            add_shell(dirs)\n",
    "        elif us_command == 'ds':\n",
    "            del_shell(docs, dirs)\n",
    "        elif us_command == 'q':\n",
    "            break"
   ]
  },
  {
   "cell_type": "markdown",
   "metadata": {},
   "source": [
    "# Задание № 2"
   ]
  },
  {
   "cell_type": "code",
   "execution_count": null,
   "metadata": {},
   "outputs": [],
   "source": [
    "# Пункт 1. Пользователь по команде \"ad\" может добавить новый документ в данные\n",
    "\n",
    "def ad_doc(docs, dirs):\n",
    "    new_doc = {}\n",
    "    new_doc['number'] = input('Введите номер документа: ')\n",
    "    new_doc['type'] = input('Введите тип документа: ')\n",
    "    new_doc['name'] = input('Введите владельца документа: ')\n",
    "    docs.append(new_doc)\n",
    "    shell = input('Введите полку для хранения: ')\n",
    "    if shell not in dirs:\n",
    "        print(f'Такой полки не существует. Добавьте полку командой as.')\n",
    "        print('Текущий список документов: ')\n",
    "        for doc in docs:\n",
    "            if doc == new_doc:\n",
    "                docs.remove(new_doc)\n",
    "                break\n",
    "            shell_ = [key for key, values in dirs.items() if doc['number'] in values]\n",
    "            print(f\"№: {doc['number']}, тип: {doc['type']}, владелец: {doc['name']}, полка хранения: {shell_[0]}\")\n",
    "    \n",
    "    else:\n",
    "        for k, v in dirs.items():\n",
    "            if k == shell:\n",
    "                v.append(new_doc['number'])\n",
    "        print(f\"Документ добавлен. Текущий список документов: \")\n",
    "        all_info(docs, dirs)"
   ]
  },
  {
   "cell_type": "code",
   "execution_count": null,
   "metadata": {},
   "outputs": [],
   "source": [
    "# Пункт 2. Пользователь по команде \"d\" может удалить документ из данных\n",
    "\n",
    "def del_doc(docs, dirs):\n",
    "    deleted_doc = input('Введите номер документа: ')\n",
    "    x = None\n",
    "    for doc in docs:\n",
    "        if doc['number'] == deleted_doc:\n",
    "            x = 1\n",
    "            docs.remove(doc)\n",
    "            print('Документ удален.')\n",
    "            print('Текущий список документов: ')\n",
    "            all_info(docs, dirs)\n",
    "            for v in dirs.values():\n",
    "                if deleted_doc in v:\n",
    "                    v.remove(deleted_doc)\n",
    "    if x is None:\n",
    "        print('Документ не найден в базе.')\n",
    "        print('Текущий список документов: ')\n",
    "        all_info(docs, dirs)       "
   ]
  },
  {
   "cell_type": "code",
   "execution_count": null,
   "metadata": {},
   "outputs": [],
   "source": [
    "# Пункт 3. Пользователь по команде \"m\" может переместить документ с полки на полку\n",
    "\n",
    "def move_doc(docs, dirs):\n",
    "    moved_doc = input('Введите номер документа: ')\n",
    "    targ_shell = input('Введите номер полки: ')\n",
    "    x = None\n",
    "    if targ_shell not in dirs:\n",
    "        print(f\"Такой полки не существует. Текущий список полок: {', '.join(list(dirs.keys()))}\")\n",
    "    else:\n",
    "        for doc in docs:\n",
    "            if doc['number'] == moved_doc:\n",
    "                x = 1\n",
    "                print('Документ перемещен.')\n",
    "                print('Текущий список документов: ')\n",
    "                for v in dirs.values():\n",
    "                    if moved_doc in v:\n",
    "                        v.remove(moved_doc)\n",
    "                for k, v in dirs.items():\n",
    "                    if k == targ_shell:\n",
    "                        v.append(moved_doc)\n",
    "                all_info(docs, dirs)\n",
    "        if x is None:\n",
    "            print('Документ не найден в базе.')\n",
    "            print('Текущий список документов: ')\n",
    "            all_info(docs, dirs)  "
   ]
  },
  {
   "cell_type": "code",
   "execution_count": null,
   "metadata": {},
   "outputs": [],
   "source": [
    "# Вызов программы\n",
    "\n",
    "def user_command(docs, dirs):\n",
    "    while True:\n",
    "        us_command = input('Введите команду: ')\n",
    "        if us_command == 'p':\n",
    "            doc_owner(docs)\n",
    "        elif us_command == 's':\n",
    "            doc_shells(dirs)\n",
    "        elif us_command == '1':\n",
    "            all_info(docs, dirs)\n",
    "        elif us_command == 'ads':\n",
    "            add_shell(dirs)\n",
    "        elif us_command == 'ds':\n",
    "            del_shell(docs, dirs)\n",
    "        elif us_command == 'ad':\n",
    "            ad_doc(docs, dirs)\n",
    "        elif us_command == 'd':\n",
    "            del_doc(docs, dirs)\n",
    "        elif us_command == 'm':\n",
    "            move_doc(docs, dirs)\n",
    "        elif us_command == 'q':\n",
    "            break    "
   ]
  },
  {
   "cell_type": "code",
   "execution_count": null,
   "metadata": {},
   "outputs": [],
   "source": [
    "user_command(documents, directories)"
   ]
  }
 ],
 "metadata": {
  "kernelspec": {
   "display_name": "Python 3",
   "language": "python",
   "name": "python3"
  },
  "language_info": {
   "codemirror_mode": {
    "name": "ipython",
    "version": 3
   },
   "file_extension": ".py",
   "mimetype": "text/x-python",
   "name": "python",
   "nbconvert_exporter": "python",
   "pygments_lexer": "ipython3",
   "version": "3.8.3"
  }
 },
 "nbformat": 4,
 "nbformat_minor": 4
}
