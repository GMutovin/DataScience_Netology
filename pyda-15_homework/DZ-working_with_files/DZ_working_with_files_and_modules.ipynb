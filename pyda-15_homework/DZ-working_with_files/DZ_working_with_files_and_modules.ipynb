{
 "cells": [
  {
   "cell_type": "markdown",
   "metadata": {},
   "source": [
    "#  Домашнее задание - Работа с файловой системой и модули"
   ]
  },
  {
   "cell_type": "code",
   "execution_count": null,
   "metadata": {},
   "outputs": [],
   "source": [
    "# Домашнее задание\n",
    "# Переведите содержимое файла purchase_log.txt в словарь purchases вида:\n",
    "# {‘1840e0b9d4’: ‘Продукты’, …}\n",
    "# Для каждого user_id в файле visit_log.csv определите третий столбец с категорией покупки \n",
    "# (если покупка была, сам файл visit_log.csv изменять не надо). \n",
    "# Запишите в файл funnel.csv визиты из файла visit_log.csv, в которых были покупки с указанием категории.\n",
    "# Учтите условия на данные:\n",
    "# содержимое purchase_log.txt помещается в оперативную память компьютера\n",
    "# содержимое visit_log.csv - нет; используйте только построчную обработку этого файла"
   ]
  },
  {
   "cell_type": "code",
   "execution_count": 4,
   "metadata": {},
   "outputs": [],
   "source": [
    "import json"
   ]
  },
  {
   "cell_type": "code",
   "execution_count": 5,
   "metadata": {},
   "outputs": [
    {
     "name": "stdout",
     "output_type": "stream",
     "text": [
      "1840e0b9d4 Продукты\n",
      "4e4f90fcfb Электроника\n",
      "afea8d72fc Электроника\n",
      "373a6055fe Бытовая техника\n"
     ]
    }
   ],
   "source": [
    "# Переведите содержимое файла purchase_log.txt в словарь purchases вида: {‘1840e0b9d4’: ‘Продукты’, …}\n",
    "\n",
    "# js = open('Download/purchase_log.txt')\n",
    "\n",
    "# content = js.readlines()\n",
    "\n",
    "# my_list = []\n",
    "# purchases = {}\n",
    "\n",
    "# for line in content[1:]:\n",
    "#     dict_ = json.loads(line)\n",
    "#     for v in dict_.values():\n",
    "#         my_list.append(v)\n",
    "#         if len(my_list) == 2:\n",
    "#             purchases[my_list[0]] = my_list[1]\n",
    "#             my_list.clear()\n",
    "\n",
    "#Более лаконичное решение\n",
    "\n",
    "purchases = {}\n",
    "\n",
    "with open('Download/purchase_log.txt') as f:\n",
    "    f.readline()\n",
    "    for line in f:\n",
    "        dict_ = json.loads(line)\n",
    "        purchases[dict_['user_id']] = dict_['category']\n",
    "\n",
    "i = 0\n",
    "for pur, value in purchases.items():\n",
    "    print(pur, value)\n",
    "    i += 1\n",
    "    if i > 3:\n",
    "        break\n"
   ]
  },
  {
   "cell_type": "code",
   "execution_count": null,
   "metadata": {},
   "outputs": [],
   "source": [
    "# Для каждого user_id в файле visit_log.csv определите третий столбец с категорией покупки \n",
    "# (если покупка была, сам файл visit_log.csv изменять не надо). \n",
    "# Запишите в файл funnel.csv визиты из файла visit_log.csv, в которых были покупки с указанием категории.\n",
    "\n",
    "i = 0\n",
    "with open('funnel.csv', 'w') as funnel:\n",
    "    with open('Download/visit_log.csv', 'r') as visit:\n",
    "        for line in visit:\n",
    "            line = line.strip().split(',')\n",
    "            if line[0] in purchases:\n",
    "                line.append(purchases[line[0]])\n",
    "                funnel.write(', '.join(line))\n",
    "                funnel.write('\\n')              \n",
    "    "
   ]
  },
  {
   "cell_type": "code",
   "execution_count": null,
   "metadata": {},
   "outputs": [],
   "source": [
    "# Проверка нового файла\n",
    "f = open('funnel.csv', 'r')\n",
    "\n",
    "for i, line in enumerate(f):\n",
    "    print(line)\n",
    "    \n",
    "    if i > 3:\n",
    "        break"
   ]
  }
 ],
 "metadata": {
  "kernelspec": {
   "display_name": "Python 3",
   "language": "python",
   "name": "python3"
  },
  "language_info": {
   "codemirror_mode": {
    "name": "ipython",
    "version": 3
   },
   "file_extension": ".py",
   "mimetype": "text/x-python",
   "name": "python",
   "nbconvert_exporter": "python",
   "pygments_lexer": "ipython3",
   "version": "3.8.3"
  }
 },
 "nbformat": 4,
 "nbformat_minor": 4
}
