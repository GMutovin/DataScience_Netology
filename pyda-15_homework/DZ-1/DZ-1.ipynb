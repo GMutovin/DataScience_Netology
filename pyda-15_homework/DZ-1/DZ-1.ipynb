{
 "cells": [
  {
   "cell_type": "code",
   "execution_count": null,
   "metadata": {},
   "outputs": [],
   "source": [
    "#Домашнее задание по теме «Основы Python» - Задание № 1\n",
    "\n",
    "phrase_1, phrase_2 = input(), input()\n",
    "if len(phrase_1) > len(phrase_2):\n",
    "    print(\"Фраза 1 длиннее фразы 2\")\n",
    "elif len(phrase_1) < len(phrase_2):\n",
    "    print(\"Фраза 2 длиннее фразы 1\")\n",
    "else:\n",
    "    print(\"Фразы равной длины\")"
   ]
  },
  {
   "cell_type": "code",
   "execution_count": null,
   "metadata": {},
   "outputs": [],
   "source": [
    "#Домашнее задание по теме «Основы Python» - Задание № 2\n",
    "\n",
    "year = int(input())\n",
    "if (year % 4 == 0 and year % 100 != 0) or year % 400 == 0:\n",
    "    print(\"Високосный год\")\n",
    "else:\n",
    "    print(\"Обычный год\")"
   ]
  },
  {
   "cell_type": "code",
   "execution_count": null,
   "metadata": {},
   "outputs": [],
   "source": [
    "#Домашнее задание по теме «Основы Python» - Задание № 3\n",
    "\n",
    "day, month = int (input (\"Введите день: \\n\")) , input (\"Введите месяц: \")\n",
    "if (day in list(range(21, 32)) and month == \"Март\") or (day in list(range(1, 20)) and month == \"Апрель\"):\n",
    "    sign = \"Овен\"\n",
    "elif (day in list(range(20, 31)) and month == \"Апрель\") or (day in list(range(1, 21)) and month == \"Май\"):\n",
    "    sign = \"Телец\"\n",
    "elif (day in list(range(21, 32)) and month == \"Май\") or (day in list(range(1, 21)) and month == \"Июнь\"):\n",
    "    sign = \"Близнецы\"\n",
    "elif (day in list(range(21, 31)) and month == \"Июнь\") or (day in list(range(1, 22)) and month == \"Июль\"):\n",
    "    sign = \"Рак\"\n",
    "elif (day in list(range(23, 32)) and month == \"Июль\") or (day in list(range(1, 23)) and month == \"Август\"):\n",
    "    sign = \"Лев\"\n",
    "elif (day in list(range(23, 32)) and month == \"Август\") or (day in list(range(1, 23)) and month == \"Сентябрь\"):\n",
    "    sign = \"Дева\"\n",
    "elif (day in list(range(23, 31)) and month == \"Сентябрь\") or (day in list(range(1, 23)) and month == \"Октябрь\"):\n",
    "    sign = \"Весы\"\n",
    "elif (day in list(range(23, 32)) and month == \"Октябрь\") or (day in list(range(1, 22)) and month == \"Ноябрь\"):\n",
    "    sign = \"Скорпион\"\n",
    "elif (day in list(range(22, 31)) and month == \"Ноябрь\") or (day in list(range(1, 22)) and month == \"Декабрь\"):\n",
    "    sign = \"Стрелец\"\n",
    "elif (day in list(range(22, 32)) and month == \"Декабрь\") or (day in list(range(1, 20)) and month == \"Январь\"):\n",
    "    sign = \"Козерог\"\n",
    "elif (day in list(range(20, 32)) and month == \"Январь\") or (day in list(range(1, 19)) and month == \"Февраль\"):\n",
    "    sign = \"Водолей\"\n",
    "elif (day in list(range(19, 30)) and month == \"Фервраль\") or (day in list(range(1, 21)) and month == \"Март\"):\n",
    "    sign = \"Рыбы\"\n",
    "print(f\"Результат: \\nВаш знак зодиака: {sign}\")"
   ]
  },
  {
   "cell_type": "code",
   "execution_count": null,
   "metadata": {
    "scrolled": false
   },
   "outputs": [],
   "source": [
    "#Домашнее задание по теме «Основы Python» - Задание № 4\n",
    "\n",
    "width = int(input())\n",
    "length = int(input())\n",
    "height = int(input())\n",
    "if width < 15 and length < 15 and height < 15:\n",
    "    print(\"Коробка №1\")\n",
    "elif length > 200:\n",
    "    print(\"Упаковка для лыж\")\n",
    "elif (15 < width < 50) or (15 < length < 50) or (15 < height < 50):\n",
    "    print(\"Коробка №2\")\n",
    "else:\n",
    "    print(\"Стандартная коробка №3\")"
   ]
  },
  {
   "cell_type": "code",
   "execution_count": null,
   "metadata": {},
   "outputs": [],
   "source": [
    "#Домашнее задание по теме «Основы Python» - Задание № 5\n",
    "\n",
    "number = [int(i) for i in input()]\n",
    "if sum(number[:3]) == sum(number[3:]):\n",
    "    print(\"Счастливый билет\")\n",
    "else:\n",
    "    print(\"Несчастливый билет\")"
   ]
  },
  {
   "cell_type": "code",
   "execution_count": null,
   "metadata": {
    "scrolled": true
   },
   "outputs": [],
   "source": [
    "#Домашнее задание по теме «Основы Python» - Задание № 6\n",
    "\n",
    "from math import sqrt\n",
    "kind = input(\"Введите тип фигуры: \")\n",
    "\n",
    "if kind in [\"Круг\", \"круг\"]:\n",
    "    radius = int(input(\"Введите радиус круга: \"))\n",
    "    area = round(radius**2 * 3.1415, 2)\n",
    "elif kind in [\"Треугольник\", \"треугольник\"]:\n",
    "    side_A = int(input(\"Введите длину стороны A: \"))\n",
    "    side_B = int(input(\"Введите длину стороны B: \"))\n",
    "    side_C = int(input(\"Введите длину стороны C: \"))\n",
    "    half_perimeter = (side_A + side_B + side_C) / 2\n",
    "    area = round(sqrt(half_perimeter * (half_perimeter - side_A) * (half_perimeter - side_B) * (half_perimeter - side_C)), 2)\n",
    "elif kind in [\"Прямоугольник\", \"прямоугольник\"]:\n",
    "    side_A = int(input(\"Введите длину стороны A: \"))\n",
    "    side_B = int(input(\"Введите длину стороны B: \"))\n",
    "    area = side_A * side_B\n",
    "print(area)"
   ]
  },
  {
   "cell_type": "code",
   "execution_count": null,
   "metadata": {},
   "outputs": [],
   "source": []
  }
 ],
 "metadata": {
  "kernelspec": {
   "display_name": "Python 3",
   "language": "python",
   "name": "python3"
  },
  "language_info": {
   "codemirror_mode": {
    "name": "ipython",
    "version": 3
   },
   "file_extension": ".py",
   "mimetype": "text/x-python",
   "name": "python",
   "nbconvert_exporter": "python",
   "pygments_lexer": "ipython3",
   "version": "3.8.3"
  }
 },
 "nbformat": 4,
 "nbformat_minor": 4
}
